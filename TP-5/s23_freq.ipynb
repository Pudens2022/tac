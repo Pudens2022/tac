{
 "cells": [
  {
   "cell_type": "markdown",
   "metadata": {},
   "source": [
    "# Analalyse de la distribution du vocabulaire"
   ]
  },
  {
   "cell_type": "markdown",
   "metadata": {},
   "source": [
    "## Imports et dépendances"
   ]
  },
  {
   "cell_type": "code",
   "execution_count": 1,
   "metadata": {
    "tags": []
   },
   "outputs": [
    {
     "name": "stderr",
     "output_type": "stream",
     "text": [
      "[nltk_data] Downloading package stopwords to\n",
      "[nltk_data]     C:\\Users\\janvi\\AppData\\Roaming\\nltk_data...\n",
      "[nltk_data]   Package stopwords is already up-to-date!\n"
     ]
    }
   ],
   "source": [
    "import os \n",
    "import nltk\n",
    "nltk.download('stopwords')\n",
    "from nltk.corpus import stopwords"
   ]
  },
  {
   "cell_type": "markdown",
   "metadata": {},
   "source": [
    "## Créer une une liste de stopwords"
   ]
  },
  {
   "cell_type": "code",
   "execution_count": 2,
   "metadata": {
    "tags": []
   },
   "outputs": [],
   "source": [
    "sw = stopwords.words(\"french\")\n",
    "sw += [\"les\", \"plus\", \"cette\", \"fait\", \"faire\", \"être\", \"deux\", \"comme\", \"dont\", \"tout\", \"pourquoi\",\"chef\",\n",
    "       \"ils\", \"bien\", \"sans\", \"peut\", \"tous\", \"après\", \"ainsi\", \"donc\", \"cet\", \"sous\", \"surtout\", \"branquart\",\n",
    "       \"celle\", \"entre\", \"encore\", \"toutes\", \"pendant\", \"moins\", \"dire\", \"cela\", \"non\", \"prochain\", \"ord\", \"mme\",\n",
    "       \"faut\", \"trois\", \"aussi\", \"dit\", \"avoir\", \"doit\", \"contre\", \"depuis\", \"autres\", \"but\", \"nouveau\", \"nord\",\n",
    "       \"van\", \"het\", \"autre\", \"jusqu\", \"ceux\", \"quelques\", \"rue\", \"mois\", \"leurs\", \"toute\", \"grand\", \"belg\",\n",
    "       \"générale\", \"jour\", \"jours\", \"parce\", \"etc\", \"seule\",\"suite\", \"liste\", \"alors\", \"vient\", \"moment\", \"disp\",\n",
    "       \"heures\", \"déjà\", \"chaque\", \"avant\", \"seul\", \"pris\", \"faits\", \"mis\", \"page\", \"millions\", \"atel\", \"juin\", \n",
    "       \"premier\", \"vie\", \"réponse\", \"nombre\", \"compte\", \"nationale\", \"national\", \"point\", \"presse\", \"travail\", \"mars\", \"commune\", \"cap\", \"div\"]\n",
    "sw = set(sw)"
   ]
  },
  {
   "cell_type": "code",
   "execution_count": 3,
   "metadata": {},
   "outputs": [
    {
     "name": "stdout",
     "output_type": "stream",
     "text": [
      "253 stopwords:\n",
      " ['ai', 'aie', 'aient', 'aies', 'ainsi', 'ait', 'alors', 'après', 'as', 'atel', 'au', 'aura', 'aurai', 'auraient', 'aurais', 'aurait', 'auras', 'aurez', 'auriez', 'aurions', 'aurons', 'auront', 'aussi', 'autre', 'autres', 'aux', 'avaient', 'avais', 'avait', 'avant', 'avec', 'avez', 'aviez', 'avions', 'avoir', 'avons', 'ayant', 'ayante', 'ayantes', 'ayants', 'ayez', 'ayons', 'belg', 'bien', 'branquart', 'but', 'c', 'cap', 'ce', 'cela', 'celle', 'ces', 'cet', 'cette', 'ceux', 'chaque', 'chef', 'comme', 'commune', 'compte', 'contre', 'd', 'dans', 'de', 'depuis', 'des', 'deux', 'dire', 'disp', 'dit', 'div', 'doit', 'donc', 'dont', 'du', 'déjà', 'elle', 'en', 'encore', 'entre', 'es', 'est', 'et', 'etc', 'eu', 'eue', 'eues', 'eurent', 'eus', 'eusse', 'eussent', 'eusses', 'eussiez', 'eussions', 'eut', 'eux', 'eûmes', 'eût', 'eûtes', 'faire', 'fait', 'faits', 'faut', 'furent', 'fus', 'fusse', 'fussent', 'fusses', 'fussiez', 'fussions', 'fut', 'fûmes', 'fût', 'fûtes', 'grand', 'générale', 'het', 'heures', 'il', 'ils', 'j', 'je', 'jour', 'jours', 'juin', 'jusqu', 'l', 'la', 'le', 'les', 'leur', 'leurs', 'liste', 'lui', 'm', 'ma', 'mais', 'mars', 'me', 'mes', 'millions', 'mis', 'mme', 'moi', 'moins', 'mois', 'moment', 'mon', 'même', 'n', 'national', 'nationale', 'ne', 'nombre', 'non', 'nord', 'nos', 'notre', 'nous', 'nouveau', 'on', 'ont', 'ord', 'ou', 'page', 'par', 'parce', 'pas', 'pendant', 'peut', 'plus', 'point', 'pour', 'pourquoi', 'premier', 'presse', 'pris', 'prochain', 'qu', 'que', 'quelques', 'qui', 'rue', 'réponse', 's', 'sa', 'sans', 'se', 'sera', 'serai', 'seraient', 'serais', 'serait', 'seras', 'serez', 'seriez', 'serions', 'serons', 'seront', 'ses', 'seul', 'seule', 'soient', 'sois', 'soit', 'sommes', 'son', 'sont', 'sous', 'soyez', 'soyons', 'suis', 'suite', 'sur', 'surtout', 't', 'ta', 'te', 'tes', 'toi', 'ton', 'tous', 'tout', 'toute', 'toutes', 'travail', 'trois', 'tu', 'un', 'une', 'van', 'vie', 'vient', 'vos', 'votre', 'vous', 'y', 'à', 'étaient', 'étais', 'était', 'étant', 'étante', 'étantes', 'étants', 'étiez', 'étions', 'été', 'étée', 'étées', 'étés', 'êtes', 'être']\n"
     ]
    }
   ],
   "source": [
    "print(f\"{len(sw)} stopwords:\\n {sorted(sw)}\")"
   ]
  },
  {
   "cell_type": "markdown",
   "metadata": {},
   "source": [
    "## Tokeniser"
   ]
  },
  {
   "cell_type": "code",
   "execution_count": 4,
   "metadata": {
    "tags": []
   },
   "outputs": [],
   "source": [
    "# Récupération du contenu du fichier\n",
    "path = \"../data/camille_crise_economique_depression_economique_année 30/KB_JB427_1929-03-01_01-00001.txt\"\n",
    "limit = 10**8\n",
    "\n",
    "with open(path, 'r', encoding='utf-8') as f:\n",
    "    text = f.read()[:limit]"
   ]
  },
  {
   "cell_type": "code",
   "execution_count": 5,
   "metadata": {},
   "outputs": [],
   "source": [
    "# Lister les Fichiers\n",
    "data_path = \"../data/camille_crise_economique_depression_economique_année 30/\"\n",
    "files = os.listdir(data_path)"
   ]
  },
  {
   "cell_type": "code",
   "execution_count": 6,
   "metadata": {},
   "outputs": [
    {
     "name": "stdout",
     "output_type": "stream",
     "text": [
      "7688 words found\n",
      "17159 words found\n",
      "26777 words found\n"
     ]
    }
   ],
   "source": [
    "# Tokenization de tous les documents \n",
    "words = []\n",
    "for f in sorted(files)[:3]:\n",
    "    text = open(os.path.join(data_path, f), 'r', encoding=\"utf-8\").read()\n",
    "    words += nltk.wordpunct_tokenize(text)\n",
    "    print(f\"{len(words)} words found\")"
   ]
  },
  {
   "cell_type": "code",
   "execution_count": 7,
   "metadata": {},
   "outputs": [
    {
     "data": {
      "text/plain": [
       "['fftn', 'Ve', 'ndredi', '\\\\-', 'j', 'mars', '1929', 'Ejfttua', 'J', ',']"
      ]
     },
     "execution_count": 7,
     "metadata": {},
     "output_type": "execute_result"
    }
   ],
   "source": [
    "words[:10]"
   ]
  },
  {
   "cell_type": "markdown",
   "metadata": {},
   "source": [
    "## Calculer la taille du vocabulaire"
   ]
  },
  {
   "cell_type": "code",
   "execution_count": 8,
   "metadata": {},
   "outputs": [
    {
     "name": "stdout",
     "output_type": "stream",
     "text": [
      "9560 words kept (5322 different word forms)\n"
     ]
    }
   ],
   "source": [
    "# Eliminer les stopwords et les termes non alphabétiques\n",
    "kept = [w.lower() for w in words if len(w) > 2 and w.isalpha() and w.lower() not in sw]\n",
    "voc = set(kept)\n",
    "print(f\"{len(kept)} words kept ({len(voc)} different word forms)\")"
   ]
  },
  {
   "cell_type": "markdown",
   "metadata": {},
   "source": [
    "## Récupérer les mots les plus fréquents et en faire un plot"
   ]
  },
  {
   "cell_type": "code",
   "execution_count": 9,
   "metadata": {},
   "outputs": [
    {
     "data": {
      "text/plain": [
       "[('sucre', 34),\n",
       " ('ministre', 33),\n",
       " ('loi', 32),\n",
       " ('gouvernement', 25),\n",
       " ('francs', 24),\n",
       " ('employés', 21),\n",
       " ('caisse', 21),\n",
       " ('etat', 19),\n",
       " ('conseil', 19),\n",
       " ('catholique', 19),\n",
       " ('budget', 18),\n",
       " ('question', 18),\n",
       " ('cours', 17),\n",
       " ('lois', 17),\n",
       " ('président', 17),\n",
       " ('appel', 17),\n",
       " ('vue', 16),\n",
       " ('projet', 15),\n",
       " ('comité', 15),\n",
       " ('bruxelles', 15),\n",
       " ('socialiste', 14),\n",
       " ('celui', 14),\n",
       " ('nouvelle', 14),\n",
       " ('politique', 14),\n",
       " ('fois', 14),\n",
       " ('pays', 14),\n",
       " ('chambre', 14),\n",
       " ('crédit', 14),\n",
       " ('commission', 14),\n",
       " ('pension', 13),\n",
       " ('grande', 13),\n",
       " ('betteraves', 13),\n",
       " ('belgique', 13),\n",
       " ('travaux', 13),\n",
       " ('dea', 13),\n",
       " ('dernier', 12),\n",
       " ('situation', 12),\n",
       " ('temps', 12),\n",
       " ('chez', 12),\n",
       " ('accord', 12),\n",
       " ('reste', 12),\n",
       " ('très', 12),\n",
       " ('voix', 12),\n",
       " ('ville', 12),\n",
       " ('directeur', 12),\n",
       " ('membres', 12),\n",
       " ('guerre', 12),\n",
       " ('service', 12),\n",
       " ('exposition', 12),\n",
       " ('proposition', 12),\n",
       " ('administration', 11),\n",
       " ('ans', 11),\n",
       " ('général', 11),\n",
       " ('bas', 11),\n",
       " ('partie', 11),\n",
       " ('effet', 11),\n",
       " ('saint', 11),\n",
       " ('cas', 11),\n",
       " ('importance', 11),\n",
       " ('droit', 11),\n",
       " ('première', 11),\n",
       " ('dimanche', 11),\n",
       " ('morale', 10),\n",
       " ('ordre', 10),\n",
       " ('devant', 10),\n",
       " ('part', 10),\n",
       " ('notamment', 10),\n",
       " ('catholiques', 10),\n",
       " ('ailleurs', 10),\n",
       " ('sénat', 10),\n",
       " ('tiers', 10),\n",
       " ('art', 10),\n",
       " ('section', 10),\n",
       " ('reçu', 10),\n",
       " ('midi', 10),\n",
       " ('france', 10),\n",
       " ('ensuite', 10),\n",
       " ('monde', 9),\n",
       " ('matin', 9),\n",
       " ('hui', 9),\n",
       " ('demande', 9),\n",
       " ('industrie', 9),\n",
       " ('cinq', 9),\n",
       " ('dos', 9),\n",
       " ('miel', 9),\n",
       " ('conférence', 9),\n",
       " ('fédération', 9),\n",
       " ('agriculture', 9),\n",
       " ('cour', 9),\n",
       " ('société', 9),\n",
       " ('exercice', 9),\n",
       " ('taxe', 9),\n",
       " ('fisc', 9),\n",
       " ('contribuable', 9),\n",
       " ('semaine', 8),\n",
       " ('correspondant', 8),\n",
       " ('contraire', 8),\n",
       " ('tandis', 8),\n",
       " ('fort', 8),\n",
       " ('loin', 8)]"
      ]
     },
     "execution_count": 9,
     "metadata": {},
     "output_type": "execute_result"
    }
   ],
   "source": [
    "fdist = nltk.FreqDist(kept)\n",
    "fdist.most_common(100)"
   ]
  },
  {
   "cell_type": "code",
   "execution_count": 10,
   "metadata": {
    "tags": []
   },
   "outputs": [
    {
     "data": {
      "image/png": "[encoded data removed]",
      "text/plain": [
       "<Figure size 640x480 with 1 Axes>"
      ]
     },
     "metadata": {},
     "output_type": "display_data"
    },
    {
     "data": {
      "text/plain": [
       "<AxesSubplot: xlabel='Samples', ylabel='Cumulative Counts'>"
      ]
     },
     "execution_count": 10,
     "metadata": {},
     "output_type": "execute_result"
    }
   ],
   "source": [
    "# Plot: les n mots les plus fréquents\n",
    "n = 10\n",
    "fdist.plot(n, cumulative=True)"
   ]
  },
  {
   "cell_type": "markdown",
   "metadata": {},
   "source": [
    "## Détecter les Hapax (mots qui n'apparaissent qu'une fois dans le corpus)"
   ]
  },
  {
   "cell_type": "code",
   "execution_count": 11,
   "metadata": {},
   "outputs": [
    {
     "data": {
      "text/plain": [
       "['fftn',\n",
       " 'ndredi',\n",
       " 'ejfttua',\n",
       " 'louruaus',\n",
       " 'llitl',\n",
       " 'herjea',\n",
       " 'poti',\n",
       " 'bruxelle',\n",
       " 'lliwi',\n",
       " 'ijaiu',\n",
       " 'abunn',\n",
       " 'jls',\n",
       " 'clitjiori',\n",
       " 'ajt',\n",
       " 'pluqb',\n",
       " 'bmieu',\n",
       " 'tejoawkmknrtje',\n",
       " 'iovj',\n",
       " 'luiea',\n",
       " 'muis',\n",
       " 'uieaiu',\n",
       " 'conventions',\n",
       " 'postales',\n",
       " 'titlsh',\n",
       " 'voiatt',\n",
       " 'aaus',\n",
       " 'patriote',\n",
       " 'illustré',\n",
       " 'vague',\n",
       " 'dens']"
      ]
     },
     "execution_count": 11,
     "metadata": {},
     "output_type": "execute_result"
    }
   ],
   "source": [
    "fdist.hapaxes()[:30]"
   ]
  }
 ],
 "metadata": {
  "kernelspec": {
   "display_name": "Python 3.10.5 ('tac_venv': venv)",
   "language": "python",
   "name": "python3"
  },
  "language_info": {
   "codemirror_mode": {
    "name": "ipython",
    "version": 3
   },
   "file_extension": ".py",
   "mimetype": "text/x-python",
   "name": "python",
   "nbconvert_exporter": "python",
   "pygments_lexer": "ipython3",
   "version": "3.10.7"
  },
  "vscode": {
   "interpreter": {
    "hash": "b1932ab1d169b4769d1550e799423b6477588e745f266d79d9004c136c81607e"
   }
  }
 },
 "nbformat": 4,
 "nbformat_minor": 4
}
