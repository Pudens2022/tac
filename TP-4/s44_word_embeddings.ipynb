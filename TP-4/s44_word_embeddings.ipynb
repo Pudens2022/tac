{
 "cells": [
  {
   "cell_type": "markdown",
   "metadata": {},
   "source": [
    "# Word Embeddings : le modèle Word2Vec"
   ]
  },
  {
   "cell_type": "markdown",
   "metadata": {},
   "source": [
    "## Imports"
   ]
  },
  {
   "cell_type": "code",
   "execution_count": 2,
   "metadata": {},
   "outputs": [],
   "source": [
    "import sys\n",
    "\n",
    "from gensim.models.phrases import Phrases, Phraser\n",
    "from gensim.models import Word2Vec\n",
    "\n",
    "import nltk\n",
    "from nltk.tokenize import wordpunct_tokenize\n",
    "from unidecode import unidecode"
   ]
  },
  {
   "cell_type": "markdown",
   "metadata": {},
   "source": [
    "## Chargement et traitement des phrases du corpus"
   ]
  },
  {
   "cell_type": "markdown",
   "metadata": {},
   "source": [
    "### Création d'un objet qui *streame* les lignes d'un fichier pour économiser de la RAM"
   ]
  },
  {
   "cell_type": "code",
   "execution_count": 3,
   "metadata": {},
   "outputs": [],
   "source": [
    "class MySentences(object):\n",
    "    \"\"\"Tokenize and Lemmatize sentences\"\"\"\n",
    "    def __init__(self, filename):\n",
    "        self.filename = filename\n",
    "\n",
    "    def __iter__(self):\n",
    "        for line in open(self.filename, encoding='utf-8', errors=\"backslashreplace\"):\n",
    "            yield [unidecode(w.lower()) for w in wordpunct_tokenize(line)]"
   ]
  },
  {
   "cell_type": "code",
   "execution_count": 4,
   "metadata": {},
   "outputs": [],
   "source": [
    "infile = f\"../data/sents.txt\"\n",
    "sentences = MySentences(infile)"
   ]
  },
  {
   "cell_type": "markdown",
   "metadata": {},
   "source": [
    "### Détection des bigrams\n",
    "\n",
    "Article intéressant sur le sujet : https://towardsdatascience.com/word2vec-for-phrases-learning-embeddings-for-more-than-one-word-727b6cf723cf"
   ]
  },
  {
   "cell_type": "code",
   "execution_count": 5,
   "metadata": {},
   "outputs": [],
   "source": [
    "bigram_phrases = Phrases(sentences)"
   ]
  },
  {
   "cell_type": "markdown",
   "metadata": {},
   "source": [
    "L'object `phrases` peut être vu comme un large dictionnaire d'expressions multi-mots associées à un score, le *PMI-like scoring*. Ce dictionnaire est construit par un apprentissage sur base d'exemples.\n",
    "Voir les références ci-dessous :\n",
    "- https://arxiv.org/abs/1310.4546\n",
    "- https://en.wikipedia.org/wiki/Pointwise_mutual_information"
   ]
  },
  {
   "cell_type": "code",
   "execution_count": 6,
   "metadata": {},
   "outputs": [
    {
     "data": {
      "text/plain": [
       "dict"
      ]
     },
     "execution_count": 6,
     "metadata": {},
     "output_type": "execute_result"
    }
   ],
   "source": [
    "type(bigram_phrases.vocab)"
   ]
  },
  {
   "cell_type": "markdown",
   "metadata": {},
   "source": [
    "Il contient de nombreuses clés qui sont autant de termes observés dans le corpus"
   ]
  },
  {
   "cell_type": "code",
   "execution_count": 7,
   "metadata": {},
   "outputs": [
    {
     "data": {
      "text/plain": [
       "7458"
      ]
     },
     "execution_count": 7,
     "metadata": {},
     "output_type": "execute_result"
    }
   ],
   "source": [
    "len(bigram_phrases.vocab.keys())"
   ]
  },
  {
   "cell_type": "markdown",
   "metadata": {},
   "source": [
    "Prenons une clé au hasard :"
   ]
  },
  {
   "cell_type": "code",
   "execution_count": 22,
   "metadata": {},
   "outputs": [
    {
     "name": "stdout",
     "output_type": "stream",
     "text": [
      "editions_:\n"
     ]
    }
   ],
   "source": [
    "key_= list(bigram_phrases.vocab.keys())[200]\n",
    "print(key_)"
   ]
  },
  {
   "cell_type": "markdown",
   "metadata": {},
   "source": [
    "Le dictionnaire indique le score de cette coocurrence :"
   ]
  },
  {
   "cell_type": "code",
   "execution_count": 23,
   "metadata": {},
   "outputs": [
    {
     "data": {
      "text/plain": [
       "1"
      ]
     },
     "execution_count": 23,
     "metadata": {},
     "output_type": "execute_result"
    }
   ],
   "source": [
    "bigram_phrases.vocab[key_]"
   ]
  },
  {
   "cell_type": "markdown",
   "metadata": {},
   "source": [
    "Lorsque l'instance de `Phrases` a été entraînée, elle peut concaténer les bigrams dans les phrases lorsque c'est pertinent."
   ]
  },
  {
   "cell_type": "markdown",
   "metadata": {},
   "source": [
    "### Conversion des `Phrases` en objet `Phraser`\n",
    "\n",
    "`Phraser` est un alias pour `gensim.models.phrases.FrozenPhrases`, voir ici https://radimrehurek.com/gensim/models/phrases.html.\n",
    "\n",
    "Le `Phraser` est une version *light* du `Phrases`, plus optimale pour transformer les phrases en concaténant les bigrams."
   ]
  },
  {
   "cell_type": "code",
   "execution_count": 24,
   "metadata": {},
   "outputs": [],
   "source": [
    "bigram_phraser = Phraser(phrases_model=bigram_phrases)"
   ]
  },
  {
   "cell_type": "markdown",
   "metadata": {},
   "source": [
    "Le `Phraser` est un objet qui convertit certains unigrams d'une liste en bigrams lorsqu'ils ont été identifiés comme pertinents."
   ]
  },
  {
   "cell_type": "markdown",
   "metadata": {},
   "source": [
    "### Extraction des trigrams"
   ]
  },
  {
   "cell_type": "markdown",
   "metadata": {},
   "source": [
    "Nous répétons l'opération en envoyant cette fois la liste de bigrams afin d'extraire les trigrams."
   ]
  },
  {
   "cell_type": "code",
   "execution_count": 26,
   "metadata": {},
   "outputs": [],
   "source": [
    "trigram_phrases = Phrases(bigram_phraser[sentences])"
   ]
  },
  {
   "cell_type": "code",
   "execution_count": 27,
   "metadata": {},
   "outputs": [],
   "source": [
    "trigram_phraser = Phraser(phrases_model=trigram_phrases)"
   ]
  },
  {
   "cell_type": "markdown",
   "metadata": {},
   "source": [
    "### Création d'un corpus d'unigrams, bigrams, trigrams"
   ]
  },
  {
   "cell_type": "code",
   "execution_count": 28,
   "metadata": {},
   "outputs": [],
   "source": [
    "corpus = list(trigram_phraser[bigram_phraser[sentences]])"
   ]
  },
  {
   "cell_type": "code",
   "execution_count": 29,
   "metadata": {},
   "outputs": [
    {
     "name": "stdout",
     "output_type": "stream",
     "text": [
      "[['a', \"*'\", 'cw', \"'-\", 'tm', 'p', '^', '*\\'*\"', \"'\", ';', '\"*#', \"'*\", '!'], [\"'\", '.'], [\"'-#)#?\"], [\"'\", '*>.'], [\"*/'\", \"*'\", \"'\", ':', \"'\", \"'*'''##'.\", 'h', ';', '5j', \";#'*\", 'y', 'i', \"('\", \"'\", ',', 'v', \"'\", '*:', ':', \"'\", \"'-\", \"'\", '#', \"'\", '*\\'#\"*\\'', '\\'\"\\'\\'', '#-', '#', '*', '^^#', '1', '\"', ';\"', \"*'\", '>>', 's', '.', 'iiifw', 'v', '.', ',', 'tf', \"'^\", '-', '1', \"--'\", '\\'--\"', '*#', \"'*\", '#.'], ['c', '-\"', 'r', '^>>', 'ywwiis', '\".'], ['#', '-', \"'\", 'rfytjfrtfiyprfc', '!', 'kur7', '*', 'vn', '?,', '16', 'pages', '-', '30', 'c', 'mes', '}?'], ['#', '\\\\', '<', 'en', 'belgique', 'et', 'allemagne', 'occupee', ')', 'ja', 'l', \"l_'\", 'etranger', 't', '3s', 'centimes', '*/', 'm', 'juin', '1929', ';', 'edit', '.'], ['****', '*', '*', '*', '*', 'a', '14', 'b', '.'], ['1', '*', '4', 'editions', ':', \"'\", 'ii', 'mit', '\"', '*', 'edit', ',', 'de', 'notl', '.'], [';;#', 'abonnements', '!'], ['agglomeration', 'bruxelloise', '.<<', '..', '..', '(', 'par', 'mon', '.'], ['7', '.', '50', \"[;#/>',\", '\"', '**', \"'\", '.,', '..'], ['i', 'irowmon', '22', '.', '00', '*', 'ptovinca', 'i', 'p', 'f', '?'], ['ta', 'tf', '*>>', '?'], [\".'.\"], ['.', 'a', 'six', 'moii', '.', '.', '42', '.', '50', ':', ',', 'nenaee', '\\\\', ',-', 'otnm', '*', 'hfaila', '^', ',.]'], ['unan', \"'.\"], ['82', '.', '50', \"'\", '4', 'c6ogo', 'belge', ',.'], ['..', '..', '...', ',..*', '...', 'un', '\"', '.'], ['100', '.', '00', 'v', '.-', '.'], [\"'\", 'etranger', '>', 'prix', 'suivant', 'convention', '>>', 'porta', '!>>', '(', 'redactions', '239', '.', '71', 'et', '239', '.', '72', '^', 'teije', '?', 'hones', '^\"<<', 'is', '<<', ',', 'i', \"''\", 'l0n', \"'\", '239', '.', '76', 'et', '239177', '(', 'imprimees', '239', '.<<', '5', 'compte', 'cheque', '>>', 'postaux', 'n', '*', '5675', 'redaction', 't', 'place', 'de', 'louvain', ',', '23', 'administration', 's', 'place', 'de', '.'], ['lcuvaio', ',', '29', 'annonce', '*:', 'agence', 'roaael', ',', 'r', '.', 'royale', ',', '122', '#', ',', '.'], ['1', '>>', 'c', 'chaque', 'jour', 'de', '12', 'a', '16', 'pages', \".'\"], ['salle', 'de', 'depeches', ':', \"'\", 'rue', 'royale', '^', '124', ',', 'bruxelles', 'j', '-', 'x', \"'\", '#', 'bureaux', 'et', 'fila', 'speciaux', ':', '\"##', '-', '--', '*##', 'paris', ':', '11', ',', 'place', 'de', 'la', 'bourse', ',', '11', \"'\", 'londres', ':', '.', '69', ',', 'fleef', 'street', ',', 'e', '.', 'c', '.', '4', 'tribune', 'libre', 'ce', 'que', 'j', \"'\", 'en', 'pense', '?'], ['.-', 'que', 'penser', 'de', 'cette', 'reoente', 'consultation', 'electorale', '?'], ['au', 'moment', 'ou', 'j', \"'\", 'ecris', ',', 'les', '.', 'chiffres', 'ne', 'eont', 'pas', '.', 'encore', 'completement', 'precises', ',', ',', \"'\", 'mais', 'il', '.', 'semble', 'bien', \"qu_'\", 'a', 'ne', 'considerer', 'que', \"l_'\", 'ensemble', ',', 'les', 'electeurs', 'peuvent', 'etre', '.'], ['-', '\"', 'repartis', ',', 'en', 'deux', ',,', 'groupes', ',', \"d_'\", 'importance', '.'], ['egale', ',', 'ou', 'a', 'peu', 'pres', ':.'], ['ceux', 'qui', 'sont', 'contents', \"'\", 'du', \"'\", 'gouvernement', 'actuel', ',', 'et', 'ceux', ',', 'qulvne', ',', 'le', '#', 'sont', 'pas', '.'], ['(', '1', ')', '.'], ['v', '^', 'dans', 'le', 'premier', 'groupe', '(', 'conservateur', '),', '.'], [\"'-\", 'figurent', 'les', ',', 'liberaux', 'qui', 'regagnent', 'la', '-', 'v', 'moitie', 'des', \"'\", 'situations', 'perdues', 'en', '1925', '.'], ['us', '#', 'y', ';', 'chantent', 'naturellement', 'victoire', ',', 'u', '.', 'leur', ',', 'faut', \"'\", 'pour', 'tant', 'bien', 'constater', 'que', 'ce', \"qu_'\", 'ils', '.'], ['.', 'aoqeptent', ',', 'pour', 'en', 'arriver', 'la', ',', 'c', \"'\", 'est', 'sinon', \"'\", 'ia', 'sujeeon', ',', 'tout', 'au', 'moins', 'la', 'fusion', ',', 'a', '.?', \"l_'\", 'egesxi', 'des', '.', 'clericaux', '--', 'ce', 'qui', 'est', 'bien', ',', 'on', \"'\", 'en', 'conviendra', ',', 'le', 'contre', '-', 'pied', 'du', 'libera', '-', ';', 'usine', 'traditionnel', '.'], ['par', 'la', ',', 'le', 'parti', 'liberal', ';', 'gagne', 'des', 'sieges', ',', 'mais', 'il', 'perd', 'une', 'partie', '*', 'de', 'son', 'ame', '.'], ['a', 'la', 'prochaine', 'election', ',', 'ou', 'a', '.', 'la', 'suivante', ',', 'apres', 'quelques', 'aimees', 'de', 'gouver', '-', ':', 'nement', 'en', 'commun', ',', 'ils', 'feront', 'avec', 'les', \"'\", 'catholiques', 'des', 'listes', 'communes', ',', 'a', 'mesure', 'que', ',', \"d_'_une\", 'part', ',', 'les', 'catholiques', 'se', \"'\", 'detacheront', 'de', 'leurs', 'elements', 'hetero', '-', '-', 'gehes', '(', 'fascistes', ',', 'democrates', ',', 'frontistes', ',', '.'], ['etc', '.'], ['),', '-', 'que', \"d_'\", 'autre', \"'\", 'part', ',', 'les', 'socialistes', '--', '*', 'apparaitront', 'comme', 'le', 'seul', 'ennemi', 'verl', '-', ':', 'table', '.'], ['ainsi', 'se', 'realisera', 'definitivement', 'le', 'parti', 'de', \"l_'\", 'ordre', '--', 'du', 'grand', 'ordre', 'parasitaire', 'et', 'conservateur', ',', 'reve', 'par', 'certains', '.'], ['ce', \"'\", 'centre', 'peut', '--', \"s_'\", 'il', 'sait', 'avoir', \"'\", \"l_'\", 'habl', '-', 'lete', \"d_'_une\", 'extreme', 'moderation', 'en', 'matiere', 'religieuse', 'et', 'de', ',', 'quelques', 'concessions', 'op', '-', '.'], ['portunes', 'en', 'matiere', 'sociale', '--', 'fournir', 'un', 'gouverriement', 'tolerable', 'pendant', 'quelques', 'annees', '.'], ['mais', \"l_'\", 'observateur', 'reconnaitra', '-', 'que', 'nous', 'allons', 'ainsi', 'vers', 'la', 'fin', 'des', 'deux', '.'], ['grands', 'partis', 'historiques', ',', 'le', 'liberal', 'disparaissant', 'le', 'premier', ',', 'et', 'devant', 'abandonner', \"'-\", 'jusqu', \"'\", 'a', 'son', 'nom', '.'], [':', ';', \"'\", 'une', '(', 'notabilite', 'du', 'parti', 'liberal', 'aurait', \"'\", 'dit', ';', 'au', '?'], ['cours', 'de', 'cette', 'campagne', ',', 'ootte', 'parole', 'profonde', 'qul', 'deviendra', 'de', 'plus', 'en', 'plus', '/', 'la', 'verite', ':', '<<', \"l_'\", 'important', \"n_'\", 'est', 'pas', ',', 'de', '/', 'voter', 'pour', 'nous', ',', 'ou', 'pour', 'les', 'catholiques', ',', 'mais', 'contre', 'les', 'socialistes', '>.'], [',', ';', '-', 'mais', ',', 'en', 'somme', ',', 'ce', 'gouvernement', 'con', '-', \"#'\", '<<^', 'rvateur', ',', \"s_'\", 'il', 'a', 'une', 'majorite', 'dans', 'le', '^', 'parlement', ',', \"n_'\", 'en', 'a', 'point', 'de', 'reelle', 'dans', 'le', '#-', 'pays', '(', '1', ').'], ['additionne', '^', 'donc', 'toutes', '.'], ['jes', 'vplx', '.', 'de', 'see', 'adversairesl', 'h', 'est', 'vrai', 'que', 'si', 'on', 'peut', 'les', 'additionner', 'sur', 'le', 'papier', ',', 'il', '.'], ['.', 'est', 'impossible', 'de', 'les', 'additionner', 'dans', 'les', \"'\", 'jgftdta', '.'], ['et', 'le', 'plus', 'olair', 'de', 'la', 'force', 'eonser', '-', '#.^', 'atrice', 'est', \"l_'\", 'eparpillement', 'des', 'forces', \".'\", \"d_'\", 'pibosltion', '.'], ['parmi', 'celles', '-_ci', ',', 'la', 'plus', '.'], ['porniikuso', ',', 'la', 'plus', 'importante', ',', 'la', 'plus', 'i', 'ndisciplinee', ',', 'celle', 'a', 'laquelle', 'est', 'reserve', \"'\", '-', \"l_'\", 'avenir', \",'\", 'est', 'la', 'socialiste', '.'], ['seule', 'elle', 'est', 'capable', \"d_'\", 'assurer', 'un', 'srnuverrw', '*', 'roont', 'regulier', ',', 'dans', 'quelques', 'annees', '.'], ['elle', 'est', 'deja', '-', 'plus', 'du', 'tiers', ';', 'il', 'lui', 'suffira', 'de', 'devenir', \"'\", 'p', \"^'^^\", 'us', \"-'\", 'derl', '(r),', 'moitie', \".'\"], ['-', 'j', ',:', 'les', 'autres', ',', 'bien', 'que', 'parlementaire', '-', ';', 'ment', 'inexistantes', ',', 'restent', 'redoutable', ';.'], ['u', '.'], [\"'\", 'ne', ';', 'faut', \"'\", 'pas', 'que', \"l_'\", 'echec', 'communiste', 'fasse', 'f', \"'\", 'illusion', ';', 'ce', 'paiti', 'reste', 'relativement', 'important', 'dans', 'lo', 'pays', ',', 'et', \"s_'\", 'il', 'ri', \"'\", 'avait', 'pas', 'ete', 'sottement', 'dechire', ',', \"s_'\", 'il', 'avait', 'ete', 'mieux', 'conduit', 'et', 'mieux', 'organise', ',', 'il', 'aimait', '-', 'compte', 'des', 'succes', '(', '2', ').'], ['quant', 'aux', 'frontistes', ',', \"l_'\", 'election', 'revele', 'que', \"l_'\", 'irritation', 'flamande', \"n_'\", 'est', 'pas', 'specialisee', 'a', '-', 'anvers', '.'], [\"l_'\", 'incomprehension', 'gouvernementale', 'a', \"l_'\", 'egard', ',', 'de', 'ce', 'mysticisme', 'a', 'toujours', 'ete', 'telle', \"qu_'\", 'il', 'serait', 'temeraire', \"d_'\", 'esperer', 'de', 'ce', 'cote', 'une', 'solu', '-', '(', 'iv', ':', 'electeur', '*', ':', '2', '.', '497', '.', '446', ':', 'gouvernementaux', '(', 'catholiques', 'et', 'liberaux', ')', ':', '1', ',', '185', ',', '269', ';', 'non', 'gouvernementaux', ':', '1', ',', '312', '.', '177', '.'], ['\"(', '2', '>', \"d_'\", 'apres', 'un', 'calcul', 'fait', 'sur', 'les', 'chiffres', 'des', 'journaux', ',', 'les', \"'\", 'communiste', ')', 'ont', 'recueilli', 'plus', 'de', '48', '.', '000', 'voix', ',', 'ce', 'qui', 'aurait', 'pu', 'leu', ';', 'valoir', 'quatre', '#', 'ou', 'cinq', 'deputes', ',', 'si', 'lour', 'procedure', 'avait', 'ete', 'moins', 'maladroite', '.'], ['cos', '48', '.', '000', '#', 'voix', ',', 'prises', 'dans', 'la', 'classe', 'ouvriere', 'et', 'perdues', 'pour', 'elle', \",'\", 'ex', '-', '...', 'pllquent', 'pour', 'une', 'bonno', 'part', 'le', 'recul', 'socialiste', '.'], ['tioh', '.'], ['et', 'voila', 'deux', 'groupes', 'bien', 'inquietants', '.'], ['ajoutons', '-', 'y', 'les', 'gens', \"d_'\", 'eupen', '-', 'mal', '-', 'medy', '!'], ['ces', '<<', 'freres', 'redimes', '>>', 'qui', 'viennent', 'de', 'nous', 'signifier', 'clairement', \"qu_'\", 'apres', 'dix', 'ans', ',', 'ils', 'ne', 'tiennent', 'pas', 'a', 'rester', 'belges', '.'], ['troisieme', 'cause', \"d_'\", 'ennuis', 'possibles', '.'], ['tout', 'cela', 'est', 'assez', 'sombre', 'et', 'la', 'tache', 'du', 'gouvernement', 'de', 'demain', 'sera', 'delicate', '.'], ['la', 'celebration', 'du', 'centenaire', 'de', \"l_'\", 'independance', 'nationale', \"s_'\", 'annonce', 'comme', 'des', 'festivites', 'de', 'parade', ',', 'strictement', 'officielles', ',', 'et', 'semees', 'peut', '-', 'etre', \"d_'\", 'incidents', 'penibles', '.'], ['nous', 'allons', 'attirer', \"l_'\", 'attention', 'de', \"l_'\", 'etranger', ',', 'mais', 'pas', 'comme', 'il', \"l_'\", 'eut', 'fallu', '.'], ['quant', 'a', 'nous', ',', 'socialistes', ',', 'nous', 'restons', 'assez', \"'\", 'forts', ':', 'pour', 'pouvoir', 'attendre', 'notre', 'heure', '.'], ['un', 'echec', ',', 'deux', 'echecs', ',', 'dix', 'echecs', ',', 'ne', 'nous', 'decourageront', 'pas', '.'], ['devenir', 'les', 'maitres', 'parlementaires', 'trop', 'vite', ',', 'sans', 'avoir', 'avec', 'nous', 'la', 'majorite', 'du', 'pays', ',', 'serait', 'une', 'experience', 'desastreuse', '.'], ['nous', 'ne', 'devons', 'pas', 'devoir', 'notre', 'suoces', 'a', 'la', 'surprise', '.'], ['nous', ',', 'no', 'devons', 'pas', '-', 'nous', 'dissimuler', 'que', 'les', 'puissances', \"d_'\", 'argent', 'ne', 'seront', 'pas', 'vaincues', 'en', 'un', 'jour', '.'], ['elles', 'ont', 'fait', 'en', '1025', ',', 'une', 'ruee', 'sauvage', 'contre', 'le', 'ministere', 'poullet', ';', 'elles', 'viennent', \"'\", 'ds', 'recommencer', 'la', 'meme', 'manoeuvra', 'en', '1929', '.'], ['les', 'semeurs', \"d_'\", 'inquietude', 'engrangent', 'toujours', 'des', 'recoltes', '.'], ['mais', ',', 'malgre', 'ces', 'campagnes', 'sans', 'mesure', 'ni', 'loyaiite', ',', 'la', 'tres', 'grande', 'majorite', 'de', 'nos', '.'], ['troupes', 'nous', 'sont', 'restees', 'fideles', ';', 'et', ',', 'quand', 'nous', 'nous', 'rappelons', 'toutes', 'nos', 'conquetes', 'depuis', \"l_'\", 'armistice', ',', 'nous', 'nous', 'consolons', 'aisement', 'de', 'la', 'defection', 'de', 'quelques', 'electeurs', 'indecis', 'ou', '_', 'trembleure', '.'], [\"s_'\", 'il', 'fallait', 'rechercher', 'les', 'causes', 'de', 'cet', 'insucces', 'relatif', ',', '--', 'pour', 'autant', \"qu_'\", 'on', 'puisse', 'demeler', 'les', 'obscures', 'raisons', 'des', 'suffrages', 'secrets', '--', 'je', 'les', 'trouverais', \"d_'_une\", 'part', 'dans', 'oet', 'epouvantail', 'financier', ',', \"d_'\", 'autre', 'part', 'dans', 'le', 'fait', 'que', 'notre', 'parti', \"s_'\", 'est', 'trop', 'soucie', \"d_'\", 'apparaltre', 'comme', 'un', 'parti', 'gouvernemental', ',', 'je', 'm', \"'\", 'explique', ':', 'en', '1925', ',', 'nous', 'avons', 'accepte', 'etourdiment', 'la', 'succession', 'du', 'cabinet', 'theunis', ';', 'en', '1926', ',', 'nous', 'avons', 'mis', 'peut', '-', 'etre', 'trop', \"d_'\", 'empressement', 'a', 'repondre', 'a', \"l_'\", 'appel', 'de', 'm_.', 'francqai', '.'], ['les', 'deux', 'fois', ',', 'nous', 'cedions', 'a', 'oe', 'qui', 'paraissait', \"l_'\", 'interet', 'national', ',', 'et', 'je', 'ne', 'le', 'deplore', 'pas', '.'], ['mais', \"l_'\", 'interet', 'national', ',', 'c', \"'\", 'etait', 'aussi', 'ot', 'surtout', \"l_'\", 'intorot', 'bourgeois', '.'], ['en', 'acceptant', '.', 'de', 'nous', 'y', 'associer', ',', 'nous', 'etions', 'en', 'droitme', 'compter', 'sur', 'une', 'certaine', 'reconnaissance', 'et', 'de', 'ne', 'pas', 'etre', 'dupes', 'de', 'nos', 'sentiments', 'de', 'bons', 'citoyens', ';', 'au', 'lieu', 'de', 'cela', ',', 'notre', 'intervention', 'a', 'ete', \"l_'\", 'occasion', 'de', 'nous', 'endosser', 'toutes', 'les', 'resjxm', '-', 'sabllites', '.'], ['dette', 'ingratitude', 'ne', 'doit', 'pas', 'etre', 'oubliee', ',', 'ot', 'lorsque', 'messieurs', 'les', 'conservateur', 'so', 'seront', 'mis', 'dans', 'un', 'mauvais', 'cas', ',', 'o', 'sera', 'bon', 'desormais', 'de', 'leur', 'refuser', 'toute', 'assistance', '.'], ['en', 'oqtre', \".'\"], ['oette', '^', 'collaboration', ',', ';', 'qul', '/', 'ne', 'nousva', \"'\", 'u', '^', 'rauouhe', '^', 'sjraptithie', \"'\", 'ch', \"'\", 'ezlest', \"'\", 'ele', \"-'*\", 'ments', 'bourgeois', 'ou', 'flottants', ',', 'afialblit', \"l_'\", 'elan', 'de', 'nos', 'fideles', '.'], ['elle', 'diminue', 'ce', 'mysticisme', 'qui', 'est', 'necessaire', '--', 'plus', 'que', 'des', 'satisfactions', 'locales', '--', 'a', 'tout', 'grand', 'parti', '.'], ['il', 'est', 'vain', ',', 'en', 'pareil', 'domaine', ',', \"d_'\", 'etre', 'conciliant', 'et', 'modere', '.'], ['plus', 'nous', 'serons', 'intransigeants', ',', 'mieux', 'cela', 'vaudra', '.'], ['point', \"n_'\", 'est', 'besoin', 'de', 'paroles', 'violentes', ',', 'ni', 'de', 'surencheres', 'demagogiques', '.'], ['mais', \"l_'\", 'affirmation', 'constante', ',', 'inflexible', ',', 'de', 'notre', 'foi', 'en', 'un', 'monde', 'meilleur', ',', 'en', 'la', 'suprematie', 'du', 'travail', 'sur', \"l_'\", 'argent', ',', 'dans', 'le', 'bien', '-', 'etre', 'de', 'tous', 'a', 'preferer', 'a', 'celui', 'de', 'quelques', 'privilegies', ',', 'nous', 'fera', 'une', 'ascension', 'peut', '-', 'etre', 'un', 'peu', 'plus', 'lente', ',', 'mais', 'elle', 'sera', 'plus', 'sure', '.'], ['pour', 'le', 'moment', ',', 'nous', 'restons', \"l_'\", 'opposition', ',', 'unie', ',', 'vigilante', 'et', 'bien', 'decidee', 'a', 'profiter', '-', 'des', 'embarras', 'qui', 'attendent', 'le', 'gouvernement', 'conservateur', '.'], ['jules', 'destree', '.'], ['jusqu', \"'\", 'a', 'la', 'derniere', 'minute', ',', 'pour', 'chacune', 'de', 'ses', 'editions', ',', 'le', 'soir', 'recoit', 'par', 'telegraphe', ',', 'dans', 'ses', 'bureaux', ',', 'les', 'nouvelles', 'parlementaire', '!,', 'financieres', 'et', 'sportives', 'du', 'pays', 'et', 'de', ',', \"l_'\", 'etranger', '.'], ['quelle', 'que', 'soit', \"l_'\", 'heure', '*', 'a', 'j', 'laquelle', 'vous', 'achetez', 'le', ',', 'soir', ',', 'reclamez', 'au', 'vendeur', 'la', 'derniere', 'edition', 'parue', '.'], ['la', 'vie', 'sociale', 'une', 'page', '^', 'histoire', 'economique', ',', 'et', 'sociale', 'la', 'crise', 'des', 'fia', '::', 'cires', '(', '1s45', '-', '1850', ')', 'elles', 'sont', 'sonnees', 'par', 'des', 'etudiantes', 'au', 'cours', 'de', 'ia', \"'\", 'ceremonie', \"d_'\", 'inauguration', 'du', '<<', 'pantheon', '>>', 'de', \"l_'\", 'universite', ',', 'de', ',', 'nqw', '-', 'york', '.'], ['petite', 'gazette', 'le', 'mois', 'nouveau', 'juin', 'est', 'le', 'mois', 'de', \"l_'\", 'ete', ',', 'des', 'cerises', ',', 'des', 'fraises', '.'], ['au', 'nom', 'des', 'voyageurs', 'de', 'com', '-', 'merce', ',', 'nous', 'satons', 'gre', 'aux', 'messieurs', 'de', '~', 'la', 'societe', 'nationale', 'des', 'chemins', 'de', 'fer', '.'], ['qui', 'ne', 'chauffent', 'plus', 'les', 'trains', 'et', 'nous', 'saurions', 'gre', ',', 'au', 'nom', 'de', 'tout', 'le', 'monde', ',', ':', 'aux', 'messieurs', 'des', 'tramways', 'si', 'tontes', 'les', '*', 'voitures', 'etaient', 'ouvertes', 'et', 'si', ',', 'dans', 'les', 'voitures', 'closes', ',', 'les', 'receveurs', 'voulaient', 'bien', '..', 'faire', 'glisser', 'les', 'vitres', 'et', 'creer', 'de', 'salubres', ',', 'courants', \"d_'\", 'air', '.'], ['les', 'nobles', 'etrangers', ',', 'toujours', 'laids', ',', 'animeront', 'la', 'rue', ',', 'iront', 'user', 'de', '\\\\', 'leurs', 'regards', 'le', 'bronze', 'du', 'jeune', 'homme', 'de', 'la', 'rue', 'de', \"l_'\", 'etuve', '.']]\n"
     ]
    }
   ],
   "source": [
    "print(corpus[:100])"
   ]
  },
  {
   "cell_type": "markdown",
   "metadata": {},
   "source": [
    "## Entrainement d'un modèle Word2Vec sur ce corpus"
   ]
  },
  {
   "cell_type": "code",
   "execution_count": 30,
   "metadata": {},
   "outputs": [
    {
     "name": "stdout",
     "output_type": "stream",
     "text": [
      "CPU times: total: 0 ns\n",
      "Wall time: 32.1 ms\n"
     ]
    }
   ],
   "source": [
    "%%time\n",
    "model = Word2Vec(\n",
    "    corpus, # On passe le corpus de ngrams que nous venons de créer\n",
    "    vector_size=32, # Le nombre de dimensions dans lesquelles le contexte des mots devra être réduit, aka. vector_size\n",
    "    window=5, # La taille du \"contexte\", ici 5 mots avant et après le mot observé\n",
    "    min_count=5, # On ignore les mots qui n'apparaissent pas au moins 5 fois dans le corpus\n",
    "    workers=4, # Permet de paralléliser l'entraînement du modèle en 4 threads\n",
    "    epochs=5 # Nombre d'itérations du réseau de neurones sur le jeu de données pour ajuster les paramètres avec la descente de gradient, aka. epochs.\n",
    ")"
   ]
  },
  {
   "cell_type": "markdown",
   "metadata": {},
   "source": [
    "#### Remarque\n",
    "\n",
    "Vous voyez ici que l'entrainement du modèle est parallélisé (sur 4 workers).\n",
    "\n",
    "Lors qu'on parallélise l'entrainement du modèle, 4 modèles \"séparés\" sont entrainés sur environ un quart des phrases.\n",
    "\n",
    "Ensuite, les résultats sont agrégés pour ne plus faire qu'un seul modèle.\n",
    "\n",
    "On ne peut prédire quel worker aura quelle phrase, car il y a des aléas lors de la parallélisation (p. ex. un worker qui serait plus lent, etc.).\n",
    "\n",
    "Du coup, les valeurs peuvent varier légèrement d'un entrainement à l'autre.\n",
    "\n",
    "Mais, globalement, les résultats restent cohérents."
   ]
  },
  {
   "cell_type": "markdown",
   "metadata": {},
   "source": [
    "### Sauver le modèle dans un fichier"
   ]
  },
  {
   "cell_type": "code",
   "execution_count": 31,
   "metadata": {},
   "outputs": [],
   "source": [
    "outfile = f\"../data/newspapers.model\"\n",
    "model.save(outfile)"
   ]
  },
  {
   "cell_type": "markdown",
   "metadata": {},
   "source": [
    "## Explorer le modèle"
   ]
  },
  {
   "cell_type": "markdown",
   "metadata": {},
   "source": [
    "### Charger le modèle en mémoire"
   ]
  },
  {
   "cell_type": "code",
   "execution_count": 37,
   "metadata": {},
   "outputs": [],
   "source": [
    "model = Word2Vec.load(\"../data/newspapers.model\")"
   ]
  },
  {
   "cell_type": "markdown",
   "metadata": {},
   "source": [
    "### Imprimer le vecteur d'un terme"
   ]
  },
  {
   "cell_type": "code",
   "execution_count": 39,
   "metadata": {},
   "outputs": [
    {
     "ename": "KeyError",
     "evalue": "\"Key 'Gouvernementaux' not present\"",
     "output_type": "error",
     "traceback": [
      "\u001b[1;31m---------------------------------------------------------------------------\u001b[0m",
      "\u001b[1;31mKeyError\u001b[0m                                  Traceback (most recent call last)",
      "Cell \u001b[1;32mIn [39], line 1\u001b[0m\n\u001b[1;32m----> 1\u001b[0m model\u001b[39m.\u001b[39mwv[\u001b[39m\"\u001b[39m\u001b[39mGouvernementaux\u001b[39m\u001b[39m\"\u001b[39m]\n",
      "File \u001b[1;32mc:\\Users\\janvi\\OneDrive\\Documents\\Kisalu\\ULB-STIC\\Cours-STIC-2022-2023\\STIC-B545 - Traitement automatique de corpus\\tac\\tac_venv\\lib\\site-packages\\gensim\\models\\keyedvectors.py:404\u001b[0m, in \u001b[0;36mKeyedVectors.__getitem__\u001b[1;34m(self, key_or_keys)\u001b[0m\n\u001b[0;32m    390\u001b[0m \u001b[39m\"\"\"Get vector representation of `key_or_keys`.\u001b[39;00m\n\u001b[0;32m    391\u001b[0m \n\u001b[0;32m    392\u001b[0m \u001b[39mParameters\u001b[39;00m\n\u001b[1;32m   (...)\u001b[0m\n\u001b[0;32m    401\u001b[0m \n\u001b[0;32m    402\u001b[0m \u001b[39m\"\"\"\u001b[39;00m\n\u001b[0;32m    403\u001b[0m \u001b[39mif\u001b[39;00m \u001b[39misinstance\u001b[39m(key_or_keys, _KEY_TYPES):\n\u001b[1;32m--> 404\u001b[0m     \u001b[39mreturn\u001b[39;00m \u001b[39mself\u001b[39;49m\u001b[39m.\u001b[39;49mget_vector(key_or_keys)\n\u001b[0;32m    406\u001b[0m \u001b[39mreturn\u001b[39;00m vstack([\u001b[39mself\u001b[39m\u001b[39m.\u001b[39mget_vector(key) \u001b[39mfor\u001b[39;00m key \u001b[39min\u001b[39;00m key_or_keys])\n",
      "File \u001b[1;32mc:\\Users\\janvi\\OneDrive\\Documents\\Kisalu\\ULB-STIC\\Cours-STIC-2022-2023\\STIC-B545 - Traitement automatique de corpus\\tac\\tac_venv\\lib\\site-packages\\gensim\\models\\keyedvectors.py:447\u001b[0m, in \u001b[0;36mKeyedVectors.get_vector\u001b[1;34m(self, key, norm)\u001b[0m\n\u001b[0;32m    423\u001b[0m \u001b[39mdef\u001b[39;00m \u001b[39mget_vector\u001b[39m(\u001b[39mself\u001b[39m, key, norm\u001b[39m=\u001b[39m\u001b[39mFalse\u001b[39;00m):\n\u001b[0;32m    424\u001b[0m     \u001b[39m\"\"\"Get the key's vector, as a 1D numpy array.\u001b[39;00m\n\u001b[0;32m    425\u001b[0m \n\u001b[0;32m    426\u001b[0m \u001b[39m    Parameters\u001b[39;00m\n\u001b[1;32m   (...)\u001b[0m\n\u001b[0;32m    445\u001b[0m \n\u001b[0;32m    446\u001b[0m \u001b[39m    \"\"\"\u001b[39;00m\n\u001b[1;32m--> 447\u001b[0m     index \u001b[39m=\u001b[39m \u001b[39mself\u001b[39;49m\u001b[39m.\u001b[39;49mget_index(key)\n\u001b[0;32m    448\u001b[0m     \u001b[39mif\u001b[39;00m norm:\n\u001b[0;32m    449\u001b[0m         \u001b[39mself\u001b[39m\u001b[39m.\u001b[39mfill_norms()\n",
      "File \u001b[1;32mc:\\Users\\janvi\\OneDrive\\Documents\\Kisalu\\ULB-STIC\\Cours-STIC-2022-2023\\STIC-B545 - Traitement automatique de corpus\\tac\\tac_venv\\lib\\site-packages\\gensim\\models\\keyedvectors.py:421\u001b[0m, in \u001b[0;36mKeyedVectors.get_index\u001b[1;34m(self, key, default)\u001b[0m\n\u001b[0;32m    419\u001b[0m     \u001b[39mreturn\u001b[39;00m default\n\u001b[0;32m    420\u001b[0m \u001b[39melse\u001b[39;00m:\n\u001b[1;32m--> 421\u001b[0m     \u001b[39mraise\u001b[39;00m \u001b[39mKeyError\u001b[39;00m(\u001b[39mf\u001b[39m\u001b[39m\"\u001b[39m\u001b[39mKey \u001b[39m\u001b[39m'\u001b[39m\u001b[39m{\u001b[39;00mkey\u001b[39m}\u001b[39;00m\u001b[39m'\u001b[39m\u001b[39m not present\u001b[39m\u001b[39m\"\u001b[39m)\n",
      "\u001b[1;31mKeyError\u001b[0m: \"Key 'Gouvernementaux' not present\""
     ]
    }
   ],
   "source": [
    "model.wv[\"Gouvernementaux\"]"
   ]
  },
  {
   "cell_type": "markdown",
   "metadata": {},
   "source": [
    "### Calculer la similarité entre deux termes"
   ]
  },
  {
   "cell_type": "code",
   "execution_count": null,
   "metadata": {},
   "outputs": [
    {
     "data": {
      "text/plain": [
       "0.6248811"
      ]
     },
     "execution_count": 18,
     "metadata": {},
     "output_type": "execute_result"
    }
   ],
   "source": [
    "model.wv.similarity(\"ministre\", \"roi\")"
   ]
  },
  {
   "cell_type": "markdown",
   "metadata": {},
   "source": [
    "### Chercher les mots les plus proches d'un terme donné"
   ]
  },
  {
   "cell_type": "code",
   "execution_count": null,
   "metadata": {},
   "outputs": [
    {
     "data": {
      "text/plain": [
       "[('president', 0.9105064868927002),\n",
       " ('secretaire_general', 0.8774850964546204),\n",
       " ('president_du_conseil', 0.8763439655303955),\n",
       " ('le_ministre', 0.8576363325119019),\n",
       " ('ministre_des_finances', 0.8551753759384155),\n",
       " ('ministre_des_colonies', 0.8525806665420532),\n",
       " ('commissaire_general', 0.8522257208824158),\n",
       " ('conseiller', 0.8520253300666809),\n",
       " ('premier_ministre', 0.849519670009613),\n",
       " ('gouverneur', 0.8465949296951294)]"
      ]
     },
     "execution_count": 19,
     "metadata": {},
     "output_type": "execute_result"
    }
   ],
   "source": [
    "model.wv.most_similar(\"ministre\", topn=10)"
   ]
  },
  {
   "cell_type": "markdown",
   "metadata": {},
   "source": [
    "### Faire des recherches complexes à travers l'espace vectoriel"
   ]
  },
  {
   "cell_type": "code",
   "execution_count": null,
   "metadata": {},
   "outputs": [
    {
     "name": "stdout",
     "output_type": "stream",
     "text": [
      "[('berlin', 0.8128865361213684), ('rome', 0.7630703449249268), ('teheran', 0.762186586856842), ('datee_du', 0.7617496848106384), ('tokio', 0.7588318586349487), ('casablanca', 0.75528883934021), ('alger', 0.7517308592796326), ('tanger', 0.7504138350486755), ('moscou', 0.7488557696342468), ('new_york', 0.7335429787635803)]\n"
     ]
    }
   ],
   "source": [
    "print(model.wv.most_similar(positive=['paris', 'londres'], negative=['belgique']))"
   ]
  }
 ],
 "metadata": {
  "kernelspec": {
   "display_name": "Python 3.10.7 ('tac_venv': venv)",
   "language": "python",
   "name": "python3"
  },
  "language_info": {
   "codemirror_mode": {
    "name": "ipython",
    "version": 3
   },
   "file_extension": ".py",
   "mimetype": "text/x-python",
   "name": "python",
   "nbconvert_exporter": "python",
   "pygments_lexer": "ipython3",
   "version": "3.10.7"
  },
  "vscode": {
   "interpreter": {
    "hash": "bf1c0e32efbc1b0a30fa46d6ab60b25f74a78c177210c206f5ce854a430d1ba2"
   }
  }
 },
 "nbformat": 4,
 "nbformat_minor": 4
}
