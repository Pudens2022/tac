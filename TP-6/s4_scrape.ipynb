{
 "cells": [
  {
   "attachments": {},
   "cell_type": "markdown",
   "metadata": {},
   "source": [
    "# Scraping: récupération des articles sur la COP27 sur le site web de la RTBF\n",
    "\n",
    "Dans ce notebook, nous créons un robot qui va ouvrir la page d'accueil du site du journal [Le Soir](https://www.lesoir.be/) et récupérer le titre de tous les articles du jour et les stocker dans un fichier csv."
   ]
  },
  {
   "cell_type": "markdown",
   "metadata": {},
   "source": [
    "## Imports"
   ]
  },
  {
   "cell_type": "code",
   "execution_count": 78,
   "metadata": {},
   "outputs": [],
   "source": [
    "import os\n",
    "import re\n",
    "import time\n",
    "import requests\n",
    "from bs4 import BeautifulSoup\n",
    "import pandas as pd"
   ]
  },
  {
   "cell_type": "markdown",
   "metadata": {},
   "source": [
    "## Récupération de tous les articles de la page d'accueil\n",
    "\n"
   ]
  },
  {
   "cell_type": "code",
   "execution_count": 80,
   "metadata": {},
   "outputs": [],
   "source": [
    "headers = {'User-Agent': 'Mozilla/5.0 (Macintosh; Intel Mac OS X 10_10_1) AppleWebKit/537.36 (KHTML, like Gecko) Chrome/39.0.2171.95 Safari/537.36'}\n",
    "root_url = \"https://www.lalibre.be\"\n",
    "r = requests.get(root_url)\n",
    "soup = BeautifulSoup(r.content, \"html.parser\")\n",
    "articles = []\n",
    "for link in soup.find_all(\"a\", {\"class\":\"r-article--link\"}): \n",
    "    print(link)\n",
    "    #if(\"dragons\" in link):\n",
    "    title = link.text.strip()\n",
    "    print(title)\n",
    "    url = root_url + link.get('href')\n",
    "    articles.append([url, title])"
   ]
  },
  {
   "cell_type": "code",
   "execution_count": 81,
   "metadata": {},
   "outputs": [
    {
     "data": {
      "text/plain": [
       "0"
      ]
     },
     "execution_count": 81,
     "metadata": {},
     "output_type": "execute_result"
    }
   ],
   "source": [
    "# Affichage du nombre d'articles récupérés\n",
    "len(articles)"
   ]
  },
  {
   "cell_type": "code",
   "execution_count": 77,
   "metadata": {},
   "outputs": [
    {
     "data": {
      "text/plain": [
       "[]"
      ]
     },
     "execution_count": 77,
     "metadata": {},
     "output_type": "execute_result"
    }
   ],
   "source": [
    "# Affichage des 10 premières entrées\n",
    "articles[:10]"
   ]
  },
  {
   "cell_type": "markdown",
   "metadata": {},
   "source": [
    "## Création d'un dataframe avec les liens et les titres des articles\n"
   ]
  },
  {
   "cell_type": "code",
   "execution_count": 62,
   "metadata": {},
   "outputs": [
    {
     "data": {
      "text/html": [
       "<div>\n",
       "<style scoped>\n",
       "    .dataframe tbody tr th:only-of-type {\n",
       "        vertical-align: middle;\n",
       "    }\n",
       "\n",
       "    .dataframe tbody tr th {\n",
       "        vertical-align: top;\n",
       "    }\n",
       "\n",
       "    .dataframe thead th {\n",
       "        text-align: right;\n",
       "    }\n",
       "</style>\n",
       "<table border=\"1\" class=\"dataframe\">\n",
       "  <thead>\n",
       "    <tr style=\"text-align: right;\">\n",
       "      <th></th>\n",
       "      <th>link</th>\n",
       "      <th>title</th>\n",
       "    </tr>\n",
       "  </thead>\n",
       "  <tbody>\n",
       "    <tr>\n",
       "      <th>0</th>\n",
       "      <td>https://www.lesoir.be/504106/article/2023-03-2...</td>\n",
       "      <td>Guerre en Ukraine: Poutine reconnaît l’impact ...</td>\n",
       "    </tr>\n",
       "    <tr>\n",
       "      <th>1</th>\n",
       "      <td>https://www.lesoir.be/504147/article/2023-03-2...</td>\n",
       "      <td>Le Chambre ira récupérer les suppléments de pe...</td>\n",
       "    </tr>\n",
       "    <tr>\n",
       "      <th>2</th>\n",
       "      <td>https://www.lesoir.be/504100/article/2023-03-2...</td>\n",
       "      <td>Décodage\\nComment l’Europe se prépare aux atte...</td>\n",
       "    </tr>\n",
       "    <tr>\n",
       "      <th>3</th>\n",
       "      <td>https://www.lesoir.be/504080/article/2023-03-2...</td>\n",
       "      <td>Procès des attentats de Bruxelles: Mohamed Abr...</td>\n",
       "    </tr>\n",
       "    <tr>\n",
       "      <th>4</th>\n",
       "      <td>https://www.lesoir.be/504004/article/2023-03-2...</td>\n",
       "      <td>Comment les prix de l’immobilier neuf ont évol...</td>\n",
       "    </tr>\n",
       "    <tr>\n",
       "      <th>...</th>\n",
       "      <td>...</td>\n",
       "      <td>...</td>\n",
       "    </tr>\n",
       "    <tr>\n",
       "      <th>84</th>\n",
       "      <td>https://www.lesoir.be/503006/article/2023-03-2...</td>\n",
       "      <td>Les groupes, espèce en voie d’extinction</td>\n",
       "    </tr>\n",
       "    <tr>\n",
       "      <th>85</th>\n",
       "      <td>https://www.lesoir.be/502489/article/2023-03-2...</td>\n",
       "      <td>Les produits bio à la recherche d’un second so...</td>\n",
       "    </tr>\n",
       "    <tr>\n",
       "      <th>86</th>\n",
       "      <td>https://www.lesoir.be/502893/article/2023-03-2...</td>\n",
       "      <td>Le poke bowl, la nouvelle coqueluche du fast-good</td>\n",
       "    </tr>\n",
       "    <tr>\n",
       "      <th>87</th>\n",
       "      <td>https://www.lesoir.be/502647/article/2023-03-2...</td>\n",
       "      <td>Cancer: une découverte belge majeure explique ...</td>\n",
       "    </tr>\n",
       "    <tr>\n",
       "      <th>88</th>\n",
       "      <td>https://www.lesoir.be/503145/article/2023-03-2...</td>\n",
       "      <td>Energie: les prix baissent, faut-il changer de...</td>\n",
       "    </tr>\n",
       "  </tbody>\n",
       "</table>\n",
       "<p>89 rows × 2 columns</p>\n",
       "</div>"
      ],
      "text/plain": [
       "                                                 link  \\\n",
       "0   https://www.lesoir.be/504106/article/2023-03-2...   \n",
       "1   https://www.lesoir.be/504147/article/2023-03-2...   \n",
       "2   https://www.lesoir.be/504100/article/2023-03-2...   \n",
       "3   https://www.lesoir.be/504080/article/2023-03-2...   \n",
       "4   https://www.lesoir.be/504004/article/2023-03-2...   \n",
       "..                                                ...   \n",
       "84  https://www.lesoir.be/503006/article/2023-03-2...   \n",
       "85  https://www.lesoir.be/502489/article/2023-03-2...   \n",
       "86  https://www.lesoir.be/502893/article/2023-03-2...   \n",
       "87  https://www.lesoir.be/502647/article/2023-03-2...   \n",
       "88  https://www.lesoir.be/503145/article/2023-03-2...   \n",
       "\n",
       "                                                title  \n",
       "0   Guerre en Ukraine: Poutine reconnaît l’impact ...  \n",
       "1   Le Chambre ira récupérer les suppléments de pe...  \n",
       "2   Décodage\\nComment l’Europe se prépare aux atte...  \n",
       "3   Procès des attentats de Bruxelles: Mohamed Abr...  \n",
       "4   Comment les prix de l’immobilier neuf ont évol...  \n",
       "..                                                ...  \n",
       "84           Les groupes, espèce en voie d’extinction  \n",
       "85  Les produits bio à la recherche d’un second so...  \n",
       "86  Le poke bowl, la nouvelle coqueluche du fast-good  \n",
       "87  Cancer: une découverte belge majeure explique ...  \n",
       "88  Energie: les prix baissent, faut-il changer de...  \n",
       "\n",
       "[89 rows x 2 columns]"
      ]
     },
     "execution_count": 62,
     "metadata": {},
     "output_type": "execute_result"
    }
   ],
   "source": [
    "df = pd.DataFrame(articles, columns=['link', 'title'])\n",
    "df"
   ]
  },
  {
   "cell_type": "code",
   "execution_count": 63,
   "metadata": {},
   "outputs": [],
   "source": [
    "# Sauvegarde du dataframe dans un fichier csv\n",
    "df.to_csv(f\"../data/lesoir_{time.strftime('%Y%m%d')}.csv\", index=False)"
   ]
  },
  {
   "cell_type": "markdown",
   "metadata": {},
   "source": [
    "## Téléchargement d'un article et affichage du texte"
   ]
  },
  {
   "cell_type": "code",
   "execution_count": 72,
   "metadata": {},
   "outputs": [
    {
     "name": "stdout",
     "output_type": "stream",
     "text": [
      "Guerre en Ukraine: Poutine reconnaît l’impact des sanctions internationales sur l’économie russe\n",
      "==================================\n",
      "Jusqu’à présent, le président russe Vladimir Poutine avait toujours vanté l’adaptation de la Russie face à cette nouvelle conjoncture.\n",
      "==================================\n",
      "  V ladimir Poutine a dit mercredi que les sanctions internationales visant Moscou pour son offensive en Ukraine « peuvent » avoir des conséquences « négatives » à « moyen terme » sur l’économie nationale, après avoir pourtant vanté ces derniers mois l’adaptation de la Russie face à cette nouvelle conjoncture.                function get_dtkCxSegments() { if ('cxSegments' in localStorage) { /* Récupération de cxSegments + initialisation de variables destinées à en limiter la longueur */ let cx = localStorage.getItem(\"cxSegments\"), valueCx = cx.split(\",\"), valueCxLimited = [], charLength = 0, limit = 2000; /* Limitation de la longueur de la chaine de caractère */ for (var i = 0; i < valueCx.length; i++) { charLength = charLength + valueCx[i].length; if (charLength <= limit) { valueCxLimited.push(valueCx[i]); } } return valueCxLimited; } else { return false; } } window.dtkCxSegments = window.dtkCxSegments || get_dtkCxSegments(); var dtkEmbed = document.currentScript.parentNode; var dtkIframe = dtkEmbed.querySelector(\".dmp-digiteka-eaf2771c02cfd8f4b8d8d3f51a123547\").content.cloneNode(true); dtkIframe = dtkIframe.querySelector('iframe'); var dtkUrl = new URL(dtkIframe.dataset.src); var tagparamValue = (dtkUrl.searchParams.get(\"tagparam\")) ? dtkUrl.searchParams.get(\"tagparam\") + \"&CxSegments=\" + window.dtkCxSegments : \"CxSegments=\" + window.dtkCxSegments; if (window.dtkCxSegments) dtkUrl.searchParams.set('tagparam', tagparamValue); dtkIframe.dataset.src = dtkUrl.toString(); dtkEmbed.appendChild(dtkIframe);      « Les sanctions imposées à l’économie russe à moyen terme peuvent vraiment avoir un impact négatif sur celle-ci », a mis en garde le président russe lors d’une réunion avec le gouvernement, retransmise à la télévision. C’est la première fois que Vladimir Poutine admet publiquement que la pluie de sanctions internationales, qui touchent de nombreux secteurs de l’activité russe dont celui stratégique des hydrocarbures, affecte l’économie nationale. Plus d’un après le déclenchement de l’offensive en Ukraine, « le chômage est à son niveau le plus bas », à 3,6 %, et « fin mars, l’inflation va tomber en dessous des 4 % », après avoir flambé à près de 20 % au printemps dernier, a déclaré M. Poutine. « Mais cela ne veut pas dire que tous les problèmes ont déjà été résolus », a-t-il averti face aux membres de son gouvernement.   Le retour à une trajectoire de croissance ne doit pas nous faire se relâcher   « Le retour à une trajectoire de croissance ne doit pas nous faire se relâcher », a-t-il encore appuyé dans un rare réquisitoire, appelant à « garantir la souveraineté économique » de la Russie. M. Poutine a ainsi réclamé au gouvernement et aux dirigeants économiques d’« assurer le lancement rapide de nouveaux projets dans les industries manufacturières, en particulier dans la production de produits de haute technologie », un secteur frappé par le départ de nombreux spécialistes à l’étranger. « Notre système financier devrait jouer un rôle important pour répondre aux besoins des exportateurs. Et nous devons remplacer les entreprises occidentales qui travaillaient dans ce créneau », a-t-il encore demandé.  Dépendance grandissante de Moscou vis-à-vis de Pékin  Ces propos de Vladimir Poutine interviennent une semaine après un sommet à Moscou avec son homologue chinois, Xi Jinping, lors duquel les deux dirigeants ont dit vouloir « approfondir » les relations économiques russo-chinoises. Mais de nombreux observateurs y ont vu un signe de la dépendance grandissante de Moscou vis-à-vis de Pékin, dont l’économie a largement capté les exportations de gaz et de pétrole russe, visées par les sanctions des Occidentaux.           À lire aussi   Visite de Xi Jinping en Russie: le baiser de la mort pour Vladimir Poutine?     \n",
      "   Si ces nouveaux débouchés ont permis à la Russie de compenser en partie les marchés perdus en Europe, sa dépendance envers les poids lourds asiatiques permet en effet à la Chine et à l’Inde d’être en position de force et de négocier les prix à la baisse.\n",
      "Le Chambre ira récupérer les suppléments de pension versés à Raymond Langendries et Sigfried Bracke\n",
      "==================================\n",
      "Contrairement à ce que lui conseillait son service comptabilité, la Chambre a pris la décision de récupérer les sommes indûment versées à plusieurs anciens présidents de l’assemblée.\n",
      "==================================\n",
      "        L e Bureau de la Chambre s’est réuni à midi ce mercredi et s’est terminé sur le coup de 15 heures. Ses membres en sont sortis avec une décision forte, à contre-courant de l’avis de son service comptabilité. Il a été décidé de retirer les décisions illégales prises par le Collège des questeurs en 1998 octroyant une indemnité de départ aux anciens présidents de l’assemblée. Ce qui signifie qu’on considère que ces décisions n’ont jamais existé. Par conséquent, la Chambre pourra aller récupérer les sommes indûment versées à Raymond Langendries et Sigfried Bracke après 2013. « L’objectif est d’obtenir le plus rapidement possible la récupération des montants indûment versés tant aux fonctionnaires généraux qu’aux anciens présidents de l’assemblée », déclare la Chambre dans un communiqué de presse. Impossible toutefois de récupérer la totalité de ce qui a été versé depuis 1998, constatent les juristes de Younity dans une note juridique remise aux membres du Bureau mardi soir et dont  Le Soir  a pu prendre connaissance. Les délais de prescription en la matière étant de dix ans – à partir du moment du paiement. « La récupération ne sera pas de mise pour la période antérieure à 2013. » Qui plus est, « le bénéficiaire (l’ancien président, NDLR) pourra mettre en cause la responsabilité de la Chambre, en vue d’amenuiser son obligation au remboursement ». En l’occurence, il s’agit de près de 170.000 euros pour Raymond Langendries et de 126.015 euros pour Siegfried Bracke.           À lire aussi   Comment la Chambre a triché sur les pensions de plusieurs hauts fonctionnaires     \n",
      "   Dans une note transmise aux membres du Bureau ce mercredi matin, le service comptabilité de la Chambre conseillait de ne pas partir à la poursuite des sommes indûment versées après 2013 à Raymond Langendries et Siegfried Bracke. « Il y a de fortes chances que le coût final pour la Chambre soit plus élevé que les montants effectivement récupérés », alerte-il. Réunis sur le coup de midi, les membres du Bureau devaient prendre une décision quant à la suite à réserver aux décisions illégales prises par le Collège des questeurs en 1998 et le président du Collège des questeurs en 2003. Sur cette base, les présidents sortants se sont vu octroyer une indemnité de départ spécifique, dont le montant a été doublé par la seconde décision de 2003. Le Bureau a ainsi pris la décision d’adresser une lettre invitant les anciens fonctionnaires généraux et aux anciens présidents, qui ne l’ont pas encore fait, à rembourser ces montants de manière volontaire. A ce jour, seul Herman De Croo a procédé de la sorte, effectuant un virement de 210.819,95 euros sur le compte de la Chambre. Contacté par  Le Soir , Raymond Langendries a fait savoir n’avoir eu aucun contact avec la Chambre. « Je ne peux donc répondre à ce que je ne connais pas encore », écrit-il par SMS. Siegfried Bracke n’a pas donné suite à nos questions. « Je pense que c’est la meilleure décision à prendre, parce que c’est la plus forte. C’est la décision qui, théoriquement, permettra de récupérer le plus de paiements indus », commente Gilles Vanden Burre (Ecolo) à la sortie du Bureau. Sofie Merckx (PTB) s’était, elle, indignée de la recommandation faite par les services de l’assemblée. « La Chambre doit évidemment récupérer les suppléments de pension. Jusqu’au dernier centime. » Quant aux suppléments de pension des anciens fonctionnaires généraux, la Chambre introduira une déclaration de partie lésée auprès du parquet de Bruxelles. Ce dernier s’était vu confier, la semaine dernière, le dossier par le Service fédéral des pensions sur base de soupçons de collusion. Elle pourrait, en cas de poursuites pénales, se porter partie civile.\n",
      "Comment l’Europe se prépare aux attentats\n",
      "==================================\n",
      "Face à la menace, Europol, l’agence de police criminelle européenne, vient de coordonner un exercice d’entraînement avec neuf Etats. \n",
      " Avec LéNA, découvrez le meilleur du journalisme européen.\n",
      "==================================\n",
      "  D es terroristes se jouant des frontières de notre continent pour préparer un attentat quelque part aux Pays-Bas… Le dernier exercice organisé sous la houlette d’ Europol, l’agence de police criminelle européenne , rappelle une menace majeure qui, après la vague des attaques islamistes des années 2010, continue à guetter l’Europe et nécessite de s’entraîner à une riposte. \n",
      "\n",
      "Procès des attentats de Bruxelles: Mohamed Abrini remercie une victime pour son témoignage\n",
      "==================================\n",
      "Depuis le début des témoignages des victimes, c’est la première fois qu’un accusé exprime de l’empathie pour l’une d’entre elles.\n",
      "==================================\n",
      "  L ’accusé Mohamed Abrini a tenu à prendre la parole après les témoignages d’une victime de l’attentat de Maelbeek et de son mari, victime collatérale de l’attaque, mercredi devant la cour d’assises de Bruxelles chargée du procès du 22 mars.                function get_dtkCxSegments() { if ('cxSegments' in localStorage) { /* Récupération de cxSegments + initialisation de variables destinées à en limiter la longueur */ let cx = localStorage.getItem(\"cxSegments\"), valueCx = cx.split(\",\"), valueCxLimited = [], charLength = 0, limit = 2000; /* Limitation de la longueur de la chaine de caractère */ for (var i = 0; i < valueCx.length; i++) { charLength = charLength + valueCx[i].length; if (charLength <= limit) { valueCxLimited.push(valueCx[i]); } } return valueCxLimited; } else { return false; } } window.dtkCxSegments = window.dtkCxSegments || get_dtkCxSegments(); var dtkEmbed = document.currentScript.parentNode; var dtkIframe = dtkEmbed.querySelector(\".dmp-digiteka-022c86ff5f018da88b11cdea9f4effb6\").content.cloneNode(true); dtkIframe = dtkIframe.querySelector('iframe'); var dtkUrl = new URL(dtkIframe.dataset.src); var tagparamValue = (dtkUrl.searchParams.get(\"tagparam\")) ? dtkUrl.searchParams.get(\"tagparam\") + \"&CxSegments=\" + window.dtkCxSegments : \"CxSegments=\" + window.dtkCxSegments; if (window.dtkCxSegments) dtkUrl.searchParams.set('tagparam', tagparamValue); dtkIframe.dataset.src = dtkUrl.toString(); dtkEmbed.appendChild(dtkIframe);      Depuis le début des témoignages des victimes il y a plusieurs semaines, c’est la première fois qu’un accusé exprime de l’empathie pour l’une d’entre elles.\n",
      "Comment les prix de l’immobilier neuf ont évolué ces dernières années (cartes interactives)\n",
      "==================================\n",
      "Matexi et Realo ont mis sur pied un nouvel indicateur immobilier : il ne tient compte que du prix des nouvelles constructions, maisons et appartements. Près de 200.000 données ont été passées au crible pour analyser un secteur en plein essor.\n",
      "==================================\n",
      "  L e développeur de quartiers Matexi et la plateforme de données immobilières Realo se sont unis pour sortir un baromètre de la construction neuve. Un outil de plus dans la déjà très dense forêt d’indicateurs immobiliers. \n",
      " Les instigateurs de ce nouveau baromètre insistent sur un point : la méthode utilisée est validée académiquement et appliquée à un très large échantillon représentatif de ce segment spécifique, au centre de toutes les attentions aujourd’hui. \n",
      "\n",
      "«Totalement insuffisant»: un expert recadre sévèrement le plan alcool interfédéral\n",
      "==================================\n",
      "Il estime anormal que les valeurs nutritives de l’alcool ne soient pas indiquées sur les emballages.\n",
      "==================================\n",
      "Alors que le Plan alcool interfédéral vient d’être dévoilé, l’alcoologue Martin de Duve, qui a été consulté à deux reprises lors de son élaboration, se dit déçu par les modifications apportées entre le document qui lui a été soumis en janvier et la version finale. «La plupart des recommandations des experts n’y figurent pas», a-t-il indiqué à l’agence Belga.                function get_dtkCxSegments() { if ('cxSegments' in localStorage) { /* Récupération de cxSegments + initialisation de variables destinées à en limiter la longueur */ let cx = localStorage.getItem(\"cxSegments\"), valueCx = cx.split(\",\"), valueCxLimited = [], charLength = 0, limit = 2000; /* Limitation de la longueur de la chaine de caractère */ for (var i = 0; i < valueCx.length; i++) { charLength = charLength + valueCx[i].length; if (charLength <= limit) { valueCxLimited.push(valueCx[i]); } } return valueCxLimited; } else { return false; } } window.dtkCxSegments = window.dtkCxSegments || get_dtkCxSegments(); var dtkEmbed = document.currentScript.parentNode; var dtkIframe = dtkEmbed.querySelector(\".dmp-digiteka-2d8190eaaf51121d1c2ba7f0ca02b732\").content.cloneNode(true); dtkIframe = dtkIframe.querySelector('iframe'); var dtkUrl = new URL(dtkIframe.dataset.src); var tagparamValue = (dtkUrl.searchParams.get(\"tagparam\")) ? dtkUrl.searchParams.get(\"tagparam\") + \"&CxSegments=\" + window.dtkCxSegments : \"CxSegments=\" + window.dtkCxSegments; if (window.dtkCxSegments) dtkUrl.searchParams.set('tagparam', tagparamValue); dtkIframe.dataset.src = dtkUrl.toString(); dtkEmbed.appendChild(dtkIframe);      «L’alcool est la deuxième cause de mortalité évitable juste derrière le tabac, et engendre un coût social et sanitaire pour l’État estimé à 4,2 milliards d’euros par an. Il est donc grand temps de prendre des mesures qui protègent non pas les intérêts privés de certains mais les intérêts publics d’une population tout entière», a estimé Martin de Duve, alcoologue et directeur de l’asbl Univers Santé.  7 % des Belges sont dépendants à l’alcool  Les 75 mesures adoptées sont «totalement insuffisantes» quand on sait que «près de 14 % des Belges présentent une consommation problématique d’alcool, que 7 % en sont dépendants, et que près de 9.300 Belges mourront de leur consommation chaque année», a souligné M. de Duve. «Nous sommes devant un problème d’accès aux soins puisque les consultations chez un alcoologue ne sont pas remboursées».           À lire aussi   L’alcool, un fléau auquel les jeunes goûtent de plus en plus tôt     \n",
      "   Même si on ne pourra plus vendre d’alcool la nuit le long des autoroutes, il déplore le fait que l’alcool reste disponible dans des endroits dont ce n’est pas la vocation. «Si on limitait la vente d’alcool aux magasins alimentaires ou spécialement dédiés, on éviterait la banalisation de la surconsommation. «L’alcool reste le produit psychotrope le plus important après le tabac et on le trouve partout: chez le boucher, à la librairie...», a expliqué le directeur de Univers Santé.  « Nous ne pouvons pas connaître la composition »  Il estime anormal que les valeurs nutritives de l’alcool ne soient pas indiquées sur les emballages. «C’est le seul produit que nous ingérons dont nous ne pouvons pas connaître la composition. La population devrait pouvoir choisir ce qu’elle consomme en fonction du nombre d’unités d’alcool contenues dans un emballage. Une bière spéciale de 33cl peut contenir jusqu’à 4 unités d’alcool», a-t-il encore souligné.\n",
      "Podcast - La Belgique championne à l'exportation d'un pesticide interdit dans l'Union européenne\n",
      "==================================\n",
      "1420, Braine-l'Alleud (BE)\n",
      "==================================\n",
      "  D es milliers de manifestants dans les rues de Tel Aviv, de Jérusalem ou de Haïfa : Israël connaît une vague de contestation sans précédent. Ce qui provoque la colère des manifestants, c’est une réforme annoncée du système judiciaire. Réforme qui menacerait, d’après ses détracteurs, l’État de droit. Le Premier ministre Binyamin Netanyahou a annoncé une pause dans le processus, on en reparlera début avril. Au service monde, c’est notamment Pauline Hofmann qui traite le Proche-Orient. Elle est passée nous expliquer ce qu’est cette réforme et pourquoi la mobilisation qui s’y oppose est historique. Un pesticide, interdit à l’utilisation en Belgique… est produit et exporté de chez nous vers des pays en développement… C’est légal, c’est pulvériser le produit qui est interdit, pas en produire ou en vendre… mais ça pose toute une série de questions. On a demandé à Michel de Muelenaere, notre spécialiste environnement, de passer en studio pour y répondre.\n",
      "«Donjons et Dragons»: une barbare, un paladin, un voleur…\n",
      "==================================\n",
      "La transposition des jeux au grand écran : gros dossier ! Où l’on dénombre plus de ratages que de réussites. Cette fois, c’est l’ultra classique « Donjons et Dragons » qui a fait l’objet d’une nouvelle tentative…\n",
      "==================================\n",
      "  L e principe est simple : les joueurs endossent chacun le costume d’un personnage bien précis et, sous la houlette d’un maître du jeu (ou maître du donjon), s’embarquent dans l’aventure pleine des péripéties qu’il a imaginée pour eux. C’est ce qu’on appelle un « jeu de rôle »… Si  \n",
      "                        Donjons et Dragons\n",
      "                     , né en 1974 des œuvres des Américains Gary Gygax et Dave Arneson, n’invente pas la formule, il est le premier à se pratiquer sur table. \n",
      "\n",
      "Le pape François hospitalisé\n",
      "==================================\n",
      "Le pape François est hospitalisé pour des contrôles programmés.\n",
      "==================================\n",
      "  L e pape François, 86 ans, a été hospitalisé mercredi à Rome pour des examens qui avaient déjà été programmés en amont, a annoncé le Vatican.                function get_dtkCxSegments() { if ('cxSegments' in localStorage) { /* Récupération de cxSegments + initialisation de variables destinées à en limiter la longueur */ let cx = localStorage.getItem(\"cxSegments\"), valueCx = cx.split(\",\"), valueCxLimited = [], charLength = 0, limit = 2000; /* Limitation de la longueur de la chaine de caractère */ for (var i = 0; i < valueCx.length; i++) { charLength = charLength + valueCx[i].length; if (charLength <= limit) { valueCxLimited.push(valueCx[i]); } } return valueCxLimited; } else { return false; } } window.dtkCxSegments = window.dtkCxSegments || get_dtkCxSegments(); var dtkEmbed = document.currentScript.parentNode; var dtkIframe = dtkEmbed.querySelector(\".dmp-digiteka-5f3d019b05dc584c7d2036e627988224\").content.cloneNode(true); dtkIframe = dtkIframe.querySelector('iframe'); var dtkUrl = new URL(dtkIframe.dataset.src); var tagparamValue = (dtkUrl.searchParams.get(\"tagparam\")) ? dtkUrl.searchParams.get(\"tagparam\") + \"&CxSegments=\" + window.dtkCxSegments : \"CxSegments=\" + window.dtkCxSegments; if (window.dtkCxSegments) dtkUrl.searchParams.set('tagparam', tagparamValue); dtkIframe.dataset.src = dtkUrl.toString(); dtkEmbed.appendChild(dtkIframe);      « Le Saint-Père se trouve à (l’hôpital) Gemelli depuis cet après-midi pour des contrôles précédemment programmés », a annoncé dans un communiqué le directeur du service de presse du Saint-Siège, Matteo Bruni.\n",
      "Philippe Albert après la victoire des Diables en Allemagne: «On a vu où Tedesco voulait en venir en matière de football total»\n",
      "==================================\n",
      "Notre consultant tire les conclusions de la très belle victoire des Diables à Cologne ce mardi, contre la Mannschaft (2-3).\n",
      "==================================\n",
      "  \n",
      " \n",
      " 1  Pendant une demi-heure, la démonstration des Diables a été totale \n",
      " \n",
      " Le passage en 4-3-3, avec deux médians défensifs en soutien de De Bruyne, a libéré celui-ci. Mieux, il a littéralement été mis dans un fauteuil. Un KDB placé dans son meilleur rôle est un KDB qui fait très mal, comme en témoignent ses deux assists et sa course pour aller marquer lui-même le but de la victoire. \n",
      " \n",
      " \n",
      " \n",
      " Ce soir, on a vu où le nouveau sélectionneur voulait en venir avec son football total. Si c’est 0-4 à la mi-temps, personne ne peut crier au scandale. Tout le monde sait bien qu’aucune équipe au monde ne peut tenir un rythme pareil pendant 90 minutes, mais le football que la Belgique a proposé pendant la première demi-heure de ce match est de la marque d’une équipe favorite d’un grand tournoi. Avec 3 buts en l’espace de 4 frappes cadrées, les Diables ont carburé à la moyenne des formations qui peuvent revendiquer les premières places lors du prochain Euro. \n",
      "\n"
     ]
    }
   ],
   "source": [
    "# Récupération du premier lien du dataframe\n",
    "for i in range (10) :\n",
    "    article_url = df.iloc[i][0]\n",
    "    #print(article_url)\n",
    "# Ouverture de la page\n",
    "    response = requests.get(article_url, headers=headers)\n",
    "    soup = BeautifulSoup(response.text, 'html.parser')\n",
    "\n",
    "# Parsing du contenu\n",
    "    title = soup.find(\"h1\").get_text(separator=' ')\n",
    "    chapo = soup.find(\"r-article--chapo\").get_text(separator=' ')\n",
    "    content = soup.find(\"r-article--section\").get_text(separator=' ')\n",
    "\n",
    "    print(title)\n",
    "    print(\"==================================\")\n",
    "    print(chapo)\n",
    "    print(\"==================================\")\n",
    "    print(content)"
   ]
  },
  {
   "cell_type": "markdown",
   "metadata": {},
   "source": [
    "### Nettoyage du texte à l'aide d'expressions régulières"
   ]
  },
  {
   "cell_type": "code",
   "execution_count": null,
   "metadata": {},
   "outputs": [
    {
     "name": "stdout",
     "output_type": "stream",
     "text": [
      "  T out le monde retient son souffle, mais pour l’instant, les nouvelles restent bonnes sur le front des prix de l’énergie. Côté gaz, le prix du TTF néerlandais, qui donne le la sur le marché européen, est passé sous la barre des 40 euros par mégawattheure lundi passé, puis de nouveau mercredi. C’est le niveau le plus bas depuis août 2021 (et rappelons qu’à son apogée en août 2022, il dépassait 300 euros). Même tendance pour l’électricité, dont les prix sont indiqués par l’EPEX SPOT Belgium. « La baisse s’est faite de manière progressive depuis la fin de l’année. Depuis janvier, c’est vraiment redescendu à des niveaux d’avant l’invasion russe pour le gaz, avec une baisse qui se stabilise. Il reste une volatilité actuellement, mais elle n’est pas aussi importante qu’avant », commente Antoine Dumont, le manager du site  comparateur-energie.be . \n",
      "\n",
      "==================================\n",
      " T out le monde retient son souffle, mais pour l’instant, les nouvelles restent bonnes sur le front des prix de l’énergie. Côté gaz, le prix du TTF néerlandais, qui donne le la sur le marché européen, est passé sous la barre des 40 euros par mégawattheure lundi passé, puis de nouveau mercredi. C’est le niveau le plus bas depuis août 2021 . Même tendance pour l’électricité, dont les prix sont indiqués par l’EPEX SPOT Belgium. « La baisse s’est faite de manière progressive depuis la fin de l’année. Depuis janvier, c’est vraiment redescendu à des niveaux d’avant l’invasion russe pour le gaz, avec une baisse qui se stabilise. Il reste une volatilité actuellement, mais elle n’est pas aussi importante qu’avant », commente Antoine Dumont, le manager du site comparateur-energie.be . \n"
     ]
    }
   ],
   "source": [
    "# Suppression de tout ce qui se trouve entre parenthèses\n",
    "clean_content = re.sub(\"\\([^\\)]+\\)\", \" \", content)\n",
    "# Suppression des espaces multiples\n",
    "clean_content = re.sub(\"\\s+\", \" \", clean_content)\n",
    "\n",
    "print(content)\n",
    "print(\"==================================\")\n",
    "print(clean_content)\n"
   ]
  },
  {
   "cell_type": "markdown",
   "metadata": {},
   "source": [
    "### Création d'un fichier avec le contenu de l'article\n"
   ]
  },
  {
   "cell_type": "code",
   "execution_count": null,
   "metadata": {},
   "outputs": [],
   "source": [
    "with open(\"../data/lesoir_example.txt\", \"w\") as writer:\n",
    "    writer.write(f\"{title}\\n\\n{chapo}\\n\\n{clean_content}\")"
   ]
  },
  {
   "cell_type": "markdown",
   "metadata": {},
   "source": [
    "## Pour en savoir plus"
   ]
  },
  {
   "cell_type": "markdown",
   "metadata": {},
   "source": [
    "- Le web scraping avec Python: https://realpython.com/beautiful-soup-web-scraper-python/\n",
    "- Tutoriel sur les expressions régulières: https://www.w3schools.com/python/python_regex.asp"
   ]
  }
 ],
 "metadata": {
  "kernelspec": {
   "display_name": "Python 3.10.7 ('tac_venv': venv)",
   "language": "python",
   "name": "python3"
  },
  "language_info": {
   "codemirror_mode": {
    "name": "ipython",
    "version": 3
   },
   "file_extension": ".py",
   "mimetype": "text/x-python",
   "name": "python",
   "nbconvert_exporter": "python",
   "pygments_lexer": "ipython3",
   "version": "3.10.7"
  },
  "vscode": {
   "interpreter": {
    "hash": "bf1c0e32efbc1b0a30fa46d6ab60b25f74a78c177210c206f5ce854a430d1ba2"
   }
  }
 },
 "nbformat": 4,
 "nbformat_minor": 4
}
