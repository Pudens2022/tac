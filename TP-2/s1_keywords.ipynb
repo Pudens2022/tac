{
 "cells": [
  {
   "cell_type": "markdown",
   "metadata": {},
   "source": [
    "# Extraction de Keywords"
   ]
  },
  {
   "cell_type": "markdown",
   "metadata": {},
   "source": [
    "## Imports"
   ]
  },
  {
   "cell_type": "code",
   "execution_count": 1,
   "metadata": {},
   "outputs": [],
   "source": [
    "import os\n",
    "import yake\n",
    "import glob"
   ]
  },
  {
   "cell_type": "markdown",
   "metadata": {},
   "source": [
    "## Extraire les mots clés d'un document avec Yake"
   ]
  },
  {
   "cell_type": "markdown",
   "metadata": {},
   "source": [
    "https://github.com/LIAAD/yake"
   ]
  },
  {
   "cell_type": "code",
   "execution_count": 2,
   "metadata": {},
   "outputs": [
    {
     "data": {
      "text/plain": [
       "<yake.yake.KeywordExtractor at 0x18d512b40a0>"
      ]
     },
     "execution_count": 2,
     "metadata": {},
     "output_type": "execute_result"
    }
   ],
   "source": [
    "# Instantier l'extracteur de mots clés\n",
    "kw_extractor = yake.KeywordExtractor(lan=\"fr\", top=50)\n",
    "kw_extractor"
   ]
  },
  {
   "cell_type": "code",
   "execution_count": 3,
   "metadata": {},
   "outputs": [
    {
     "name": "stdout",
     "output_type": "stream",
     "text": [
      "['../data/txt\\\\KB_JB838_1968-01-07_01-00007.txt', '../data/txt\\\\KB_JB838_1968-01-07_01-00025.txt', '../data/txt\\\\KB_JB838_1968-01-09_01-00020.txt', '../data/txt\\\\KB_JB838_1968-01-10_01-00018.txt', '../data/txt\\\\KB_JB838_1968-01-13_01-00021.txt', '../data/txt\\\\KB_JB838_1968-01-21_01-00002.txt', '../data/txt\\\\KB_JB838_1968-01-25_01-00026.txt', '../data/txt\\\\KB_JB838_1968-02-03_01-00012.txt', '../data/txt\\\\KB_JB838_1968-02-04_01-00023.txt', '../data/txt\\\\KB_JB838_1968-02-06_01-00011.txt', '../data/txt\\\\KB_JB838_1968-02-08_01-00008.txt', '../data/txt\\\\KB_JB838_1968-02-08_01-00025.txt', '../data/txt\\\\KB_JB838_1968-02-10_01-00006.txt', '../data/txt\\\\KB_JB838_1968-02-10_01-00011.txt', '../data/txt\\\\KB_JB838_1968-02-11_01-00013.txt', '../data/txt\\\\KB_JB838_1968-02-13_01-00002.txt', '../data/txt\\\\KB_JB838_1968-02-14_01-00012.txt', '../data/txt\\\\KB_JB838_1968-02-15_01-00027.txt', '../data/txt\\\\KB_JB838_1968-02-22_01-00023.txt', '../data/txt\\\\KB_JB838_1968-02-29_01-00011.txt', '../data/txt\\\\KB_JB838_1968-02-29_01-00022.txt', '../data/txt\\\\KB_JB838_1968-03-03_01-00022.txt', '../data/txt\\\\KB_JB838_1968-03-05_01-00009.txt', '../data/txt\\\\KB_JB838_1968-03-06_01-00019.txt', '../data/txt\\\\KB_JB838_1968-03-14_01-00010.txt', '../data/txt\\\\KB_JB838_1968-03-15_01-00019.txt', '../data/txt\\\\KB_JB838_1968-03-17_01-00022.txt', '../data/txt\\\\KB_JB838_1968-03-20_01-00004.txt', '../data/txt\\\\KB_JB838_1968-03-28_01-00004.txt', '../data/txt\\\\KB_JB838_1968-03-30_01-00012.txt', '../data/txt\\\\KB_JB838_1968-04-16_01-00027.txt', '../data/txt\\\\KB_JB838_1968-05-14_01-00004.txt', '../data/txt\\\\KB_JB838_1968-05-15_01-00005.txt', '../data/txt\\\\KB_JB838_1968-05-17_01-00013.txt', '../data/txt\\\\KB_JB838_1968-05-17_01-00023.txt', '../data/txt\\\\KB_JB838_1968-05-18_01-00011.txt', '../data/txt\\\\KB_JB838_1968-05-25_01-00012.txt', '../data/txt\\\\KB_JB838_1968-05-28_01-00014.txt', '../data/txt\\\\KB_JB838_1968-06-06_01-00016.txt', '../data/txt\\\\KB_JB838_1968-06-06_01-00020.txt', '../data/txt\\\\KB_JB838_1968-06-12_01-00019.txt', '../data/txt\\\\KB_JB838_1968-06-14_01-00006.txt', '../data/txt\\\\KB_JB838_1968-06-14_01-00014.txt', '../data/txt\\\\KB_JB838_1968-06-15_01-00005.txt', '../data/txt\\\\KB_JB838_1968-06-16_01-00029.txt', '../data/txt\\\\KB_JB838_1968-06-25_01-00003.txt', '../data/txt\\\\KB_JB838_1968-06-30_01-00017.txt', '../data/txt\\\\KB_JB838_1968-07-10_01-00022.txt', '../data/txt\\\\KB_JB838_1968-07-11_01-00015.txt', '../data/txt\\\\KB_JB838_1968-07-14_01-00027.txt', '../data/txt\\\\KB_JB838_1968-07-19_01-00017.txt', '../data/txt\\\\KB_JB838_1968-07-30_01-00012.txt', '../data/txt\\\\KB_JB838_1968-08-03_01-00015.txt', '../data/txt\\\\KB_JB838_1968-08-04_01-00012.txt', '../data/txt\\\\KB_JB838_1968-08-11_01-00006.txt', '../data/txt\\\\KB_JB838_1968-08-14_01-00017.txt', '../data/txt\\\\KB_JB838_1968-08-18_01-00024.txt', '../data/txt\\\\KB_JB838_1968-08-20_01-00010.txt', '../data/txt\\\\KB_JB838_1968-08-22_01-00020.txt', '../data/txt\\\\KB_JB838_1968-08-22_01-00021.txt', '../data/txt\\\\KB_JB838_1968-08-25_01-00002.txt', '../data/txt\\\\KB_JB838_1968-09-05_01-00005.txt', '../data/txt\\\\KB_JB838_1968-09-13_01-00010.txt', '../data/txt\\\\KB_JB838_1968-09-15_01-00022.txt', '../data/txt\\\\KB_JB838_1968-09-22_01-00029.txt', '../data/txt\\\\KB_JB838_1968-09-25_01-00024.txt', '../data/txt\\\\KB_JB838_1968-09-26_01-00014.txt', '../data/txt\\\\KB_JB838_1968-09-27_01-00007.txt', '../data/txt\\\\KB_JB838_1968-09-28_01-00031.txt', '../data/txt\\\\KB_JB838_1968-09-28_01-00032.txt', '../data/txt\\\\KB_JB838_1968-10-01_01-00006.txt', '../data/txt\\\\KB_JB838_1968-10-11_01-00002.txt', '../data/txt\\\\KB_JB838_1968-10-11_01-00018.txt', '../data/txt\\\\KB_JB838_1968-10-18_01-00010.txt', '../data/txt\\\\KB_JB838_1968-10-19_01-00018.txt', '../data/txt\\\\KB_JB838_1968-10-19_01-00025.txt', '../data/txt\\\\KB_JB838_1968-10-19_01-00026.txt', '../data/txt\\\\KB_JB838_1968-10-22_01-00004.txt', '../data/txt\\\\KB_JB838_1968-10-25_01-00005.txt', '../data/txt\\\\KB_JB838_1968-10-27_01-00018.txt', '../data/txt\\\\KB_JB838_1968-10-27_01-00036.txt', '../data/txt\\\\KB_JB838_1968-10-29_01-00024.txt', '../data/txt\\\\KB_JB838_1968-10-30_01-00005.txt', '../data/txt\\\\KB_JB838_1968-11-09_01-00004.txt', '../data/txt\\\\KB_JB838_1968-11-12_01-00002.txt', '../data/txt\\\\KB_JB838_1968-11-16_01-00018.txt', '../data/txt\\\\KB_JB838_1968-11-20_01-00001.txt', '../data/txt\\\\KB_JB838_1968-11-23_01-00014.txt', '../data/txt\\\\KB_JB838_1968-11-28_01-00018.txt', '../data/txt\\\\KB_JB838_1968-11-30_01-00029.txt', '../data/txt\\\\KB_JB838_1968-12-01_01-00022.txt', '../data/txt\\\\KB_JB838_1968-12-04_01-00018.txt', '../data/txt\\\\KB_JB838_1968-12-05_01-00026.txt', '../data/txt\\\\KB_JB838_1968-12-06_01-00011.txt', '../data/txt\\\\KB_JB838_1968-12-07_01-00018.txt', '../data/txt\\\\KB_JB838_1968-12-14_01-00027.txt', '../data/txt\\\\KB_JB838_1968-12-15_01-00007.txt', '../data/txt\\\\KB_JB838_1968-12-17_01-00002.txt', '../data/txt\\\\KB_JB838_1968-12-22_01-00033.txt', '../data/txt\\\\KB_JB838_1968-12-25_01-00010.txt']\n"
     ]
    }
   ],
   "source": [
    "# Lister les Fichiers\n",
    "data_path = \"../data/txt/\"\n",
    "# files = os.listdir(data_path)\n",
    "# files = fnmatch.fnmatch(os.listdir(data_path), 'KB_*1968*.txt')\n",
    "dir_path = \"../data/txt/*1968*.txt\"\n",
    "files = glob.glob(dir_path)\n",
    "print(files)\n"
   ]
  },
  {
   "cell_type": "code",
   "execution_count": 4,
   "metadata": {},
   "outputs": [
    {
     "data": {
      "text/plain": [
       "100"
      ]
     },
     "execution_count": 4,
     "metadata": {},
     "output_type": "execute_result"
    }
   ],
   "source": [
    "# Imprimer le nombre de fichiers identifiés\n",
    "len(files)"
   ]
  },
  {
   "cell_type": "code",
   "execution_count": 5,
   "metadata": {},
   "outputs": [
    {
     "data": {
      "text/plain": [
       "['../data/txt\\\\KB_JB838_1968-01-07_01-00007.txt',\n",
       " '../data/txt\\\\KB_JB838_1968-01-07_01-00025.txt',\n",
       " '../data/txt\\\\KB_JB838_1968-01-09_01-00020.txt',\n",
       " '../data/txt\\\\KB_JB838_1968-01-10_01-00018.txt',\n",
       " '../data/txt\\\\KB_JB838_1968-01-13_01-00021.txt',\n",
       " '../data/txt\\\\KB_JB838_1968-01-21_01-00002.txt',\n",
       " '../data/txt\\\\KB_JB838_1968-01-25_01-00026.txt',\n",
       " '../data/txt\\\\KB_JB838_1968-02-03_01-00012.txt',\n",
       " '../data/txt\\\\KB_JB838_1968-02-04_01-00023.txt',\n",
       " '../data/txt\\\\KB_JB838_1968-02-06_01-00011.txt']"
      ]
     },
     "execution_count": 5,
     "metadata": {},
     "output_type": "execute_result"
    }
   ],
   "source": [
    "# Les dix premiers fichiers\n",
    "files[:10]"
   ]
  },
  {
   "cell_type": "code",
   "execution_count": 6,
   "metadata": {},
   "outputs": [
    {
     "data": {
      "text/plain": [
       "'../data/txt\\\\KB_JB838_1968-01-07_01-00007.txt'"
      ]
     },
     "execution_count": 6,
     "metadata": {},
     "output_type": "execute_result"
    }
   ],
   "source": [
    "# Choisir un fichier\n",
    "this_file = files[0]\n",
    "this_file"
   ]
  },
  {
   "cell_type": "code",
   "execution_count": 7,
   "metadata": {},
   "outputs": [
    {
     "data": {
      "text/plain": [
       "\"DIMANCHE 7 ET LUNDI 8 JANVIER 1968 - Triomphe britannique au Grand Prix' de l'Union de la Critique de Cinéma « Accident », de Joseph Losey■ J'emporte, d'extrême justesse, sur « Privilège », de Peter Watkins ment décidés à rendre des points à l’adversaire. La souriante autorité de M. Olivier Delville, président, empêcha que les débats, parfois assez caustiques, ne prennent un tour désagréable. Les anglophiles étaient les seuls à sourire vraiment : la victoire n’allait pas échanper à un « made in Bri- tain ►! Et à l’issue de neuf tours de scrutin (sans parler des innombrables votes indicatifs dont la seule « uti- LE SOIR 7. Propos fumants et fumeux, invectives et dithyrambes, bonnes raisons et mauvaise foi, manœuvres habiles et envolées lyriques, plaidoiries passionnées et calembours douteux : le mépris et le respect, l’admiration et l’indifférence ont, comme chaque année, éclaté tout au long (plus de trois heures) du débat qui réunissait samedi les critiques cinématographiques à l’occas\""
      ]
     },
     "execution_count": 7,
     "metadata": {},
     "output_type": "execute_result"
    }
   ],
   "source": [
    "# Récupérer le texte du fichier\n",
    "text = open(this_file, 'r', encoding=\"utf-8\").read()\n",
    "text[:1000]"
   ]
  },
  {
   "cell_type": "code",
   "execution_count": 8,
   "metadata": {},
   "outputs": [
    {
     "data": {
      "text/plain": [
       "[('Gaston Vander Schueren', 0.0022628748260117826),\n",
       " ('Vander Schueren', 0.0062896305759281125),\n",
       " ('Gaston Vander', 0.00946370813632632),\n",
       " ('JAMBE DE BOIS', 0.009561930943007748),\n",
       " ('soviétique', 0.013183371830227482),\n",
       " ('Bruxelles', 0.013513778882489032),\n",
       " ('JANVIER', 0.014766424906068689),\n",
       " ('Belge', 0.01567133392163923),\n",
       " ('Grand Prix', 0.016167745487243673),\n",
       " ('Joseph Losey', 0.017604839494165084),\n",
       " ('ans', 0.01768289265414183),\n",
       " (\"d'un\", 0.019733493946879614),\n",
       " ('Grand', 0.02211329397429521),\n",
       " ('Jeune peinture belge', 0.024246800207426155),\n",
       " ('Magda', 0.024601931895001775),\n",
       " ('JAMBE', 0.025041630072197563),\n",
       " ('BOIS', 0.026039529727028318),\n",
       " ('mari Gaston Vander', 0.026274594110628983),\n",
       " ('Vander', 0.02730305127573365),\n",
       " ('Schueren', 0.02741596599392053),\n",
       " ('Triomphe britannique', 0.02847362199713215),\n",
       " ('jeune femme', 0.02863827935269381),\n",
       " ('d’un plan soviétique', 0.029440590841065043),\n",
       " ('jeune', 0.029840749295391437),\n",
       " ('d’un', 0.030167656028755582),\n",
       " ('Gaston', 0.03074934860430974),\n",
       " ('Prix', 0.031214610940670684),\n",
       " ('Staline', 0.03157372166268282),\n",
       " ('jeunes', 0.03410371348044735),\n",
       " ('femme', 0.03682393438121342),\n",
       " ('Joseph', 0.03877226269747932),\n",
       " ('grand rabbin', 0.039773191210017954),\n",
       " ('heures', 0.04167768058986108),\n",
       " ('plan', 0.04181127750750413),\n",
       " ('Elvira Madigan', 0.04362523119348593),\n",
       " ('samedi', 0.04420433255164829),\n",
       " ('Fédération nationale belge', 0.04508849224851945),\n",
       " ('SOIR', 0.04633523452246186),\n",
       " ('France', 0.047248325476224234),\n",
       " (\"d'extrême justesse\", 0.049607743990089326),\n",
       " ('Lune', 0.04985429983323752),\n",
       " ('jeunes intellectuels soviétiques', 0.05073633299737186),\n",
       " ('France Joseph Kaplan', 0.05186574354452818),\n",
       " ('Belge André', 0.05218383362805391),\n",
       " ('dernier', 0.05277510370035317),\n",
       " ('Union soviétique', 0.05554784277256197),\n",
       " ('Grande', 0.055930886266268874),\n",
       " ('mari', 0.05627988449835018),\n",
       " ('américaine', 0.057315515308005834),\n",
       " ('salon', 0.05930243972178918)]"
      ]
     },
     "execution_count": 8,
     "metadata": {},
     "output_type": "execute_result"
    }
   ],
   "source": [
    "# Extraire les mots clés de ce texte\n",
    "keywords = kw_extractor.extract_keywords(text)\n",
    "keywords"
   ]
  },
  {
   "cell_type": "code",
   "execution_count": 9,
   "metadata": {},
   "outputs": [
    {
     "data": {
      "text/plain": [
       "['Gaston Vander Schueren',\n",
       " 'JAMBE DE BOIS',\n",
       " 'Jeune peinture belge',\n",
       " 'mari Gaston Vander',\n",
       " 'd’un plan soviétique',\n",
       " 'Fédération nationale belge',\n",
       " 'jeunes intellectuels soviétiques',\n",
       " 'France Joseph Kaplan']"
      ]
     },
     "execution_count": 9,
     "metadata": {},
     "output_type": "execute_result"
    }
   ],
   "source": [
    "# Ne garder que les trigrammes\n",
    "kept = []\n",
    "for kw, score in keywords:\n",
    "    words = kw.split()\n",
    "    if len(words) == 3:\n",
    "        kept.append(kw)\n",
    "kept"
   ]
  },
  {
   "cell_type": "markdown",
   "metadata": {},
   "source": [
    "## Faire la même opération sur tous les documents"
   ]
  },
  {
   "cell_type": "code",
   "execution_count": 10,
   "metadata": {},
   "outputs": [
    {
     "name": "stdout",
     "output_type": "stream",
     "text": [
      "../data/txt\\KB_JB838_1968-01-07_01-00007.txt mentions these keywords: Gaston Vander Schueren, JAMBE DE BOIS, Jeune peinture belge, mari Gaston Vander, d’un plan soviétique, Fédération nationale belge, jeunes intellectuels soviétiques, France Joseph Kaplan...\n",
      "../data/txt\\KB_JB838_1968-01-07_01-00025.txt mentions these keywords: curriculum vitae complet, Envoyer curriculum vitae, Ecrire Agence Rossel, curriculum vitae détaillé, Adresser curriculum vitae, curriculum vitae and, JEUNE EMPLOYE Bilingue, Faire offre manuscrite, JEUNE ELEMENT DYNAMIQUE...\n",
      "../data/txt\\KB_JB838_1968-01-09_01-00020.txt mentions these keywords: DERNIERE EDIÜÇN PARUE, achetez LE SOIR, vendeur LA DERNIERE, réclamez au vendeur, désespère de parvenir, LINGE DE COULEUR, l'achèvement d’un drap, solidité d’un drap, l’achat d'un drap, cotons linge rie, salle de bains, cas d'un drap...\n",
      "../data/txt\\KB_JB838_1968-01-10_01-00018.txt mentions these keywords: Ecrire Agence Rossel, L’AGENCE ROSSEL NUM, Ecrire Afiencc Rossel, Bruxelles cherche EMPLOYES, Faire offre manuscrite, BRUXELLES engage BONNE...\n",
      "../data/txt\\KB_JB838_1968-01-13_01-00021.txt mentions these keywords: Parvis St-OUias Tél, WATERLOO Parvis St-OUias, crédit avec acompte, Manteaux et Caaa, Immédiat SANS BANQUE, gaz naturel Mod, hublot Prix social, HOUSSIERE Beaux TERRAINS, feux Prix social, valable à crédit, Stalingrad Prix social...\n",
      "../data/txt\\KB_JB838_1968-01-21_01-00002.txt mentions these keywords: file unique dans, dans d'autres communes, d’un nouveau bassin...\n",
      "../data/txt\\KB_JB838_1968-01-25_01-00026.txt mentions these keywords: DERNIÈRE EDITION PARUE, mam lEsom JEUDI, vendeur LA DERNIÈRE, réclamez au vendeur, voiture PRIX IMBATTABLE, AYEZ JAMAIS CONDUITE, AMERICAN MOTORS JAYELIN, LA-PLUS ETONNANTE VOITURE...\n",
      "../data/txt\\KB_JB838_1968-02-03_01-00012.txt mentions these keywords: Galerie Disque Itougc...\n",
      "../data/txt\\KB_JB838_1968-02-04_01-00023.txt mentions these keywords: LEADING AMERICAN FIRM, tÈsom LEADING AMERICAN, FIRM v. has, YOU are able, Ecrire AGENCE ROSSEL, met curriculum vitae, joignant curriculum vitae, curriculum vitae SAIT, Envoyer curriculum vitae, has an opening, Petrochemical Fields would, curriculum vitae détaillé, Dutch and French, vitae SAIT ELECTRONICS, Centre Rogier BRUXELLES, DACTYLOS Bonnes notions, bilingue Faire offre, BONNES REMUNERATIONS AVANTAGES...\n",
      "../data/txt\\KB_JB838_1968-02-06_01-00011.txt mentions these keywords: bat Van Kampcn, Mccx bat Van, bat Van den, Seul Van Moer, d'affilée La régularité, petit Van Moer, Slas bat Van, Albert Van Damme, Van Lacckc fut, Kcppcnne bat Van, bat Van GeUler, semble vouloir cultiver, Sporting de Charleroi, Van de Walle...\n",
      "../data/txt\\KB_JB838_1968-02-08_01-00008.txt mentions these keywords: CHARLES K.FELDMAN RANAVISION, EASTMANCOLOR MCTROPOitTAN PIMS, PRODUCTION CHARLES K.FELDMAN, GUINNESS KRR USniHOll, UNEPRQOUCTION PETtRGLtNYILLE mmmm, METHOPOLE LE PALAIS, SALLE IA MIEUX, fRANSCOPE EASTMANCOLOR MCTROPOitTAN, ADMIS fRANSCOPE EASTMANCOLOR, ACROPOLE KOROGtXOWYN RAYER, PMU FORS MLUANfiiSH, FORS MLUANfiiSH PANAVISION, ehmbethtmim MES GUINNESS, USniHOll US COMEDIENS, PETtRGLtNYILLE mmmm ehmbethtmim, BEIOIQUE PLAZA AVENUE, Louis de Funès, Bonnle et Ciyde...\n",
      "../data/txt\\KB_JB838_1968-02-08_01-00025.txt mentions these keywords: JEUDI a FEVRIER, LOUEZ SAKS CHAUFFEUR, rue Tenbosch TAUNUS, rue Ve.rt Brux...\n",
      "../data/txt\\KB_JB838_1968-02-10_01-00006.txt mentions these keywords: Monsieur et Madame, MONSIEUR ROBERT SCHWENNICKE, rie MONSIEUR ROBERT, MONSIEUR Jean CASTERMANS, Rue rie Bruxelles, avis tient lieu, décès rie MONSIEUR, MONSIEUR Albert FETTWEIS, Madame Victor FETTWEIS, décès de MONSIEUR, Mgr De Smedl, cimetière rie Bruxelles, Monsieur Mathieu FETTWEIS, rie faire-part Bruxelles, Monsieur Michel LAMBIN, MONSIEUR CHARLES VAN, MONSIEUR Alfred VAN...\n",
      "../data/txt\\KB_JB838_1968-02-10_01-00011.txt mentions these keywords: Louise Van Gelder...\n",
      "../data/txt\\KB_JB838_1968-02-11_01-00013.txt mentions these keywords: ...\n",
      "../data/txt\\KB_JB838_1968-02-13_01-00002.txt mentions these keywords: Air QUINZIEME LISTE, Grand Air QUINZIEME, Mauriac Marc Blancpain, François Mauriac Marc, ASPIRATEUR ELECTROLUX Luxomatlc, RADIO PORTATIVE NOVAK, REFRIGERATEUR ELECTROLUX Polaris, MANTEAU DE FOURRURE, FOURRURE EN MURMEL, don des Etablissements, ENREGISTREUR NOVAK stéréo...\n",
      "../data/txt\\KB_JB838_1968-02-14_01-00012.txt mentions these keywords: Van der Flaas, Marielle Goitschel démarra, Hollandais Van Seggelen, Van der Audenaarde, Suédoise Teini Gustafsson, Comité olympique belge, hockey sur glace, MERCREDI H FEVRIER...\n",
      "../data/txt\\KB_JB838_1968-02-15_01-00027.txt mentions these keywords: PIEDS CHROMES TOURHAHT, XIÏIIÏIÏXULIIJÏIHIIII SALON RECLAME, AMOVIBLE PIEDS CHROMES, SKAÏ COUSSIN AMOVIBLE, COUSSIN AMOVIBLE PIEDS, Opel Admirai Opel...\n",
      "../data/txt\\KB_JB838_1968-02-22_01-00023.txt mentions these keywords: Coiffure dames dem, Importante Ouvrier magasinier, Coiffeur dames dem, LAVEURS DE VITRES, rue Edit Cavcll, rue Paul Laulers, rue Déportation Tublze...\n",
      "../data/txt\\KB_JB838_1968-02-29_01-00011.txt mentions these keywords: coup franc fut, Standard domina souvent...\n",
      "../data/txt\\KB_JB838_1968-02-29_01-00022.txt mentions these keywords: ...\n",
      "../data/txt\\KB_JB838_1968-03-03_01-00022.txt mentions these keywords: chambres à coucher, Domaine du Wolvenberg, rue Dambrugge Tél, APPARTEMENT HAUT STANDING, Entreprises BALCAEN construit, les.raots grand parc...\n",
      "../data/txt\\KB_JB838_1968-03-05_01-00009.txt mentions these keywords: grand bal annuel, traditionnel bal wallon, Bassin du Centre, grand gala annuel, GRAND BAL VERT, bal wallon animé, Mlle Lados van...\n",
      "../data/txt\\KB_JB838_1968-03-06_01-00019.txt mentions these keywords: Ecrire Agence Rossel, INTERESSANT ET TRES, TRES BIEN REMUNERE, DACTYLO BILINGUE Ecrire, BILINGUE Ecrire Agence, Bruxelles engage JEUNE, BILINGUES DACTYLOS BILINGUES, BONNE EMPLOYEE Ecrire, BRUXELLES IMPORTANTE SOCIETE, Société importante Bruxelles, l’Agence Rossel num, BONNE DACTYLO BILINGUE, EMPLOYEE DACTYLO bonne, DACTYLO BILINGUE Ecr., IMPORTANTE SOCIETE demande...\n",
      "../data/txt\\KB_JB838_1968-03-14_01-00010.txt mentions these keywords: Paul Morand c’est, célèbre de Forain, four Lucien Descaves, plue belle qu'au, Paul MORAND MONPLAISIR, peut-être plue belle, qug f Académie, Rose de Sable, bon Paul MORAND, reprend Paul Morand, d’après Paul Morand, récriait un four, annuel à John-An, MORAND MONPLAISIR Pierre, prix Goncourt qu’on...\n",
      "../data/txt\\KB_JB838_1968-03-15_01-00019.txt mentions these keywords: vue mer app, COSTA BRAVA app, ESPAGNE Cambrlls app, VUE UNIQUE Tél...\n",
      "../data/txt\\KB_JB838_1968-03-17_01-00022.txt mentions these keywords: pers Bord mer...\n",
      "../data/txt\\KB_JB838_1968-03-20_01-00004.txt mentions these keywords: transit localisé place, place Cardinal Mercier, localisé place Verboeckhoven, localisés au Nord, rue Henri Maus, cours d’un accident, demeurant rue Failon...\n",
      "../data/txt\\KB_JB838_1968-03-28_01-00004.txt mentions these keywords: ait MARTINI CENTER, domicilié place Van, Belge Pierre Stevens, fois d’une voiture, Mellery Mardi soir, s’est produite mardi, Guy Van Roy, place Van Meénèn...\n",
      "../data/txt\\KB_JB838_1968-03-30_01-00012.txt mentions these keywords: prix Fort Jaco, Ecurie Van Assche, prix Petit Pierre, handicap prix Fort, dimanche Jacky Ickx, Pat Moss Carlsson, Mme Van Gele, DIVISION III NATIONALE, bat Van Malder, Kelecom Jeudi soir, Jacky Ickx face, Madrid Jeudi soir, Kelecom bat Van, Roy de Blicquy...\n",
      "../data/txt\\KB_JB838_1968-04-16_01-00027.txt mentions these keywords: Ecrire Agence Rossel, DEMANDE DACTYLO bilingue, ENGAGER EMPLOYE Bilingue, Eorlre Agence Rossel, IMPORTANTE SOCIETE ENGAGE, AGENCE IMMOBILIERE demande, JEUNE COMPTABLE bilingue, International Rogier Bruxelles, LUXEMBOURG SECTEURS DISPONIBLES, BRUXELLES engage pouv, d’un curriculum vitae, FIRME INTERNATIONALE ETABLIE...\n",
      "../data/txt\\KB_JB838_1968-05-14_01-00004.txt mentions these keywords: CHRONIQUE PHILATÉLIQUE Flore, Bruxelles Lundi matin, voiture Lundi matin, ans de prison, correctionnel de Liège, collision s’est produite...\n",
      "../data/txt\\KB_JB838_1968-05-15_01-00005.txt mentions these keywords: impayables Jean Rovis, bourrus impayables Jean, vénitiens du XVIII, Léonid Frechkop Léonid, Frechkop Léonid Frechkop, d'une incroyable tnullerie, théâtre Molière présente, incarnent deux bourgeois, rouge Deux bourrus, EXPOSITIONS Léonid Frechkop, Molière présente actuellement, MAI Folklore belge, Quinzaine du bon...\n",
      "../data/txt\\KB_JB838_1968-05-17_01-00013.txt mentions these keywords: Garden Stores Louise, TED LAPIDUS COUTURE, COLLEGE BUTCH TAILORS, JIBUTCH COLLEGE BUTCH, LAPIDUS COUTURE BUTCH, CHEMISERIE BUTCH Garden, BUTCH Garden Stores, UNIVERSITY LA CHEMISERIE, SOIR Nous avons, part de LOUIS, l’ouverture ce vendredi, avons le plaisir, rue De Joncher...\n",
      "../data/txt\\KB_JB838_1968-05-17_01-00023.txt mentions these keywords: FIAT FIAT FIAT, CAUTION DEPOTS Teinturerie...\n",
      "../data/txt\\KB_JB838_1968-05-18_01-00011.txt mentions these keywords: Elisabeth Brozowska CAPPI, JOSEPHINE par Elisabeth, vit alors déboucher, Toonder Au comble, Garden Stores Louise, comble de l'anxiélé, parti le hurlement, regarda la colline, d’où était parti, marin aux mâchoires, suspendu le malheureux, CAPPI par Marten, déboucher le monstre, GUN LAW Gun, LAW Gun Law, Bara GUN LAW, Gun Law HAUT, Guy Bara GUN, Law HAUT BISHOP, regard fut alors, fut alors attiré, Bozz RIP KIRBY, Distributeurs Officiels DAF...\n",
      "../data/txt\\KB_JB838_1968-05-25_01-00012.txt mentions these keywords: Bourse de Paris, BOURSE DE BRUXELLES, parts sociales nouvelles, BOURSE DE LONDRES, PARIS SEMAINE BOURSIÈRE, milliards de francs, millions de dollars, fin de semaine, part sociale nouvelle, balance des paiements...\n",
      "../data/txt\\KB_JB838_1968-05-28_01-00014.txt mentions these keywords: Bruxelles Allure réservée, Allure réservée Recul, FNRS FNRS FNRS, CADG CADG CADG, PRECOMPTE SNCB Sulaaa, IOUR COURS PRECEO, Angola Angola Angola, ACTIONS PRECOMPTE DEDUIT, Crown Crown Crown, Gand 56-71 Liège, PRECOMPTE Anvors 63-83, Gand 54-74 Gand...\n",
      "../data/txt\\KB_JB838_1968-06-06_01-00016.txt mentions these keywords: MAISON VILLA BUNGALOW, louer belle villa, maison bel étage...\n",
      "../data/txt\\KB_JB838_1968-06-06_01-00020.txt mentions these keywords: ILES BAHAMASI SOYEZ, SOYEZ notre HOTE, BAHAMA fa Riviera, Riviera du Nouveau, monde Voyage spécial, LUX FLAT mblé...\n",
      "../data/txt\\KB_JB838_1968-06-12_01-00019.txt mentions these keywords: ...\n",
      "../data/txt\\KB_JB838_1968-06-14_01-00006.txt mentions these keywords: Afrique du Sud, palais de Bruxelles, porte de Namur...\n",
      "../data/txt\\KB_JB838_1968-06-14_01-00014.txt mentions these keywords: Liège Liège Liège, Gand Gand Gand, FNRS FNRS FNRS, titres français L'accord, PRECOMPTE SNCB Sulsss, BBiP LE SOIR, Dette Dette Dette, Angola Angola Angola, Belge Belge EMPRUNTS, Belge EMPRUNTS BELGES, Gand Gsnd Liège, Sub Nigel Sub, Nigel Sub Nigel, ACTIONS PRECOMPTE DEDUIT...\n",
      "../data/txt\\KB_JB838_1968-06-15_01-00005.txt mentions these keywords: Robert F. Kennedy, National Youth Theatre, Youth Theatre Dario, Théâtre National créera, jamais jeune génération, qu’ils soient entendus, Pisistrate autant qu’il, l’assassinat de Robert, NOUVEAU par Rob...\n",
      "../data/txt\\KB_JB838_1968-06-16_01-00029.txt mentions these keywords: SOIR Nouvelle Société, sts services fechniço, envoyer curriculum vitae, IMMOAF Bruxelles recherche, services administratifs UNIROYAL, SECRETAIRE STENO DACTYLO, administratifs UNIROYAL ENGLEBERT, Importante Société Industrielle, PLACE ENGAGE EMPLOYE, ENGAGE REPRESENTANT RECHERCHE, Bruxelles recherche d’urgence...\n",
      "../data/txt\\KB_JB838_1968-06-25_01-00003.txt mentions these keywords: tour dés élections, président Johnson qu’ils, majorité gaulliste sortante, second tour dés, candidat communiste Berthet...\n",
      "../data/txt\\KB_JB838_1968-06-30_01-00017.txt mentions these keywords: hippiques à Ostendé, Prix de Dulnber, JUIN Premlère course, SOIR Courses hippiques, RESULTATS DU SAMEDI, Prix Angle Belle, Prix Major Frido, PRIX COBBLESS BOY, Prix August Bourgeois, Prix Julien Nol...\n",
      "../data/txt\\KB_JB838_1968-07-10_01-00022.txt mentions these keywords: DERNIERS EDITION PARUS, SURREEL Pierre Reverdy, PIERRE REVERDY POETE, vendeur LA DERNIERS, Pierre Reverdy passe, POETE DU SURREEL, Marthe et Jérôme...\n",
      "../data/txt\\KB_JB838_1968-07-11_01-00015.txt mentions these keywords: marchés américains OUVERTURE...\n",
      "../data/txt\\KB_JB838_1968-07-14_01-00027.txt mentions these keywords: ONDERZOEK Brasserie DEN, Brasserie DEN HERT, SELEKTIE S VORMING, HERT à KOBBEGEM, d’un âge moyen, ENGINEER The successful, Chemical process design, variée et indépendante, DESIGN ENGINEER The, PROCESS DESIGN ENGINEER, KOBBEGEM désire engager, DACTYLO BILINGUE Avantages, PROJECT ENGINEER The, Chemical engineering and, the design and, UNION CARBIDE BELGIUM...\n",
      "../data/txt\\KB_JB838_1968-07-19_01-00017.txt mentions these keywords: COMPAGNIE GENERALE CHIMIQUE, l’Agence Rossel sous, GENERALE CHIMIQUE recherche, BRUXELLES recherche Jeune, Faire offre manuscrite, TRES HAUT STANDING, situé Avemie Louis, BRUXELLES DEMANDE DESSINATEUR...\n",
      "../data/txt\\KB_JB838_1968-07-30_01-00012.txt mentions these keywords: seul Grand Prix, Grand Prix d’Autriche, Grands Prix restant, Prix de Belgique, championnat du monde...\n",
      "../data/txt\\KB_JB838_1968-08-03_01-00015.txt mentions these keywords: Emp Emp Emp, Gand Gand Gand, Gand Liège Liège, Gand Gand Liège, AOUT Tendance résistante, SNCB 59-69 SNCB, PRECOMPTE SNCB Suisse, bonne résistance fondamentale, PRECOMPTE Anvers 63-83, SNCB 57-72 SNCB, SNCB 62-82 SNCI, SNCB 56-70 SNCB, ACTIONS PRECOMPTE DEDUIT, CADG CADG CADG, Sub Nlgel Sub...\n",
      "../data/txt\\KB_JB838_1968-08-04_01-00012.txt mentions these keywords: Grand Prix d’Europe, Belgique Jacky Ickx, Ford Cortina Lotus, Quarts rie finale, rie Jacky Ickx, brumeux Grand Prix, d'un grand prix, grand prix d’Italie, SIMPLE MESSIEURS III, finale SIMPLE DAMES, Jacky Ickx obtient, Prix d'Europe Stewart...\n",
      "../data/txt\\KB_JB838_1968-08-11_01-00006.txt mentions these keywords: Balli décida qu’il, donnée Jean Macdonald, JEAN CENTRE AMBASSADOR, ENFANTS ADMIS VENDOME, Jean Macdonald intervint, Jean Macdonald surprit, JEAN POIRET MICHEL, FRANCIS JEAN POIRET, Louis de Funès, Enfants admis Grd...\n",
      "../data/txt\\KB_JB838_1968-08-14_01-00017.txt mentions these keywords: Faire offre manuscrite, bilingue Faire offre, DACTYLOS bilingues Faire, BRUXELLES engage EMPLOYE, IXE LIES Solbosch, dactylo bilingue Bonne, FAIRE OFFRE ECRITE, Quartier Louise Tél, SERVICE COMMERCIAL DACTYLO...\n",
      "../data/txt\\KB_JB838_1968-08-18_01-00024.txt mentions these keywords: EMPLOYE AYANT TERMINE, TERMINE LE CYCLE, INFERIEUR DES HUMANITES, HUMANITES OU NIVEAU, chaussée de Louvain, LOUVAIN 710-714 BRUXELLES, curriculum vitae complet, Faire offre manuscrite, BELGE DU COMMERCE, IMPORTANTE FIRME AUTOMOBILE, recherchons UN EMPLOYE...\n",
      "../data/txt\\KB_JB838_1968-08-20_01-00010.txt mentions these keywords: Monsieur Jean POELS, Monsieur Pierre BOONEN, Madame Jean POËLS, Monsieur et Madame, Jean POELS Administrateur-délégué, Madame Jean BOONEN, Madame Jean van, Madame Pierre BOONEN, avis tient lieu, décès de MONSIEUR, Madame Pierre van, MONSIEUR Jean Joseph, PIERRE BOONEN Président, POELS Administrateur-délégué décédé, Madame Guy BOONEN, ami monsieur PIERRE, décès de MADAME, Madame Jean MISSON, Guy BOONEN Monsieur, BOONEN Président Honoraire, Madame Myrtam BOONEN, Madame Guy van, Madame Jacques van, part du décès, Madame Etienne van, Madame Veuve Félix, Madame Edouard Corneille, Cathédrale Saint Michel, Jean van WASSENHOVE...\n",
      "../data/txt\\KB_JB838_1968-08-22_01-00020.txt mentions these keywords: peine d’y penser, d’acides gras poly, BASILIQUE Spl. app, FRANCS Spl. app, vaut la peine, UNIQUE Spl. app, QUARTIER BASILIQUE AUDERGHEM...\n",
      "../data/txt\\KB_JB838_1968-08-22_01-00021.txt mentions these keywords: Ecrire Agence Rossel, COMMERCIALE BRUXELLES CENTRE, Ifour JAPONAISE App, Porte Louise app, SOCIETE COMMERCIALE BRUXELLES, rue Américaine Bruxelles, travail Centre Bruxelle...\n",
      "../data/txt\\KB_JB838_1968-08-25_01-00002.txt mentions these keywords: président du Sénat, d’un petit pays, cours d’une réception...\n",
      "../data/txt\\KB_JB838_1968-09-05_01-00005.txt mentions these keywords: Foire de Gand...\n",
      "../data/txt\\KB_JB838_1968-09-13_01-00010.txt mentions these keywords: Entrainement Trophée Baron, Coupe de l’Avenir, Trophée Baron Henry, Entraînement Coupe Renault, Rik Van Looy, Baron de Villenfagne, Hollandais van Lennep, COUPE DE BELGIQUE, B-Ford Cortina Lotus, Henry de Villenfagne...\n",
      "../data/txt\\KB_JB838_1968-09-15_01-00022.txt mentions these keywords: VENDRE Terrains boisés...\n",
      "../data/txt\\KB_JB838_1968-09-22_01-00029.txt mentions these keywords: Ecrire Agence Rossel, offre Agence Rossel, BRUXELLES cherche EMPLOYE, Ecr Agence Rossel, PROMOTEURS POUR ANVERS, Faire offre Agence, Bruxelles cherche GARÇON, cherche SECRETAIRE bilingue, GERANT Faire offre...\n",
      "../data/txt\\KB_JB838_1968-09-25_01-00024.txt mentions these keywords: demande BON CHAUFFEUR...\n",
      "../data/txt\\KB_JB838_1968-09-26_01-00014.txt mentions these keywords: SNCB SNCB SNCB, SNCI SNCI SNCI, PRECOMPTE SNCB SUI, SNCB 66-78 SNCB, FNRS FNRS FNRS, IÎRES COURS COURS, Sub Nigel Sub, Nigel Sub Nigel, COURS PRECEO Ole, ACTIONS PRECOMPTE DEDUIT, IOUR COURS PRECEO, Angola Oie Angola...\n",
      "../data/txt\\KB_JB838_1968-09-27_01-00007.txt mentions these keywords: œuvres d’Albert Huybrechts, Jean Bourgeois n’avait, Mohammed Zahir Chah, Jean Bourgeois décida, Jean Bourgeois s’emploie, Jean Bourgeois quittèrent, Albert Huybrechts possédait, D'ŒUVRES d’Albert Huybrethls, souvenir d’Albert Huybrechts, CONCERT D'ŒUVRES d’Albert, jeune poésie française, mémoire d’Albert Huybrechts...\n",
      "../data/txt\\KB_JB838_1968-09-28_01-00031.txt mentions these keywords: FRANCO CHEZ VQUS, National Zaventem Halle, célèbres marques d'Europe, Aéroport National Zaventem, ans bonne prés...\n",
      "../data/txt\\KB_JB838_1968-09-28_01-00032.txt mentions these keywords: iiu ill iistaklii, BRUXELLES PIQUEUSES REPASSÈUR, iiiklu iaailiitiaut SAMEDI, rue Jean Stas, Maroquinerie PRINCESSE dem...\n",
      "../data/txt\\KB_JB838_1968-10-01_01-00006.txt mentions these keywords: Cle CLAUDE VOLTER, DEUXIEME CHAINE Petit...\n",
      "../data/txt\\KB_JB838_1968-10-11_01-00002.txt mentions these keywords: Conseil économique flamand, Conseil économique brabançon, Conseil économique wallon, d’un Conseil économique, Paul Vanden Boeynants...\n",
      "../data/txt\\KB_JB838_1968-10-11_01-00018.txt mentions these keywords: Bruxelles VENTE PUBLIQUE, tissus modernes blancs, Huissier de Justice, VENDRE BELLE VILLA, CENTRE Bruxelles faç, fermette bon état...\n",
      "../data/txt\\KB_JB838_1968-10-18_01-00010.txt mentions these keywords: Monsieur et Madame, MONSIEUR Emile ROLAND, Madame Jacques BECQUET, Madame Georges BECQUET, Madame Jean BOGAERTS, Monsieur Jacques BOGAERTS, MONSIEUR Maurice ANDRE, Madame André BECQUET, Madame Emile ROLAND, avis tient lieu, Madame Pierre DAMAS, Madame Etienne BECQUET, Madame Thomas BECQUET, avis tient Heu, Madame BOGAERTS née, Madame Pierre GUILLAUDEUX, Monsieur André BECQUET, Monsieur Laurent BOGAERTS, Madame Baudouin BECQUET, Madame Antoine BECQUET, MONSIEUR Thomas BECQUET, Madame Maurice ANDRE, Monsieur Etienne ROLAND, Monsieur Michel PAQUET, Monsieur Paul PAQUET, MADAME René PAQUET, décès de MONSIEUR, Madame André GUILLAUDEUX, veuve Georges SCHUCKEB...\n",
      "../data/txt\\KB_JB838_1968-10-19_01-00018.txt mentions these keywords: JEUX OLYMPIQUES Voir, OLYMPIQUES Voir détails, JEUX OLYMPIQUES Résumé, Programme rie musique, olympiques de Mexico, Petite musique matinale, OLYMPIQUES Résumé filmé...\n",
      "../data/txt\\KB_JB838_1968-10-19_01-00025.txt mentions these keywords: ...\n",
      "../data/txt\\KB_JB838_1968-10-19_01-00026.txt mentions these keywords: faut à Jean, raisons d’être fier, Gillette Super Silver, top european executives...\n",
      "../data/txt\\KB_JB838_1968-10-22_01-00004.txt mentions these keywords: Wglter Schirra quént, demeurant rue Paul, blessés graves Rue...\n",
      "../data/txt\\KB_JB838_1968-10-25_01-00005.txt mentions these keywords: ...\n",
      "../data/txt\\KB_JB838_1968-10-27_01-00018.txt mentions these keywords: Elisabeth Brozomka CAW, Marteii Toonder Pépé, JOSEPHINE par Elisabeth, CAW par Marteii, Pépé La Borgne, musique ancienne dan...\n",
      "../data/txt\\KB_JB838_1968-10-27_01-00036.txt mentions these keywords: einployâ i nter, Envoyer curriculum vitae, Ecrire Agence Roasel, cherche REPRESENTANT BILINGUE, Importante Banque Privée, DELEGUE COMMERCIAL bilingue, PATISSERIE dem VENDEUSE...\n",
      "../data/txt\\KB_JB838_1968-10-29_01-00024.txt mentions these keywords: DERNIERE EDITION PARUE, SOIR ixsom MARDI, vendeur LA DERNIERE, Nova Hair Hostess, Rue Américaine Tél, RUE TENBOSCH MERCEDES...\n",
      "../data/txt\\KB_JB838_1968-10-30_01-00005.txt mentions these keywords: D'EUROPE BANTRY BAY, D'ECLATEMENT D'EUROPE BANTRY, cité Bantry Bay, PORT D'ECLATEMENT D'EUROPE, Bantry Bay tonnés...\n",
      "../data/txt\\KB_JB838_1968-11-09_01-00004.txt mentions these keywords: cours d’une conférence, C’était vendredi matin, Times News Service, cours d’une soirée, qu’il s’agit d’une, rôle d’une police...\n",
      "../data/txt\\KB_JB838_1968-11-12_01-00002.txt mentions these keywords: soldat inconnu belge, soldat belge Inconnu, AVIATEURS L’allocution royale, cérémonie s’est déroulée...\n",
      "../data/txt\\KB_JB838_1968-11-16_01-00018.txt mentions these keywords: actions Banque Belge, Banque de Bruxelles, BANQUE BELGE D’AFRIQUE, tonnes ETAIN Bruxelles, millions de dollars, Dollar Dollar canad...\n",
      "../data/txt\\KB_JB838_1968-11-20_01-00001.txt mentions these keywords: Auguste De Winter, SUITE EN PAGE, VOIR LA SUITE...\n",
      "../data/txt\\KB_JB838_1968-11-23_01-00014.txt mentions these keywords: Monsieur et Madame, avis tient lieu, BRUXELLES Rue Haute, Madame Paul MOUREAU, MONSIEUR Paul MOUREAU, Madame André MOUREAU, Monsieur Georges HOLVOET, MADAME Jeanne BRU, AVIS TIENT UEU, Madame Léon MOUREAU, Monsieur Michel PAQUES, Madame Bernaud PAQUES, Madame Philippe HOLVOET, Couvin Administrateur délégué, rat Dqçtayr Dmwmu, MONSIEUR Georges JANSSENS, MONSIEUR André MATISSEN, Madame Heurt HONDERMARCQ, madame Agnès DEHOUSSE, MONSIEUR Edsard HONDERMARCQ, rue Max Rom, Madame Guillaume SPINNOY, MONSIEUR Guillaume SPINNOY...\n",
      "../data/txt\\KB_JB838_1968-11-28_01-00018.txt mentions these keywords: l'éblouissante lumière d'Espagne, Centra d'intérêt Touristique, d'intérêt Touristique National, NUEVA ANDALUCIA Monte, NUEVA ANDALUCIA Monsieur, vente NUEVA ANDALUCIA, beau terr. faç, terrain villa bung, ANDALUCIA Monte Esquinza, del Pueblo Andaluz, Plaza del Pueblo...\n",
      "../data/txt\\KB_JB838_1968-11-30_01-00029.txt mentions these keywords: ECRIRE AGENCE ROSSEL, HABITANT BRUXELLES Ecrire, Agence Rossel SOU, libre service militaire, prétentions AGENCE ROSSEL, GRANDS MAGASINS Bruxelles...\n",
      "../data/txt\\KB_JB838_1968-12-01_01-00022.txt mentions these keywords: Constructeur nus OUVRE, OUVRE SES CHMTIERS, VENDRE NAMUR TERRAIN, immobilière belgo-suisst Promoteur, terrains pour VILLAS, louer Rue Verte...\n",
      "../data/txt\\KB_JB838_1968-12-04_01-00018.txt mentions these keywords: villa Grd Bruxelles, vue mer App...\n",
      "../data/txt\\KB_JB838_1968-12-05_01-00026.txt mentions these keywords: ...\n",
      "../data/txt\\KB_JB838_1968-12-06_01-00011.txt mentions these keywords: finalement Nicolas Dewalque, Espagne Dewalque arrière, Dewalque arrière droit, Rîk Van Looy, C'est finalement Nicolas, CHAMPIONNATS Championnat d’Europe...\n",
      "../data/txt\\KB_JB838_1968-12-07_01-00018.txt mentions these keywords: NÉCROLOGIE Madame Maorie, Monsieur et Madame, MONSIEUR Albert RYCKEMAN, Madame André RYCKEMAN, Madame Joseph SCHREIBER, MADAME VEUVE Albert, Madame André SCHREIBER, Madame Georiea PIKON-DK, Madame Paul HERPELS, Madame Fernand SCHREIBER, Madame Henry SCHREIBER, Madame Maurice DECLERCQ, Madame Alfred VILAIN, Madame Léon BERCE, MONSIEUR Adolphe VILAIN, Madame Albert RYCKBMAK, MADAME VEUVE Victor, Madame Roger-Jacques RYCKEMAN, Madame François LECLERCQ, avis tient lieu, Monsieur Peter HERPELS, Georiea PIKON-DK EMET, Madame Jules VANOUDEWATER, Madame Jean-Marie BERCE, Madame René ACHTBN...\n",
      "../data/txt\\KB_JB838_1968-12-14_01-00027.txt mentions these keywords: SAMEDI M DECEMBRE, SOIR On Saturday, jours de Christmas, anglais qu’un anglais-anglais, ouverture du Pub, Grilled Lamb Chops, c’est un événement, Grilled Fresh Salnton, Bill of Fare, from the Tray, tea and dinner...\n",
      "../data/txt\\KB_JB838_1968-12-15_01-00007.txt mentions these keywords: Théâtre Sarah Bernhardt, culture NOTES PARISIENNES, C’est Jean Absil, théâtre Molière n’appa, grand nombre possible, forme d’une féerie...\n",
      "../data/txt\\KB_JB838_1968-12-17_01-00002.txt mentions these keywords: FREMI Elit PAGE, DEBUT FREMI Elit, VOIR DEBUT FREMI, Bruxelles s’est réuni, ville de Bruxelles, Conseil économique flamand, ministre De Saeger, ministre Van Slslande, nouvelle crise politique...\n",
      "../data/txt\\KB_JB838_1968-12-22_01-00033.txt mentions these keywords: libre service militaire, RUE VERHEYDEN BRUXELLES, demande OUVRIER BELGE, engage OUVRIER SPECIALISE, OUVRIER SPECIALISE Tél, SOCIETE engage Magasiniers, BRUXELLES demande d'urgence...\n",
      "../data/txt\\KB_JB838_1968-12-25_01-00010.txt mentions these keywords: MESAVENTURES DE CELESTE, CELESTE ET PLACIDE, occasion ou Réveillon, GSoucm LES MESAVENTURES, VEILLE DELA CELÀ, CACTUS OU SAHARA, sap sajosAiR sap, saJO.ipiiBa sap iuos, sap iuos suaippoaoia, xneuiius sap iuos, saq sajiBiuxBui sap, JOURS DE FÊTES, PERMIS J CONTRAVENTIONS, CONTRAVENTIONS LA VEILLE, CHOSE LES JOURS, INTERDIRE LES PRALINES, PRALINES AUX LIQUEURS, aun ’saaSuoid saj...\n"
     ]
    }
   ],
   "source": [
    "for f in sorted(files)[:100]:\n",
    "    text = open(f, 'r', encoding=\"utf-8\").read()\n",
    "    keywords = kw_extractor.extract_keywords(text)\n",
    "    kept = []\n",
    "    for kw, score in keywords:\n",
    "        words = kw.split()\n",
    "        if len(words) == 3:\n",
    "            kept.append(kw)\n",
    "    print(f\"{f} mentions these keywords: {', '.join(kept)}...\")"
   ]
  }
 ],
 "metadata": {
  "kernelspec": {
   "display_name": "Python 3.10.7 ('tac_venv': venv)",
   "language": "python",
   "name": "python3"
  },
  "language_info": {
   "codemirror_mode": {
    "name": "ipython",
    "version": 3
   },
   "file_extension": ".py",
   "mimetype": "text/x-python",
   "name": "python",
   "nbconvert_exporter": "python",
   "pygments_lexer": "ipython3",
   "version": "3.10.7"
  },
  "vscode": {
   "interpreter": {
    "hash": "bf1c0e32efbc1b0a30fa46d6ab60b25f74a78c177210c206f5ce854a430d1ba2"
   }
  }
 },
 "nbformat": 4,
 "nbformat_minor": 4
}
