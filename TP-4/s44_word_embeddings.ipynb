{
 "cells": [
  {
   "cell_type": "markdown",
   "metadata": {},
   "source": [
    "# Word Embeddings : le modèle Word2Vec"
   ]
  },
  {
   "cell_type": "markdown",
   "metadata": {},
   "source": [
    "## Imports"
   ]
  },
  {
   "cell_type": "code",
   "execution_count": 1,
   "metadata": {},
   "outputs": [],
   "source": [
    "import sys\n",
    "\n",
    "from gensim.models.phrases import Phrases, Phraser\n",
    "from gensim.models import Word2Vec\n",
    "\n",
    "import nltk\n",
    "from nltk.tokenize import wordpunct_tokenize\n",
    "from unidecode import unidecode"
   ]
  },
  {
   "cell_type": "markdown",
   "metadata": {},
   "source": [
    "## Chargement et traitement des phrases du corpus"
   ]
  },
  {
   "cell_type": "markdown",
   "metadata": {},
   "source": [
    "### Création d'un objet qui *streame* les lignes d'un fichier pour économiser de la RAM"
   ]
  },
  {
   "cell_type": "code",
   "execution_count": 2,
   "metadata": {},
   "outputs": [],
   "source": [
    "class MySentences(object):\n",
    "    \"\"\"Tokenize and Lemmatize sentences\"\"\"\n",
    "    def __init__(self, filename):\n",
    "        self.filename = filename\n",
    "\n",
    "    def __iter__(self):\n",
    "        for line in open(self.filename, encoding='utf-8', errors=\"backslashreplace\"):\n",
    "            yield [unidecode(w.lower()) for w in wordpunct_tokenize(line)]"
   ]
  },
  {
   "cell_type": "code",
   "execution_count": 3,
   "metadata": {},
   "outputs": [],
   "source": [
    "infile = f\"../data/sents.txt\"\n",
    "sentences = MySentences(infile)"
   ]
  },
  {
   "cell_type": "markdown",
   "metadata": {},
   "source": [
    "### Détection des bigrams\n",
    "\n",
    "Article intéressant sur le sujet : https://towardsdatascience.com/word2vec-for-phrases-learning-embeddings-for-more-than-one-word-727b6cf723cf"
   ]
  },
  {
   "cell_type": "code",
   "execution_count": 4,
   "metadata": {},
   "outputs": [],
   "source": [
    "bigram_phrases = Phrases(sentences)"
   ]
  },
  {
   "cell_type": "markdown",
   "metadata": {},
   "source": [
    "L'object `phrases` peut être vu comme un large dictionnaire d'expressions multi-mots associées à un score, le *PMI-like scoring*. Ce dictionnaire est construit par un apprentissage sur base d'exemples.\n",
    "Voir les références ci-dessous :\n",
    "- https://arxiv.org/abs/1310.4546\n",
    "- https://en.wikipedia.org/wiki/Pointwise_mutual_information"
   ]
  },
  {
   "cell_type": "code",
   "execution_count": 5,
   "metadata": {},
   "outputs": [
    {
     "data": {
      "text/plain": [
       "dict"
      ]
     },
     "execution_count": 5,
     "metadata": {},
     "output_type": "execute_result"
    }
   ],
   "source": [
    "type(bigram_phrases.vocab)"
   ]
  },
  {
   "cell_type": "markdown",
   "metadata": {},
   "source": [
    "Il contient de nombreuses clés qui sont autant de termes observés dans le corpus"
   ]
  },
  {
   "cell_type": "code",
   "execution_count": 6,
   "metadata": {},
   "outputs": [
    {
     "data": {
      "text/plain": [
       "1125226"
      ]
     },
     "execution_count": 6,
     "metadata": {},
     "output_type": "execute_result"
    }
   ],
   "source": [
    "len(bigram_phrases.vocab.keys())"
   ]
  },
  {
   "cell_type": "markdown",
   "metadata": {},
   "source": [
    "Prenons une clé au hasard :"
   ]
  },
  {
   "cell_type": "code",
   "execution_count": 7,
   "metadata": {},
   "outputs": [
    {
     "name": "stdout",
     "output_type": "stream",
     "text": [
      "editions_:\n"
     ]
    }
   ],
   "source": [
    "key_= list(bigram_phrases.vocab.keys())[200]\n",
    "print(key_)"
   ]
  },
  {
   "cell_type": "markdown",
   "metadata": {},
   "source": [
    "Le dictionnaire indique le score de cette coocurrence :"
   ]
  },
  {
   "cell_type": "code",
   "execution_count": 8,
   "metadata": {},
   "outputs": [
    {
     "data": {
      "text/plain": [
       "131"
      ]
     },
     "execution_count": 8,
     "metadata": {},
     "output_type": "execute_result"
    }
   ],
   "source": [
    "bigram_phrases.vocab[key_]"
   ]
  },
  {
   "cell_type": "markdown",
   "metadata": {},
   "source": [
    "Lorsque l'instance de `Phrases` a été entraînée, elle peut concaténer les bigrams dans les phrases lorsque c'est pertinent."
   ]
  },
  {
   "cell_type": "markdown",
   "metadata": {},
   "source": [
    "### Conversion des `Phrases` en objet `Phraser`\n",
    "\n",
    "`Phraser` est un alias pour `gensim.models.phrases.FrozenPhrases`, voir ici https://radimrehurek.com/gensim/models/phrases.html.\n",
    "\n",
    "Le `Phraser` est une version *light* du `Phrases`, plus optimale pour transformer les phrases en concaténant les bigrams."
   ]
  },
  {
   "cell_type": "code",
   "execution_count": 9,
   "metadata": {},
   "outputs": [],
   "source": [
    "bigram_phraser = Phraser(phrases_model=bigram_phrases)"
   ]
  },
  {
   "cell_type": "markdown",
   "metadata": {},
   "source": [
    "Le `Phraser` est un objet qui convertit certains unigrams d'une liste en bigrams lorsqu'ils ont été identifiés comme pertinents."
   ]
  },
  {
   "cell_type": "markdown",
   "metadata": {},
   "source": [
    "### Extraction des trigrams"
   ]
  },
  {
   "cell_type": "markdown",
   "metadata": {},
   "source": [
    "Nous répétons l'opération en envoyant cette fois la liste de bigrams afin d'extraire les trigrams."
   ]
  },
  {
   "cell_type": "code",
   "execution_count": 10,
   "metadata": {},
   "outputs": [],
   "source": [
    "trigram_phrases = Phrases(bigram_phraser[sentences])"
   ]
  },
  {
   "cell_type": "code",
   "execution_count": 11,
   "metadata": {},
   "outputs": [],
   "source": [
    "trigram_phraser = Phraser(phrases_model=trigram_phrases)"
   ]
  },
  {
   "cell_type": "markdown",
   "metadata": {},
   "source": [
    "### Création d'un corpus d'unigrams, bigrams, trigrams"
   ]
  },
  {
   "cell_type": "code",
   "execution_count": 12,
   "metadata": {},
   "outputs": [],
   "source": [
    "corpus = list(trigram_phraser[bigram_phraser[sentences]])"
   ]
  },
  {
   "cell_type": "code",
   "execution_count": 13,
   "metadata": {},
   "outputs": [
    {
     "name": "stdout",
     "output_type": "stream",
     "text": [
      "[['a', \"*'\", 'cw', \"'-\", 'tm', 'p', '^', '*\\'*\"', \"'\", ';', '\"*#', \"'*\", '!'], [\"'\", '.'], [\"'-#)#?\"], [\"'\", '*>.'], [\"*/'\", \"*'\", \"'\", ':', \"'\", \"'*'''##'.\", 'h', ';', '5j', \";#'*\", 'y', 'i', \"('\", \"'\", ',', 'v', \"'\", '*:', ':', \"'\", \"'-\", \"'\", '#', \"'\", '*\\'#\"*\\'', '\\'\"\\'\\'', '#-', '#', '*', '^^#', '1', '\"', ';\"', \"*'\", '>>', 's', '.', 'iiifw', 'v', '.', ',', 'tf', \"'^\", '-', '1', \"--'\", '\\'--\"', '*#', \"'*\", '#.'], ['c', '-\"', 'r', '^>>', 'ywwiis', '\".'], ['#', '-', \"'\", 'rfytjfrtfiyprfc', '!', 'kur7', '*', 'vn', '?,', '16_pages', '-', '30', 'c', 'mes', '}?'], ['#', '\\\\', '<', 'en', 'belgique', 'et', 'allemagne', 'occupee', ')', 'ja', 'l', 'l', \"'\", 'etranger', 't', '3s', 'centimes', '*/', 'm', 'juin', '1929', ';', 'edit', '.'], ['****', '*_*', '*_*', 'a', '14_b', '.'], ['1', '*', '4_editions', ':', \"'\", 'ii', 'mit', '\"', '*_edit', ',', 'de', 'notl', '.'], [';;#', 'abonnements', '!'], ['agglomeration_bruxelloise', '.<<', '.._..', '(', 'par', 'mon', '.'], ['7', '.', '50', \"[;#/>',\", '\"', '**', \"'\", '.,', '..'], ['i', 'irowmon', '22', '.', '00', '*', 'ptovinca', 'i', 'p', 'f', '?'], ['ta', 'tf', '*>>', '?'], [\".'.\"], ['.', 'a', 'six', 'moii', '.', '.', '42', '.', '50', ':', ',', 'nenaee', '\\\\', ',-', 'otnm', '*', 'hfaila', '^', ',.]'], ['unan', \"'.\"], ['82', '.', '50', \"'\", '4', 'c6ogo', 'belge', ',.'], ['.._..', '...', ',..*', '...', 'un', '\"', '.'], ['100', '.', '00', 'v', '.-', '.'], [\"'\", 'etranger', '>', 'prix_suivant', 'convention', '>>', 'porta', '!>>', '(', 'redactions', '239', '.', '71', 'et', '239', '.', '72', '^', 'teije', '?', 'hones', '^\"<<', 'is', '<<', ',', 'i', \"''\", 'l0n', \"'\", '239', '.', '76', 'et', '239177', '(', 'imprimees', '239', '.<<', '5', 'compte_cheque', '>>', 'postaux_n_*_5675', 'redaction_t', 'place', 'de', 'louvain', ',', '23', 'administration', 's', 'place', 'de', '.'], ['lcuvaio', ',', '29', 'annonce', '*:', 'agence', 'roaael', ',', 'r', '.', 'royale', ',', '122_#', ',', '.'], ['1', '>>', 'c', 'chaque_jour', 'de', '12', 'a', '16_pages', \".'\"], ['salle', 'de', 'depeches_:', \"'\", 'rue_royale', '^', '124', ',', 'bruxelles', 'j', '-', 'x', \"'\", '#_bureaux', 'et', 'fila', 'speciaux', ':', '\"##', '-', '--', '*##', 'paris', ':', '11', ',', 'place', 'de', 'la', 'bourse', ',', '11', \"'\", 'londres', ':', '.', '69', ',', 'fleef', 'street', ',', 'e', '.', 'c', '.', '4', 'tribune_libre', 'ce', 'que', 'j', \"'\", 'en', 'pense', '?'], ['.-', 'que', 'penser', 'de', 'cette', 'reoente', 'consultation_electorale', '?'], ['au_moment', 'ou', 'j', \"'\", 'ecris', ',', 'les', '.', 'chiffres', 'ne', 'eont', 'pas', '.', 'encore', 'completement', 'precises', ',', ',', \"'\", 'mais', 'il', '.', 'semble_bien', 'qu', \"'\", 'a', 'ne', 'considerer', 'que', 'l', \"'\", 'ensemble', ',', 'les', 'electeurs', 'peuvent_etre', '.'], ['-', '\"', 'repartis', ',', 'en', 'deux', ',,', 'groupes', ',', 'd', \"'\", 'importance', '.'], ['egale', ',', 'ou', 'a', 'peu_pres', ':.'], ['ceux_qui', 'sont', 'contents', \"'\", 'du', \"'\", 'gouvernement_actuel', ',', 'et', 'ceux', ',', 'qulvne', ',', 'le', '#', 'sont', 'pas', '.'], ['(', '1', ')', '.'], ['v', '^', 'dans', 'le', 'premier', 'groupe', '(', 'conservateur', '),', '.'], [\"'-\", 'figurent', 'les', ',', 'liberaux', 'qui', 'regagnent', 'la', '-', 'v', 'moitie', 'des', \"'\", 'situations', 'perdues', 'en_1925', '.'], ['us', '#', 'y', ';', 'chantent', 'naturellement', 'victoire', ',', 'u', '.', 'leur', ',', 'faut', \"'\", 'pour', 'tant', 'bien', 'constater_que', 'ce', 'qu', \"'\", 'ils', '.'], ['.', 'aoqeptent', ',', 'pour', 'en', 'arriver', 'la', ',', 'c', \"'\", 'est', 'sinon', \"'\", 'ia', 'sujeeon', ',', 'tout', 'au_moins', 'la', 'fusion', ',', 'a', '.?', 'l', \"'\", 'egesxi', 'des', '.', 'clericaux', '--', 'ce', 'qui', 'est', 'bien', ',', 'on', \"'\", 'en', 'conviendra', ',', 'le', 'contre', '-', 'pied', 'du', 'libera', '-', ';', 'usine', 'traditionnel', '.'], ['par', 'la', ',', 'le', 'parti_liberal', ';', 'gagne', 'des', 'sieges', ',', 'mais', 'il', 'perd', 'une_partie', '*', 'de', 'son_ame', '.'], ['a', 'la', 'prochaine', 'election', ',', 'ou', 'a', '.', 'la', 'suivante', ',', 'apres', 'quelques', 'aimees', 'de', 'gouver_-', ':', 'nement', 'en_commun', ',', 'ils_feront', 'avec', 'les', \"'\", 'catholiques', 'des', 'listes', 'communes', ',', 'a', 'mesure', 'que', ',', 'd', \"'\", 'une', 'part', ',', 'les', 'catholiques', 'se', \"'\", 'detacheront', 'de', 'leurs', 'elements', 'hetero', '-', '-', 'gehes', '(', 'fascistes', ',', 'democrates', ',', 'frontistes', ',', '.'], ['etc', '.'], ['),', '-', 'que', 'd', \"'\", 'autre', \"'\", 'part', ',', 'les', 'socialistes', '--', '*', 'apparaitront', 'comme', 'le', 'seul', 'ennemi', 'verl', '-', ':', 'table', '.'], ['ainsi', 'se_realisera', 'definitivement', 'le', 'parti', 'de', 'l', \"'\", 'ordre', '--', 'du', 'grand', 'ordre', 'parasitaire', 'et', 'conservateur', ',', 'reve', 'par', 'certains', '.'], ['ce', \"'\", 'centre', 'peut', '--', 's', \"'\", 'il', 'sait', 'avoir', \"'\", 'l', \"'\", 'habl', '-', 'lete', 'd', \"'\", 'une', 'extreme', 'moderation', 'en_matiere', 'religieuse', 'et', 'de', ',', 'quelques', 'concessions', 'op', '-', '.'], ['portunes', 'en_matiere', 'sociale', '--', 'fournir', 'un', 'gouverriement', 'tolerable', 'pendant', 'quelques_annees', '.'], ['mais', 'l', \"'\", 'observateur', 'reconnaitra', '-', 'que', 'nous_allons', 'ainsi', 'vers', 'la', 'fin', 'des', 'deux', '.'], ['grands_partis', 'historiques', ',', 'le', 'liberal', 'disparaissant', 'le', 'premier', ',', 'et', 'devant', 'abandonner', \"'-\", 'jusqu', \"'\", 'a', 'son_nom', '.'], [':', ';', \"'\", 'une', '(', 'notabilite', 'du_parti_liberal', 'aurait', \"'\", 'dit', ';', 'au', '?'], ['cours', 'de', 'cette', 'campagne', ',', 'ootte', 'parole', 'profonde', 'qul', 'deviendra', 'de', 'plus', 'en', 'plus', '/', 'la', 'verite', ':_<<', 'l', \"'\", 'important', 'n', \"'\", 'est', 'pas', ',', 'de', '/', 'voter', 'pour', 'nous', ',', 'ou', 'pour', 'les', 'catholiques', ',', 'mais', 'contre', 'les', 'socialistes', '>.'], [',', ';', '-', 'mais', ',', 'en_somme', ',', 'ce', 'gouvernement', 'con_-', \"#'\", '<<^', 'rvateur', ',', 's', \"'\", 'il', 'a', 'une', 'majorite', 'dans', 'le', '^', 'parlement', ',', 'n', \"'\", 'en', 'a', 'point', 'de', 'reelle', 'dans', 'le', '#-', 'pays', '(', '1', ').'], ['additionne', '^', 'donc', 'toutes', '.'], ['jes', 'vplx', '.', 'de', 'see', 'adversairesl', 'h', 'est_vrai', 'que', 'si', 'on_peut', 'les', 'additionner', 'sur', 'le', 'papier', ',', 'il', '.'], ['.', 'est_impossible', 'de', 'les', 'additionner', 'dans', 'les', \"'\", 'jgftdta', '.'], ['et', 'le', 'plus', 'olair', 'de', 'la', 'force', 'eonser', '-', '#.^', 'atrice', 'est', 'l', \"'\", 'eparpillement', 'des', 'forces', \".'\", 'd', \"'\", 'pibosltion', '.'], ['parmi_celles', '-_ci', ',', 'la', 'plus', '.'], ['porniikuso', ',', 'la', 'plus_importante', ',', 'la', 'plus', 'i', 'ndisciplinee', ',', 'celle', 'a', 'laquelle', 'est', 'reserve', \"'\", '-', 'l', \"'\", 'avenir', \",'\", 'est', 'la', 'socialiste', '.'], ['seule', 'elle', 'est', 'capable', 'd', \"'\", 'assurer', 'un', 'srnuverrw', '*', 'roont', 'regulier', ',', 'dans', 'quelques_annees', '.'], ['elle', 'est', 'deja', '-', 'plus', 'du', 'tiers', ';', 'il', 'lui', 'suffira', 'de', 'devenir', \"'\", 'p', \"^'^^\", 'us', \"-'\", 'derl', '(r),', 'moitie', \".'\"], ['-', 'j', ',:', 'les', 'autres', ',', 'bien', 'que', 'parlementaire', '-', ';', 'ment', 'inexistantes', ',', 'restent', 'redoutable', ';.'], ['u', '.'], [\"'\", 'ne', ';', 'faut', \"'\", 'pas', 'que', 'l', \"'\", 'echec', 'communiste', 'fasse', 'f', \"'\", 'illusion', ';', 'ce', 'paiti', 'reste', 'relativement', 'important', 'dans', 'lo', 'pays', ',', 'et', 's', \"'\", 'il', 'ri', \"'\", 'avait', 'pas', 'ete', 'sottement', 'dechire', ',', 's', \"'\", 'il', 'avait_ete', 'mieux', 'conduit', 'et', 'mieux', 'organise', ',', 'il_aimait', '-', 'compte', 'des', 'succes', '(', '2', ').'], ['quant_aux', 'frontistes', ',', 'l', \"'\", 'election', 'revele', 'que', 'l', \"'\", 'irritation', 'flamande', 'n', \"'\", 'est', 'pas', 'specialisee', 'a', '-', 'anvers', '.'], ['l', \"'\", 'incomprehension', 'gouvernementale', 'a', 'l', \"'\", 'egard', ',', 'de', 'ce', 'mysticisme', 'a', 'toujours', 'ete', 'telle_qu', \"'\", 'il', 'serait', 'temeraire', 'd', \"'\", 'esperer', 'de', 'ce', 'cote', 'une', 'solu', '-', '(', 'iv', ':', 'electeur', '*', ':', '2', '.', '497', '.', '446', ':', 'gouvernementaux', '(', 'catholiques', 'et', 'liberaux', ')', ':', '1', ',', '185', ',', '269', ';', 'non', 'gouvernementaux', ':', '1', ',', '312', '.', '177', '.'], ['\"(', '2', '>', 'd', \"'\", 'apres', 'un', 'calcul', 'fait', 'sur', 'les', 'chiffres', 'des', 'journaux', ',', 'les', \"'\", 'communiste', ')', 'ont', 'recueilli', 'plus', 'de', '48', '.', '000_voix', ',', 'ce', 'qui', 'aurait_pu', 'leu', ';', 'valoir', 'quatre', '#', 'ou', 'cinq', 'deputes', ',', 'si', 'lour', 'procedure', 'avait_ete', 'moins', 'maladroite', '.'], ['cos', '48', '.', '000', '#', 'voix', ',', 'prises', 'dans', 'la_classe_ouvriere', 'et', 'perdues', 'pour', 'elle', \",'\", 'ex_-', '...', 'pllquent', 'pour', 'une', 'bonno', 'part', 'le', 'recul', 'socialiste', '.'], ['tioh', '.'], ['et', 'voila', 'deux_groupes', 'bien', 'inquietants', '.'], ['ajoutons', '-', 'y', 'les', 'gens', 'd', \"'\", 'eupen', '-', 'mal', '-', 'medy', '!'], ['ces', '<<', 'freres', 'redimes', '>>', 'qui_viennent', 'de', 'nous', 'signifier', 'clairement', 'qu', \"'\", 'apres', 'dix_ans', ',', 'ils', 'ne', 'tiennent', 'pas', 'a', 'rester', 'belges', '.'], ['troisieme', 'cause', 'd', \"'\", 'ennuis', 'possibles', '.'], ['tout_cela', 'est', 'assez', 'sombre', 'et', 'la', 'tache', 'du', 'gouvernement', 'de', 'demain', 'sera', 'delicate', '.'], ['la', 'celebration', 'du_centenaire', 'de', 'l', \"'\", 'independance_nationale', 's', \"'\", 'annonce', 'comme', 'des', 'festivites', 'de', 'parade', ',', 'strictement', 'officielles', ',', 'et', 'semees', 'peut_-', 'etre', 'd', \"'\", 'incidents', 'penibles', '.'], ['nous_allons', 'attirer', 'l', \"'\", 'attention', 'de', 'l', \"'\", 'etranger', ',', 'mais', 'pas', 'comme', 'il', 'l', \"'\", 'eut_fallu', '.'], ['quant', 'a', 'nous', ',', 'socialistes', ',', 'nous_restons', 'assez', \"'\", 'forts', ':', 'pour', 'pouvoir', 'attendre', 'notre', 'heure', '.'], ['un', 'echec', ',', 'deux', 'echecs', ',', 'dix', 'echecs', ',', 'ne', 'nous', 'decourageront', 'pas', '.'], ['devenir', 'les', 'maitres', 'parlementaires', 'trop_vite', ',', 'sans_avoir', 'avec', 'nous', 'la', 'majorite', 'du', 'pays', ',', 'serait', 'une', 'experience', 'desastreuse', '.'], ['nous', 'ne_devons', 'pas', 'devoir', 'notre', 'suoces', 'a', 'la', 'surprise', '.'], ['nous', ',', 'no', 'devons_pas', '-', 'nous', 'dissimuler', 'que', 'les', 'puissances', 'd', \"'\", 'argent', 'ne', 'seront', 'pas', 'vaincues', 'en', 'un', 'jour', '.'], ['elles_ont', 'fait', 'en', '1025', ',', 'une', 'ruee', 'sauvage', 'contre', 'le', 'ministere', 'poullet', ';', 'elles_viennent', \"'\", 'ds', 'recommencer', 'la', 'meme', 'manoeuvra', 'en_1929', '.'], ['les', 'semeurs', 'd', \"'\", 'inquietude', 'engrangent', 'toujours', 'des', 'recoltes', '.'], ['mais', ',', 'malgre', 'ces', 'campagnes', 'sans', 'mesure', 'ni', 'loyaiite', ',', 'la', 'tres', 'grande_majorite', 'de', 'nos', '.'], ['troupes', 'nous', 'sont_restees', 'fideles', ';', 'et', ',', 'quand', 'nous', 'nous', 'rappelons', 'toutes', 'nos', 'conquetes', 'depuis', 'l', \"'\", 'armistice', ',', 'nous', 'nous', 'consolons', 'aisement', 'de', 'la', 'defection', 'de', 'quelques', 'electeurs', 'indecis', 'ou', '_', 'trembleure', '.'], ['s', \"'\", 'il_fallait', 'rechercher', 'les', 'causes', 'de', 'cet', 'insucces', 'relatif', ',', '--', 'pour', 'autant', 'qu', \"'\", 'on_puisse', 'demeler', 'les', 'obscures', 'raisons', 'des', 'suffrages', 'secrets', '--', 'je', 'les', 'trouverais', 'd', \"'\", 'une', 'part', 'dans', 'oet', 'epouvantail', 'financier', ',', 'd', \"'\", 'autre_part', 'dans', 'le', 'fait', 'que', 'notre', 'parti', 's', \"'\", 'est', 'trop', 'soucie', 'd', \"'\", 'apparaltre', 'comme', 'un', 'parti_gouvernemental', ',', 'je', 'm', \"'\", 'explique', ':', 'en_1925', ',', 'nous_avons', 'accepte', 'etourdiment', 'la', 'succession', 'du', 'cabinet_theunis', ';', 'en_1926', ',', 'nous_avons', 'mis', 'peut_-', 'etre', 'trop', 'd', \"'\", 'empressement', 'a', 'repondre', 'a', 'l', \"'\", 'appel', 'de', 'm', '.', 'francqai', '.'], ['les', 'deux_fois', ',', 'nous', 'cedions', 'a', 'oe', 'qui', 'paraissait', 'l', \"'\", 'interet_national', ',', 'et', 'je_ne', 'le', 'deplore', 'pas', '.'], ['mais', 'l', \"'\", 'interet_national', ',', 'c', \"'\", 'etait', 'aussi', 'ot', 'surtout', 'l', \"'\", 'intorot', 'bourgeois', '.'], ['en_acceptant', '.', 'de', 'nous', 'y', 'associer', ',', 'nous_etions', 'en', 'droitme', 'compter_sur', 'une_certaine', 'reconnaissance', 'et', 'de', 'ne', 'pas', 'etre', 'dupes', 'de', 'nos_sentiments', 'de', 'bons_citoyens', ';', 'au_lieu', 'de', 'cela', ',', 'notre', 'intervention', 'a', 'ete', 'l', \"'\", 'occasion', 'de', 'nous', 'endosser', 'toutes_les', 'resjxm', '-', 'sabllites', '.'], ['dette', 'ingratitude', 'ne_doit', 'pas', 'etre', 'oubliee', ',', 'ot', 'lorsque', 'messieurs', 'les', 'conservateur', 'so', 'seront_mis', 'dans', 'un', 'mauvais', 'cas', ',', 'o', 'sera', 'bon', 'desormais', 'de', 'leur', 'refuser', 'toute', 'assistance', '.'], ['en', 'oqtre', \".'\"], ['oette', '^', 'collaboration', ',', ';', 'qul', '/', 'ne', 'nousva', \"'\", 'u', '^', 'rauouhe', '^', 'sjraptithie', \"'\", 'ch', \"'\", 'ezlest', \"'\", 'ele', \"-'*\", 'ments', 'bourgeois', 'ou', 'flottants', ',', 'afialblit', 'l', \"'\", 'elan', 'de', 'nos', 'fideles', '.'], ['elle', 'diminue', 'ce', 'mysticisme', 'qui', 'est', 'necessaire', '--', 'plus', 'que', 'des', 'satisfactions', 'locales', '--', 'a', 'tout', 'grand', 'parti', '.'], ['il', 'est', 'vain', ',', 'en', 'pareil', 'domaine', ',', 'd', \"'\", 'etre', 'conciliant', 'et', 'modere', '.'], ['plus', 'nous_serons', 'intransigeants', ',', 'mieux', 'cela', 'vaudra', '.'], ['point', 'n', \"'\", 'est', 'besoin', 'de', 'paroles', 'violentes', ',', 'ni', 'de', 'surencheres', 'demagogiques', '.'], ['mais', 'l', \"'\", 'affirmation', 'constante', ',', 'inflexible', ',', 'de', 'notre', 'foi', 'en', 'un', 'monde', 'meilleur', ',', 'en', 'la', 'suprematie', 'du_travail', 'sur', 'l', \"'\", 'argent', ',', 'dans', 'le', 'bien', '-', 'etre', 'de', 'tous', 'a', 'preferer', 'a', 'celui', 'de', 'quelques', 'privilegies', ',', 'nous', 'fera', 'une', 'ascension', 'peut_-', 'etre', 'un_peu', 'plus', 'lente', ',', 'mais', 'elle', 'sera', 'plus_sure', '.'], ['pour', 'le', 'moment', ',', 'nous_restons', 'l', \"'\", 'opposition', ',', 'unie', ',', 'vigilante', 'et', 'bien', 'decidee', 'a', 'profiter', '-', 'des', 'embarras', 'qui', 'attendent', 'le', 'gouvernement', 'conservateur', '.'], ['jules_destree', '.'], ['jusqu', \"'\", 'a', 'la_derniere_minute', ',', 'pour_chacune', 'de_ses_editions', ',', 'le_soir_recoit', 'par_telegraphe', ',', 'dans_ses_bureaux', ',', 'les', 'nouvelles', 'parlementaire', '!,', 'financieres_et_sportives', 'du', 'pays', 'et', 'de', ',', 'l', \"'\", 'etranger', '.'], ['quelle_que', 'soit', 'l', \"'\", 'heure', '*', 'a', 'j', 'laquelle_vous_achetez', 'le', ',', 'soir', ',', 'reclamez_au_vendeur', 'la_derniere_edition', 'parue', '.'], ['la', 'vie_sociale', 'une', 'page', '^', 'histoire_economique', ',', 'et', 'sociale', 'la', 'crise', 'des', 'fia', '::', 'cires', '(', '1s45', '-', '1850', ')', 'elles_sont', 'sonnees', 'par', 'des', 'etudiantes', 'au_cours', 'de', 'ia', \"'\", 'ceremonie', 'd', \"'\", 'inauguration', 'du', '<<', 'pantheon', '>>', 'de', 'l', \"'\", 'universite', ',', 'de', ',', 'nqw', '-_york', '.'], ['petite_gazette', 'le', 'mois', 'nouveau', 'juin', 'est', 'le', 'mois', 'de', 'l', \"'\", 'ete', ',', 'des', 'cerises', ',', 'des', 'fraises', '.'], ['au_nom', 'des', 'voyageurs', 'de', 'com_-', 'merce', ',', 'nous', 'satons', 'gre', 'aux', 'messieurs', 'de', '~', 'la', 'societe_nationale_des_chemins', 'de', 'fer', '.'], ['qui', 'ne', 'chauffent', 'plus', 'les', 'trains', 'et', 'nous', 'saurions', 'gre', ',', 'au_nom', 'de', 'tout', 'le', 'monde', ',', ':', 'aux', 'messieurs', 'des', 'tramways', 'si', 'tontes', 'les', '*', 'voitures', 'etaient', 'ouvertes', 'et', 'si', ',', 'dans', 'les', 'voitures', 'closes', ',', 'les', 'receveurs', 'voulaient', 'bien', '..', 'faire', 'glisser', 'les', 'vitres', 'et', 'creer', 'de', 'salubres', ',', 'courants', 'd', \"'\", 'air', '.'], ['les', 'nobles', 'etrangers', ',', 'toujours', 'laids', ',', 'animeront', 'la', 'rue', ',', 'iront', 'user', 'de', '\\\\', 'leurs', 'regards', 'le', 'bronze', 'du', 'jeune_homme', 'de', 'la', 'rue', 'de', 'l', \"'\", 'etuve', '.']]\n"
     ]
    }
   ],
   "source": [
    "print(corpus[:100])"
   ]
  },
  {
   "cell_type": "markdown",
   "metadata": {},
   "source": [
    "## Entrainement d'un modèle Word2Vec sur ce corpus"
   ]
  },
  {
   "cell_type": "code",
   "execution_count": 14,
   "metadata": {},
   "outputs": [
    {
     "name": "stdout",
     "output_type": "stream",
     "text": [
      "CPU times: total: 2.67 s\n",
      "Wall time: 7.09 s\n"
     ]
    }
   ],
   "source": [
    "%%time\n",
    "model = Word2Vec(\n",
    "    corpus, # On passe le corpus de ngrams que nous venons de créer\n",
    "    vector_size=32, # Le nombre de dimensions dans lesquelles le contexte des mots devra être réduit, aka. vector_size\n",
    "    window=5, # La taille du \"contexte\", ici 5 mots avant et après le mot observé\n",
    "    min_count=5, # On ignore les mots qui n'apparaissent pas au moins 5 fois dans le corpus\n",
    "    workers=4, # Permet de paralléliser l'entraînement du modèle en 4 threads\n",
    "    epochs=5 # Nombre d'itérations du réseau de neurones sur le jeu de données pour ajuster les paramètres avec la descente de gradient, aka. epochs.\n",
    ")"
   ]
  },
  {
   "cell_type": "markdown",
   "metadata": {},
   "source": [
    "#### Remarque\n",
    "\n",
    "Vous voyez ici que l'entrainement du modèle est parallélisé (sur 4 workers).\n",
    "\n",
    "Lors qu'on parallélise l'entrainement du modèle, 4 modèles \"séparés\" sont entrainés sur environ un quart des phrases.\n",
    "\n",
    "Ensuite, les résultats sont agrégés pour ne plus faire qu'un seul modèle.\n",
    "\n",
    "On ne peut prédire quel worker aura quelle phrase, car il y a des aléas lors de la parallélisation (p. ex. un worker qui serait plus lent, etc.).\n",
    "\n",
    "Du coup, les valeurs peuvent varier légèrement d'un entrainement à l'autre.\n",
    "\n",
    "Mais, globalement, les résultats restent cohérents."
   ]
  },
  {
   "cell_type": "markdown",
   "metadata": {},
   "source": [
    "### Sauver le modèle dans un fichier"
   ]
  },
  {
   "cell_type": "code",
   "execution_count": 15,
   "metadata": {},
   "outputs": [],
   "source": [
    "outfile = f\"../data/newspapers.model\"\n",
    "model.save(outfile)"
   ]
  },
  {
   "cell_type": "markdown",
   "metadata": {},
   "source": [
    "## Explorer le modèle"
   ]
  },
  {
   "cell_type": "markdown",
   "metadata": {},
   "source": [
    "### Charger le modèle en mémoire"
   ]
  },
  {
   "cell_type": "code",
   "execution_count": 16,
   "metadata": {},
   "outputs": [],
   "source": [
    "model = Word2Vec.load(\"../data/newspapers.model\")"
   ]
  },
  {
   "cell_type": "markdown",
   "metadata": {},
   "source": [
    "### Imprimer le vecteur d'un terme"
   ]
  },
  {
   "cell_type": "code",
   "execution_count": 18,
   "metadata": {},
   "outputs": [
    {
     "data": {
      "text/plain": [
       "array([ 0.47520477,  0.16519159,  0.8124408 ,  0.5263848 ,  0.09036949,\n",
       "       -0.24066353, -0.04775346,  0.09332875, -0.33433056,  0.5205435 ,\n",
       "        1.0853317 , -0.77288663,  0.19262521, -0.16077514, -0.6896437 ,\n",
       "        0.13996719, -0.16189687, -0.6576276 , -0.20127527,  0.33788684,\n",
       "        0.64450294,  1.1386933 ,  0.95661545, -0.07663769, -0.2747037 ,\n",
       "       -0.16424029, -0.3547174 , -0.5796415 , -0.29220584, -0.6169277 ,\n",
       "       -0.7139925 , -0.47298   ], dtype=float32)"
      ]
     },
     "execution_count": 18,
     "metadata": {},
     "output_type": "execute_result"
    }
   ],
   "source": [
    "model.wv[\"gouvernementaux\"]"
   ]
  },
  {
   "cell_type": "markdown",
   "metadata": {},
   "source": [
    "### Calculer la similarité entre deux termes"
   ]
  },
  {
   "cell_type": "code",
   "execution_count": 19,
   "metadata": {},
   "outputs": [
    {
     "data": {
      "text/plain": [
       "0.6546433"
      ]
     },
     "execution_count": 19,
     "metadata": {},
     "output_type": "execute_result"
    }
   ],
   "source": [
    "model.wv.similarity(\"ministre\", \"roi\")"
   ]
  },
  {
   "cell_type": "markdown",
   "metadata": {},
   "source": [
    "### Chercher les mots les plus proches d'un terme donné"
   ]
  },
  {
   "cell_type": "code",
   "execution_count": 20,
   "metadata": {},
   "outputs": [
    {
     "data": {
      "text/plain": [
       "[('ministere', 0.8374603390693665),\n",
       " ('premier_ministre', 0.8341019749641418),\n",
       " ('president_du_conseil', 0.8340783715248108),\n",
       " ('departement', 0.8297356367111206),\n",
       " ('ministre_des_finances', 0.8198961615562439),\n",
       " ('chancelier', 0.8150020241737366),\n",
       " ('president', 0.7994568943977356),\n",
       " ('delegue', 0.7827120423316956),\n",
       " ('rapporteur', 0.778166651725769),\n",
       " ('ministre_des_affaires', 0.7569368481636047)]"
      ]
     },
     "execution_count": 20,
     "metadata": {},
     "output_type": "execute_result"
    }
   ],
   "source": [
    "model.wv.most_similar(\"ministre\", topn=10)"
   ]
  },
  {
   "cell_type": "markdown",
   "metadata": {},
   "source": [
    "### Faire des recherches complexes à travers l'espace vectoriel"
   ]
  },
  {
   "cell_type": "code",
   "execution_count": 21,
   "metadata": {},
   "outputs": [
    {
     "name": "stdout",
     "output_type": "stream",
     "text": [
      "[('berlin', 0.8170552849769592), ('tokio', 0.8021875619888306), ('budapest', 0.7922147512435913), ('vienne', 0.78741854429245), ('belgrade', 0.7727641463279724), ('bucarest', 0.7681686282157898), ('rome', 0.7647550106048584), ('prague', 0.7643837928771973), ('mercredi', 0.7556272745132446), ('washington', 0.7388765811920166)]\n"
     ]
    }
   ],
   "source": [
    "print(model.wv.most_similar(positive=['paris', 'londres'], negative=['belgique']))"
   ]
  }
 ],
 "metadata": {
  "kernelspec": {
   "display_name": "Python 3.10.7 ('tac_venv': venv)",
   "language": "python",
   "name": "python3"
  },
  "language_info": {
   "codemirror_mode": {
    "name": "ipython",
    "version": 3
   },
   "file_extension": ".py",
   "mimetype": "text/x-python",
   "name": "python",
   "nbconvert_exporter": "python",
   "pygments_lexer": "ipython3",
   "version": "3.10.7"
  },
  "vscode": {
   "interpreter": {
    "hash": "bf1c0e32efbc1b0a30fa46d6ab60b25f74a78c177210c206f5ce854a430d1ba2"
   }
  }
 },
 "nbformat": 4,
 "nbformat_minor": 4
}
