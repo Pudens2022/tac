{
 "cells": [
  {
   "cell_type": "markdown",
   "metadata": {},
   "source": [
    "# Word Embeddings : le modèle Word2Vec"
   ]
  },
  {
   "cell_type": "markdown",
   "metadata": {},
   "source": [
    "## Imports"
   ]
  },
  {
   "cell_type": "code",
   "execution_count": 21,
   "metadata": {},
   "outputs": [],
   "source": [
    "import sys\n",
    "\n",
    "from gensim.models.phrases import Phrases, Phraser\n",
    "from gensim.models import Word2Vec\n",
    "\n",
    "import nltk\n",
    "from nltk.tokenize import wordpunct_tokenize\n",
    "from unidecode import unidecode"
   ]
  },
  {
   "cell_type": "markdown",
   "metadata": {},
   "source": [
    "## Chargement et traitement des phrases du corpus"
   ]
  },
  {
   "cell_type": "markdown",
   "metadata": {},
   "source": [
    "### Création d'un objet qui *streame* les lignes d'un fichier pour économiser de la RAM"
   ]
  },
  {
   "cell_type": "code",
   "execution_count": 22,
   "metadata": {},
   "outputs": [],
   "source": [
    "class MySentences(object):\n",
    "    \"\"\"Tokenize and Lemmatize sentences\"\"\"\n",
    "    def __init__(self, filename):\n",
    "        self.filename = filename\n",
    "\n",
    "    def __iter__(self):\n",
    "        for line in open(self.filename, encoding='utf-8', errors=\"backslashreplace\"):\n",
    "            yield [unidecode(w.lower()) for w in wordpunct_tokenize(line)]"
   ]
  },
  {
   "cell_type": "code",
   "execution_count": 23,
   "metadata": {},
   "outputs": [],
   "source": [
    "infile = f\"../data/sents.txt\"\n",
    "sentences = MySentences(infile)"
   ]
  },
  {
   "cell_type": "markdown",
   "metadata": {},
   "source": [
    "### Détection des bigrams\n",
    "\n",
    "Article intéressant sur le sujet : https://towardsdatascience.com/word2vec-for-phrases-learning-embeddings-for-more-than-one-word-727b6cf723cf"
   ]
  },
  {
   "cell_type": "code",
   "execution_count": 24,
   "metadata": {},
   "outputs": [],
   "source": [
    "bigram_phrases = Phrases(sentences)"
   ]
  },
  {
   "cell_type": "markdown",
   "metadata": {},
   "source": [
    "L'object `phrases` peut être vu comme un large dictionnaire d'expressions multi-mots associées à un score, le *PMI-like scoring*. Ce dictionnaire est construit par un apprentissage sur base d'exemples.\n",
    "Voir les références ci-dessous :\n",
    "- https://arxiv.org/abs/1310.4546\n",
    "- https://en.wikipedia.org/wiki/Pointwise_mutual_information"
   ]
  },
  {
   "cell_type": "code",
   "execution_count": 25,
   "metadata": {},
   "outputs": [
    {
     "data": {
      "text/plain": [
       "dict"
      ]
     },
     "execution_count": 25,
     "metadata": {},
     "output_type": "execute_result"
    }
   ],
   "source": [
    "type(bigram_phrases.vocab)"
   ]
  },
  {
   "cell_type": "markdown",
   "metadata": {},
   "source": [
    "Il contient de nombreuses clés qui sont autant de termes observés dans le corpus"
   ]
  },
  {
   "cell_type": "code",
   "execution_count": 26,
   "metadata": {},
   "outputs": [
    {
     "data": {
      "text/plain": [
       "1877910"
      ]
     },
     "execution_count": 26,
     "metadata": {},
     "output_type": "execute_result"
    }
   ],
   "source": [
    "len(bigram_phrases.vocab.keys())"
   ]
  },
  {
   "cell_type": "markdown",
   "metadata": {},
   "source": [
    "Prenons une clé au hasard :"
   ]
  },
  {
   "cell_type": "code",
   "execution_count": 27,
   "metadata": {},
   "outputs": [
    {
     "name": "stdout",
     "output_type": "stream",
     "text": [
      "de_nos\n"
     ]
    }
   ],
   "source": [
    "key_= list(bigram_phrases.vocab.keys())[200]\n",
    "print(key_)"
   ]
  },
  {
   "cell_type": "markdown",
   "metadata": {},
   "source": [
    "Le dictionnaire indique le score de cette coocurrence :"
   ]
  },
  {
   "cell_type": "code",
   "execution_count": 28,
   "metadata": {},
   "outputs": [
    {
     "data": {
      "text/plain": [
       "1735"
      ]
     },
     "execution_count": 28,
     "metadata": {},
     "output_type": "execute_result"
    }
   ],
   "source": [
    "bigram_phrases.vocab[key_]"
   ]
  },
  {
   "cell_type": "markdown",
   "metadata": {},
   "source": [
    "Lorsque l'instance de `Phrases` a été entraînée, elle peut concaténer les bigrams dans les phrases lorsque c'est pertinent."
   ]
  },
  {
   "cell_type": "markdown",
   "metadata": {},
   "source": [
    "### Conversion des `Phrases` en objet `Phraser`\n",
    "\n",
    "`Phraser` est un alias pour `gensim.models.phrases.FrozenPhrases`, voir ici https://radimrehurek.com/gensim/models/phrases.html.\n",
    "\n",
    "Le `Phraser` est une version *light* du `Phrases`, plus optimale pour transformer les phrases en concaténant les bigrams."
   ]
  },
  {
   "cell_type": "code",
   "execution_count": 29,
   "metadata": {},
   "outputs": [],
   "source": [
    "bigram_phraser = Phraser(phrases_model=bigram_phrases)"
   ]
  },
  {
   "cell_type": "markdown",
   "metadata": {},
   "source": [
    "Le `Phraser` est un objet qui convertit certains unigrams d'une liste en bigrams lorsqu'ils ont été identifiés comme pertinents."
   ]
  },
  {
   "cell_type": "markdown",
   "metadata": {},
   "source": [
    "### Extraction des trigrams"
   ]
  },
  {
   "cell_type": "markdown",
   "metadata": {},
   "source": [
    "Nous répétons l'opération en envoyant cette fois la liste de bigrams afin d'extraire les trigrams."
   ]
  },
  {
   "cell_type": "code",
   "execution_count": 30,
   "metadata": {},
   "outputs": [],
   "source": [
    "trigram_phrases = Phrases(bigram_phraser[sentences])"
   ]
  },
  {
   "cell_type": "code",
   "execution_count": 31,
   "metadata": {},
   "outputs": [],
   "source": [
    "trigram_phraser = Phraser(phrases_model=trigram_phrases)"
   ]
  },
  {
   "cell_type": "markdown",
   "metadata": {},
   "source": [
    "### Création d'un corpus d'unigrams, bigrams, trigrams"
   ]
  },
  {
   "cell_type": "code",
   "execution_count": 32,
   "metadata": {},
   "outputs": [],
   "source": [
    "corpus = list(trigram_phraser[bigram_phraser[sentences]])"
   ]
  },
  {
   "cell_type": "code",
   "execution_count": 33,
   "metadata": {},
   "outputs": [
    {
     "name": "stdout",
     "output_type": "stream",
     "text": [
      "[['samedi_22', 'mars_1930', '.'], ['<<', 'le', 'drapeau_rouge', '>>', 'u', 'fleches_rouges', 'u', 'les', 'faits', 'internationaux', 'de', 'la', 'semaine', 'les', 'lauriers', 'de', 'm', '.', 'sinzot', 'empechent', 'm', '.', 'branquart', 'de', 'dormir', '.'], ['m', '.', 'sinzot', 'est', ',', 'evidemment', ',', 'un_homme', '<<', 'de', 'stoc', '>>.'], ['//', 'sait', 'rugir', ',', 'mugir', 'a', 'lui_seul', ',', 'mieux', 'que', 'toute', 'une', 'menagerie', '.'], ['fl', 'a', 'employe', 'ses_talents', ',', 'a', 'la', 'chambre', ',', 'pour', ',', 'denoncer', 'les', 'communistes', 'en', 'general', 'ct', 'notre_camarade', ',', '[', 'acquemotte', ',', 'en_particulier', ',', 'comme', 'des', '<<', 'pilleurs', 'dc', 'cadavres', '>>.'], ['tout_cela', 'a', 'propos', 'de', 'la', 'scandaleuse', 'parade', 'du', 'consul', 'fasciste', 'polonais', ',', 'des', 'administrateurs', 'du', 'charbonnage', 'du', 'cazier', 'et', 'du_college', '<<', 'socialiste', '>>', 'de', 'marcinelle', 'sur', 'les', 'tombes', 'de', 'nos_freres', 'mineurs', ',', 'assassines', 'par', 'le_capitalisme', '.'], ['les', 'lauriers', 'dc', 'm', '.', 'sinzot', ',', 'depute_catholique', ',', 'ont_empeche', 'm', '.', 'rene', 'branquart', ',', 'depute', '<<', 'socialiste', '>>,', 'de', 'dormir', '.'], ['et', ',', 'au_milieu', 'dc', 'son', 'insomnie', 'il', 'a', ',', 'pour', 'sc', 'guerir', ',', 'pondu', 'un', 'article', 'pour', 'la', 'presse_social', '-', 'democrate', '.'], ['reconnaissons', 'que', 'm', '.', 'branquart', 'a', 'mis', 'm', '.', 'sinzot', '<<', 'knock', '-', 'out', '>>.'], ['l', \"'\", 'expression', '<<', 'pilleurs', 'de', 'cadavres', '>>', 'utilisee', 'par', 'celui_-_ci', ',', 'n', \"'\", 'est', 'que', 'de', 'la', 'petite', 'biere', '.'], ['m', '.', 'branquart', 'a', 'un', 'vocabulaire', 'bien', 'plus_riche', '!'], ['<<', 'voyoucratic', ';', 'precheurs', 'de', 'haine', ';', 'crapuleries', ';', 'hyenes', 'de', 'la', 'politique', ',', 'flairant', 'des', 'cadavres', ';', 'exploiteurs', 'de', 'la', 'misere', ',', 'de', 'l', \"'\", 'ignorance', 'et', 'des', 'sentiments', 'les', 'plus_bas', ',', 'placeurs', 'dc', 'degoutants', 'appeaux', '>>,', 'telles_sont', 'entre_autres', 'les', 'dignes', 'expressions', 'dc', 'la', 'colere', 'de', 'm', '.', 'branquart', 'qui', 'est', 'entre', 'dans', 'cet_etat', 'parce_que_nous_avons', 'dit', 'que', 'les', 'mineurs', 'du', 'charbonnage', 'du', 'cazier', 'sont_tombes', 'par', 'la', 'faute', 'du_capitalisme', ',', 'par', 'la', 'faute', 'des', 'administrateurs', 'dc', 'la', 'societe', 'charbonniere', '.'], ['m', '.', 'branquart', 'doit_etre', 'satisfait', 'de', 'lui', '-', 'meme', '.'], ['h', 'a', '.', 'bien', 'defendu', 'les', 'capitalistes', 'exploiteurs', 'du_proletariat', 'et', 'il', 'a', 'battu', 'le', 'record', 'de', 'm', '.', 'sinzot', '.'], ['la', '<<', 'justice', '>>', 'a', 'du', 'flair', '.'], ['tous_les', 'journaux', 'ont', 'publie', 'une_note', ',', 'venant', 'du', 'parquet', 'de', 'bruxelles', ',', 'annoncant', 'une', 'mirifique', 'decouverte', 'due', 'au', 'flair', 'merveilleux', 'des', 'agents', 'du', 'parquet', 'de', 'bruxelles', '.'], ['dans', 'un', 'chateau', 'dc', 'linkebeek', ',', 'ils_ont', 'mis', 'la', 'main', 'sur', 'un_nouvel', '<<', 'oeil', 'de', 'moscou', '#>>.'], ['et', 'cette_fois', ',', 'pas', 'un', 'ouvrier', 'etranger', '.'], ['n', ',', 'noonnaontr', '-', 'eresskpp', 'ger', '.'], ['non', ',', 'non', '.'], ['un', 'chatelain', ',', 's', \"'\", 'il', 'vous_plait', '.'], ['un', 'bonhomme', 'qui', 'a', 'du', 'foin', 'dans', 'ses', 'bottes', 'car', 'il', 'possede', ',', 'parait', '-', 'il', ',', 'une_centaine', 'de', 'millions', 'de', 'fortune', '.'], ['le', 'parquet', 'a', 'profite', 'de', 'l', \"'\", 'arrestation', 'pour', 'mettre', 'la', 'main', 'sur', 'des', '<<', 'documents', 'communistes', 'extremement', 'importants', '>>,', 'dont', 'le', 'depouillement', 'allait', 'commencer', 'immediatement', '.'], ['puis', ',', 'patatras', ',', '<<', 'l', \"'\", 'oeil', 'de', 'moscou', '>>', 'est', 'un', 'chatelain', '<<', 'bien', 'pensant', '>>,', 'un', 'type', 'qui', 'a', 'gagne', 'des', 'millions', 'et', 'des', 'millions', 'en', 'exploitant', ',', 'avec', 'francqui', ',', 'car', '-', 'ion', 'ct', 'les', 'autres', ',', 'les', 'populations', 'negres', 'de', 'la', 'colonie', 'du_congo', ';', 'un', 'type', 'qui', 'a', 'prete', 'de', 'l', \"'\", 'argent', 'au', 'gouvernement_belge', ',', 'et', 'patati', ',', 'et', 'patata', '.'], ['les', 'journaux', 'essaient', 'de', 'se', 'tirer', 'd', \"'\", 'affaire', '...', 'il_faudra', 'que', 'le', 'parquet', 'de', 'bruxelles', 'prenne', 'vite', 'sa', 'revanche', 'en', 'arretant', 'ct', 'expulsant', 'quelques', 'ouvriers_revolutionnaires', '...', 'les', '<<', 'amis', '>>', 'du_peuple', 'russe', '!'], ['a', 'bruxelles', ',', 'c', \"'\", 'est', 'dans', 'la', 'collegiale', 'des', 's', '.', 's', '.', 'michel', 'et', 'gudule', 'que', 'se_reunirent', 'les', '<<', 'amis', '>>', 'du_peuple', 'russe', '.'], ['les', 'journaux', 'ont_donne', 'le', 'compte', '-', 'rendu', 'de', 'la', '<<', 'solennite', '>>.'], ['nous_avons', 'le', 'devoir', 'dc', 'faire_connaitre', 'aux', 'ouvriers', 'hclges', 'quelques', 'noms', 'de', 'ces', '<<', 'amis', '>>', 'des', 'proletaires', 'russes', 'des', 'villes', 'et', 'des', 'campagnes', '.'], ['tout', 'd', \"'\", 'abord', ',', 'le', 'pommade', 'et', 'comes', '-', 'tique', 'baron', 'de', 'broqueville', ',', 'ministre', 'de', 'la', 'guerre', '.'], ['puis', ',', 'la', 'comtesse', 'de', 'merode', ',', 'puis', 'la', 'comtesse', 'dc', 'robiano', ',', 'grande', '-', 'naitresse', 'de', 'la', 'maison', 'de', 'la', 'reine', 'des', 'helges', ';', 'puis', 'la', 'comtesse', 'd', \"'\", 'oultremont', ',', 'mis', 'mgr_picard', ',', 'puis', 'encore', 'm', '.', 'cro', '-', 'ckaert', ',', 'senateur', ',', 'batonnier', 'de', 'l', \"'\", 'ordre', 'des', 'avocats', '.'], ['en_outre', ',', 'des', 'dignitaires', 'de', 'l', \"'\", 'eglise', 'russe', '(', 'qui', 'pontifient', 'a', 'bruxelles', '),', 'l', \"'\", 'epouse', 'du', 'general', 'koutepoff', ',', 'le', 'marquis', 'imperiali', ',', 'senateur', ';', 'le', 'depute_clerical', 'winandy', ',', 'le', 'ministre', 'd', \"'\", 'etat', 'braun', 'et', 'de', 'nombreux', 'administrateurs', 'les_societes_anonymes', 'belges', 'que', 'la', 'revolution', 'd', \"'\", 'octobre', 'a', 'mis', 'dans', 'l', \"'\", 'im', '-', 'lossibilite', 'dc', 'continuer', 'a', 'vivre', 'en', 'exploitant', 'les', 'proletaires', 'russes', '.'], ['cela', 'faisait', 'un', 'beau', 'bouquet', '<<', 'd', \"'\", 'a', '-', 'mis', '>>', 'du_peuple', 'russe', '.'], ['nous', 'ne', 'craignons', 'pas', 'de', 'le', 'dire', ':', 'nos_freres', 'de', 'l', \"'\", 'union_sovietique', 'seraient', 'de', 'grands', 'ingrats', 's', \"'\", 'ils', 'n', \"'\", 'etaient', 'reconnaissants', 'a', 'tous', 'ces_gens', '-', 'la', 'de', 'les', 'aimer', 'au_point', 'de', 'passer', 'toute', 'une', 'matinee', 'en', 'prieres', '!'], ['iiiiimiiiiiiiiiiiiiimiiiiiiiiuiiiiiiiiimmiiiiiimi', 'la', 'reponse', 'des', 'ouvriers', 'au_general_giron', '17e', 'liste', 'hainaut', ':', 'liste_no', '1491', ',', '90_fr', '.'], [';', 'liste_no', '1492', ',', '38', 'fr', '.'], ['l1mbuorg', ':', 'liste_no', '1761', ',', '12', '.', '50', ';', 'liste', '1672', ',', '13', ';', 'liste', '1765', ',', '50', '.'], ['souscriptions', 'individuelles', ':', 'plumas', 'andrimont', ',', '5', ';', 'une', 'giffle', 'a', 'giron', ',', '10', ';', 'un_lecteur', 'contre', 'giron', ',', '10', '.'], ['total', '17e', 'liste', 'fr', '.'], ['228', '.', '50', 'total', 'listes_precedentes', 'fr', '.'], ['16', ',', '344', '.', '56', 'apres', 'le', '6', 'mars', '-', 'le', 'developpement', 'de', 'la', 'crise_mondiale', 'et', 'le', 'chomage', 'de', 'masse', 'la', 'xe', 'session_pleniere', 'du', 'c', '.', 'e', '.', 'de', 'l', \"'\", 'i', '.'], ['c', ',', 'en', 'caracterisant', 'la', 'situation_economique', 'et', 'politique', 'mondiale', ',', 'soulignait', 'que', 'le', 'trait', 'distinctif', 'de', 'la', 'troisieme', 'periode', 'du', 'developpement', 'du_capitalisme', 'd', \"'\", 'apres', '-', 'guerre', 'est', 'la', 'forte', 'accentuation', 'des', 'contradictions', 'fondamentales', 'interieures', 'et', 'exterieures', 'dc', 'l', \"'\", 'imperialisme', '.'], ['cette', 'accentuation', 's', \"'\", 'exprime', 'actuellement', 'par', 'l', \"'\", 'effondrement', 'de', 'plus', 'en', 'plus_rapide', 'de', 'la', 'stabilisation_capitaliste', ',', 'par', 'l', \"'\", 'extension', 'de', 'l', \"'\", 'essor_revolutionnaire', 'du', 'mouvement_ouvrier', 'mondial', ',', 'par', 'la', 'maturation', 'de', 'la', 'revolution', 'antiimperialiste', 'dans', 'les', 'pays_coloniaux', '.'], ['<<', 'la', 'faillite', 'du', 'fameux', 'mot', 'd', \"'\", 'ordre', 'de', '<<', 'prosperite', '>>,', 'lance', 'par', 'la_bourgeoisie', 'americaine', '--', 'dit', 'la', 'resolution', 'de', 'la', 'xe', 'session_pleniere', '--', 'est', 'de', 'plus', 'en', 'plus', 'averee', '.'], ['>>', 'la', 'crise_economique', ',', 'qui', 'a', 'eclate', 'trois_mois', 'plus_tard', 'aux_etats_-_unis', ',', 'dans', 'les', 'conditions', 'd', \"'\", 'une', 'depression', 'sevissant', 'depuis_longtemps', 'dans', 'nombre', 'de', 'pays_capitalistes', 'et', 'coloniaux', ',', 'accelere', 'au', 'plus_haut', 'point', 'l', \"'\", 'aggravation', 'des', 'contradictions', 'fondamentales', 'du_capitalisme', 'mondial', ',', 'detruisant', 'la', 'legende', 'bourgeoise', 'de', 'la', '<<', 'prosperite', 'permanente', '>>', 'des', 'etats_-_unis', '(', 'hoover', ')', 'et', 'portant', 'un_coup', 'decisif', 'aux', 'theories', 'social', '-', 'democrates', 'du', '<<', 'capitalisme_organise', '>>.'], ['aussi', 'la', 'session', 'de', 'presidence', 'elargie', 'de', 'l', \"'\", 'i', '.'], ['c', '.', 'tenue_recemment', '.', 'a', 'moscou', ',', 'a', '-', 't', '-', 'elle', 'confirme', 'l', \"'\", 'appreciation', 'de', 'la', 'xe', 'session_pleniere', 'et', 'corrobore', 'la', 'ligne', 'strategique', 'et', 'tactique', 'fixee', 'a', 'cette_epoque', '.'], ['la', 'crise_generale', 'de', 'l', \"'\", 'economie_mondiale', 'la', 'crise', 'americaine', 'eclate', 'a', 'un', 'moment_ou', 'une_partie', 'considerable', 'de', 'l', \"'\", 'economie_capitaliste', 'mondiale', 'est', 'deja', 'dans', 'un', 'etat', 'de', 'depression_economique', 'chronique', '.'], ['dans', 'une_serie', 'de', 'pays', 'de', 'l', \"'\", 'europe_occidentale', 'et', 'centrale', '(', 'pologne', ',', 'pays', 'baltes', ',', 'autriche', ',', 'balkans', '),', 'les', 'longues', 'depressions', 'et', 'crises_economiques', ',', 'nees', 'de', 'la', 'pauperisation', 'formidable', 'des', 'masses', 'et', 'aggravees', 'par', 'le', 'demembrement', 'd', \"'\", 'apres', '-', 'guerre', ',', 'les', 'survivances', 'feodales', ',', 'l', \"'\", 'assujettissement', 'de', 'ces', 'pays', 'a', 'l', \"'\", 'imperialisme_mondial', ',', 'developpent', 'de', 'plus', 'en', 'plus', ',', 'dans', 'ces', 'pays', ',', 'les', 'premisses', 'd', \"'\", 'une', 'crise', 'politique_generale', '.'], ['dans', 'les', 'colonies', ',', 'la', 'crise', 'est', 'liee', 'au', 'developpement', 'de', 'formes', 'parti', '-', '\\\\', 'culierement', 'violentes', 'd', \"'\", 'exploitation', 'du', 'capital_financier', ',', 'appuye_sur', 'le', 'feoda', '-', 'lisme', 'indigene', ',', 'a', 'la', 'large', 'extension', 'de', 'ia', 'monoculture', 'qui', 'met', 'l', \"'\", 'economie', 'coloniale', 'dans', 'la', 'dependance', 'complete', 'des', 'fluctuations', 'de', 'la', 'conjoncture_economique', 'dans', 'les', 'pays', 'imperialistes', '(', 'inde', ',', 'egypte', ',', 'etc', '.'], ['),', 'a', 'la', 'chute', 'particulierement', 'rapide', 'des', 'prix', 'des', 'matieres_premieres', 'coloniales', ',', 'chute', 'depassant', 'de', 'loin', 'celle', 'des', 'prix', 'de', 'tous_les', 'autres', 'produits_industriels', 'et', 'agricoles', '.'], ['la', 'crise', 'prend', 'une', 'acuite', 'particuliere', 'dans', 'les', 'pays', 'de', 'type', 'colonial', 'du', 'fait', 'que', 'l', \"'\", 'asservissement', 'des_masses_laborieuses', 'par', 'les', 'imperialistes', ',', 'les', 'proprietaires_fonciers', 'et', 'la_bourgeoisie', 'indigene', 'y', 'est', 'liee', 'a', 'la', 'pauperisation', 'inouie', 'des', 'ouvriers', 'et', 'des', 'paysans', '.'], ['la', 'crise', 'americaine', 'et', 'ses_repercussions', 'issue', 'de', 'la', 'crise_generale', 'du', 'systeme_capitaliste', ',', 'la', 'crise', 'des', 'etats_-_unis', 'se_transforme', 'de', 'plus', 'en', 'plus', 'en', 'une', 'crise_economique_mondiale', ',', 'et', 'ce', ',', 'pour', 'les', 'raisons', 'suivantes_:', 'a', ')', 'les', 'etats_-_unis', 'jouent', 'un', 'role_dirigeant', 'dans', 'l', \"'\", 'ensemble', 'de', 'l', \"'\", 'economie_mondiale', 'capitaliste', '(', 'pres', 'de', '50_p', '.', 'c', '.', 'de', 'toute', 'la', 'production_mondiale', 'et', 'de', 'toutes_les', 'reserves', 'd', \"'\", 'or', 'y', 'sont', 'concenrees', ')', ';', 'b_)', 'l', \"'\", 'interpenetration', 'des', 'pays_capitalistes', 'due', 'a', 'l', \"'\", 'organisation', 'des', 'trusts', 'et', 'des', 'syndicats', 'internationaux', ',', 'aux', 'exportations', 'de', 'capitaux', 'et', 'aux', 'systemes', 'des', 'dettes_internationales', ',', 'entraine', 'tous_les', 'autres_pays', 'dans', 'la', 'crise_economique', ';', 'c', ')', 'le', 'resserrement', 'du', 'marche_interieur', 'des', 'etats_-_unis', 'oblige', 'le', 'capital', 'americain', 'a', 'renforcer', 'son', 'offensive', 'sur', 'le', 'marche_mondial', ',', 'ce', 'qui', 'aboutit', 'a', 'resserrer', 'les', 'marches', 'pour', 'les', 'autres_pays', 'capitalistes', ';', 'd', ')', 'cette_lutte', 'du', 'capital', 'americain', 'pour', 'les', 'debouches', 'influera', 'sur', 'la', 'baisse', 'des', 'prix', 'du', 'marche_mondial', ',', 'et', 'ruinera', 'les', 'concurrents', 'plus', 'faibles', ';', 'e', ')', 'le', 'recul', 'de', 'la', 'production', 'aux_etats_-_unis', 'entraine', 'une', 'crise', 'dans', 'les', 'pays_exportateurs', 'de', 'matieres_premieres', 'et', 'de', 'produits', 'demi', '-', 'bruts', 'aux_etats_-_unis', '(', 'japon', ':', 'soie', ';', 'indochine', ':', 'caoutchouc', ';', 'bresil', ':', 'cafe', ').'], ['tout_cela', 'fait', 'que', 'la', 'crise_qui_sevit', 'aux_etats_-_unis', 'commence', 'a', 'se', 'repercuter', '-', 'dans', 'tous_les', 'pays_capitalistes', 'de', 'l', \"'\", 'europe_occidentale', '.'], ['elle', 'se_manifeste', 'par', 'la', 'baisse', 'des', 'prix', ';', 'la', 'chute', 'du', 'cours', 'des', 'actions', ';', 'la', 'reduction', 'des', 'emissions', ',', 'la', 'crise', 'du', 'change', 'qui', 'debute', 'dans', 'une_serie', 'de', 'pays_coloniaux', ',', 'l', \"'\", 'augmentation', 'des', 'faillites', ',', 'la', 'diminution', 'presque', 'generale', ',', 'bien', 'qu', \"'\", 'inegale', ',', 'de', 'la', 'production', 'et', ',', 'enfin', ',', 'la', 'baisse', 'des', 'salaires', 'et', 'l', \"'\", 'accroissement', 'general', 'du', 'chomage', '.', '?'], ['diversite', 'de', 'degre', 'et', 'de', 'fortune', 'mais', 'le', 'developpement', 'inegal', 'du', 'systeme_capitaliste', 'determine', 'la', 'diversite', 'des', 'formes', ',', 'du', 'degre', 'et', 'du', 'caractere', 'des', 'phenomenes', 'de', 'crise', 'dans', 'les', 'differents_pays', '.'], ['dans', 'certains_pays', ',', 'la', 'crise', 'americaine', 'se_repercute', 'en', 'les', 'entrainant', 'directement', 'dans', 'l', \"'\", 'orbite', 'cle', 'la', 'crise', '(', 'canada', ',', 'australie', ')', ';', 'dans', 'd', \"'\", 'autres', ',', 'elle', 'aggrave', 'la', 'depression', 'deja', 'existante', 'et', 'cause', 'son', 'extension', 'sur', 'un', 'territoire', 'de', 'plus', 'en', 'plus', 'vaste', '(', 'europe_orientale', ',', 'colonies', ',', 'inde', 'et', 'chine', ',', 'amerique', 'du_sud', ',', 'japon', ')', ';', 'dans', 'd', \"'\", 'autres', 'encore', ',', 'elle', 'fait', 'murir', 'une', 'crise_economique', 'generale', '(', 'allemagne', ')', ';', 'ailleurs', ',', 'elle', 'aggrave', 'la', 'depression', 'chronique', 'dans', 'differentes_branches', 'importantes', 'de', 'l', \"'\", 'industrie', '(', 'angleterre', ')', ';', 'dans', 'd', \"'\", 'autres_pays', ',', 'elle', 'engendre', 'l', \"'\", 'apparition', 'des', 'premiers_symptomes', 'de', 'crise', ':', 'diminution', 'de', 'la', 'production', ',', 'licenciements', 'd', \"'\", 'ouvriers', ',', 'chute', 'des', 'actions', '(', 'france', 'et', 'belgique', ').'], ['par', 'la', 'meme', ',', 'la', 'crise_economique', 'accentue', 'la', 'crise_generale', 'du', 'systeme_capitaliste', 'en', 'aggravant', 'ses', 'contradictions', 'interieures', 'et', 'exterieures', ',', 'en', 'ebranlant', 'la', 'stabilisation_capitaliste', 'precaire', 'et', 'en', 'accelerant', 'l', \"'\", 'essor_revolutionnaire', 'tant', 'dans', 'les', 'pays_capitalistes', 'que', 'dans', 'les', 'colonies', '.'], ['misere', 'et', 'radicalisation_des_masses', 'la', 'crise', 'entraine', 'une', 'effroyable', 'misere', 'pour', 'la_classe_ouvriere', '.'], ['ce', 'qui', 'l', \"'\", 'atteint', 'le', 'plus', ',', 'c', \"'\", 'est', 'le', 'chomage', 'en', 'masse', ',', 'resultant', 'de', 'la', 'reduction', 'brusque', 'de', 'la', 'production', 'dans', 'differents_pays', 'capita', '-', 'la', 'vie', 'du', 'journal', 'les', 'indications_fournies', 'ici', 'depuis_quelques_semaines', 'permettent', 'deja', 'a', 'nos_abonnes', 'et', 'lecteurs', 'de', 'se_rendre', 'compte', 'de', 'la', 'situation', 'du', '<<_drapeau_rouge', '>>', 'dans', 'les', 'cinq', 'provinces', 'importantes', 'du', 'pays', '.'], ['malgre', 'la', 'faible', 'penetration', 'du', 'd', '.', 'r', '.', 'dans', 'les', 'autres_provinces', ',', 'nous', 'nous_devons', 'cependant', 'd', \"'\", 'indiquer', 'dans', 'quelle_mesure', 'notre', 'journal', 'est', 'lu', 'dans', 'ces', 'regions', '.'], ['pour', 'ce_qui_concerne', 'les', 'flandres', ',', 'il_est_evident', 'que', 'le', 'd', '.', 'r', '.,', 'journal', 'd', \"'\", 'expression_francaise', ',', 'ne_saurait', 'y', 'etre', 'diffuse', 'largement', '.'], ['il', 'n', \"'\", 'est', 'pas', 'necessaire', 'd', \"'\", 'entrer', 'clans', 'de', 'longues', 'considerations', 'pour_justifier', 'cela', '.'], ['il_suffira', 'd', \"'\", 'indiquer', 'que', 'ce', 'sont', 'les', 'journaux', 'd', \"'\", 'expression_flamande', 'qui', 'y', 'sont', 'lus', 'generalement', '.'], ['afin', 'de', 'pouvoir', 'juger', 'tle', 'la', 'penetra', 'le', 'nouvel_essor', 'revolutionnaire', 'des', 'masses', 'a', 'conduit', 'a', 'la', 'croissance', 'du', 'fascisme', ',', 'au', 'renforcement', 'de', 'plus', 'en', 'plus', 'considerable', ',', 'sous', 'l', \"'\", 'influence', 'de', 'la', 'crise', ',', 'des', 'methodes', 'de', 'terreur', 'dans', 'la', 'repression', 'contre', 'les', 'masses', '(', 'fusillades', 'de', 'chomeurs', 'et', 'de', 'grevistes', ',', 'destruction', 'des', 'organisations_revolutionnaires', 'de', 'la_classe_ouvriere', ',', 'arrestation', 'de', 'ses', 'militants', 'd', \"'\", 'avant', '-', 'garde', ',', 'expulsion', 'des', 'communistes', 'et', 'en', 'general', 'des', 'ouvriers_revolutionnaires', 'des', 'entreprises', ',', 'etc_.)'], ['la', 'social', '-', 'democratie', 'devenue', 'social', '-', 'fasciste', ',', 'qu', \"'\", 'elle', 'soit', 'au_pouvoir', 'comme', 'en', 'allemagne', 'et', '.', 'angleterre', 'et', 'dans', 'l', \"'<<\", 'opposition', '>>', 'comme', 'en', 'france', 'et', 'en', 'belgique', ',', 'collabore', 'activement', 'avec', 'la_bourgeoisie', 'pour', 'la', 'lutte', 'anticommuniste', '.'], ['cette_lutte', 'anticommuniste', 'menee', 'de', 'front', 'par', 'la_bourgeoisie', 'et', 'la', 'social', '-', 'democratie', ',', 'se_poursuit', 'parallelement', 'aux', 'preparatifs', 'de', 'guerre_imperialiste', 'et', 'de', 'guerre', 'antisovietique', '.'], ['aussi', 'la', 'lutte_contre', 'le', 'chomage', 'qui', 'i', 'tion', 'de', 'la', 'presse_communiste', 'dans', 'les', 'se_developpe', ',', 'doit', '-', 'elle', 'etre', 'liee', 'a', 'la', '!'], ['flandres', ',', 'nous_donnerons', 'non', 'seule', '-', 'lutte_contre', 'la', 'guerre_imperialiste', 'et', 'ment', 'le', 'nombre', 'des', 'lecteurs', 'et', 'abonnes', 'a', 'bas', 'le', 'centenaire', 'de', 'l', \"'\", 'exploitation_capitaliste', '!'], ['a', 'bas', 'le', 'centenaire', 'de', 'l', \"'\", 'oppression', 'du_peuple', 'flamand', '!'], ['(', 'suite', 'de', 'la', 'page', '1', '.)'], ['pour', 'a', 'defense', 'de', 'la', 'russie', 'des', 'soviets', ',', 'pays', 'du_socialisme', 'en', 'construction', '.'], ['les', 'lois', 'severing', 'en', 'allemagne', '.'], ['depuis_longtemps', 'deja', ',', 'les', 'pays', 'de', 'fascisme', 'ouvert', 'et', 'de', 'terreur', 'blanche', 'avouee', ',', 'se', 'sont_donnes', 'des', 'lois', 'speciales', 'dites', '<<', 'lois', 'de', 'securite', '>>', 'ou', '<<', 'lois', 'de', 'protection', '>>', 'ou', '<<', 'lois', 'de', 'defense', '>>.'], ['jusqu', \"'\", 'ici', ',', 'cependant', 'aucune', 'des', 'grandes', '<<', 'democraties', 'occidentales', 'ne', 's', \"'\", 'etait', 'forge', 'encore', 'sa', 'legislation', 'd', \"'\", 'exception', '.'], ['c', \"'\", 'est', 'maintenant', 'chose_faite', ',', 'et', 'c', \"'\", 'est', 'un', 'gouvernement', 'socialiste', '--', 'celui', 'd', \"'\", 'hermann', 'muller', 'et', 'de', 'severing', '--', 'qui', 'vient', 'd', \"'\", 'ouvrir', 'aux', 'bourgeoisies', 'd', \"'\", 'europe', 'la', 'voie', 'de', 'la', 'juridiction', 'd', \"'\", 'exception', 'contre', 'la', 'communisme', '.'], ['epinglons', 'au', 'passage', 'le', 'paragraphe', 'v', ',', 'de', 'la', 'loi', 'recemment', 'votee', 'au', 'reich', '-', 'tag', 'et', ',', 'qui', 'punit', 'de', 'l', \"'\", 'emprisonnement', '<<', 'quiconque', 'participe', 'ou', 'soutient', 'une', 'du', '<<_drapeau', 'rouge_>>,', 'mais', 'aussi', 'ce', 'lui', 'de', 'notre', 'hebdomadaire', 'flamand', '<<', 'de', 'roode_vaan', '>>,', 'chiffres', 'que', 'nous', 'comparerons', 'avec', 'les', 'voix', 'obtenues', 'par', 'notre_parti', 'aux_dernieres_elections', ',', 'ce', 'qui_permettra', 'd', \"'\", 'avoir', 'une', 'vue', 'claire', 'sur', 'la', 'situation', 'de', 'la', 'presse', 'en', 'flandre', ':', 'provinces', '-', 'nombre', 'dc', 'voix', '-', 'nombre', 'dc', 'lecteurs', 'r', '.', 'v', '.', '-', 'nombre', 'de', 'lecteurs', 'd', '.', 'r', '.', '-', 'total', '.'], ['flandre_orient', '.'], ['3841', '806', '44', '850', 'flandre_occid', '.'], ['2118', '435', '122', '557', 'dont', 'le', 'but', 'est', 'de', 'saper', 'la', 'forme', 'de', 'd', \"'\", 'etat', 'republicaine', 'du_reich', '.'], ['>>', 'notre_parti', 'est', 'tout', 'crument', 'designe', '.'], ['il', 'inscrit', 'sur', 'son_drapeau', 'la', 'lutte', 'a', 'mort', 'pour', 'le', 'renversement', 'de', 'la', 'dictature', 'capitaliste', '.'], ['c', \"'\", 'est', 'lui', 'que', 'le', 'legislateur', 'social', '-', 'democrate', 'entend', 'jeter', 'dans', 'l', \"'\", 'illegalite', '.'], ['nous_entendons', ',', 'certes', ',', 'la', 'reponse', 'des', 'socialistes', '.'], ['ils', 'nous', 'diront', 'benoitement', '<<', 'notre', 'loi', '>>?'], ['elle', 'frappe', 'a', 'droite', 'et', 'a', 'gauche', ',', 'puisque', 'c', \"'\", 'est', 'au_milieu', 'que', 'siege', 'la', 'vertu', '.'], ['nous_voulons', 'sauver', 'la', 'republique', ',', 'et', 'la', 'sauver', 'non_seulement', 'contre', 'vous', 'mais', 'contre', 'les', 'fascistes', '!'], ['>>', 'antifascistes', ',', 'les', 'lois', 'severing', '?'], ['pourquoi', 'alors', 'le', 'ministre', 'socialiste', 'a', '-', 't', '-', 'il', 'supprime', 'de', 'la', 'legislation', 'allemande', 'le', 'paragraphe', 'dit', '<<', 'paragraphe', 'du', 'kaiser', '>>,', 'qui', 'jusqu', \"'\", 'ici', 'interdisait', 'aux', 'hohenzollern', 'le', 'retour', 'en', 'alelmagne', '.'], ['antifascistes', '?'], ['voyez', 'plutot', 'comment', ',', 'il_y', 'a', 'quelques_semaines', ',', 'm', '.', 'severing', 'a', 'pratique', 'une', 'application', 'anticipee', 'de', 'sa', 'legislation', '.'], [\"tandis_qu_'\", 'en', 'thuringe', 'un', 'national', '-', 'socialiste', 'du_parti', 'de', 'hitler', 'se', 'hissait', 'au_ministere', 'de', 'istes', 'et', 'aussi', 'de', 'l', \"'\", 'exploitation', 'accrue', 'l', \"'\", 'interieur', 'et', 'proclamait', 'presque', 'ouver', '5959', '1241', '166', '1407', 'nous_avons', 'donc', 'au_total', '1407', 'lecteurs', 'de', 'notre', 'presse', 'dans', 'cette_region', ',', 'ce', 'qui', 'represente', '23', 'p', '.', 'c', '.', 'de', 'nos', 'voix', 'electorales', '.'], ['c', \"'\", 'est', 'trop_peu', '.'], ['aussi', 'les', 'chiffres_ci', '-_dessus', ',', 'qui_interessent', 'surtout', 'nos_camarades', 'flamands', ',', 'ont_ete', 'mis', 'sous', 'leurs_yeux', 'par', 'la', 'voie', 'de', 'la', '<<_roode_vaan', '>>.'], ['nous_sommes_convaincus', 'qu', \"'\", 'ils', 'les', 'mediteront', 'et', 'sauront', 'deployer', 'les', 'efforts', 'qui', 's', \"'\", 'imposent', 'pour_assurer', 'un', 'developpement', 'plus', 'serieux', 'association', 'secrete', 'ou', 'hostile', 'a', 'l', \"'\", 'etat', ',', 'de', 'la', 'presse_communiste', 'en', 'flandre', '.'], ['et', 'pour_terminer', 'l', 'analyse', 'de', 'nos', 'positions', 'dans', 'chaque', 'province', ',', 'signalons', 'luxembourg', 'et', 'le', 'limbourg', 'par', 'l', \"'\", 'intense', 'rationalisation_capitaliste', '.'], ['on_connait', 'les', 'chiffres', ':', '20', 'millions', 'de', 'chomeurs', 'sans_compter', 'leur', 'famille', 'ni', 'les', 'masses', 'innombrables', 'de', 'sans_travail', 'des', 'pays_coloniaux', '.'], ['ces', 'masses', 'de', 'chomeurs', 'entrent', 'en', 'lutte', 'violente', 'avec', 'le', 'regime', 'bourgeois', '.'], ['le', '6', 'mars', 'a', 'marque', 'une', 'puissante', 'mobilisation', 'de', 'leurs_forces', '.'], ['la', 'lutte', 'des', 'chomeurs', 'se', 'lie', 'a', 'une_recrudescence', 'de', 'la', 'vague', 'greviste', 'dans', 'tous_les', 'pays_capitalistes', 'ainsi_qu', \"'\", 'a', 'un', 'reveil', 'formidable', 'du', 'mouvement', 'antiimperialiste', 'des_colonies', '.'], ['fement', '--', 'sans', 'que', 's', \"'\", 'emeuve', 'le', 'cabinet', 'd', '*', 'berlin', '--', 'son_intention', 'd', \"'\", 'organiser', 'un', 'putsch', 'fasciste', ',', 'le', 'ministre', 'social', '-', 'democrate', 'de', 'prusse', 'decretait', 'que', 'les', 'maires', 'et', 'les', 'conseillers', 'communistes', 'des', 'villes', ',', 'elus', 'par', 'les', 'communes', 'et', 'les', 'administrations', 'urbaines', 'proletariennes', 'ne', 'devaient', 'plus', 'etre', 'sanctionnes', '!']]\n"
     ]
    }
   ],
   "source": [
    "print(corpus[:100])"
   ]
  },
  {
   "cell_type": "markdown",
   "metadata": {},
   "source": [
    "## Entrainement d'un modèle Word2Vec sur ce corpus"
   ]
  },
  {
   "cell_type": "code",
   "execution_count": 70,
   "metadata": {},
   "outputs": [
    {
     "name": "stdout",
     "output_type": "stream",
     "text": [
      "CPU times: total: 5.84 s\n",
      "Wall time: 12.6 s\n"
     ]
    }
   ],
   "source": [
    "%%time\n",
    "model = Word2Vec(\n",
    "    corpus, # On passe le corpus de ngrams que nous venons de créer\n",
    "    vector_size=32, # Le nombre de dimensions dans lesquelles le contexte des mots devra être réduit, aka. vector_size\n",
    "    window=3, # La taille du \"contexte\", ici 3 mots avant et après le mot observé\n",
    "    min_count=5, # On ignore les mots qui n'apparaissent pas au moins 5 fois dans le corpus\n",
    "    workers=4, # Permet de paralléliser l'entraînement du modèle en 4 threads\n",
    "    epochs=5 # Nombre d'itérations du réseau de neurones sur le jeu de données pour ajuster les paramètres avec la descente de gradient, aka. epochs.\n",
    ")"
   ]
  },
  {
   "cell_type": "markdown",
   "metadata": {},
   "source": [
    "#### Remarque\n",
    "\n",
    "Vous voyez ici que l'entrainement du modèle est parallélisé (sur 4 workers).\n",
    "\n",
    "Lors qu'on parallélise l'entrainement du modèle, 4 modèles \"séparés\" sont entrainés sur environ un quart des phrases.\n",
    "\n",
    "Ensuite, les résultats sont agrégés pour ne plus faire qu'un seul modèle.\n",
    "\n",
    "On ne peut prédire quel worker aura quelle phrase, car il y a des aléas lors de la parallélisation (p. ex. un worker qui serait plus lent, etc.).\n",
    "\n",
    "Du coup, les valeurs peuvent varier légèrement d'un entrainement à l'autre.\n",
    "\n",
    "Mais, globalement, les résultats restent cohérents."
   ]
  },
  {
   "cell_type": "markdown",
   "metadata": {},
   "source": [
    "### Sauver le modèle dans un fichier"
   ]
  },
  {
   "cell_type": "code",
   "execution_count": 71,
   "metadata": {},
   "outputs": [],
   "source": [
    "outfile = f\"../data/newspapers.model\"\n",
    "model.save(outfile)"
   ]
  },
  {
   "cell_type": "markdown",
   "metadata": {},
   "source": [
    "## Explorer le modèle"
   ]
  },
  {
   "cell_type": "markdown",
   "metadata": {},
   "source": [
    "### Charger le modèle en mémoire"
   ]
  },
  {
   "cell_type": "code",
   "execution_count": 72,
   "metadata": {},
   "outputs": [],
   "source": [
    "model = Word2Vec.load(\"../data/newspapers.model\")"
   ]
  },
  {
   "cell_type": "markdown",
   "metadata": {},
   "source": [
    "### Imprimer le vecteur d'un terme"
   ]
  },
  {
   "cell_type": "code",
   "execution_count": 77,
   "metadata": {},
   "outputs": [
    {
     "data": {
      "text/plain": [
       "array([ 0.76995975, -2.18457   ,  2.8102584 , -3.0724473 ,  0.261696  ,\n",
       "        1.3371208 , -1.7407337 ,  1.0727575 ,  2.8017182 ,  3.05948   ,\n",
       "        1.3935755 ,  0.7363242 , -1.4966685 , -0.06150797,  3.9841597 ,\n",
       "        1.7362409 ,  0.81300026,  1.8122014 , -0.13274147,  2.183218  ,\n",
       "        0.3567307 , -4.192907  ,  3.5707695 ,  0.4806828 ,  0.7502151 ,\n",
       "        2.1468632 ,  0.0659516 , -0.1873255 ,  2.77066   ,  0.05602318,\n",
       "        2.2449722 , -1.0648581 ], dtype=float32)"
      ]
     },
     "execution_count": 77,
     "metadata": {},
     "output_type": "execute_result"
    }
   ],
   "source": [
    "model.wv[\"crise\"]"
   ]
  },
  {
   "cell_type": "markdown",
   "metadata": {},
   "source": [
    "### Calculer la similarité entre deux termes"
   ]
  },
  {
   "cell_type": "code",
   "execution_count": 78,
   "metadata": {},
   "outputs": [
    {
     "data": {
      "text/plain": [
       "0.82916397"
      ]
     },
     "execution_count": 78,
     "metadata": {},
     "output_type": "execute_result"
    }
   ],
   "source": [
    "model.wv.similarity(\"crise\", \"depression\")"
   ]
  },
  {
   "cell_type": "markdown",
   "metadata": {},
   "source": [
    "### Chercher les mots les plus proches d'un terme donné"
   ]
  },
  {
   "cell_type": "code",
   "execution_count": 79,
   "metadata": {},
   "outputs": [
    {
     "data": {
      "text/plain": [
       "[('crise_economique', 0.9322041273117065),\n",
       " ('prosperite', 0.8320592045783997),\n",
       " ('crise_mondiale', 0.8301627039909363),\n",
       " ('depression', 0.8291639685630798),\n",
       " ('surproduction', 0.8280938267707825),\n",
       " ('devaluation', 0.8256010413169861),\n",
       " ('chomage', 0.8087950348854065),\n",
       " ('misere', 0.8083654642105103),\n",
       " ('situation', 0.797191858291626),\n",
       " ('crise_actuelle', 0.792048990726471)]"
      ]
     },
     "execution_count": 79,
     "metadata": {},
     "output_type": "execute_result"
    }
   ],
   "source": [
    "model.wv.most_similar(\"crise\", topn=10)"
   ]
  },
  {
   "cell_type": "markdown",
   "metadata": {},
   "source": [
    "### Faire des recherches complexes à travers l'espace vectoriel"
   ]
  },
  {
   "cell_type": "code",
   "execution_count": 80,
   "metadata": {},
   "outputs": [
    {
     "name": "stdout",
     "output_type": "stream",
     "text": [
      "[('hausse', 0.8495281338691711), ('baisse', 0.8397588729858398), ('regression', 0.801382839679718), ('proportion', 0.7890205383300781), ('semaine', 0.7838152647018433), ('devaluation', 0.7817928194999695), ('recolte', 0.7789984941482544), ('diminution', 0.7749210000038147), ('surproduction', 0.7723634243011475), ('duree', 0.7693139910697937)]\n"
     ]
    }
   ],
   "source": [
    "print(model.wv.most_similar(positive=['crise', 'depression'], negative=['politique']))"
   ]
  }
 ],
 "metadata": {
  "kernelspec": {
   "display_name": "Python 3.10.7 ('tac_venv': venv)",
   "language": "python",
   "name": "python3"
  },
  "language_info": {
   "codemirror_mode": {
    "name": "ipython",
    "version": 3
   },
   "file_extension": ".py",
   "mimetype": "text/x-python",
   "name": "python",
   "nbconvert_exporter": "python",
   "pygments_lexer": "ipython3",
   "version": "3.10.7 (tags/v3.10.7:6cc6b13, Sep  5 2022, 14:08:36) [MSC v.1933 64 bit (AMD64)]"
  },
  "vscode": {
   "interpreter": {
    "hash": "bf1c0e32efbc1b0a30fa46d6ab60b25f74a78c177210c206f5ce854a430d1ba2"
   }
  }
 },
 "nbformat": 4,
 "nbformat_minor": 4
}
