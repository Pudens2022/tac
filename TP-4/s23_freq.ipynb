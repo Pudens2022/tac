{
 "cells": [
  {
   "attachments": {},
   "cell_type": "markdown",
   "metadata": {},
   "source": [
    "# Analyse de la distribution du vocabulaire"
   ]
  },
  {
   "cell_type": "markdown",
   "metadata": {},
   "source": [
    "## Imports et dépendances"
   ]
  },
  {
   "cell_type": "code",
   "execution_count": 35,
   "metadata": {
    "tags": []
   },
   "outputs": [
    {
     "name": "stderr",
     "output_type": "stream",
     "text": [
      "[nltk_data] Downloading package stopwords to\n",
      "[nltk_data]     C:\\Users\\janvi\\AppData\\Roaming\\nltk_data...\n",
      "[nltk_data]   Package stopwords is already up-to-date!\n"
     ]
    }
   ],
   "source": [
    "import os \n",
    "import nltk\n",
    "nltk.download('stopwords')\n",
    "from nltk.corpus import stopwords"
   ]
  },
  {
   "cell_type": "markdown",
   "metadata": {},
   "source": [
    "## Créer une une liste de stopwords"
   ]
  },
  {
   "cell_type": "code",
   "execution_count": 102,
   "metadata": {
    "tags": []
   },
   "outputs": [],
   "source": [
    "sw = stopwords.words(\"french\")\n",
    "sw += [\"les\", \"plus\", \"cette\", \"fait\", \"faire\", \"être\", \"deux\", \"comme\", \"dont\", \"tout\", \"pourquoi\",\"chef\",\n",
    "       \"ils\", \"bien\", \"sans\", \"peut\", \"tous\", \"après\", \"ainsi\", \"donc\", \"cet\", \"sous\", \"surtout\", \"branquart\",\n",
    "       \"celle\", \"entre\", \"encore\", \"toutes\", \"pendant\", \"moins\", \"dire\", \"cela\", \"non\", \"prochain\",\n",
    "       \"faut\", \"trois\", \"aussi\", \"dit\", \"avoir\", \"doit\", \"contre\", \"depuis\", \"autres\", \"but\", \"nouveau\",\n",
    "       \"van\", \"het\", \"autre\", \"jusqu\", \"ceux\", \"quelques\", \"rue\", \"mois\", \"leurs\", \"toute\", \"grand\",\n",
    "       \"générale\", \"jour\", \"jours\", \"parce\", \"etc\", \"seule\",\"suite\", \"liste\", \"alors\", \"vient\", \"moment\",\n",
    "       \"heures\", \"déjà\", \"chaque\", \"avant\", \"seul\", \"pris\", \"faits\", \"mis\", \"page\", \"millions\", \n",
    "       \"premier\", \"vie\", \"réponse\", \"nombre\", \"compte\", \"point\", \"presse\", \"travail\", \"mars\", \"commune\"]\n",
    "sw = set(sw)"
   ]
  },
  {
   "cell_type": "code",
   "execution_count": 103,
   "metadata": {},
   "outputs": [
    {
     "name": "stdout",
     "output_type": "stream",
     "text": [
      "242 stopwords:\n",
      " ['ai', 'aie', 'aient', 'aies', 'ainsi', 'ait', 'alors', 'après', 'as', 'au', 'aura', 'aurai', 'auraient', 'aurais', 'aurait', 'auras', 'aurez', 'auriez', 'aurions', 'aurons', 'auront', 'aussi', 'autre', 'autres', 'aux', 'avaient', 'avais', 'avait', 'avant', 'avec', 'avez', 'aviez', 'avions', 'avoir', 'avons', 'ayant', 'ayante', 'ayantes', 'ayants', 'ayez', 'ayons', 'bien', 'branquart', 'but', 'c', 'ce', 'cela', 'celle', 'ces', 'cet', 'cette', 'ceux', 'chaque', 'chef', 'comme', 'commune', 'compte', 'contre', 'd', 'dans', 'de', 'depuis', 'des', 'deux', 'dire', 'dit', 'doit', 'donc', 'dont', 'du', 'déjà', 'elle', 'en', 'encore', 'entre', 'es', 'est', 'et', 'etc', 'eu', 'eue', 'eues', 'eurent', 'eus', 'eusse', 'eussent', 'eusses', 'eussiez', 'eussions', 'eut', 'eux', 'eûmes', 'eût', 'eûtes', 'faire', 'fait', 'faits', 'faut', 'furent', 'fus', 'fusse', 'fussent', 'fusses', 'fussiez', 'fussions', 'fut', 'fûmes', 'fût', 'fûtes', 'grand', 'générale', 'het', 'heures', 'il', 'ils', 'j', 'je', 'jour', 'jours', 'jusqu', 'l', 'la', 'le', 'les', 'leur', 'leurs', 'liste', 'lui', 'm', 'ma', 'mais', 'mars', 'me', 'mes', 'millions', 'mis', 'moi', 'moins', 'mois', 'moment', 'mon', 'même', 'n', 'ne', 'nombre', 'non', 'nos', 'notre', 'nous', 'nouveau', 'on', 'ont', 'ou', 'page', 'par', 'parce', 'pas', 'pendant', 'peut', 'plus', 'point', 'pour', 'pourquoi', 'premier', 'presse', 'pris', 'prochain', 'qu', 'que', 'quelques', 'qui', 'rue', 'réponse', 's', 'sa', 'sans', 'se', 'sera', 'serai', 'seraient', 'serais', 'serait', 'seras', 'serez', 'seriez', 'serions', 'serons', 'seront', 'ses', 'seul', 'seule', 'soient', 'sois', 'soit', 'sommes', 'son', 'sont', 'sous', 'soyez', 'soyons', 'suis', 'suite', 'sur', 'surtout', 't', 'ta', 'te', 'tes', 'toi', 'ton', 'tous', 'tout', 'toute', 'toutes', 'travail', 'trois', 'tu', 'un', 'une', 'van', 'vie', 'vient', 'vos', 'votre', 'vous', 'y', 'à', 'étaient', 'étais', 'était', 'étant', 'étante', 'étantes', 'étants', 'étiez', 'étions', 'été', 'étée', 'étées', 'étés', 'êtes', 'être']\n"
     ]
    }
   ],
   "source": [
    "print(f\"{len(sw)} stopwords:\\n {sorted(sw)}\")"
   ]
  },
  {
   "cell_type": "markdown",
   "metadata": {},
   "source": [
    "## Tokeniser"
   ]
  },
  {
   "cell_type": "code",
   "execution_count": 104,
   "metadata": {
    "tags": []
   },
   "outputs": [],
   "source": [
    "# Récupération du contenu du fichier\n",
    "path = \"../data/camille_crise_economique_des_annees_1930/KB_JB421_1930-01-26_01-00002.txt\"\n",
    "limit = 10**8\n",
    "\n",
    "with open(path, 'r', encoding='utf-8') as f:\n",
    "    text = f.read()[:limit]"
   ]
  },
  {
   "cell_type": "code",
   "execution_count": 105,
   "metadata": {},
   "outputs": [],
   "source": [
    "# Lister les Fichiers\n",
    "data_path = \"../data/camille_crise_economique_des_annees_1930/\"\n",
    "files = os.listdir(data_path)"
   ]
  },
  {
   "cell_type": "code",
   "execution_count": 106,
   "metadata": {},
   "outputs": [
    {
     "name": "stdout",
     "output_type": "stream",
     "text": [
      "5403 words found\n",
      "11184 words found\n",
      "16236 words found\n"
     ]
    }
   ],
   "source": [
    "#Tokenization de tous les documents \n",
    "words = []\n",
    "for f in sorted(files)[:3]:\n",
    "    text = open(os.path.join(data_path, f), 'r', encoding=\"utf-8\").read()\n",
    "    words += nltk.wordpunct_tokenize(text)\n",
    "    print(f\"{len(words)} words found\")"
   ]
  },
  {
   "cell_type": "code",
   "execution_count": 107,
   "metadata": {},
   "outputs": [
    {
     "data": {
      "text/plain": [
       "['Samedi', '22', 'Mars', '1930', '.', '«', 'LE', 'DRAPEAU', 'ROUGE', '»']"
      ]
     },
     "execution_count": 107,
     "metadata": {},
     "output_type": "execute_result"
    }
   ],
   "source": [
    "words[:10]"
   ]
  },
  {
   "cell_type": "markdown",
   "metadata": {},
   "source": [
    "## Calculer la taille du vocabulaire"
   ]
  },
  {
   "cell_type": "code",
   "execution_count": 108,
   "metadata": {},
   "outputs": [
    {
     "name": "stdout",
     "output_type": "stream",
     "text": [
      "5891 words kept (3104 different word forms)\n"
     ]
    }
   ],
   "source": [
    "# Eliminer les stopwords et les termes non alphabétiques\n",
    "kept = [w.lower() for w in words if len(w) > 2 and w.isalpha() and w.lower() not in sw]\n",
    "voc = set(kept)\n",
    "print(f\"{len(kept)} words kept ({len(voc)} different word forms)\")"
   ]
  },
  {
   "cell_type": "markdown",
   "metadata": {},
   "source": [
    "## Récupérer les mots les plus fréquents et en faire un plot"
   ]
  },
  {
   "cell_type": "code",
   "execution_count": 109,
   "metadata": {},
   "outputs": [
    {
     "data": {
      "text/plain": [
       "[('pays', 43),\n",
       " ('crise', 36),\n",
       " ('travailleurs', 36),\n",
       " ('ouvriers', 35),\n",
       " ('social', 34),\n",
       " ('parti', 31),\n",
       " ('fascistes', 26),\n",
       " ('guerre', 24),\n",
       " ('révolutionnaire', 22),\n",
       " ('masses', 22),\n",
       " ('lutte', 22),\n",
       " ('communiste', 22),\n",
       " ('grève', 20),\n",
       " ('mineurs', 18),\n",
       " ('gouvernement', 18),\n",
       " ('soviétique', 18),\n",
       " ('prix', 17),\n",
       " ('bourgeoisie', 16),\n",
       " ('réformistes', 16),\n",
       " ('fasciste', 15),\n",
       " ('économique', 15),\n",
       " ('bruxelles', 14),\n",
       " ('capitaliste', 14),\n",
       " ('chômage', 14),\n",
       " ('classe', 14),\n",
       " ('ouvrière', 14),\n",
       " ('politique', 13),\n",
       " ('prolétariat', 13),\n",
       " ('situation', 13),\n",
       " ('patrons', 13),\n",
       " ('général', 12),\n",
       " ('révolutionnaires', 12),\n",
       " ('démocratie', 12),\n",
       " ('février', 12),\n",
       " ('kolkhozes', 12),\n",
       " ('drapeau', 11),\n",
       " ('rouge', 11),\n",
       " ('amis', 11),\n",
       " ('développement', 11),\n",
       " ('mouvement', 11),\n",
       " ('production', 11),\n",
       " ('salaires', 11),\n",
       " ('nouvelle', 11),\n",
       " ('internationale', 11),\n",
       " ('socialiste', 10),\n",
       " ('grande', 10),\n",
       " ('mondial', 10),\n",
       " ('etats', 10),\n",
       " ('unis', 10),\n",
       " ('paysans', 10),\n",
       " ('grandes', 10),\n",
       " ('anti', 10),\n",
       " ('fêtes', 10),\n",
       " ('paris', 10),\n",
       " ('année', 10),\n",
       " ('capitalistes', 9),\n",
       " ('peuple', 9),\n",
       " ('révolution', 9),\n",
       " ('impérialisme', 9),\n",
       " ('fascisme', 9),\n",
       " ('charleroi', 9),\n",
       " ('avril', 9),\n",
       " ('police', 9),\n",
       " ('combattants', 9),\n",
       " ('conférence', 9),\n",
       " ('mai', 9),\n",
       " ('capitalisme', 8),\n",
       " ('mondiale', 8),\n",
       " ('syndicats', 8),\n",
       " ('france', 8),\n",
       " ('belgique', 8),\n",
       " ('centenaire', 8),\n",
       " ('camarades', 8),\n",
       " ('forces', 8),\n",
       " ('manifestation', 8),\n",
       " ('années', 8),\n",
       " ('assurances', 8),\n",
       " ('sociales', 8),\n",
       " ('rouges', 7),\n",
       " ('communistes', 7),\n",
       " ('belge', 7),\n",
       " ('union', 7),\n",
       " ('giron', 7),\n",
       " ('essor', 7),\n",
       " ('capital', 7),\n",
       " ('chute', 7),\n",
       " ('organisation', 7),\n",
       " ('marché', 7),\n",
       " ('baisse', 7),\n",
       " ('diminution', 7),\n",
       " ('semaines', 7),\n",
       " ('chômeurs', 7),\n",
       " ('flamand', 7),\n",
       " ('lois', 7),\n",
       " ('action', 7),\n",
       " ('œuvre', 7),\n",
       " ('marx', 7),\n",
       " ('provocateurs', 7),\n",
       " ('misère', 6),\n",
       " ('journaux', 6)]"
      ]
     },
     "execution_count": 109,
     "metadata": {},
     "output_type": "execute_result"
    }
   ],
   "source": [
    "fdist = nltk.FreqDist(kept)\n",
    "fdist.most_common(100)"
   ]
  },
  {
   "cell_type": "code",
   "execution_count": 110,
   "metadata": {
    "tags": []
   },
   "outputs": [
    {
     "data": {
      "image/png": "[encoded data removed]",
      "text/plain": [
       "<Figure size 640x480 with 1 Axes>"
      ]
     },
     "metadata": {},
     "output_type": "display_data"
    },
    {
     "data": {
      "text/plain": [
       "<AxesSubplot: xlabel='Samples', ylabel='Cumulative Counts'>"
      ]
     },
     "execution_count": 110,
     "metadata": {},
     "output_type": "execute_result"
    }
   ],
   "source": [
    "# Plot: les n mots les plus fréquents\n",
    "n = 10\n",
    "fdist.plot(n, cumulative=True)"
   ]
  },
  {
   "cell_type": "markdown",
   "metadata": {},
   "source": [
    "## Détecter les Hapax (mots qui n'apparaissent qu'une fois dans le corpus)"
   ]
  },
  {
   "cell_type": "code",
   "execution_count": 111,
   "metadata": {},
   "outputs": [
    {
     "data": {
      "text/plain": [
       "['empêchent',\n",
       " 'évidemment',\n",
       " 'homme',\n",
       " 'stoc',\n",
       " 'rugir',\n",
       " 'mugir',\n",
       " 'ménagerie',\n",
       " 'employé',\n",
       " 'talents',\n",
       " 'dénoncer',\n",
       " 'acquemottè',\n",
       " 'propos',\n",
       " 'parade',\n",
       " 'polonais',\n",
       " 'collège',\n",
       " 'tombes',\n",
       " 'catholique',\n",
       " 'empêché',\n",
       " 'rené',\n",
       " 'insomnie',\n",
       " 'guérir',\n",
       " 'pondu',\n",
       " 'reconnaissons',\n",
       " 'knock',\n",
       " 'out',\n",
       " 'bière',\n",
       " 'vocabulaire',\n",
       " 'riche',\n",
       " 'voyoucratic',\n",
       " 'prêcheurs']"
      ]
     },
     "execution_count": 111,
     "metadata": {},
     "output_type": "execute_result"
    }
   ],
   "source": [
    "fdist.hapaxes()[:30]"
   ]
  },
  {
   "cell_type": "markdown",
   "metadata": {},
   "source": [
    "## Trouver les mots les plus longs du corpus"
   ]
  },
  {
   "cell_type": "code",
   "execution_count": 112,
   "metadata": {
    "tags": []
   },
   "outputs": [
    {
     "data": {
      "text/plain": [
       "['illllllllllllllllllllllllllllllllillllllllllllilllllllllllll',\n",
       " 'illllllllllllllllllllllllllillllllllllllllllilllllllllllllli',\n",
       " 'iiilllillllllllllillllllllllllllllllllllllllllllllllllllllll',\n",
       " 'ïïlllllllllllllllllllllllllillllllllllllllllllllllllllllllr',\n",
       " 'ullllllllllllllllllllllilllllllllllllllllllllllllllllllllh',\n",
       " 'iiiiiiiiiiiiiiiiiiiiiiiiiiiiiiiiiiiihillilllllllllllllll',\n",
       " 'iiiiiiiiiiiiiiiiiiiiiiiiiiimiiiiiiiiiiiiiiiiiiiiiiiiibnn',\n",
       " 'iiiiimiiiiiiiiiiiiiimiiiiiiiiuiiiiiiiiimmiiiiiimi',\n",
       " 'iiiiuuuiiiiiiiiiiiiiiiiiiiiiiiiiiiiiihi',\n",
       " 'interpénétration',\n",
       " 'mieffiwmtmvmcsea',\n",
       " 'révolutionnaires',\n",
       " 'particulièrement',\n",
       " 'antiimpérialiste',\n",
       " 'assujettissement',\n",
       " 'collectivisation',\n",
       " 'gouvernementales',\n",
       " 'supplémentaires',\n",
       " 'internationales',\n",
       " 'intensification',\n",
       " 'scrupuleusement',\n",
       " 'reconstitueront',\n",
       " 'impitoyablement',\n",
       " 'rationalisation',\n",
       " 'administrations',\n",
       " 'administrateurs',\n",
       " 'démagogiquement',\n",
       " 'gouvernementale',\n",
       " 'révolutionnaire',\n",
       " 'caractéristique']"
      ]
     },
     "execution_count": 112,
     "metadata": {},
     "output_type": "execute_result"
    }
   ],
   "source": [
    "n = 30\n",
    "sorted(voc, key=len, reverse=True)[:n]"
   ]
  }
 ],
 "metadata": {
  "kernelspec": {
   "display_name": "Python 3.10.7 ('tac_venv': venv)",
   "language": "python",
   "name": "python3"
  },
  "language_info": {
   "codemirror_mode": {
    "name": "ipython",
    "version": 3
   },
   "file_extension": ".py",
   "mimetype": "text/x-python",
   "name": "python",
   "nbconvert_exporter": "python",
   "pygments_lexer": "ipython3",
   "version": "3.10.7"
  },
  "vscode": {
   "interpreter": {
    "hash": "bf1c0e32efbc1b0a30fa46d6ab60b25f74a78c177210c206f5ce854a430d1ba2"
   }
  }
 },
 "nbformat": 4,
 "nbformat_minor": 4
}
