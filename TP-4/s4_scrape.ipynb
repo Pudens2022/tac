{
 "cells": [
  {
   "cell_type": "markdown",
   "metadata": {},
   "source": [
    "# Scraping: récupération de la page d'accueil du journal Le Soir\n",
    "\n",
    "Dans ce notebook, nous créons un robot qui va ouvrir la page d'accueil du site du journal [Le Soir](https://www.lesoir.be/) et récupérer le titre de tous les articles du jour et les stocker dans un fichier csv."
   ]
  },
  {
   "cell_type": "markdown",
   "metadata": {},
   "source": [
    "## Imports"
   ]
  },
  {
   "cell_type": "code",
   "execution_count": 1,
   "metadata": {},
   "outputs": [],
   "source": [
    "import os\n",
    "import re\n",
    "import time\n",
    "import requests\n",
    "from bs4 import BeautifulSoup\n",
    "import pandas as pd"
   ]
  },
  {
   "cell_type": "markdown",
   "metadata": {},
   "source": [
    "## Récupération de tous les articles de la page d'accueil\n",
    "\n"
   ]
  },
  {
   "cell_type": "code",
   "execution_count": 2,
   "metadata": {},
   "outputs": [],
   "source": [
    "headers = {'User-Agent': 'Mozilla/5.0 (Macintosh; Intel Mac OS X 10_10_1) AppleWebKit/537.36 (KHTML, like Gecko) Chrome/39.0.2171.95 Safari/537.36'}\n",
    "\n",
    "articles = []\n",
    "\n",
    "root_url = f\"https://www.lesoir.be\"\n",
    "response = requests.get(root_url, headers=headers)\n",
    "soup = BeautifulSoup(response.text, 'html.parser')\n",
    "for link in soup.find_all(\"a\", {\"class\":\"r-article--link\"}):\n",
    "    title = link.text.strip()\n",
    "    url = root_url + link.get('href')\n",
    "    articles.append([url, title])"
   ]
  },
  {
   "cell_type": "code",
   "execution_count": 3,
   "metadata": {},
   "outputs": [
    {
     "data": {
      "text/plain": [
       "88"
      ]
     },
     "execution_count": 3,
     "metadata": {},
     "output_type": "execute_result"
    }
   ],
   "source": [
    "# Affichage du nombre d'articles récupérés\n",
    "len(articles)"
   ]
  },
  {
   "cell_type": "code",
   "execution_count": 4,
   "metadata": {},
   "outputs": [
    {
     "data": {
      "text/plain": [
       "[['https://www.lesoir.be/478559/article/2022-11-22/sept-familles-sur-dix-ont-du-mal-concilier-vie-privee-et-vie-professionnelle',\n",
       "  'Sept familles sur dix ont du mal à concilier vie privée et vie professionnelle'],\n",
       " ['https://www.lesoir.be/478630/article/2022-11-22/rd-congo-la-domination-des-colons-belges-merite-reparation',\n",
       "  'RD Congo: la domination des colons belges mérite réparation'],\n",
       " ['https://www.lesoir.be/478631/article/2022-11-22/coupe-du-monde-vers-un-retour-de-romelu-lukaku-contre-le-maroc',\n",
       "  'Coupe du monde: vers un retour de Romelu Lukaku contre le Maroc?'],\n",
       " ['https://www.lesoir.behttp://soirmag.lesoir.be/478610/article/2022-11-22/lex-premiere-ministre-danoise-brave-les-interdits-avec-une-tenue-symbolique-au',\n",
       "  'L’ex-Première ministre danoise brave les interdits avec une tenue symbolique au Mondial (photos)'],\n",
       " ['https://www.lesoir.be/478627/article/2022-11-22/votre-epargne-devrait-bientot-etre-mieux-remuneree',\n",
       "  'Votre épargne devrait bientôt être mieux rémunérée'],\n",
       " ['https://www.lesoir.be/478555/article/2022-11-22/la-police-met-en-garde-contre-une-nouvelle-escroquerie',\n",
       "  'La police met en garde contre une nouvelle escroquerie'],\n",
       " ['https://www.lesoir.be/478600/article/2022-11-22/podcast-quest-ce-que-la-sequence-du-brassard-dit-du-monde-du-football',\n",
       "  'Podcast – Qu’est-ce que la séquence du «brassard» dit du monde du football?'],\n",
       " ['https://www.lesoir.be/478611/article/2022-11-22/budget-2023-la-belgique-depense-trop',\n",
       "  'Budget 2023: la Belgique dépense trop'],\n",
       " ['https://www.lesoir.be/478584/article/2022-11-22/policier-tue-schaerbeek-le-touchant-message-de-la-famille-de-thomas-monjoie',\n",
       "  'Policier tué à Schaerbeek: le touchant message de la famille de Thomas Monjoie'],\n",
       " ['https://www.lesoir.be/478605/article/2022-11-22/cinema-live-streams-metavers-les-concerts-passent-au-virtuel',\n",
       "  'Cinéma, live streams, métavers: les concerts passent au virtuel']]"
      ]
     },
     "execution_count": 4,
     "metadata": {},
     "output_type": "execute_result"
    }
   ],
   "source": [
    "# Affichage des 10 premières entrées\n",
    "articles[:10]"
   ]
  },
  {
   "cell_type": "markdown",
   "metadata": {},
   "source": [
    "## Création d'un dataframe avec les liens et les titres des articles\n"
   ]
  },
  {
   "cell_type": "code",
   "execution_count": 5,
   "metadata": {},
   "outputs": [
    {
     "data": {
      "text/html": [
       "<div>\n",
       "<style scoped>\n",
       "    .dataframe tbody tr th:only-of-type {\n",
       "        vertical-align: middle;\n",
       "    }\n",
       "\n",
       "    .dataframe tbody tr th {\n",
       "        vertical-align: top;\n",
       "    }\n",
       "\n",
       "    .dataframe thead th {\n",
       "        text-align: right;\n",
       "    }\n",
       "</style>\n",
       "<table border=\"1\" class=\"dataframe\">\n",
       "  <thead>\n",
       "    <tr style=\"text-align: right;\">\n",
       "      <th></th>\n",
       "      <th>link</th>\n",
       "      <th>title</th>\n",
       "    </tr>\n",
       "  </thead>\n",
       "  <tbody>\n",
       "    <tr>\n",
       "      <th>0</th>\n",
       "      <td>https://www.lesoir.be/478559/article/2022-11-2...</td>\n",
       "      <td>Sept familles sur dix ont du mal à concilier v...</td>\n",
       "    </tr>\n",
       "    <tr>\n",
       "      <th>1</th>\n",
       "      <td>https://www.lesoir.be/478630/article/2022-11-2...</td>\n",
       "      <td>RD Congo: la domination des colons belges méri...</td>\n",
       "    </tr>\n",
       "    <tr>\n",
       "      <th>2</th>\n",
       "      <td>https://www.lesoir.be/478631/article/2022-11-2...</td>\n",
       "      <td>Coupe du monde: vers un retour de Romelu Lukak...</td>\n",
       "    </tr>\n",
       "    <tr>\n",
       "      <th>3</th>\n",
       "      <td>https://www.lesoir.behttp://soirmag.lesoir.be/...</td>\n",
       "      <td>L’ex-Première ministre danoise brave les inter...</td>\n",
       "    </tr>\n",
       "    <tr>\n",
       "      <th>4</th>\n",
       "      <td>https://www.lesoir.be/478627/article/2022-11-2...</td>\n",
       "      <td>Votre épargne devrait bientôt être mieux rémun...</td>\n",
       "    </tr>\n",
       "    <tr>\n",
       "      <th>...</th>\n",
       "      <td>...</td>\n",
       "      <td>...</td>\n",
       "    </tr>\n",
       "    <tr>\n",
       "      <th>83</th>\n",
       "      <td>https://www.lesoir.be/476670/article/2022-11-1...</td>\n",
       "      <td>Envoyer un colis: une opération simplifiée à m...</td>\n",
       "    </tr>\n",
       "    <tr>\n",
       "      <th>84</th>\n",
       "      <td>https://www.lesoir.be/476456/article/2022-11-1...</td>\n",
       "      <td>Les stations-services, nouveaux «lieux de soci...</td>\n",
       "    </tr>\n",
       "    <tr>\n",
       "      <th>85</th>\n",
       "      <td>https://www.lesoir.be/476543/article/2022-11-1...</td>\n",
       "      <td>Etude: comment les enfants vivent la garde alt...</td>\n",
       "    </tr>\n",
       "    <tr>\n",
       "      <th>86</th>\n",
       "      <td>https://www.lesoir.be/476493/article/2022-11-1...</td>\n",
       "      <td>Les Belges face à la crise – La famille Monami...</td>\n",
       "    </tr>\n",
       "    <tr>\n",
       "      <th>87</th>\n",
       "      <td>https://www.lesoir.be/473636/article/2022-10-2...</td>\n",
       "      <td>Reportage\\nCrises climatique et énergétique: C...</td>\n",
       "    </tr>\n",
       "  </tbody>\n",
       "</table>\n",
       "<p>88 rows × 2 columns</p>\n",
       "</div>"
      ],
      "text/plain": [
       "                                                 link  \\\n",
       "0   https://www.lesoir.be/478559/article/2022-11-2...   \n",
       "1   https://www.lesoir.be/478630/article/2022-11-2...   \n",
       "2   https://www.lesoir.be/478631/article/2022-11-2...   \n",
       "3   https://www.lesoir.behttp://soirmag.lesoir.be/...   \n",
       "4   https://www.lesoir.be/478627/article/2022-11-2...   \n",
       "..                                                ...   \n",
       "83  https://www.lesoir.be/476670/article/2022-11-1...   \n",
       "84  https://www.lesoir.be/476456/article/2022-11-1...   \n",
       "85  https://www.lesoir.be/476543/article/2022-11-1...   \n",
       "86  https://www.lesoir.be/476493/article/2022-11-1...   \n",
       "87  https://www.lesoir.be/473636/article/2022-10-2...   \n",
       "\n",
       "                                                title  \n",
       "0   Sept familles sur dix ont du mal à concilier v...  \n",
       "1   RD Congo: la domination des colons belges méri...  \n",
       "2   Coupe du monde: vers un retour de Romelu Lukak...  \n",
       "3   L’ex-Première ministre danoise brave les inter...  \n",
       "4   Votre épargne devrait bientôt être mieux rémun...  \n",
       "..                                                ...  \n",
       "83  Envoyer un colis: une opération simplifiée à m...  \n",
       "84  Les stations-services, nouveaux «lieux de soci...  \n",
       "85  Etude: comment les enfants vivent la garde alt...  \n",
       "86  Les Belges face à la crise – La famille Monami...  \n",
       "87  Reportage\\nCrises climatique et énergétique: C...  \n",
       "\n",
       "[88 rows x 2 columns]"
      ]
     },
     "execution_count": 5,
     "metadata": {},
     "output_type": "execute_result"
    }
   ],
   "source": [
    "df = pd.DataFrame(articles, columns=['link', 'title'])\n",
    "df"
   ]
  },
  {
   "cell_type": "code",
   "execution_count": 6,
   "metadata": {},
   "outputs": [],
   "source": [
    "# Sauvegarde du dataframe dans un fichier csv\n",
    "df.to_csv(f\"../data/lesoir_{time.strftime('%Y%m%d')}.csv\", index=False)"
   ]
  },
  {
   "cell_type": "markdown",
   "metadata": {},
   "source": [
    "## Téléchargement d'un article et affichage du texte"
   ]
  },
  {
   "cell_type": "code",
   "execution_count": 7,
   "metadata": {},
   "outputs": [
    {
     "name": "stdout",
     "output_type": "stream",
     "text": [
      "Sept familles sur dix ont du mal à concilier vie privée et vie professionnelle\n",
      "==================================\n",
      "Le Baromètre 2022 de la Ligue des familles relève que plus de 80 % des parents sont favorables au télétravail. Il constate aussi que les inégalités perdurent entre les femmes et les hommes.\n",
      "==================================\n",
      "  C ’est le défi majeur des parents ! Le nouveau Baromètre de la ligue des Familles pour 2022 nous apprend que 70 % d’entre eux estiment que la conciliation de leur vie professionnelle, à temps plein, et de leur vie privée, avec les enfants, reste très compliquée. Surtout pour les femmes. Un pourcentage qui grimpe à 81 % quand il s’agit des parents d’enfants de 0 à 3 ans. C’est que les horaires de travail sont en inadéquation avec les horaires des écoles et même des garderies scolaires. \n",
      "\n"
     ]
    }
   ],
   "source": [
    "# Récupération du premier lien du dataframe\n",
    "article_url = df.iloc[0][0]\n",
    "\n",
    "# Ouverture de la page\n",
    "response = requests.get(article_url, headers=headers)\n",
    "soup = BeautifulSoup(response.text, 'html.parser')\n",
    "\n",
    "# Parsing du contenu\n",
    "title = soup.find(\"h1\").get_text(separator=' ')\n",
    "chapo = soup.find(\"r-article--chapo\").get_text(separator=' ')\n",
    "content = soup.find(\"r-article--section\").get_text(separator=' ')\n",
    "\n",
    "print(title)\n",
    "print(\"==================================\")\n",
    "print(chapo)\n",
    "print(\"==================================\")\n",
    "print(content)"
   ]
  },
  {
   "cell_type": "markdown",
   "metadata": {},
   "source": [
    "### Nettoyage du texte à l'aide d'expressions régulières"
   ]
  },
  {
   "cell_type": "code",
   "execution_count": 8,
   "metadata": {},
   "outputs": [
    {
     "name": "stdout",
     "output_type": "stream",
     "text": [
      "  C ’est le défi majeur des parents ! Le nouveau Baromètre de la ligue des Familles pour 2022 nous apprend que 70 % d’entre eux estiment que la conciliation de leur vie professionnelle, à temps plein, et de leur vie privée, avec les enfants, reste très compliquée. Surtout pour les femmes. Un pourcentage qui grimpe à 81 % quand il s’agit des parents d’enfants de 0 à 3 ans. C’est que les horaires de travail sont en inadéquation avec les horaires des écoles et même des garderies scolaires. \n",
      "\n",
      "==================================\n",
      " C ’est le défi majeur des parents ! Le nouveau Baromètre de la ligue des Familles pour 2022 nous apprend que 70 % d’entre eux estiment que la conciliation de leur vie professionnelle, à temps plein, et de leur vie privée, avec les enfants, reste très compliquée. Surtout pour les femmes. Un pourcentage qui grimpe à 81 % quand il s’agit des parents d’enfants de 0 à 3 ans. C’est que les horaires de travail sont en inadéquation avec les horaires des écoles et même des garderies scolaires. \n"
     ]
    }
   ],
   "source": [
    "# Suppression de tout ce qui se trouve entre parenthèses\n",
    "clean_content = re.sub(\"\\([^\\)]+\\)\", \" \", content)\n",
    "# Suppression des espaces multiples\n",
    "clean_content = re.sub(\"\\s+\", \" \", clean_content)\n",
    "\n",
    "print(content)\n",
    "print(\"==================================\")\n",
    "print(clean_content)\n"
   ]
  },
  {
   "cell_type": "markdown",
   "metadata": {},
   "source": [
    "### Création d'un fichier avec le contenu de l'article\n"
   ]
  },
  {
   "cell_type": "code",
   "execution_count": 9,
   "metadata": {},
   "outputs": [],
   "source": [
    "with open(\"../data/lesoir_example.txt\", \"w\") as writer:\n",
    "    writer.write(f\"{title}\\n\\n{chapo}\\n\\n{clean_content}\")"
   ]
  },
  {
   "cell_type": "markdown",
   "metadata": {},
   "source": [
    "## Pour en savoir plus"
   ]
  },
  {
   "cell_type": "markdown",
   "metadata": {},
   "source": [
    "- Le web scraping avec Python: https://realpython.com/beautiful-soup-web-scraper-python/\n",
    "- Tutoriel sur les expressions régulières: https://www.w3schools.com/python/python_regex.asp"
   ]
  }
 ],
 "metadata": {
  "kernelspec": {
   "display_name": "Python 3.10.7 ('tac_venv': venv)",
   "language": "python",
   "name": "python3"
  },
  "language_info": {
   "codemirror_mode": {
    "name": "ipython",
    "version": 3
   },
   "file_extension": ".py",
   "mimetype": "text/x-python",
   "name": "python",
   "nbconvert_exporter": "python",
   "pygments_lexer": "ipython3",
   "version": "3.10.7"
  },
  "vscode": {
   "interpreter": {
    "hash": "bf1c0e32efbc1b0a30fa46d6ab60b25f74a78c177210c206f5ce854a430d1ba2"
   }
  }
 },
 "nbformat": 4,
 "nbformat_minor": 4
}
