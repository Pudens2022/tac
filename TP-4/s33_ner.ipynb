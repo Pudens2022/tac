{
 "cells": [
  {
   "cell_type": "markdown",
   "metadata": {},
   "source": [
    "# Reconnaissance d'entités nommées avec SpaCy"
   ]
  },
  {
   "cell_type": "markdown",
   "metadata": {},
   "source": [
    "La documentation est accessible ici: https://spacy.io/api"
   ]
  },
  {
   "cell_type": "markdown",
   "metadata": {},
   "source": [
    "## Imports"
   ]
  },
  {
   "cell_type": "code",
   "execution_count": 1,
   "metadata": {},
   "outputs": [],
   "source": [
    "from collections import defaultdict\n",
    "import sys\n",
    "import spacy\n",
    "from spacy.lang.fr.examples import sentences"
   ]
  },
  {
   "cell_type": "code",
   "execution_count": 2,
   "metadata": {},
   "outputs": [],
   "source": [
    "nlp = spacy.load('fr_core_news_md')"
   ]
  },
  {
   "cell_type": "markdown",
   "metadata": {},
   "source": [
    "## Exemple sur un corpus de test fourni par SpaCy"
   ]
  },
  {
   "cell_type": "code",
   "execution_count": 3,
   "metadata": {},
   "outputs": [
    {
     "data": {
      "text/plain": [
       "['Apple cherche à acheter une start-up anglaise pour 1 milliard de dollars',\n",
       " \"Les voitures autonomes déplacent la responsabilité de l'assurance vers les constructeurs\",\n",
       " \"San Francisco envisage d'interdire les robots coursiers sur les trottoirs\",\n",
       " 'Londres est une grande ville du Royaume-Uni',\n",
       " 'L’Italie choisit ArcelorMittal pour reprendre la plus grande aciérie d’Europe',\n",
       " \"Apple lance HomePod parce qu'il se sent menacé par l'Echo d'Amazon\",\n",
       " \"La France ne devrait pas manquer d'électricité cet été, même en cas de canicule\",\n",
       " 'Nouvelles attaques de Trump contre le maire de Londres',\n",
       " 'Où es-tu ?',\n",
       " 'Qui est le président de la France ?',\n",
       " 'Où est la capitale des États-Unis ?',\n",
       " 'Quand est né Barack Obama ?']"
      ]
     },
     "execution_count": 3,
     "metadata": {},
     "output_type": "execute_result"
    }
   ],
   "source": [
    "# Imprimer le corpus de Spacy\n",
    "sentences"
   ]
  },
  {
   "cell_type": "code",
   "execution_count": 4,
   "metadata": {},
   "outputs": [
    {
     "data": {
      "text/plain": [
       "'Apple cherche à acheter une start-up anglaise pour 1 milliard de dollars'"
      ]
     },
     "execution_count": 4,
     "metadata": {},
     "output_type": "execute_result"
    }
   ],
   "source": [
    "# Isoler la première phrase\n",
    "sent = sentences[0]\n",
    "sent"
   ]
  },
  {
   "cell_type": "code",
   "execution_count": 5,
   "metadata": {},
   "outputs": [],
   "source": [
    "# Traiter la phrase avec Spacy\n",
    "doc = nlp(sent)"
   ]
  },
  {
   "cell_type": "code",
   "execution_count": 6,
   "metadata": {},
   "outputs": [
    {
     "data": {
      "text/plain": [
       "spacy.tokens.doc.Doc"
      ]
     },
     "execution_count": 6,
     "metadata": {},
     "output_type": "execute_result"
    }
   ],
   "source": [
    "type(doc)"
   ]
  },
  {
   "cell_type": "code",
   "execution_count": 7,
   "metadata": {},
   "outputs": [
    {
     "data": {
      "text/plain": [
       "'Apple cherche à acheter une start-up anglaise pour 1 milliard de dollars'"
      ]
     },
     "execution_count": 7,
     "metadata": {},
     "output_type": "execute_result"
    }
   ],
   "source": [
    "doc.text"
   ]
  },
  {
   "cell_type": "code",
   "execution_count": 8,
   "metadata": {},
   "outputs": [
    {
     "data": {
      "text/plain": [
       "{'text': 'Apple cherche à acheter une start-up anglaise pour 1 milliard de dollars',\n",
       " 'ents': [{'start': 0, 'end': 5, 'label': 'ORG'}],\n",
       " 'sents': [{'start': 0, 'end': 33},\n",
       "  {'start': 33, 'end': 34},\n",
       "  {'start': 34, 'end': 72}],\n",
       " 'tokens': [{'id': 0,\n",
       "   'start': 0,\n",
       "   'end': 5,\n",
       "   'tag': 'PROPN',\n",
       "   'pos': 'PROPN',\n",
       "   'morph': '',\n",
       "   'lemma': 'Apple',\n",
       "   'dep': 'nsubj',\n",
       "   'head': 1},\n",
       "  {'id': 1,\n",
       "   'start': 6,\n",
       "   'end': 13,\n",
       "   'tag': 'VERB',\n",
       "   'pos': 'VERB',\n",
       "   'morph': 'Mood=Ind|Number=Sing|Person=3|Tense=Pres|VerbForm=Fin',\n",
       "   'lemma': 'cherche',\n",
       "   'dep': 'ROOT',\n",
       "   'head': 1},\n",
       "  {'id': 2,\n",
       "   'start': 14,\n",
       "   'end': 15,\n",
       "   'tag': 'ADP',\n",
       "   'pos': 'ADP',\n",
       "   'morph': '',\n",
       "   'lemma': 'à',\n",
       "   'dep': 'mark',\n",
       "   'head': 3},\n",
       "  {'id': 3,\n",
       "   'start': 16,\n",
       "   'end': 23,\n",
       "   'tag': 'VERB',\n",
       "   'pos': 'VERB',\n",
       "   'morph': 'VerbForm=Inf',\n",
       "   'lemma': 'acheter',\n",
       "   'dep': 'xcomp',\n",
       "   'head': 1},\n",
       "  {'id': 4,\n",
       "   'start': 24,\n",
       "   'end': 27,\n",
       "   'tag': 'DET',\n",
       "   'pos': 'DET',\n",
       "   'morph': 'Definite=Ind|Gender=Fem|Number=Sing|PronType=Art',\n",
       "   'lemma': 'un',\n",
       "   'dep': 'det',\n",
       "   'head': 5},\n",
       "  {'id': 5,\n",
       "   'start': 28,\n",
       "   'end': 33,\n",
       "   'tag': 'NOUN',\n",
       "   'pos': 'NOUN',\n",
       "   'morph': 'Gender=Fem|Number=Sing',\n",
       "   'lemma': 'start',\n",
       "   'dep': 'obj',\n",
       "   'head': 3},\n",
       "  {'id': 6,\n",
       "   'start': 33,\n",
       "   'end': 34,\n",
       "   'tag': 'NOUN',\n",
       "   'pos': 'NOUN',\n",
       "   'morph': 'Gender=Masc|Number=Sing',\n",
       "   'lemma': '-',\n",
       "   'dep': 'ROOT',\n",
       "   'head': 6},\n",
       "  {'id': 7,\n",
       "   'start': 34,\n",
       "   'end': 36,\n",
       "   'tag': 'X',\n",
       "   'pos': 'X',\n",
       "   'morph': '',\n",
       "   'lemma': 'up',\n",
       "   'dep': 'ROOT',\n",
       "   'head': 7},\n",
       "  {'id': 8,\n",
       "   'start': 37,\n",
       "   'end': 45,\n",
       "   'tag': 'ADJ',\n",
       "   'pos': 'ADJ',\n",
       "   'morph': 'Gender=Fem|Number=Sing',\n",
       "   'lemma': 'anglais',\n",
       "   'dep': 'amod',\n",
       "   'head': 7},\n",
       "  {'id': 9,\n",
       "   'start': 46,\n",
       "   'end': 50,\n",
       "   'tag': 'ADP',\n",
       "   'pos': 'ADP',\n",
       "   'morph': '',\n",
       "   'lemma': 'pour',\n",
       "   'dep': 'case',\n",
       "   'head': 11},\n",
       "  {'id': 10,\n",
       "   'start': 51,\n",
       "   'end': 52,\n",
       "   'tag': 'NUM',\n",
       "   'pos': 'NUM',\n",
       "   'morph': 'NumType=Card',\n",
       "   'lemma': '1',\n",
       "   'dep': 'nummod',\n",
       "   'head': 11},\n",
       "  {'id': 11,\n",
       "   'start': 53,\n",
       "   'end': 61,\n",
       "   'tag': 'NOUN',\n",
       "   'pos': 'NOUN',\n",
       "   'morph': 'Gender=Masc|NumType=Card|Number=Sing',\n",
       "   'lemma': 'milliard',\n",
       "   'dep': 'nmod',\n",
       "   'head': 7},\n",
       "  {'id': 12,\n",
       "   'start': 62,\n",
       "   'end': 64,\n",
       "   'tag': 'ADP',\n",
       "   'pos': 'ADP',\n",
       "   'morph': '',\n",
       "   'lemma': 'de',\n",
       "   'dep': 'case',\n",
       "   'head': 13},\n",
       "  {'id': 13,\n",
       "   'start': 65,\n",
       "   'end': 72,\n",
       "   'tag': 'NOUN',\n",
       "   'pos': 'NOUN',\n",
       "   'morph': 'Gender=Masc|Number=Plur',\n",
       "   'lemma': 'dollar',\n",
       "   'dep': 'nmod',\n",
       "   'head': 11}]}"
      ]
     },
     "execution_count": 8,
     "metadata": {},
     "output_type": "execute_result"
    }
   ],
   "source": [
    "doc.to_json()"
   ]
  },
  {
   "cell_type": "code",
   "execution_count": 9,
   "metadata": {},
   "outputs": [
    {
     "name": "stdout",
     "output_type": "stream",
     "text": [
      "'Apple cherche à acheter une start-up anglaise pour 1 milliard de dollars' contient les entités suivantes : Apple (ORG)\n",
      "'Les voitures autonomes déplacent la responsabilité de l'assurance vers les constructeurs' ne contient aucune entité\n",
      "'San Francisco envisage d'interdire les robots coursiers sur les trottoirs' contient les entités suivantes : San Francisco (LOC)\n",
      "'Londres est une grande ville du Royaume-Uni' contient les entités suivantes : Londres (LOC), Royaume-Uni (LOC)\n",
      "'L’Italie choisit ArcelorMittal pour reprendre la plus grande aciérie d’Europe' contient les entités suivantes : L’Italie (LOC), ArcelorMittal (ORG), Europe (LOC)\n",
      "'Apple lance HomePod parce qu'il se sent menacé par l'Echo d'Amazon' contient les entités suivantes : Apple (ORG), HomePod (MISC), Echo (ORG), Amazon (ORG)\n",
      "'La France ne devrait pas manquer d'électricité cet été, même en cas de canicule' contient les entités suivantes : La France (LOC)\n",
      "'Nouvelles attaques de Trump contre le maire de Londres' contient les entités suivantes : Trump (PER), Londres (LOC)\n",
      "'Où es-tu ?' contient les entités suivantes : Où es-tu ? (MISC)\n",
      "'Qui est le président de la France ?' contient les entités suivantes : la France (LOC)\n",
      "'Où est la capitale des États-Unis ?' contient les entités suivantes : États-Unis (LOC)\n",
      "'Quand est né Barack Obama ?' contient les entités suivantes : Barack Obama (PER)\n"
     ]
    }
   ],
   "source": [
    "# Appliquer le test sur toutes les phrases\n",
    "for sent in sentences:\n",
    "    doc = nlp(sent)\n",
    "    entities = []\n",
    "    for ent in doc.ents:\n",
    "        entities.append(f\"{ent.text} ({ent.label_})\")\n",
    "    if entities:\n",
    "        print(f\"'{doc.text}' contient les entités suivantes : {', '.join(entities)}\")\n",
    "    else:\n",
    "        print(f\"'{doc.text}' ne contient aucune entité\")"
   ]
  },
  {
   "cell_type": "markdown",
   "metadata": {},
   "source": [
    "## Appliquer la reconnaissance d'entités nommées sur notre corpus"
   ]
  },
  {
   "cell_type": "code",
   "execution_count": 10,
   "metadata": {},
   "outputs": [],
   "source": [
    "# Charger le texte\n",
    "n=1000000\n",
    "text=\"\"\n",
    "#text = open(\"../data/camille_Crise_economique/KB_JB838_1929-06-01_01-00001.txt\", encoding='utf-8').read()[:n]\n",
    "data_path = \"../data/camille_Crise_economique/\"\n",
    "files = os.listdir(data_path)\n",
    "#content_list = []\n",
    "for myFile in files:\n",
    "    with open(data_path+myFile, 'r', encoding='utf-8') as f:\n",
    "        text+= f.read()[:n]\n",
    "myText=text[:n]"
   ]
  },
  {
   "cell_type": "code",
   "execution_count": 11,
   "metadata": {},
   "outputs": [
    {
     "name": "stdout",
     "output_type": "stream",
     "text": [
      "CPU times: total: 15.3 s\n",
      "Wall time: 34.7 s\n"
     ]
    }
   ],
   "source": [
    "%%time\n",
    "# Traiter le texte\n",
    "\n",
    "doc = nlp(myText)"
   ]
  },
  {
   "cell_type": "code",
   "execution_count": 12,
   "metadata": {},
   "outputs": [],
   "source": [
    "# Compter les entités\n",
    "people = defaultdict(int)\n",
    "for ent in doc.ents:\n",
    "    if ent.label_ == \"PER\" and len(ent.text) > 3:\n",
    "        people[ent.text] += 1"
   ]
  },
  {
   "cell_type": "code",
   "execution_count": 13,
   "metadata": {},
   "outputs": [
    {
     "name": "stdout",
     "output_type": "stream",
     "text": [
      "M. Tardieu apparait 32 fois dans le corpus\n",
      "S. D. N. apparait 24 fois dans le corpus\n",
      "Soviets apparait 20 fois dans le corpus\n",
      "M. Jaspar apparait 16 fois dans le corpus\n",
      "Mutuel apparait 13 fois dans le corpus\n",
      "M. Briand apparait 13 fois dans le corpus\n",
      "M. Hymans apparait 11 fois dans le corpus\n",
      "Brüning apparait 10 fois dans le corpus\n",
      "M. Segers apparait 9 fois dans le corpus\n",
      "Roland DE apparait 8 fois dans le corpus\n",
      "Habsbourg apparait 8 fois dans le corpus\n",
      "Jaspar apparait 7 fois dans le corpus\n",
      "Lundi apparait 7 fois dans le corpus\n",
      "M. Van apparait 7 fois dans le corpus\n",
      "M. Dadenoser apparait 7 fois dans le corpus\n",
      "M. Hoover apparait 6 fois dans le corpus\n",
      "Tardieu apparait 6 fois dans le corpus\n",
      "Janssens apparait 6 fois dans le corpus\n",
      "Albert apparait 6 fois dans le corpus\n",
      "prince Léopold apparait 6 fois dans le corpus\n",
      "M. Max apparait 6 fois dans le corpus\n",
      "Hitler apparait 6 fois dans le corpus\n",
      "Paul Hymans apparait 6 fois dans le corpus\n",
      "Julien Liebaert apparait 6 fois dans le corpus\n",
      "P. T. T. apparait 6 fois dans le corpus\n",
      "Dickens apparait 6 fois dans le corpus\n",
      "Schober apparait 5 fois dans le corpus\n",
      "Poincaré apparait 5 fois dans le corpus\n",
      "Felten apparait 5 fois dans le corpus\n",
      "Rubens apparait 5 fois dans le corpus\n",
      "Briand apparait 5 fois dans le corpus\n",
      "Segers apparait 5 fois dans le corpus\n",
      "Heimwehren apparait 5 fois dans le corpus\n",
      "T. S. F. AVEC apparait 4 fois dans le corpus\n",
      "S. M. la Reine apparait 4 fois dans le corpus\n",
      "M. A. Guys apparait 4 fois dans le corpus\n",
      "prince Pierre apparait 4 fois dans le corpus\n",
      "M. Henderson apparait 4 fois dans le corpus\n",
      "président de la République apparait 4 fois dans le corpus\n",
      "M. Franklin-Bouillon apparait 4 fois dans le corpus\n",
      "Montgomery Ward apparait 4 fois dans le corpus\n",
      "Sears Roebuck apparait 4 fois dans le corpus\n",
      "Swinnens apparait 4 fois dans le corpus\n",
      "Adolphe Max apparait 4 fois dans le corpus\n",
      "M. Runciman apparait 4 fois dans le corpus\n",
      "Président apparait 4 fois dans le corpus\n",
      "M. Curtius apparait 4 fois dans le corpus\n",
      "Kenecott Copper apparait 4 fois dans le corpus\n",
      "baron Lemonnier apparait 4 fois dans le corpus\n",
      "M. Mussolini apparait 4 fois dans le corpus\n",
      "Milton apparait 4 fois dans le corpus\n",
      "Andrée apparait 4 fois dans le corpus\n",
      "duc d’Albe apparait 4 fois dans le corpus\n",
      "M. Aurilio apparait 4 fois dans le corpus\n",
      "M. Baels apparait 4 fois dans le corpus\n",
      "comte Sforza apparait 4 fois dans le corpus\n",
      "M. Heyman apparait 4 fois dans le corpus\n",
      "M. Pastur apparait 4 fois dans le corpus\n",
      "Georges Eekhoud apparait 4 fois dans le corpus\n",
      "M. Dietrich apparait 4 fois dans le corpus\n",
      "Stevenart apparait 4 fois dans le corpus\n",
      "Mme Hanau apparait 4 fois dans le corpus\n",
      "A. G. apparait 4 fois dans le corpus\n",
      "Bureaux apparait 3 fois dans le corpus\n",
      "MM. Jaspar apparait 3 fois dans le corpus\n",
      "Fils apparait 3 fois dans le corpus\n",
      "général Brialmont apparait 3 fois dans le corpus\n",
      "M. Delaisi apparait 3 fois dans le corpus\n",
      "Ripert apparait 3 fois dans le corpus\n",
      "M. Poncelet apparait 3 fois dans le corpus\n",
      "Rainier apparait 3 fois dans le corpus\n",
      "Louis apparait 3 fois dans le corpus\n",
      "président Hoover apparait 3 fois dans le corpus\n",
      "Hernani apparait 3 fois dans le corpus\n",
      "M. Poincaré apparait 3 fois dans le corpus\n",
      "Aristide Briand apparait 3 fois dans le corpus\n",
      "Ahmed Mirza apparait 3 fois dans le corpus\n",
      "Houtart apparait 3 fois dans le corpus\n",
      "M. X apparait 3 fois dans le corpus\n",
      "Koch apparait 3 fois dans le corpus\n",
      "Thomas apparait 3 fois dans le corpus\n",
      "M. van Maanen apparait 3 fois dans le corpus\n",
      "Henry apparait 3 fois dans le corpus\n",
      "M. Gérard apparait 3 fois dans le corpus\n",
      "Monsieur apparait 3 fois dans le corpus\n",
      "Heyman apparait 3 fois dans le corpus\n",
      "M. Moldenhauer apparait 3 fois dans le corpus\n",
      "M. Lloyd George apparait 3 fois dans le corpus\n",
      "Duce apparait 3 fois dans le corpus\n",
      "Stevin apparait 3 fois dans le corpus\n",
      "Walter Runciman apparait 3 fois dans le corpus\n",
      "M. Treviranus apparait 3 fois dans le corpus\n",
      "oette apparait 3 fois dans le corpus\n",
      "Léon Hautekeet apparait 3 fois dans le corpus\n",
      "Shaw apparait 3 fois dans le corpus\n",
      "M. Grandi apparait 3 fois dans le corpus\n",
      "Coste apparait 3 fois dans le corpus\n",
      "Instant apparait 3 fois dans le corpus\n",
      "Matilt apparait 3 fois dans le corpus\n",
      "Ministre apparait 3 fois dans le corpus\n",
      "Fromentin apparait 3 fois dans le corpus\n",
      "Vauthier apparait 3 fois dans le corpus\n",
      "Trésor apparait 3 fois dans le corpus\n",
      "Victor apparait 3 fois dans le corpus\n",
      "Van Langenhove apparait 3 fois dans le corpus\n",
      "M. Van Langenhove apparait 3 fois dans le corpus\n",
      "T. S. F. apparait 3 fois dans le corpus\n",
      "prince de Galles apparait 3 fois dans le corpus\n",
      "Saint-Hubert apparait 3 fois dans le corpus\n",
      "Laquler apparait 3 fois dans le corpus\n",
      "Christ apparait 3 fois dans le corpus\n",
      "Eugène Broerman apparait 3 fois dans le corpus\n",
      "Bernard Shaw apparait 3 fois dans le corpus\n",
      "Camille Cerf apparait 3 fois dans le corpus\n",
      "Bethlem apparait 3 fois dans le corpus\n",
      "M. Millikhan apparait 3 fois dans le corpus\n",
      "Dr Bredius apparait 3 fois dans le corpus\n",
      "Selliers apparait 3 fois dans le corpus\n",
      "François Albert apparait 3 fois dans le corpus\n",
      "Pabst apparait 3 fois dans le corpus\n",
      "H. Howes apparait 3 fois dans le corpus\n",
      "P. Lebrun apparait 3 fois dans le corpus\n",
      "F. N. C. apparait 3 fois dans le corpus\n",
      "M. Merget apparait 3 fois dans le corpus\n",
      "Bruant apparait 3 fois dans le corpus\n",
      "Doyen apparait 3 fois dans le corpus\n",
      "Charles Dickens apparait 3 fois dans le corpus\n",
      "Wellington apparait 3 fois dans le corpus\n",
      "Christophersen apparait 2 fois dans le corpus\n",
      "Paul-E. Cousin apparait 2 fois dans le corpus\n",
      "Brown apparait 2 fois dans le corpus\n",
      "Mgr Van Roey apparait 2 fois dans le corpus\n",
      "Bernheim apparait 2 fois dans le corpus\n",
      "Nuit apparait 2 fois dans le corpus\n",
      "Paul CROKAERT apparait 2 fois dans le corpus\n",
      "Pape apparait 2 fois dans le corpus\n",
      "Reine apparait 2 fois dans le corpus\n",
      "Hirsch apparait 2 fois dans le corpus\n",
      "Thomas Braun apparait 2 fois dans le corpus\n",
      "Verhaeren apparait 2 fois dans le corpus\n",
      "Guillaume Tell apparait 2 fois dans le corpus\n",
      "La Juive apparait 2 fois dans le corpus\n",
      "M. Ansseau apparait 2 fois dans le corpus\n",
      "M. De Grève apparait 2 fois dans le corpus\n",
      "sainte Catherine apparait 2 fois dans le corpus\n",
      "Charles Dumont apparait 2 fois dans le corpus\n",
      "Albert Devèze apparait 2 fois dans le corpus\n",
      "Mac Donald apparait 2 fois dans le corpus\n",
      "Antoinette apparait 2 fois dans le corpus\n",
      "Victor Hugo apparait 2 fois dans le corpus\n",
      "Mme Victor Hugo apparait 2 fois dans le corpus\n",
      "Lucien Hubert apparait 2 fois dans le corpus\n",
      "M. Herriot apparait 2 fois dans le corpus\n",
      "M. Caillaux apparait 2 fois dans le corpus\n",
      "Louis Marin apparait 2 fois dans le corpus\n",
      "général Koutepoff apparait 2 fois dans le corpus\n",
      "Rand Mines apparait 2 fois dans le corpus\n",
      "Nitrate Railways apparait 2 fois dans le corpus\n",
      "Nordd Lloyd apparait 2 fois dans le corpus\n",
      "Royal apparait 2 fois dans le corpus\n",
      "E. Marie apparait 2 fois dans le corpus\n",
      "Dame apparait 2 fois dans le corpus\n",
      "Diane de la Rue apparait 2 fois dans le corpus\n",
      "Cœur de Watts apparait 2 fois dans le corpus\n",
      "Pujol apparait 2 fois dans le corpus\n",
      "Mgr Marinis apparait 2 fois dans le corpus\n",
      "M. Nens apparait 2 fois dans le corpus\n",
      "Salomon apparait 2 fois dans le corpus\n",
      "François apparait 2 fois dans le corpus\n",
      "Robert Campin apparait 2 fois dans le corpus\n",
      "M. Mercier apparait 2 fois dans le corpus\n",
      "Frédéric apparait 2 fois dans le corpus\n",
      "prince Frédéric apparait 2 fois dans le corpus\n",
      "Frédéric de Mérode apparait 2 fois dans le corpus\n",
      "Van Roey apparait 2 fois dans le corpus\n",
      "Mortlock apparait 2 fois dans le corpus\n",
      "MM. Rogatchevsky apparait 2 fois dans le corpus\n",
      "Mme Clairbert apparait 2 fois dans le corpus\n",
      "Paul apparait 2 fois dans le corpus\n",
      "Renan apparait 2 fois dans le corpus\n",
      "Henri Poincaré apparait 2 fois dans le corpus\n",
      "Max Nordau apparait 2 fois dans le corpus\n",
      "Stresemann apparait 2 fois dans le corpus\n",
      "Lloyd George apparait 2 fois dans le corpus\n",
      "Simon Stevin apparait 2 fois dans le corpus\n",
      "Sylvain Van de Weyer apparait 2 fois dans le corpus\n",
      "Marguerite Van Eyck apparait 2 fois dans le corpus\n",
      "Mme Runciman apparait 2 fois dans le corpus\n",
      "Runciman apparait 2 fois dans le corpus\n",
      "Adrien van der Burch apparait 2 fois dans le corpus\n",
      "Louis Franck apparait 2 fois dans le corpus\n",
      "Irigoyen apparait 2 fois dans le corpus\n",
      "Henderson apparait 2 fois dans le corpus\n",
      "M. Wang apparait 2 fois dans le corpus\n",
      "Fethy apparait 2 fois dans le corpus\n",
      "Ismet apparait 2 fois dans le corpus\n",
      "Inaugurale apparait 2 fois dans le corpus\n",
      "baron Descamps apparait 2 fois dans le corpus\n",
      "M. Vauthier apparait 2 fois dans le corpus\n",
      "Moncheur apparait 2 fois dans le corpus\n"
     ]
    }
   ],
   "source": [
    "# Trier et imprimer\n",
    "\n",
    "sorted_people = sorted(people.items(), key=lambda kv: kv[1], reverse=True)\n",
    "\n",
    "for person, freq in sorted_people[:200]:\n",
    "    print(f\"{person} apparait {freq} fois dans le corpus\")"
   ]
  },
  {
   "cell_type": "markdown",
   "metadata": {},
   "source": [
    "Exercice: essayez de lister les lieux (LOC) et les organisations (ORG) les plus mentionnées dans le corpus"
   ]
  },
  {
   "cell_type": "code",
   "execution_count": null,
   "metadata": {},
   "outputs": [],
   "source": []
  }
 ],
 "metadata": {
  "kernelspec": {
   "display_name": "Python 3.10.7 ('tac_venv': venv)",
   "language": "python",
   "name": "python3"
  },
  "language_info": {
   "codemirror_mode": {
    "name": "ipython",
    "version": 3
   },
   "file_extension": ".py",
   "mimetype": "text/x-python",
   "name": "python",
   "nbconvert_exporter": "python",
   "pygments_lexer": "ipython3",
   "version": "3.10.7"
  },
  "vscode": {
   "interpreter": {
    "hash": "bf1c0e32efbc1b0a30fa46d6ab60b25f74a78c177210c206f5ce854a430d1ba2"
   }
  }
 },
 "nbformat": 4,
 "nbformat_minor": 4
}
