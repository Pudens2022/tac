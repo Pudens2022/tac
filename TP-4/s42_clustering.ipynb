{
 "cells": [
  {
   "cell_type": "markdown",
   "metadata": {},
   "source": [
    "# Clustering de documents"
   ]
  },
  {
   "cell_type": "markdown",
   "metadata": {},
   "source": [
    "## Imports"
   ]
  },
  {
   "cell_type": "code",
   "execution_count": 2,
   "metadata": {},
   "outputs": [],
   "source": [
    "import collections\n",
    "import os\n",
    "import string\n",
    "import sys\n",
    "\n",
    "import pandas as pd\n",
    "from nltk import word_tokenize\n",
    "from nltk.corpus import stopwords\n",
    "from pprint import pprint\n",
    "from sklearn.cluster import KMeans\n",
    "from sklearn.feature_extraction.text import TfidfVectorizer\n",
    "from sklearn.decomposition import PCA\n",
    "import numpy as np\n",
    "import matplotlib.pyplot as plt\n",
    "from scipy.spatial.distance import cosine"
   ]
  },
  {
   "cell_type": "code",
   "execution_count": 3,
   "metadata": {},
   "outputs": [
    {
     "name": "stderr",
     "output_type": "stream",
     "text": [
      "[nltk_data] Downloading package punkt to\n",
      "[nltk_data]     C:\\Users\\janvi\\AppData\\Roaming\\nltk_data...\n",
      "[nltk_data]   Package punkt is already up-to-date!\n"
     ]
    },
    {
     "data": {
      "text/plain": [
       "True"
      ]
     },
     "execution_count": 3,
     "metadata": {},
     "output_type": "execute_result"
    }
   ],
   "source": [
    "import nltk\n",
    "\n",
    "nltk.download('punkt')"
   ]
  },
  {
   "cell_type": "code",
   "execution_count": 4,
   "metadata": {},
   "outputs": [],
   "source": [
    "data_path = \"../data/camille_Crise_economique/\""
   ]
  },
  {
   "cell_type": "markdown",
   "metadata": {},
   "source": [
    "## Choisir une décennie"
   ]
  },
  {
   "cell_type": "markdown",
   "metadata": {},
   "source": [
    "## Charger tous les  fichiers de la décennie et en créer une liste de textes"
   ]
  },
  {
   "cell_type": "code",
   "execution_count": 5,
   "metadata": {},
   "outputs": [],
   "source": [
    "files = [f for f in sorted(os.listdir(data_path))]"
   ]
  },
  {
   "cell_type": "code",
   "execution_count": 6,
   "metadata": {},
   "outputs": [
    {
     "data": {
      "text/plain": [
       "['KB_JB838_1929-06-01_01-00001.txt',\n",
       " 'KB_JB838_1930-01-10_01-00001.txt',\n",
       " 'KB_JB838_1930-02-26_01-00002.txt',\n",
       " 'KB_JB838_1930-03-01_01-00003.txt',\n",
       " 'KB_JB838_1930-04-06_01-00001.txt']"
      ]
     },
     "execution_count": 6,
     "metadata": {},
     "output_type": "execute_result"
    }
   ],
   "source": [
    "# Exemple de fichiers\n",
    "files[:5]"
   ]
  },
  {
   "cell_type": "code",
   "execution_count": 7,
   "metadata": {},
   "outputs": [],
   "source": [
    "texts = [open(data_path + f, \"r\", encoding=\"utf-8\").read() for f in files]"
   ]
  },
  {
   "cell_type": "code",
   "execution_count": 8,
   "metadata": {},
   "outputs": [
    {
     "data": {
      "text/plain": [
       "'a*’ CW\\'- tm p ^ •‘•\" \\' ; “•■ ’• ! ‘ . \\'-■)#? ’ *>. •/\\' •\\' \\' : ‘ \\'•‘‘‘■■\\'.H ; 5j ;■\\'* y i(\\' \\' ,v ‘ •: : \\' \\'- ’ ■ \\' •’■”•\\' \\'\"’’ ■- ■ • ^^■1 \" ;“ *\\' » s.iïiFW V . ,tf \\'^ -1 —’ \\'—\" •■ \\'• ■. C-\"r^»yWWïiS”. ■ - \\'rfytjfRtfiyprfç!Kur7*vn?, 16 PAGES - 30 C mes }? ■ \\\\ <En Belgique et Allemagne occupée) jA l l’Etranger t 3S Centimes •/M JUIN 1929; Edit. **** * * * * à 14 b. 1* 4 Editions : ‘îï Mït ” * Edit, '"
      ]
     },
     "execution_count": 8,
     "metadata": {},
     "output_type": "execute_result"
    }
   ],
   "source": [
    "# Exemple de textes\n",
    "texts[0][:400]"
   ]
  },
  {
   "cell_type": "markdown",
   "metadata": {},
   "source": [
    "## Vectoriser les documents à l'aide de TF-IDF"
   ]
  },
  {
   "cell_type": "code",
   "execution_count": 10,
   "metadata": {},
   "outputs": [],
   "source": [
    "# Création d'une fonction de pré-traitement\n",
    "def preprocessing(text, stem=True):\n",
    "    \"\"\" Tokenize text and remove punctuation \"\"\"\n",
    "    text = text.translate(string.punctuation)\n",
    "    tokens = word_tokenize(text)\n",
    "    return tokens"
   ]
  },
  {
   "cell_type": "markdown",
   "metadata": {},
   "source": [
    "### Instancier le modèle TF-IDF avec ses arguments"
   ]
  },
  {
   "cell_type": "code",
   "execution_count": 19,
   "metadata": {},
   "outputs": [],
   "source": [
    "vectorizer = TfidfVectorizer(\n",
    "    tokenizer=preprocessing,\n",
    "    stop_words=stopwords.words('french'),\n",
    "    max_df=0.5,\n",
    "    min_df=0.1,\n",
    "    lowercase=True)"
   ]
  },
  {
   "cell_type": "markdown",
   "metadata": {},
   "source": [
    "### Construire la matrice de vecteurs à l'aide de la fonction `fit_transform`"
   ]
  },
  {
   "cell_type": "code",
   "execution_count": 20,
   "metadata": {},
   "outputs": [],
   "source": [
    "tfidf_vectors = vectorizer.fit_transform(texts)"
   ]
  },
  {
   "cell_type": "code",
   "execution_count": 21,
   "metadata": {},
   "outputs": [
    {
     "data": {
      "text/plain": [
       "<500x4155 sparse matrix of type '<class 'numpy.float64'>'\n",
       "\twith 437921 stored elements in Compressed Sparse Row format>"
      ]
     },
     "execution_count": 21,
     "metadata": {},
     "output_type": "execute_result"
    }
   ],
   "source": [
    "# Détail de la matrice\n",
    "tfidf_vectors"
   ]
  },
  {
   "cell_type": "markdown",
   "metadata": {},
   "source": [
    "### Imprimer le vecteur tf-IDF du premier document"
   ]
  },
  {
   "cell_type": "code",
   "execution_count": 23,
   "metadata": {},
   "outputs": [
    {
     "data": {
      "text/plain": [
       "agricole        0.141291\n",
       "conservateur    0.139459\n",
       "voiture         0.132114\n",
       "moitié          0.131685\n",
       "jaspar          0.128365\n",
       "                  ...   \n",
       "exactement      0.000000\n",
       "examine         0.000000\n",
       "examiner        0.000000\n",
       "examiné         0.000000\n",
       "♦               0.000000\n",
       "Length: 4155, dtype: float64"
      ]
     },
     "execution_count": 23,
     "metadata": {},
     "output_type": "execute_result"
    }
   ],
   "source": [
    "pd.Series(\n",
    "    tfidf_vectors[0].toarray()[0],\n",
    "    index=vectorizer.get_feature_names_out()\n",
    "    ).sort_values(ascending=False)"
   ]
  },
  {
   "cell_type": "markdown",
   "metadata": {},
   "source": [
    "## Comprendre les vecteurs et leurs \"distances\""
   ]
  },
  {
   "cell_type": "code",
   "execution_count": 24,
   "metadata": {},
   "outputs": [
    {
     "data": {
      "text/plain": [
       "0"
      ]
     },
     "execution_count": 24,
     "metadata": {},
     "output_type": "execute_result"
    }
   ],
   "source": [
    "cosine([1, 2, 3], [1, 2, 3])"
   ]
  },
  {
   "cell_type": "code",
   "execution_count": 25,
   "metadata": {},
   "outputs": [
    {
     "data": {
      "text/plain": [
       "0.02004211298777725"
      ]
     },
     "execution_count": 25,
     "metadata": {},
     "output_type": "execute_result"
    }
   ],
   "source": [
    "cosine([1, 2, 3], [1, 2, 2])"
   ]
  },
  {
   "cell_type": "code",
   "execution_count": 26,
   "metadata": {},
   "outputs": [
    {
     "data": {
      "text/plain": [
       "0.07417990022744858"
      ]
     },
     "execution_count": 26,
     "metadata": {},
     "output_type": "execute_result"
    }
   ],
   "source": [
    "cosine([1, 2, 3], [2, 2, 2])"
   ]
  },
  {
   "cell_type": "markdown",
   "metadata": {},
   "source": [
    "### Tests sur nos documents"
   ]
  },
  {
   "cell_type": "code",
   "execution_count": 27,
   "metadata": {},
   "outputs": [],
   "source": [
    "tfidf_array = tfidf_vectors.toarray()"
   ]
  },
  {
   "cell_type": "code",
   "execution_count": 28,
   "metadata": {},
   "outputs": [
    {
     "data": {
      "text/plain": [
       "array([0.0428489 , 0.        , 0.05948402, ..., 0.06454798, 0.05962767,\n",
       "       0.        ])"
      ]
     },
     "execution_count": 28,
     "metadata": {},
     "output_type": "execute_result"
    }
   ],
   "source": [
    "# Vecteur du document 0\n",
    "tfidf_array[0]"
   ]
  },
  {
   "cell_type": "code",
   "execution_count": 29,
   "metadata": {},
   "outputs": [
    {
     "data": {
      "text/plain": [
       "array([0.01932245, 0.        , 0.        , ..., 0.05821505, 0.05377748,\n",
       "       0.        ])"
      ]
     },
     "execution_count": 29,
     "metadata": {},
     "output_type": "execute_result"
    }
   ],
   "source": [
    "# Vecteur du document 1\n",
    "tfidf_array[1]"
   ]
  },
  {
   "cell_type": "code",
   "execution_count": 30,
   "metadata": {},
   "outputs": [
    {
     "data": {
      "text/plain": [
       "0.8283534575562744"
      ]
     },
     "execution_count": 30,
     "metadata": {},
     "output_type": "execute_result"
    }
   ],
   "source": [
    "cosine(tfidf_array[0], tfidf_array[1])"
   ]
  },
  {
   "cell_type": "markdown",
   "metadata": {},
   "source": [
    "## Appliquer un algorithme de clustering sur les vecteurs TF-IDF des documents"
   ]
  },
  {
   "cell_type": "markdown",
   "metadata": {},
   "source": [
    "Pour en savoir plus sur le KMeans clustering :\n",
    "- https://medium.com/dataseries/k-means-clustering-explained-visually-in-5-minutes-b900cc69d175"
   ]
  },
  {
   "cell_type": "markdown",
   "metadata": {},
   "source": [
    "### Définir un nombre de clusters"
   ]
  },
  {
   "cell_type": "code",
   "execution_count": 47,
   "metadata": {},
   "outputs": [],
   "source": [
    "N_CLUSTERS = 4"
   ]
  },
  {
   "cell_type": "markdown",
   "metadata": {},
   "source": [
    "### Instancier le modèle K-Means et ses arguments"
   ]
  },
  {
   "cell_type": "code",
   "execution_count": 48,
   "metadata": {},
   "outputs": [],
   "source": [
    "km_model = KMeans(n_clusters=N_CLUSTERS)"
   ]
  },
  {
   "cell_type": "markdown",
   "metadata": {},
   "source": [
    "### Appliquer le clustering à l'aide de la fonction `fit_predict`"
   ]
  },
  {
   "cell_type": "code",
   "execution_count": 49,
   "metadata": {},
   "outputs": [],
   "source": [
    "clusters = km_model.fit_predict(tfidf_vectors)"
   ]
  },
  {
   "cell_type": "code",
   "execution_count": 50,
   "metadata": {},
   "outputs": [],
   "source": [
    "clustering = collections.defaultdict(list)\n",
    "\n",
    "for idx, label in enumerate(clusters):\n",
    "    clustering[label].append(files[idx])"
   ]
  },
  {
   "cell_type": "code",
   "execution_count": 51,
   "metadata": {},
   "outputs": [
    {
     "name": "stdout",
     "output_type": "stream",
     "text": [
      "{0: ['KB_JB838_1931-02-01_01-00007.txt',\n",
      "     'KB_JB838_1932-02-07_01-00008.txt',\n",
      "     'KB_JB838_1932-04-28_01-00009.txt',\n",
      "     'KB_JB838_1933-01-13_01-00001.txt',\n",
      "     'KB_JB838_1933-04-28_01-00001.txt',\n",
      "     'KB_JB838_1933-05-10_01-00001.txt',\n",
      "     'KB_JB838_1933-07-28_01-00003.txt',\n",
      "     'KB_JB838_1933-11-22_01-00003.txt',\n",
      "     'KB_JB838_1933-12-13_01-00003.txt',\n",
      "     'KB_JB838_1934-01-28_01-00009.txt',\n",
      "     'KB_JB838_1934-02-09_01-00002.txt',\n",
      "     'KB_JB838_1934-03-22_01-00003.txt',\n",
      "     'KB_JB838_1934-07-05_01-00003.txt',\n",
      "     'KB_JB838_1934-07-20_01-00002.txt',\n",
      "     'KB_JB838_1934-11-14_01-00001.txt',\n",
      "     'KB_JB838_1934-11-29_01-00003.txt',\n",
      "     'KB_JB838_1934-12-22_01-00002.txt',\n",
      "     'KB_JB838_1935-01-18_01-00001.txt',\n",
      "     'KB_JB838_1935-02-17_01-00010.txt',\n",
      "     'KB_JB838_1935-03-01_01-00001.txt',\n",
      "     'KB_JB838_1935-03-08_01-00003.txt',\n",
      "     'KB_JB838_1935-03-11_01-00001.txt',\n",
      "     'KB_JB838_1935-03-15_01-00002.txt',\n",
      "     'KB_JB838_1935-03-20_01-00001.txt',\n",
      "     'KB_JB838_1935-03-21_01-00002.txt',\n",
      "     'KB_JB838_1935-03-23_01-00001.txt',\n",
      "     'KB_JB838_1935-03-30_01-00001.txt',\n",
      "     'KB_JB838_1935-03-30_01-00002.txt',\n",
      "     'KB_JB838_1935-03-31_01-00002.txt',\n",
      "     'KB_JB838_1935-04-04_01-00001.txt',\n",
      "     'KB_JB838_1935-04-05_01-00001.txt',\n",
      "     'KB_JB838_1935-04-08_01-00002.txt',\n",
      "     'KB_JB838_1935-04-27_01-00001.txt',\n",
      "     'KB_JB838_1935-05-10_01-00001.txt',\n",
      "     'KB_JB838_1935-12-27_01-00001.txt',\n",
      "     'KB_JB838_1936-02-16_01-00009.txt',\n",
      "     'KB_JB838_1936-02-21_01-00001.txt',\n",
      "     'KB_JB838_1936-04-06_01-00001.txt',\n",
      "     'KB_JB838_1936-04-06_01-00002.txt',\n",
      "     'KB_JB838_1936-04-10_01-00001.txt',\n",
      "     'KB_JB838_1936-05-01_01-00001.txt',\n",
      "     'KB_JB838_1936-05-22_01-00002.txt',\n",
      "     'KB_JB838_1936-05-23_01-00002.txt',\n",
      "     'KB_JB838_1936-07-01_01-00002.txt',\n",
      "     'KB_JB838_1936-07-03_01-00001.txt',\n",
      "     'KB_JB838_1936-08-28_01-00001.txt',\n",
      "     'KB_JB838_1936-09-27_01-00003.txt',\n",
      "     'KB_JB838_1936-10-02_01-00002.txt',\n",
      "     'KB_JB838_1936-10-03_01-00002.txt',\n",
      "     'KB_JB838_1936-11-18_01-00002.txt',\n",
      "     'KB_JB838_1936-12-17_01-00002.txt',\n",
      "     'KB_JB838_1936-12-18_01-00006.txt',\n",
      "     'KB_JB838_1937-01-12_01-00001.txt',\n",
      "     'KB_JB838_1937-02-01_01-00011.txt',\n",
      "     'KB_JB838_1937-03-26_01-00002.txt',\n",
      "     'KB_JB838_1937-05-04_01-00002.txt',\n",
      "     'KB_JB838_1937-06-11_01-00001.txt',\n",
      "     'KB_JB838_1937-09-03_01-00001.txt',\n",
      "     'KB_JB838_1937-09-19_01-00002.txt',\n",
      "     'KB_JB838_1937-09-22_01-00002.txt',\n",
      "     'KB_JB838_1937-10-05_01-00004.txt',\n",
      "     'KB_JB838_1937-10-05_01-00005.txt',\n",
      "     'KB_JB838_1937-10-27_01-00002.txt',\n",
      "     'KB_JB838_1937-10-28_01-00002.txt',\n",
      "     'KB_JB838_1937-11-05_01-00001.txt',\n",
      "     'KB_JB838_1937-11-14_01-00002.txt',\n",
      "     'KB_JB838_1937-11-20_01-00002.txt',\n",
      "     'KB_JB838_1937-12-02_01-00002.txt',\n",
      "     'KB_JB838_1938-01-30_01-00002.txt',\n",
      "     'KB_JB838_1938-02-13_01-00011.txt',\n",
      "     'KB_JB838_1938-05-15_01-00002.txt',\n",
      "     'KB_JB838_1938-05-20_01-00001.txt',\n",
      "     'KB_JB838_1938-06-16_01-00002.txt',\n",
      "     'KB_JB838_1939-01-20_01-00001.txt'],\n",
      " 1: ['KB_JB838_1930-02-26_01-00002.txt',\n",
      "     'KB_JB838_1930-09-21_01-00002.txt',\n",
      "     'KB_JB838_1930-10-05_01-00002.txt',\n",
      "     'KB_JB838_1930-10-22_01-00002.txt',\n",
      "     'KB_JB838_1930-10-27_01-00002.txt',\n",
      "     'KB_JB838_1930-11-11_01-00002.txt',\n",
      "     'KB_JB838_1930-11-13_01-00002.txt',\n",
      "     'KB_JB838_1930-11-21_01-00002.txt',\n",
      "     'KB_JB838_1930-11-29_01-00002.txt',\n",
      "     'KB_JB838_1930-12-03_01-00002.txt',\n",
      "     'KB_JB838_1930-12-30_01-00002.txt',\n",
      "     'KB_JB838_1931-01-01_01-00002.txt',\n",
      "     'KB_JB838_1931-01-13_01-00002.txt',\n",
      "     'KB_JB838_1931-01-15_01-00002.txt',\n",
      "     'KB_JB838_1931-01-21_01-00003.txt',\n",
      "     'KB_JB838_1931-01-23_01-00002.txt',\n",
      "     'KB_JB838_1931-02-12_01-00002.txt',\n",
      "     'KB_JB838_1931-02-17_01-00002.txt',\n",
      "     'KB_JB838_1931-03-27_01-00002.txt',\n",
      "     'KB_JB838_1931-04-21_01-00002.txt',\n",
      "     'KB_JB838_1931-05-07_01-00002.txt',\n",
      "     'KB_JB838_1931-05-25_01-00002.txt',\n",
      "     'KB_JB838_1931-06-21_01-00002.txt',\n",
      "     'KB_JB838_1931-06-25_01-00002.txt',\n",
      "     'KB_JB838_1931-06-28_01-00002.txt',\n",
      "     'KB_JB838_1931-07-03_01-00002.txt',\n",
      "     'KB_JB838_1931-07-21_01-00002.txt',\n",
      "     'KB_JB838_1931-07-30_01-00002.txt',\n",
      "     'KB_JB838_1931-08-02_01-00002.txt',\n",
      "     'KB_JB838_1931-08-26_01-00002.txt',\n",
      "     'KB_JB838_1931-08-31_01-00002.txt',\n",
      "     'KB_JB838_1931-09-23_01-00002.txt',\n",
      "     'KB_JB838_1931-09-24_01-00002.txt',\n",
      "     'KB_JB838_1931-09-25_01-00002.txt',\n",
      "     'KB_JB838_1931-10-03_01-00002.txt',\n",
      "     'KB_JB838_1931-10-08_01-00002.txt',\n",
      "     'KB_JB838_1931-10-15_01-00002.txt',\n",
      "     'KB_JB838_1931-10-17_01-00002.txt',\n",
      "     'KB_JB838_1931-10-20_01-00002.txt',\n",
      "     'KB_JB838_1931-10-27_01-00002.txt',\n",
      "     'KB_JB838_1931-11-06_01-00002.txt',\n",
      "     'KB_JB838_1931-11-11_01-00002.txt',\n",
      "     'KB_JB838_1931-11-22_01-00002.txt',\n",
      "     'KB_JB838_1931-11-27_01-00002.txt',\n",
      "     'KB_JB838_1931-11-28_01-00002.txt',\n",
      "     'KB_JB838_1931-12-02_01-00003.txt',\n",
      "     'KB_JB838_1931-12-03_01-00002.txt',\n",
      "     'KB_JB838_1931-12-07_01-00002.txt',\n",
      "     'KB_JB838_1931-12-08_01-00002.txt',\n",
      "     'KB_JB838_1931-12-14_01-00002.txt',\n",
      "     'KB_JB838_1931-12-17_01-00002.txt',\n",
      "     'KB_JB838_1931-12-19_01-00003.txt',\n",
      "     'KB_JB838_1931-12-20_01-00002.txt',\n",
      "     'KB_JB838_1931-12-21_01-00002.txt',\n",
      "     'KB_JB838_1931-12-25_01-00002.txt',\n",
      "     'KB_JB838_1931-12-29_01-00002.txt',\n",
      "     'KB_JB838_1932-01-05_01-00002.txt',\n",
      "     'KB_JB838_1932-01-14_01-00003.txt',\n",
      "     'KB_JB838_1932-01-16_01-00002.txt',\n",
      "     'KB_JB838_1932-01-17_01-00002.txt',\n",
      "     'KB_JB838_1932-01-20_01-00002.txt',\n",
      "     'KB_JB838_1932-01-23_01-00002.txt',\n",
      "     'KB_JB838_1932-02-02_01-00004.txt',\n",
      "     'KB_JB838_1932-02-25_01-00004.txt',\n",
      "     'KB_JB838_1932-02-26_01-00002.txt',\n",
      "     'KB_JB838_1932-02-29_01-00002.txt',\n",
      "     'KB_JB838_1932-03-10_01-00002.txt',\n",
      "     'KB_JB838_1932-03-17_01-00002.txt',\n",
      "     'KB_JB838_1932-03-18_01-00002.txt',\n",
      "     'KB_JB838_1932-04-06_01-00002.txt',\n",
      "     'KB_JB838_1932-04-14_01-00002.txt',\n",
      "     'KB_JB838_1932-04-24_01-00002.txt',\n",
      "     'KB_JB838_1932-05-13_01-00002.txt',\n",
      "     'KB_JB838_1932-06-30_01-00002.txt',\n",
      "     'KB_JB838_1932-07-01_01-00002.txt',\n",
      "     'KB_JB838_1932-07-02_01-00002.txt',\n",
      "     'KB_JB838_1932-07-02_01-00003.txt',\n",
      "     'KB_JB838_1932-07-07_01-00004.txt',\n",
      "     'KB_JB838_1932-08-30_01-00002.txt',\n",
      "     'KB_JB838_1932-09-05_01-00002.txt',\n",
      "     'KB_JB838_1932-10-05_01-00002.txt',\n",
      "     'KB_JB838_1932-10-11_01-00005.txt',\n",
      "     'KB_JB838_1932-10-30_01-00002.txt',\n",
      "     'KB_JB838_1932-11-15_01-00002.txt',\n",
      "     'KB_JB838_1932-11-16_01-00002.txt',\n",
      "     'KB_JB838_1932-11-20_01-00002.txt',\n",
      "     'KB_JB838_1932-11-26_01-00004.txt',\n",
      "     'KB_JB838_1932-12-12_01-00002.txt',\n",
      "     'KB_JB838_1932-12-15_01-00003.txt',\n",
      "     'KB_JB838_1932-12-23_01-00003.txt',\n",
      "     'KB_JB838_1932-12-25_01-00003.txt',\n",
      "     'KB_JB838_1933-01-16_01-00002.txt',\n",
      "     'KB_JB838_1933-01-19_01-00002.txt',\n",
      "     'KB_JB838_1933-01-20_01-00002.txt',\n",
      "     'KB_JB838_1933-01-20_01-00003.txt',\n",
      "     'KB_JB838_1933-01-21_01-00004.txt',\n",
      "     'KB_JB838_1933-02-05_01-00002.txt',\n",
      "     'KB_JB838_1933-02-27_01-00002.txt',\n",
      "     'KB_JB838_1933-03-06_01-00002.txt',\n",
      "     'KB_JB838_1933-03-14_01-00002.txt',\n",
      "     'KB_JB838_1933-03-22_01-00003.txt',\n",
      "     'KB_JB838_1933-03-25_01-00002.txt',\n",
      "     'KB_JB838_1933-04-07_01-00002.txt',\n",
      "     'KB_JB838_1933-04-28_01-00002.txt',\n",
      "     'KB_JB838_1933-05-01_01-00004.txt',\n",
      "     'KB_JB838_1933-05-03_01-00004.txt',\n",
      "     'KB_JB838_1933-05-04_01-00002.txt',\n",
      "     'KB_JB838_1933-05-05_01-00004.txt',\n",
      "     'KB_JB838_1933-05-08_01-00002.txt',\n",
      "     'KB_JB838_1933-05-25_01-00004.txt',\n",
      "     'KB_JB838_1933-06-03_01-00002.txt',\n",
      "     'KB_JB838_1933-06-04_01-00002.txt',\n",
      "     'KB_JB838_1933-06-07_01-00002.txt',\n",
      "     'KB_JB838_1933-06-09_01-00001.txt',\n",
      "     'KB_JB838_1933-06-09_01-00002.txt',\n",
      "     'KB_JB838_1933-06-11_01-00002.txt',\n",
      "     'KB_JB838_1933-06-14_01-00002.txt',\n",
      "     'KB_JB838_1933-06-19_01-00002.txt',\n",
      "     'KB_JB838_1933-07-07_01-00002.txt',\n",
      "     'KB_JB838_1933-07-11_01-00002.txt',\n",
      "     'KB_JB838_1933-09-21_01-00002.txt',\n",
      "     'KB_JB838_1933-11-03_01-00002.txt',\n",
      "     'KB_JB838_1933-11-26_01-00002.txt',\n",
      "     'KB_JB838_1934-03-08_01-00002.txt',\n",
      "     'KB_JB838_1934-03-15_01-00003.txt',\n",
      "     'KB_JB838_1934-03-23_01-00002.txt',\n",
      "     'KB_JB838_1934-04-18_01-00002.txt',\n",
      "     'KB_JB838_1934-04-26_01-00002.txt',\n",
      "     'KB_JB838_1934-05-10_01-00003.txt',\n",
      "     'KB_JB838_1934-06-07_01-00003.txt',\n",
      "     'KB_JB838_1934-06-08_01-00002.txt',\n",
      "     'KB_JB838_1934-06-11_01-00003.txt',\n",
      "     'KB_JB838_1934-06-16_01-00002.txt',\n",
      "     'KB_JB838_1934-06-27_01-00003.txt',\n",
      "     'KB_JB838_1934-07-21_01-00002.txt',\n",
      "     'KB_JB838_1934-09-06_01-00003.txt',\n",
      "     'KB_JB838_1934-09-24_01-00002.txt',\n",
      "     'KB_JB838_1934-09-29_01-00002.txt',\n",
      "     'KB_JB838_1934-10-02_01-00002.txt',\n",
      "     'KB_JB838_1934-11-05_01-00002.txt',\n",
      "     'KB_JB838_1934-11-14_01-00003.txt',\n",
      "     'KB_JB838_1934-11-15_01-00002.txt',\n",
      "     'KB_JB838_1934-11-15_01-00003.txt',\n",
      "     'KB_JB838_1934-11-20_01-00003.txt',\n",
      "     'KB_JB838_1935-02-13_01-00002.txt',\n",
      "     'KB_JB838_1935-02-26_01-00002.txt',\n",
      "     'KB_JB838_1935-10-15_01-00002.txt',\n",
      "     'KB_JB838_1936-01-09_01-00003.txt',\n",
      "     'KB_JB838_1936-01-21_01-00002.txt',\n",
      "     'KB_JB838_1936-04-30_01-00004.txt',\n",
      "     'KB_JB838_1936-05-31_01-00002.txt',\n",
      "     'KB_JB838_1936-09-13_01-00003.txt',\n",
      "     'KB_JB838_1936-11-20_01-00003.txt',\n",
      "     'KB_JB838_1936-11-26_01-00003.txt',\n",
      "     'KB_JB838_1936-11-28_01-00003.txt',\n",
      "     'KB_JB838_1936-12-10_01-00004.txt',\n",
      "     'KB_JB838_1936-12-11_01-00003.txt',\n",
      "     'KB_JB838_1936-12-17_01-00006.txt',\n",
      "     'KB_JB838_1936-12-25_01-00003.txt',\n",
      "     'KB_JB838_1937-02-03_01-00003.txt',\n",
      "     'KB_JB838_1937-02-21_01-00002.txt',\n",
      "     'KB_JB838_1937-02-22_01-00002.txt',\n",
      "     'KB_JB838_1937-03-21_01-00003.txt',\n",
      "     'KB_JB838_1937-10-27_01-00003.txt',\n",
      "     'KB_JB838_1937-11-11_01-00004.txt',\n",
      "     'KB_JB838_1938-01-01_01-00002.txt',\n",
      "     'KB_JB838_1938-01-04_01-00003.txt',\n",
      "     'KB_JB838_1938-04-16_01-00003.txt',\n",
      "     'KB_JB838_1938-05-05_01-00002.txt',\n",
      "     'KB_JB838_1938-05-17_01-00002.txt',\n",
      "     'KB_JB838_1938-06-17_01-00003.txt',\n",
      "     'KB_JB838_1938-10-03_01-00003.txt',\n",
      "     'KB_JB838_1938-10-05_01-00003.txt',\n",
      "     'KB_JB838_1938-11-06_01-00003.txt',\n",
      "     'KB_JB838_1938-11-07_01-00002.txt',\n",
      "     'KB_JB838_1938-11-07_01-00004.txt',\n",
      "     'KB_JB838_1938-12-02_01-00003.txt',\n",
      "     'KB_JB838_1939-02-24_01-00003.txt',\n",
      "     'KB_JB838_1939-06-08_01-00002.txt',\n",
      "     'KB_JB838_1939-10-11_01-00003.txt',\n",
      "     'KB_JB838_1939-12-23_01-00003.txt'],\n",
      " 2: ['KB_JB838_1929-06-01_01-00001.txt',\n",
      "     'KB_JB838_1930-01-10_01-00001.txt',\n",
      "     'KB_JB838_1930-04-06_01-00001.txt',\n",
      "     'KB_JB838_1930-06-20_01-00001.txt',\n",
      "     'KB_JB838_1930-07-07_01-00001.txt',\n",
      "     'KB_JB838_1930-10-13_01-00001.txt',\n",
      "     'KB_JB838_1930-10-17_01-00001.txt',\n",
      "     'KB_JB838_1930-10-27_01-00001.txt',\n",
      "     'KB_JB838_1930-10-30_01-00001.txt',\n",
      "     'KB_JB838_1931-02-02_01-00001.txt',\n",
      "     'KB_JB838_1931-02-12_01-00001.txt',\n",
      "     'KB_JB838_1931-03-07_01-00001.txt',\n",
      "     'KB_JB838_1931-03-19_01-00001.txt',\n",
      "     'KB_JB838_1931-04-04_01-00001.txt',\n",
      "     'KB_JB838_1931-04-06_01-00001.txt',\n",
      "     'KB_JB838_1931-05-25_01-00001.txt',\n",
      "     'KB_JB838_1931-05-27_01-00001.txt',\n",
      "     'KB_JB838_1931-06-15_01-00006.txt',\n",
      "     'KB_JB838_1931-07-01_01-00001.txt',\n",
      "     'KB_JB838_1931-07-13_01-00005.txt',\n",
      "     'KB_JB838_1931-08-14_01-00001.txt',\n",
      "     'KB_JB838_1931-09-01_01-00001.txt',\n",
      "     'KB_JB838_1931-09-04_01-00001.txt',\n",
      "     'KB_JB838_1931-09-09_01-00001.txt',\n",
      "     'KB_JB838_1931-09-24_01-00001.txt',\n",
      "     'KB_JB838_1931-10-01_01-00001.txt',\n",
      "     'KB_JB838_1931-10-09_01-00001.txt',\n",
      "     'KB_JB838_1931-10-11_01-00007.txt',\n",
      "     'KB_JB838_1931-11-27_01-00001.txt',\n",
      "     'KB_JB838_1931-12-18_01-00001.txt',\n",
      "     'KB_JB838_1931-12-21_01-00001.txt',\n",
      "     'KB_JB838_1931-12-23_01-00001.txt',\n",
      "     'KB_JB838_1931-12-25_01-00001.txt',\n",
      "     'KB_JB838_1931-12-26_01-00001.txt',\n",
      "     'KB_JB838_1932-01-08_01-00001.txt',\n",
      "     'KB_JB838_1932-01-09_01-00001.txt',\n",
      "     'KB_JB838_1932-02-26_01-00001.txt',\n",
      "     'KB_JB838_1932-03-10_01-00001.txt',\n",
      "     'KB_JB838_1932-04-23_01-00001.txt',\n",
      "     'KB_JB838_1932-05-06_01-00001.txt',\n",
      "     'KB_JB838_1932-05-09_01-00001.txt',\n",
      "     'KB_JB838_1932-05-26_01-00001.txt',\n",
      "     'KB_JB838_1932-05-27_01-00001.txt',\n",
      "     'KB_JB838_1932-06-09_01-00001.txt',\n",
      "     'KB_JB838_1932-06-10_01-00001.txt',\n",
      "     'KB_JB838_1932-06-14_01-00004.txt',\n",
      "     'KB_JB838_1932-06-15_01-00001.txt',\n",
      "     'KB_JB838_1932-06-30_01-00001.txt',\n",
      "     'KB_JB838_1932-07-11_01-00001.txt',\n",
      "     'KB_JB838_1932-07-16_01-00001.txt',\n",
      "     'KB_JB838_1932-07-22_01-00001.txt',\n",
      "     'KB_JB838_1932-07-30_01-00001.txt',\n",
      "     'KB_JB838_1932-08-01_01-00001.txt',\n",
      "     'KB_JB838_1932-08-18_01-00001.txt',\n",
      "     'KB_JB838_1932-08-26_01-00001.txt',\n",
      "     'KB_JB838_1932-09-07_01-00001.txt',\n",
      "     'KB_JB838_1932-09-19_01-00001.txt',\n",
      "     'KB_JB838_1932-09-30_01-00001.txt',\n",
      "     'KB_JB838_1932-10-31_01-00001.txt',\n",
      "     'KB_JB838_1932-11-04_01-00001.txt',\n",
      "     'KB_JB838_1932-11-08_01-00001.txt',\n",
      "     'KB_JB838_1932-11-13_01-00001.txt',\n",
      "     'KB_JB838_1932-11-22_01-00001.txt',\n",
      "     'KB_JB838_1932-12-29_01-00001.txt',\n",
      "     'KB_JB838_1932-12-31_01-00004.txt',\n",
      "     'KB_JB838_1933-01-06_01-00001.txt',\n",
      "     'KB_JB838_1933-01-09_01-00001.txt',\n",
      "     'KB_JB838_1933-01-11_01-00003.txt',\n",
      "     'KB_JB838_1933-01-16_01-00001.txt',\n",
      "     'KB_JB838_1933-01-23_01-00001.txt',\n",
      "     'KB_JB838_1933-02-03_01-00001.txt',\n",
      "     'KB_JB838_1933-02-09_01-00001.txt',\n",
      "     'KB_JB838_1933-02-28_01-00001.txt',\n",
      "     'KB_JB838_1933-03-06_01-00001.txt',\n",
      "     'KB_JB838_1933-04-21_01-00001.txt',\n",
      "     'KB_JB838_1933-04-29_01-00001.txt',\n",
      "     'KB_JB838_1933-05-01_01-00001.txt',\n",
      "     'KB_JB838_1933-05-02_01-00001.txt',\n",
      "     'KB_JB838_1933-05-04_01-00001.txt',\n",
      "     'KB_JB838_1933-05-06_01-00005.txt',\n",
      "     'KB_JB838_1933-05-15_01-00001.txt',\n",
      "     'KB_JB838_1933-06-12_01-00001.txt',\n",
      "     'KB_JB838_1933-06-17_01-00001.txt',\n",
      "     'KB_JB838_1933-06-23_01-00001.txt',\n",
      "     'KB_JB838_1933-07-01_01-00001.txt',\n",
      "     'KB_JB838_1933-07-03_01-00001.txt',\n",
      "     'KB_JB838_1933-07-04_01-00001.txt',\n",
      "     'KB_JB838_1933-07-06_01-00001.txt',\n",
      "     'KB_JB838_1933-07-13_01-00001.txt',\n",
      "     'KB_JB838_1933-07-20_01-00001.txt',\n",
      "     'KB_JB838_1933-07-21_01-00001.txt',\n",
      "     'KB_JB838_1933-08-11_01-00001.txt',\n",
      "     'KB_JB838_1933-08-31_01-00001.txt',\n",
      "     'KB_JB838_1933-09-08_01-00001.txt',\n",
      "     'KB_JB838_1933-09-27_01-00001.txt',\n",
      "     'KB_JB838_1933-09-29_01-00001.txt',\n",
      "     'KB_JB838_1933-10-05_01-00001.txt',\n",
      "     'KB_JB838_1933-10-18_01-00002.txt',\n",
      "     'KB_JB838_1933-10-28_01-00001.txt',\n",
      "     'KB_JB838_1933-11-02_01-00001.txt',\n",
      "     'KB_JB838_1933-11-02_01-00006.txt',\n",
      "     'KB_JB838_1933-11-04_01-00001.txt',\n",
      "     'KB_JB838_1933-11-29_01-00001.txt',\n",
      "     'KB_JB838_1933-12-12_01-00001.txt',\n",
      "     'KB_JB838_1933-12-27_01-00001.txt',\n",
      "     'KB_JB838_1934-02-09_01-00001.txt',\n",
      "     'KB_JB838_1934-02-14_01-00001.txt',\n",
      "     'KB_JB838_1934-02-27_01-00001.txt',\n",
      "     'KB_JB838_1934-04-02_01-00001.txt',\n",
      "     'KB_JB838_1934-04-05_01-00001.txt',\n",
      "     'KB_JB838_1934-04-12_01-00002.txt',\n",
      "     'KB_JB838_1934-04-16_01-00001.txt',\n",
      "     'KB_JB838_1934-05-01_01-00001.txt',\n",
      "     'KB_JB838_1934-05-18_01-00001.txt',\n",
      "     'KB_JB838_1934-05-29_01-00001.txt',\n",
      "     'KB_JB838_1934-06-04_01-00001.txt',\n",
      "     'KB_JB838_1934-06-04_01-00004.txt',\n",
      "     'KB_JB838_1934-06-07_01-00001.txt',\n",
      "     'KB_JB838_1934-06-14_01-00001.txt',\n",
      "     'KB_JB838_1934-06-28_01-00001.txt',\n",
      "     'KB_JB838_1934-07-05_01-00001.txt',\n",
      "     'KB_JB838_1934-07-20_01-00001.txt',\n",
      "     'KB_JB838_1934-08-27_01-00005.txt',\n",
      "     'KB_JB838_1934-09-03_01-00001.txt',\n",
      "     'KB_JB838_1934-09-14_01-00001.txt',\n",
      "     'KB_JB838_1934-09-15_01-00002.txt',\n",
      "     'KB_JB838_1934-09-25_01-00001.txt',\n",
      "     'KB_JB838_1934-09-30_01-00001.txt',\n",
      "     'KB_JB838_1934-10-03_01-00001.txt',\n",
      "     'KB_JB838_1934-11-01_01-00001.txt',\n",
      "     'KB_JB838_1934-11-08_01-00001.txt',\n",
      "     'KB_JB838_1934-11-13_01-00001.txt',\n",
      "     'KB_JB838_1934-11-23_01-00001.txt',\n",
      "     'KB_JB838_1934-12-14_01-00001.txt',\n",
      "     'KB_JB838_1934-12-17_01-00001.txt',\n",
      "     'KB_JB838_1934-12-27_01-00001.txt',\n",
      "     'KB_JB838_1935-01-18_01-00002.txt',\n",
      "     'KB_JB838_1935-01-24_01-00001.txt',\n",
      "     'KB_JB838_1935-02-17_01-00002.txt',\n",
      "     'KB_JB838_1935-04-28_01-00002.txt',\n",
      "     'KB_JB838_1935-04-30_01-00001.txt',\n",
      "     'KB_JB838_1935-05-16_01-00001.txt',\n",
      "     'KB_JB838_1935-05-23_01-00001.txt',\n",
      "     'KB_JB838_1935-05-29_01-00001.txt',\n",
      "     'KB_JB838_1935-06-13_01-00001.txt',\n",
      "     'KB_JB838_1935-06-27_01-00001.txt',\n",
      "     'KB_JB838_1935-07-03_01-00001.txt',\n",
      "     'KB_JB838_1935-07-04_01-00001.txt',\n",
      "     'KB_JB838_1935-07-18_01-00001.txt',\n",
      "     'KB_JB838_1935-08-09_01-00008.txt',\n",
      "     'KB_JB838_1935-08-30_01-00006.txt',\n",
      "     'KB_JB838_1935-09-09_01-00001.txt',\n",
      "     'KB_JB838_1935-12-26_01-00002.txt',\n",
      "     'KB_JB838_1935-12-27_01-00002.txt',\n",
      "     'KB_JB838_1936-02-03_01-00001.txt',\n",
      "     'KB_JB838_1936-05-25_01-00001.txt',\n",
      "     'KB_JB838_1936-07-02_01-00001.txt',\n",
      "     'KB_JB838_1936-08-17_01-00002.txt',\n",
      "     'KB_JB838_1936-09-11_01-00002.txt',\n",
      "     'KB_JB838_1936-09-24_01-00001.txt',\n",
      "     'KB_JB838_1936-10-18_01-00002.txt',\n",
      "     'KB_JB838_1937-01-19_01-00001.txt',\n",
      "     'KB_JB838_1937-01-30_01-00001.txt',\n",
      "     'KB_JB838_1937-02-12_01-00001.txt',\n",
      "     'KB_JB838_1937-02-23_01-00001.txt',\n",
      "     'KB_JB838_1937-03-11_01-00001.txt',\n",
      "     'KB_JB838_1937-05-18_01-00001.txt',\n",
      "     'KB_JB838_1937-05-22_01-00001.txt',\n",
      "     'KB_JB838_1937-06-07_01-00001.txt',\n",
      "     'KB_JB838_1937-06-10_01-00001.txt',\n",
      "     'KB_JB838_1937-07-15_01-00001.txt',\n",
      "     'KB_JB838_1937-07-28_01-00001.txt',\n",
      "     'KB_JB838_1937-09-20_01-00001.txt',\n",
      "     'KB_JB838_1937-10-29_01-00002.txt',\n",
      "     'KB_JB838_1937-12-22_01-00001.txt',\n",
      "     'KB_JB838_1938-01-17_01-00001.txt',\n",
      "     'KB_JB838_1938-02-18_01-00001.txt',\n",
      "     'KB_JB838_1938-06-06_01-00002.txt',\n",
      "     'KB_JB838_1938-09-09_01-00001.txt',\n",
      "     'KB_JB838_1939-06-26_01-00001.txt',\n",
      "     'KB_JB838_1939-08-06_01-00002.txt'],\n",
      " 3: ['KB_JB838_1930-03-01_01-00003.txt',\n",
      "     'KB_JB838_1930-09-09_01-00003.txt',\n",
      "     'KB_JB838_1930-09-14_01-00003.txt',\n",
      "     'KB_JB838_1930-09-24_01-00003.txt',\n",
      "     'KB_JB838_1930-11-05_01-00003.txt',\n",
      "     'KB_JB838_1930-11-21_01-00003.txt',\n",
      "     'KB_JB838_1930-11-28_01-00003.txt',\n",
      "     'KB_JB838_1931-01-16_01-00003.txt',\n",
      "     'KB_JB838_1931-01-22_01-00003.txt',\n",
      "     'KB_JB838_1931-03-31_01-00003.txt',\n",
      "     'KB_JB838_1931-05-17_01-00003.txt',\n",
      "     'KB_JB838_1931-05-23_01-00003.txt',\n",
      "     'KB_JB838_1931-05-28_01-00003.txt',\n",
      "     'KB_JB838_1931-05-29_01-00003.txt',\n",
      "     'KB_JB838_1931-06-06_01-00003.txt',\n",
      "     'KB_JB838_1931-07-17_01-00003.txt',\n",
      "     'KB_JB838_1931-08-22_01-00003.txt',\n",
      "     'KB_JB838_1931-09-18_01-00003.txt',\n",
      "     'KB_JB838_1931-09-19_01-00003.txt',\n",
      "     'KB_JB838_1931-10-07_01-00003.txt',\n",
      "     'KB_JB838_1931-10-27_01-00003.txt',\n",
      "     'KB_JB838_1931-11-08_01-00003.txt',\n",
      "     'KB_JB838_1931-11-11_01-00003.txt',\n",
      "     'KB_JB838_1931-12-13_01-00003.txt',\n",
      "     'KB_JB838_1931-12-23_01-00003.txt',\n",
      "     'KB_JB838_1932-01-02_01-00003.txt',\n",
      "     'KB_JB838_1932-01-16_01-00003.txt',\n",
      "     'KB_JB838_1932-02-26_01-00003.txt',\n",
      "     'KB_JB838_1932-03-18_01-00003.txt',\n",
      "     'KB_JB838_1932-04-02_01-00003.txt',\n",
      "     'KB_JB838_1932-04-03_01-00003.txt',\n",
      "     'KB_JB838_1932-05-19_01-00003.txt',\n",
      "     'KB_JB838_1932-05-25_01-00003.txt',\n",
      "     'KB_JB838_1932-05-26_01-00003.txt',\n",
      "     'KB_JB838_1932-06-03_01-00003.txt',\n",
      "     'KB_JB838_1932-06-05_01-00003.txt',\n",
      "     'KB_JB838_1932-06-08_01-00003.txt',\n",
      "     'KB_JB838_1933-04-06_01-00003.txt',\n",
      "     'KB_JB838_1933-04-13_01-00003.txt',\n",
      "     'KB_JB838_1933-04-23_01-00003.txt',\n",
      "     'KB_JB838_1933-06-15_01-00003.txt',\n",
      "     'KB_JB838_1933-07-26_01-00003.txt',\n",
      "     'KB_JB838_1933-11-30_01-00006.txt',\n",
      "     'KB_JB838_1933-12-31_01-00004.txt',\n",
      "     'KB_JB838_1934-02-01_01-00004.txt',\n",
      "     'KB_JB838_1934-04-16_01-00004.txt',\n",
      "     'KB_JB838_1934-05-03_01-00003.txt',\n",
      "     'KB_JB838_1934-09-11_01-00003.txt',\n",
      "     'KB_JB838_1934-09-21_01-00003.txt',\n",
      "     'KB_JB838_1934-09-25_01-00003.txt',\n",
      "     'KB_JB838_1934-11-04_01-00004.txt',\n",
      "     'KB_JB838_1935-06-10_01-00004.txt',\n",
      "     'KB_JB838_1935-09-18_01-00003.txt',\n",
      "     'KB_JB838_1936-01-29_01-00004.txt',\n",
      "     'KB_JB838_1936-05-03_01-00002.txt',\n",
      "     'KB_JB838_1936-06-25_01-00004.txt',\n",
      "     'KB_JB838_1936-09-30_01-00003.txt',\n",
      "     'KB_JB838_1937-03-27_01-00003.txt',\n",
      "     'KB_JB838_1937-04-09_01-00003.txt',\n",
      "     'KB_JB838_1937-05-31_01-00003.txt',\n",
      "     'KB_JB838_1938-01-16_01-00003.txt',\n",
      "     'KB_JB838_1938-08-19_01-00004.txt',\n",
      "     'KB_JB838_1938-11-30_01-00004.txt',\n",
      "     'KB_JB838_1939-01-25_01-00004.txt']}\n"
     ]
    }
   ],
   "source": [
    "pprint(dict(clustering))"
   ]
  },
  {
   "cell_type": "markdown",
   "metadata": {},
   "source": [
    "## Visualiser les clusters"
   ]
  },
  {
   "cell_type": "markdown",
   "metadata": {},
   "source": [
    "### Réduire les vecteurs à 2 dimensions à l'aide de l'algorithme PCA\n",
    "Cette étape est nécessaire afin de visualiser les documents dans un espace 2D\n",
    "\n",
    "https://fr.wikipedia.org/wiki/Analyse_en_composantes_principales"
   ]
  },
  {
   "cell_type": "code",
   "execution_count": 52,
   "metadata": {},
   "outputs": [],
   "source": [
    "pca = PCA(n_components=2)\n",
    "reduced_vectors = pca.fit_transform(tfidf_vectors.toarray())"
   ]
  },
  {
   "cell_type": "code",
   "execution_count": 53,
   "metadata": {},
   "outputs": [
    {
     "data": {
      "text/plain": [
       "array([[-0.10876796, -0.1098228 ],\n",
       "       [-0.14703704, -0.1177071 ],\n",
       "       [-0.00355963,  0.14965018],\n",
       "       [ 0.26973319, -0.058771  ],\n",
       "       [-0.11203287, -0.1674725 ],\n",
       "       [-0.11065805, -0.14191955],\n",
       "       [-0.12050035, -0.15845557],\n",
       "       [ 0.48010821, -0.19576197],\n",
       "       [ 0.4848385 , -0.17516239],\n",
       "       [ 0.00988588,  0.00052911]])"
      ]
     },
     "execution_count": 53,
     "metadata": {},
     "output_type": "execute_result"
    }
   ],
   "source": [
    "reduced_vectors[:10]"
   ]
  },
  {
   "cell_type": "markdown",
   "metadata": {},
   "source": [
    "### Générer le plot"
   ]
  },
  {
   "cell_type": "code",
   "execution_count": 54,
   "metadata": {},
   "outputs": [
    {
     "data": {
      "text/plain": [
       "<matplotlib.legend.Legend at 0x1ef4005fbe0>"
      ]
     },
     "execution_count": 54,
     "metadata": {},
     "output_type": "execute_result"
    },
    {
     "data": {
      "image/png": "[encoded data removed]",
      "text/plain": [
       "<Figure size 1000x1000 with 1 Axes>"
      ]
     },
     "metadata": {},
     "output_type": "display_data"
    }
   ],
   "source": [
    "x_axis = reduced_vectors[:, 0]\n",
    "y_axis = reduced_vectors[:, 1]\n",
    "\n",
    "plt.figure(figsize=(10,10))\n",
    "scatter = plt.scatter(x_axis, y_axis, s=100, c=clusters)\n",
    "\n",
    "# Ajouter les centroïdes\n",
    "centroids = pca.transform(km_model.cluster_centers_)\n",
    "plt.scatter(centroids[:, 0], centroids[:, 1],  marker = \"x\", s=100, linewidths = 2, color='black')\n",
    "\n",
    "# Ajouter la légende\n",
    "plt.legend(handles=scatter.legend_elements()[0], labels=set(clusters), title=\"Clusters\")"
   ]
  }
 ],
 "metadata": {
  "kernelspec": {
   "display_name": "Python 3.10.7 ('tac_venv': venv)",
   "language": "python",
   "name": "python3"
  },
  "language_info": {
   "codemirror_mode": {
    "name": "ipython",
    "version": 3
   },
   "file_extension": ".py",
   "mimetype": "text/x-python",
   "name": "python",
   "nbconvert_exporter": "python",
   "pygments_lexer": "ipython3",
   "version": "3.10.7 (tags/v3.10.7:6cc6b13, Sep  5 2022, 14:08:36) [MSC v.1933 64 bit (AMD64)]"
  },
  "vscode": {
   "interpreter": {
    "hash": "bf1c0e32efbc1b0a30fa46d6ab60b25f74a78c177210c206f5ce854a430d1ba2"
   }
  }
 },
 "nbformat": 4,
 "nbformat_minor": 4
}
