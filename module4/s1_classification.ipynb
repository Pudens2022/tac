{
 "cells": [
  {
   "cell_type": "markdown",
   "metadata": {},
   "source": [
    "# Classification de documents"
   ]
  },
  {
   "cell_type": "markdown",
   "metadata": {},
   "source": [
    "## Imports"
   ]
  },
  {
   "cell_type": "code",
   "execution_count": 6,
   "metadata": {
    "tags": []
   },
   "outputs": [
    {
     "name": "stdout",
     "output_type": "stream",
     "text": [
      "Collecting scikit-plot\n",
      "  Downloading scikit_plot-0.3.7-py3-none-any.whl (33 kB)\n",
      "Requirement already satisfied: scipy>=0.9 in c:\\users\\janvi\\onedrive\\documents\\kisalu\\ulb-stic\\cours-stic-2022-2023\\stic-b545 - traitement automatique de corpus\\tac\\tac_venv\\lib\\site-packages (from scikit-plot) (1.9.1)\n",
      "Requirement already satisfied: matplotlib>=1.4.0 in c:\\users\\janvi\\onedrive\\documents\\kisalu\\ulb-stic\\cours-stic-2022-2023\\stic-b545 - traitement automatique de corpus\\tac\\tac_venv\\lib\\site-packages (from scikit-plot) (3.6.0)\n",
      "Requirement already satisfied: scikit-learn>=0.18 in c:\\users\\janvi\\onedrive\\documents\\kisalu\\ulb-stic\\cours-stic-2022-2023\\stic-b545 - traitement automatique de corpus\\tac\\tac_venv\\lib\\site-packages (from scikit-plot) (1.1.2)\n",
      "Requirement already satisfied: joblib>=0.10 in c:\\users\\janvi\\onedrive\\documents\\kisalu\\ulb-stic\\cours-stic-2022-2023\\stic-b545 - traitement automatique de corpus\\tac\\tac_venv\\lib\\site-packages (from scikit-plot) (1.2.0)\n",
      "Requirement already satisfied: packaging>=20.0 in c:\\users\\janvi\\onedrive\\documents\\kisalu\\ulb-stic\\cours-stic-2022-2023\\stic-b545 - traitement automatique de corpus\\tac\\tac_venv\\lib\\site-packages (from matplotlib>=1.4.0->scikit-plot) (21.3)\n",
      "Requirement already satisfied: kiwisolver>=1.0.1 in c:\\users\\janvi\\onedrive\\documents\\kisalu\\ulb-stic\\cours-stic-2022-2023\\stic-b545 - traitement automatique de corpus\\tac\\tac_venv\\lib\\site-packages (from matplotlib>=1.4.0->scikit-plot) (1.4.4)\n",
      "Requirement already satisfied: contourpy>=1.0.1 in c:\\users\\janvi\\onedrive\\documents\\kisalu\\ulb-stic\\cours-stic-2022-2023\\stic-b545 - traitement automatique de corpus\\tac\\tac_venv\\lib\\site-packages (from matplotlib>=1.4.0->scikit-plot) (1.0.5)\n",
      "Requirement already satisfied: fonttools>=4.22.0 in c:\\users\\janvi\\onedrive\\documents\\kisalu\\ulb-stic\\cours-stic-2022-2023\\stic-b545 - traitement automatique de corpus\\tac\\tac_venv\\lib\\site-packages (from matplotlib>=1.4.0->scikit-plot) (4.37.4)\n",
      "Requirement already satisfied: pillow>=6.2.0 in c:\\users\\janvi\\onedrive\\documents\\kisalu\\ulb-stic\\cours-stic-2022-2023\\stic-b545 - traitement automatique de corpus\\tac\\tac_venv\\lib\\site-packages (from matplotlib>=1.4.0->scikit-plot) (9.2.0)\n",
      "Requirement already satisfied: numpy>=1.19 in c:\\users\\janvi\\onedrive\\documents\\kisalu\\ulb-stic\\cours-stic-2022-2023\\stic-b545 - traitement automatique de corpus\\tac\\tac_venv\\lib\\site-packages (from matplotlib>=1.4.0->scikit-plot) (1.23.3)\n",
      "Requirement already satisfied: python-dateutil>=2.7 in c:\\users\\janvi\\onedrive\\documents\\kisalu\\ulb-stic\\cours-stic-2022-2023\\stic-b545 - traitement automatique de corpus\\tac\\tac_venv\\lib\\site-packages (from matplotlib>=1.4.0->scikit-plot) (2.8.2)\n",
      "Requirement already satisfied: cycler>=0.10 in c:\\users\\janvi\\onedrive\\documents\\kisalu\\ulb-stic\\cours-stic-2022-2023\\stic-b545 - traitement automatique de corpus\\tac\\tac_venv\\lib\\site-packages (from matplotlib>=1.4.0->scikit-plot) (0.11.0)\n",
      "Requirement already satisfied: pyparsing>=2.2.1 in c:\\users\\janvi\\onedrive\\documents\\kisalu\\ulb-stic\\cours-stic-2022-2023\\stic-b545 - traitement automatique de corpus\\tac\\tac_venv\\lib\\site-packages (from matplotlib>=1.4.0->scikit-plot) (3.0.9)\n",
      "Requirement already satisfied: threadpoolctl>=2.0.0 in c:\\users\\janvi\\onedrive\\documents\\kisalu\\ulb-stic\\cours-stic-2022-2023\\stic-b545 - traitement automatique de corpus\\tac\\tac_venv\\lib\\site-packages (from scikit-learn>=0.18->scikit-plot) (3.1.0)\n",
      "Requirement already satisfied: six>=1.5 in c:\\users\\janvi\\onedrive\\documents\\kisalu\\ulb-stic\\cours-stic-2022-2023\\stic-b545 - traitement automatique de corpus\\tac\\tac_venv\\lib\\site-packages (from python-dateutil>=2.7->matplotlib>=1.4.0->scikit-plot) (1.12.0)\n",
      "Installing collected packages: scikit-plot\n",
      "Successfully installed scikit-plot-0.3.7\n",
      "Note: you may need to restart the kernel to use updated packages.\n"
     ]
    },
    {
     "name": "stderr",
     "output_type": "stream",
     "text": [
      "\n",
      "[notice] A new release of pip available: 22.2.2 -> 22.3\n",
      "[notice] To update, run: python.exe -m pip install --upgrade pip\n",
      "[nltk_data] Downloading package stopwords to\n",
      "[nltk_data]     C:\\Users\\janvi\\AppData\\Roaming\\nltk_data...\n",
      "[nltk_data]   Package stopwords is already up-to-date!\n"
     ]
    },
    {
     "data": {
      "text/plain": [
       "True"
      ]
     },
     "execution_count": 6,
     "metadata": {},
     "output_type": "execute_result"
    }
   ],
   "source": [
    "import matplotlib.pyplot as plt\n",
    "from nltk.corpus import stopwords\n",
    "#import seaborn as sn\n",
    "from pprint import pprint\n",
    "import numpy as np\n",
    "from sklearn.datasets import fetch_20newsgroups\n",
    "from sklearn.model_selection import train_test_split\n",
    "from sklearn.naive_bayes import MultinomialNB\n",
    "from sklearn.pipeline import Pipeline\n",
    "from sklearn.feature_extraction.text import TfidfVectorizer\n",
    "from sklearn.metrics import confusion_matrix, classification_report\n",
    "%pip install scikit-plot\n",
    "from scikitplot.metrics import plot_confusion_matrix\n",
    "import pandas as pd\n",
    "import re\n",
    "import operator\n",
    "import nltk\n",
    "nltk.download('stopwords')"
   ]
  },
  {
   "cell_type": "markdown",
   "metadata": {},
   "source": [
    "## Charger le dataset 20 newsgroups\n",
    "Pour plus d'information : https://scikit-learn.org/0.19/datasets/twenty_newsgroups.html"
   ]
  },
  {
   "cell_type": "code",
   "execution_count": 7,
   "metadata": {},
   "outputs": [],
   "source": [
    "news = fetch_20newsgroups(subset='all')"
   ]
  },
  {
   "cell_type": "code",
   "execution_count": 8,
   "metadata": {},
   "outputs": [
    {
     "name": "stdout",
     "output_type": "stream",
     "text": [
      "Number of articles: 18846\n"
     ]
    }
   ],
   "source": [
    "print(\"Number of articles: \" + str(len(news.data)))"
   ]
  },
  {
   "cell_type": "code",
   "execution_count": 9,
   "metadata": {},
   "outputs": [
    {
     "name": "stdout",
     "output_type": "stream",
     "text": [
      "Number of categories: 20\n"
     ]
    }
   ],
   "source": [
    "print(\"Number of categories: \" + str(len(news.target_names)))"
   ]
  },
  {
   "cell_type": "code",
   "execution_count": 10,
   "metadata": {},
   "outputs": [
    {
     "name": "stdout",
     "output_type": "stream",
     "text": [
      "['alt.atheism', 'comp.graphics', 'comp.os.ms-windows.misc', 'comp.sys.ibm.pc.hardware', 'comp.sys.mac.hardware', 'comp.windows.x', 'misc.forsale', 'rec.autos', 'rec.motorcycles', 'rec.sport.baseball', 'rec.sport.hockey', 'sci.crypt', 'sci.electronics', 'sci.med', 'sci.space', 'soc.religion.christian', 'talk.politics.guns', 'talk.politics.mideast', 'talk.politics.misc', 'talk.religion.misc']\n"
     ]
    }
   ],
   "source": [
    "labels = news.target_names\n",
    "print(labels)"
   ]
  },
  {
   "cell_type": "code",
   "execution_count": 11,
   "metadata": {},
   "outputs": [
    {
     "name": "stdout",
     "output_type": "stream",
     "text": [
      "===== rec.sport.hockey =====\n",
      "From: Mamatha Devineni Ratnam <mr47+@andrew.cmu.edu> Subject: Pens fans reactions Organization: Post Office, Carnegie Mellon, Pittsburgh, PA Lines: 12 NNTP-Posting-Host: po4.andrew.cmu.edu    I am sure some bashers of Pens fans are pretty confused about the lack of any kind of posts about the recent Pens massacre of the Devils. Actually, I am  bit puzzled too and a bit relieved. However, I am going to put an end to non-PIttsburghers' relief with a bit of praise for the Pens. Man, they are killing those Devils worse than I thought. Jagr just showed you why he is much better than his regular season stats. He is also a lot fo fun to watch in the playoffs. Bowman should let JAgr have a lot of fun in the next couple of games since the Pens are going to beat the pulp out of Jersey anyway. I was very disappointed not to see the Islanders lose the final regular season game.          PENS RULE!!!   \n",
      "\n",
      "===== comp.sys.ibm.pc.hardware =====\n",
      "From: mblawson@midway.ecn.uoknor.edu (Matthew B Lawson) Subject: Which high-performance VLB video card? Summary: Seek recommendations for VLB video card Nntp-Posting-Host: midway.ecn.uoknor.edu Organization: Engineering Computer Network, University of Oklahoma, Norman, OK, USA Keywords: orchid, stealth, vlb Lines: 21    My brother is in the market for a high-performance video card that supports VESA local bus with 1-2MB RAM.  Does anyone have suggestions/ideas on:    - Diamond Stealth Pro Local Bus    - Orchid Farenheit 1280    - ATI Graphics Ultra Pro    - Any other high-performance VLB card   Please post or email.  Thank you!    - Matt  --      |  Matthew B. Lawson <------------> (mblawson@essex.ecn.uoknor.edu)  |      --+-- \"Now I, Nebuchadnezzar, praise and exalt and glorify the King  --+--      |   of heaven, because everything he does is right and all his ways  |        |   are just.\" - Nebuchadnezzar, king of Babylon, 562 B.C.           |     \n",
      "\n",
      "===== talk.politics.mideast =====\n",
      "From: hilmi-er@dsv.su.se (Hilmi Eren) Subject: Re: ARMENIA SAYS IT COULD SHOOT DOWN TURKISH PLANES (Henrik) Lines: 95 Nntp-Posting-Host: viktoria.dsv.su.se Reply-To: hilmi-er@dsv.su.se (Hilmi Eren) Organization: Dept. of Computer and Systems Sciences, Stockholm University     |>The student of \"regional killings\" alias Davidian (not the Davidian religios sect) writes:   |>Greater Armenia would stretch from Karabakh, to the Black Sea, to the |>Mediterranean, so if you use the term \"Greater Armenia\" use it with care.   \tFinally you said what you dream about. Mediterranean???? That was new.... \tThe area will be \"greater\" after some years, like your \"holocaust\" numbers......     |>It has always been up to the Azeris to end their announced winning of Karabakh  |>by removing the Armenians! When the president of Azerbaijan, Elchibey, came to  |>power last year, he announced he would be be \"swimming in Lake Sevan [in  |>Armeniaxn] by July\". \t\t***** \tIs't July in USA now????? Here in Sweden it's April and still cold. \tOr have you changed your calendar???   |>Well, he was wrong! If Elchibey is going to shell the  |>Armenians of Karabakh from Aghdam, his people will pay the price! If Elchibey  \t\t\t\t\t\t    **************** |>is going to shell Karabakh from Fizuli his people will pay the price! If  \t\t\t\t\t\t    ****************** |>Elchibey thinks he can get away with bombing Armenia from the hills of  |>Kelbajar, his people will pay the price.  \t\t\t    ***************   \tNOTHING OF THE MENTIONED IS TRUE, BUT LET SAY IT's TRUE. \t \tSHALL THE AZERI WOMEN AND CHILDREN GOING TO PAY THE PRICE WITH \t\t\t\t\t\t    ************** \tBEING RAPED, KILLED AND TORTURED BY THE ARMENIANS?????????? \t \tHAVE YOU HEARDED SOMETHING CALLED: \"GENEVA CONVENTION\"??????? \tYOU FACIST!!!!!    \tOhhh i forgot, this is how Armenians fight, nobody has forgot \tyou killings, rapings and torture against the Kurds and Turks once \tupon a time!                 |>And anyway, this \"60  |>Kurd refugee\" story, as have other stories, are simple fabrications sourced in  |>Baku, modified in Ankara. Other examples of this are Armenia has no border  |>with Iran, and the ridiculous story of the \"intercepting\" of Armenian military  |>conversations as appeared in the New York Times supposedly translated by  |>somebody unknown, from Armenian into Azeri Turkish, submitted by an unnamed  |>\"special correspondent\" to the NY Times from Baku. Real accurate!  Ohhhh so swedish RedCross workers do lie they too? What ever you say \"regional killer\", if you don't like the person then shoot him that's your policy.....l   |>[HE]\tSearch Turkish planes? You don't know what you are talking about.<------- |>[HE]\tsince it's content is announced to be weapons? \t\t\t\ti\t  \t\t\t\t\t\t\t\t\t\ti |>Well, big mouth Ozal said military weapons are being provided to Azerbaijan\ti |>from Turkey, yet Demirel and others say no. No wonder you are so confused!\ti \t\t\t\t\t\t\t\t\t\ti \t\t\t\t\t\t\t\t\t\ti \tConfused?????\t\t\t\t\t\t\t\ti \tYou facist when you delete text don't change it, i wrote:\t\ti \t\t\t\t\t\t\t\t\t\ti         Search Turkish planes? You don't know what you are talking about.\ti         Turkey's government has announced that it's giving weapons  <-----------i         to Azerbadjan since Armenia started to attack Azerbadjan\t\t         it self, not the Karabag province. So why search a plane for weapons\t         since it's content is announced to be weapons?     \tIf there is one that's confused then that's you! We have the right (and we do) \tto give weapons to the Azeris, since Armenians started the fight in Azerbadjan!    |>You are correct, all Turkish planes should be simply shot down! Nice, slow |>moving air transports!  \tShoot down with what? Armenian bread and butter? Or the arms and personel  \tof the Russian army?     Hilmi Eren Stockholm University  \n",
      "\n",
      "===== comp.sys.ibm.pc.hardware =====\n",
      "From: guyd@austin.ibm.com (Guy Dawson) Subject: Re: IDE vs SCSI, DMA and detach Originator: guyd@pal500.austin.ibm.com Organization: IBM Austin Lines: 60   In article <1993Apr19.034517.12820@julian.uwo.ca>, wlsmith@valve.heart.rri.uwo.ca (Wayne Smith) writes: > In article <RICHK.93Apr15075248@gozer.grebyn.com> richk@grebyn.com (Richard Krehbiel) writes: > >>     Can anyone explain in fairly simple terms why, if I get OS/2, I might  > >>   need an SCSI controler rather than an IDE.  Will performance suffer that > >>   much?  For a 200MB or so drive?  If I don't have a tape drive or CD-ROM? > >>   Any help would be appreciated. >  > >So, when you've got multi-tasking, you want to increase performance by > >increasing the amount of overlapping you do. > > > >One way is with DMA or bus mastering.  Either of these make it > >possible for I/O devices to move their data into and out of memory > >without interrupting the CPU.  The alternative is for the CPU to move > >the data.  There are several SCSI interface cards that allow DMA and > >bus mastering. >  ^^^^^^^^^^^^ > How do you do bus-mastering on the ISA bus? >  > >IDE, however, is defined by the standard AT interface > >created for the IBM PC AT, which requires the CPU to move all the data > >bytes, with no DMA. >  > If we're talking ISA (AT) bus here, then you can only have 1 DMA channel > active at any one time, presumably transferring data from a single device. > So even though you can have at least 7 devices on a SCSI bus, explain how > all 7 of those devices can to DMA transfers through a single SCSI card > to the ISA-AT bus at the same time.  Think!  It's the SCSI card doing the DMA transfers NOT the disks...  The SCSI card can do DMA transfers containing data from any of the SCSI devices it is attached when it wants to.  An important feature of SCSI is the ability to detach a device. This frees the SCSI bus for other devices. This is typically used in a multi-tasking OS to start transfers on several devices. While each device is seeking the data the bus is free for other commands and data transfers. When the devices are ready to transfer the data they can aquire the bus and send the data.  On an IDE bus when you start a transfer the bus is busy until the disk has seeked the data and transfered it. This is typically a 10-20ms second lock out for other processes wanting the bus irrespective of transfer time.  >  > Also, I'm still trying to track down a copy of IBM's AT reference book, > but from their PC technical manual (page 2-93): >  > \"The (FDD) adapter is buffered on the I.O bus and uses the System Board > direct memory access (DMA) for record data transfers.\" > I expect to see something similar for the PC-AT HDD adapter.   > So the lowly low-density original PC FDD card used DMA and the PC-AT > HDD controller doesn't!?!?  That makes real sense. --  -- ----------------------------------------------------------------------------- Guy Dawson - Hoskyns Group Plc.         guyd@hoskyns.co.uk  Tel Hoskyns UK     -  71 251 2128         guyd@austin.ibm.com Tel IBM Austin USA - 512 838 3377  \n",
      "\n",
      "===== comp.sys.mac.hardware =====\n",
      "From: Alexander Samuel McDiarmid <am2o+@andrew.cmu.edu> Subject: driver ?? Organization: Sophomore, Mechanical Engineering, Carnegie Mellon, Pittsburgh, PA Lines: 15 NNTP-Posting-Host: po4.andrew.cmu.edu    1)    I have an old Jasmine drive which I cannot use with my new system.  My understanding is that I have to upsate the driver with a more modern one in order to gain compatability with system 7.0.1.  does anyone know of an inexpensive program to do this?  ( I have seen formatters for <$20 buit have no idea if they will work)   2)     I have another ancient device, this one a tape drive for which the back utility freezes the system if I try to use it.  THe drive is a jasmine direct tape (bought used for $150 w/ 6 tapes, techmar mechanism).  Essentially I have the same question as above, anyone know of an inexpensive beckup utility I can use with system 7.0.1   all help and advice appriciated.   \n",
      "\n",
      "===== sci.electronics =====\n",
      "From: tell@cs.unc.edu (Stephen Tell) Subject: Re: subliminal message flashing on TV Organization: The University of North Carolina at Chapel Hill Lines: 25 NNTP-Posting-Host: rukbat.cs.unc.edu  In article <7480237@hpfcso.FC.HP.COM> myers@hpfcso.FC.HP.COM (Bob Myers) writes: >> Hi.  I was doing research on subliminal suggestion for a psychology >> paper, and I read that one researcher flashed hidden messages on the >> TV screen at 1/200ths of a second.  Is that possible?  > Might >even be a vector (\"strokewriter\") display, in which case the lower limit >on image time is anyone's guess (and is probably phosphor-persistence limited).  Back in high school I worked as a lab assistant for a bunch of experimental psychologists at Bell Labs.  When they were doing visual perception and memory experiments, they used vector-type displays, with 1-millisecond refresh rates common.  So your case of 1/200th sec is quite practical, and the experimenters were probably sure that it was 5 milliseconds, not 4 or 6 either.  >Bob Myers  KC0EW >myers@fc.hp.com   Steve --  Steve Tell       tell@cs.unc.edu H: 919 968 1792  | #5L Estes Park apts UNC Chapel Hill Computer Science W: 919 962 1845  | Carrboro NC 27510 Engineering is a _lot_ like art:  Some circuits are like lyric poems, some are like army manuals, and some are like The Hitchhiker's Guide to the Galaxy..  \n",
      "\n",
      "===== comp.sys.mac.hardware =====\n",
      "From: lpa8921@tamuts.tamu.edu (Louis Paul Adams) Subject: Re: Number for Applied Engineering Organization: Texas A&M University, College Station Lines: 9 NNTP-Posting-Host: tamuts.tamu.edu  >Anyone have a phone number for Applied Engineering so I can give them >a call?   AE is in Dallas...try 214/241-6060 or 214/241-0055.  Tech support may be on their own line, but one of these should get you started.  Good luck!   \n",
      "\n",
      "===== rec.sport.hockey =====\n",
      "From: dchhabra@stpl.ists.ca (Deepak Chhabra) Subject: Re: Atlanta Hockey Hell!! Nntp-Posting-Host: stpl.ists.ca Organization: Solar Terresterial Physics Laboratory, ISTS Lines: 24  In article <0foVj7i00WB4MIUmht@andrew.cmu.edu> Mamatha Devineni Ratnam <mr47+@andrew.cmu.edu> writes: > >Well, it's not that bad. But I am still pretty pissed of at the >local ABC coverage. They cut off the first half hour of coverage by playing  [stuff deleted]  Ok, here's the solution to your problem.  Move to Canada.  Yesterday I was able to watch FOUR games...the NJ-PITT at 1:00 on ABC, LA-CAL at 3:00 (CBC),  BUFF-BOS at 7:00 (TSN and FOX), and MON-QUE at 7:30 (CBC).  I think that if each series goes its max I could be watching hockey playoffs for 40-some odd consecutive nights (I haven't counted so that's a pure guess).  I have two tv's in my house, and I set them up side-by-side to watch MON-QUE and keep an eye on BOS-BUFF at the same time.  I did the same for the two afternoon games.  Btw, those ABC commentaters were great!  I was quite impressed; they seemed to know that their audience wasn't likely to be well-schooled in hockey lore and they did an excellent job.  They were quite impartial also, IMO.    dchhabra@stpl.ists.ca (not suffering from a shortage of hockey here)  \n",
      "\n",
      "===== rec.sport.hockey =====\n",
      "From: dchhabra@stpl.ists.ca (Deepak Chhabra) Subject: Re: Goalie masks Nntp-Posting-Host: stpl.ists.ca Organization: Solar Terresterial Physics Laboratory, ISTS Lines: 15  In article <C5sqz3.EG8@acsu.buffalo.edu> hammerl@acsu.buffalo.edu (Valerie S. Hammerl) writes:  >>[...] and I'll give Fuhr's new one an honourable mention, although I haven't >>seen it closely yet (it looked good from a distance!).    >This is the new Buffalo one, the second since he's been with the >Sabres?  I recall a price tag of over $700 just for the paint job on >that mask, and a total price of almost $1500.  Ouch.    Yeah, it's the second one.  And I believe that price too.  I've been trying to get a good look at it on the Bruin-Sabre telecasts, and wow! does it ever look good.  Whoever did that paint job knew what they were doing.  And given Fuhr's play since he got it, I bet the Bruins are wishing he didn't have it:)  --  \n",
      "\n",
      "===== talk.religion.misc =====\n",
      "From: arromdee@jyusenkyou.cs.jhu.edu (Ken Arromdee) Subject: Re: Christians above the Law? was Clarification of pe Organization: Johns Hopkins University CS Dept. Lines: 13  In article <C61Kow.E4z@mailer.cc.fsu.edu> dlecoint@garnet.acns.fsu.edu (Darius_Lecointe) writes: >>Jesus was a JEW, not a Christian.  If a Christian means someone who believes in the divinity of Jesus, it is safe to say that Jesus was a Christian. -- \"On the first day after Christmas my truelove served to me...  Leftover Turkey! On the second day after Christmas my truelove served to me...  Turkey Casserole     that she made from Leftover Turkey. [days 3-4 deleted] ...  Flaming Turkey Wings! ...    -- Pizza Hut commercial (and M*tlu/A*gic bait)  Ken Arromdee (arromdee@jyusenkyou.cs.jhu.edu)  \n",
      "\n"
     ]
    }
   ],
   "source": [
    "# Exemples d'articles et de labels\n",
    "for i, article in enumerate(news.data[:10]):\n",
    "    print(f'===== {labels[news.target[i]]} =====')\n",
    "    print(article.replace('\\n', ' '), '\\n')"
   ]
  },
  {
   "cell_type": "markdown",
   "metadata": {
    "tags": []
   },
   "source": [
    "## Création d'un modèle de machine learning avec Scikit-Learn\n",
    "Pour plus d'information :\n",
    "- Pipeline : https://scikit-learn.org/stable/modules/generated/sklearn.pipeline.Pipeline.html\n",
    "- TfidfVectorizer : https://scikit-learn.org/stable/modules/generated/sklearn.feature_extraction.text.TfidfVectorizer.html\n",
    "- MultinomialNB : https://scikit-learn.org/stable/modules/generated/sklearn.naive_bayes.MultinomialNB.html\n",
    "\n",
    "Un article de blog qui explique le TFIDF:\n",
    "- https://medium.com/analytics-vidhya/tf-idf-term-frequency-technique-easiest-explanation-for-text-classification-in-nlp-with-code-8ca3912e58c3\n",
    "\n",
    "Un article de blog qui explique les naive bayes:\n",
    "- https://towardsdatascience.com/naive-bayes-classifier-explained-54593abe6e18"
   ]
  },
  {
   "cell_type": "markdown",
   "metadata": {},
   "source": [
    "### Séparer le dataset en features et target (X, y) et en train et test\n",
    "Plus d'information : https://scikit-learn.org/stable/modules/generated/sklearn.model_selection.train_test_split.html"
   ]
  },
  {
   "cell_type": "code",
   "execution_count": 12,
   "metadata": {},
   "outputs": [],
   "source": [
    "# Nettoyage des textes\n",
    "texts = [re.sub('[^a-z]+', ' ', t.lower()).strip() for t in news.data]"
   ]
  },
  {
   "cell_type": "code",
   "execution_count": 13,
   "metadata": {},
   "outputs": [],
   "source": [
    "# Mapping des targets\n",
    "targets = np.array([labels[t] for t in news.target])"
   ]
  },
  {
   "cell_type": "code",
   "execution_count": 14,
   "metadata": {},
   "outputs": [
    {
     "name": "stdout",
     "output_type": "stream",
     "text": [
      "Training set size: 15076\n",
      "Test set size: 3770\n"
     ]
    }
   ],
   "source": [
    "X_train, X_test, y_train, y_test = train_test_split(texts, targets, test_size=0.2, random_state=11)\n",
    "\n",
    "print(\"Training set size:\", len(X_train))\n",
    "print(\"Test set size:\", len(X_test))"
   ]
  },
  {
   "cell_type": "markdown",
   "metadata": {},
   "source": [
    "### Entrainer un modèle de machine learning sur les données d'entrainement"
   ]
  },
  {
   "cell_type": "code",
   "execution_count": 15,
   "metadata": {},
   "outputs": [],
   "source": [
    "# Définition du type de modèle\n",
    "classifier = Pipeline([\n",
    "    ('vectorizer', TfidfVectorizer(stop_words=stopwords.words('english'), min_df=50, max_df=0.5)),\n",
    "    ('classifier', MultinomialNB()),\n",
    "])"
   ]
  },
  {
   "cell_type": "code",
   "execution_count": 16,
   "metadata": {},
   "outputs": [
    {
     "data": {
      "text/html": [
       "<style>#sk-container-id-1 {color: black;background-color: white;}#sk-container-id-1 pre{padding: 0;}#sk-container-id-1 div.sk-toggleable {background-color: white;}#sk-container-id-1 label.sk-toggleable__label {cursor: pointer;display: block;width: 100%;margin-bottom: 0;padding: 0.3em;box-sizing: border-box;text-align: center;}#sk-container-id-1 label.sk-toggleable__label-arrow:before {content: \"▸\";float: left;margin-right: 0.25em;color: #696969;}#sk-container-id-1 label.sk-toggleable__label-arrow:hover:before {color: black;}#sk-container-id-1 div.sk-estimator:hover label.sk-toggleable__label-arrow:before {color: black;}#sk-container-id-1 div.sk-toggleable__content {max-height: 0;max-width: 0;overflow: hidden;text-align: left;background-color: #f0f8ff;}#sk-container-id-1 div.sk-toggleable__content pre {margin: 0.2em;color: black;border-radius: 0.25em;background-color: #f0f8ff;}#sk-container-id-1 input.sk-toggleable__control:checked~div.sk-toggleable__content {max-height: 200px;max-width: 100%;overflow: auto;}#sk-container-id-1 input.sk-toggleable__control:checked~label.sk-toggleable__label-arrow:before {content: \"▾\";}#sk-container-id-1 div.sk-estimator input.sk-toggleable__control:checked~label.sk-toggleable__label {background-color: #d4ebff;}#sk-container-id-1 div.sk-label input.sk-toggleable__control:checked~label.sk-toggleable__label {background-color: #d4ebff;}#sk-container-id-1 input.sk-hidden--visually {border: 0;clip: rect(1px 1px 1px 1px);clip: rect(1px, 1px, 1px, 1px);height: 1px;margin: -1px;overflow: hidden;padding: 0;position: absolute;width: 1px;}#sk-container-id-1 div.sk-estimator {font-family: monospace;background-color: #f0f8ff;border: 1px dotted black;border-radius: 0.25em;box-sizing: border-box;margin-bottom: 0.5em;}#sk-container-id-1 div.sk-estimator:hover {background-color: #d4ebff;}#sk-container-id-1 div.sk-parallel-item::after {content: \"\";width: 100%;border-bottom: 1px solid gray;flex-grow: 1;}#sk-container-id-1 div.sk-label:hover label.sk-toggleable__label {background-color: #d4ebff;}#sk-container-id-1 div.sk-serial::before {content: \"\";position: absolute;border-left: 1px solid gray;box-sizing: border-box;top: 0;bottom: 0;left: 50%;z-index: 0;}#sk-container-id-1 div.sk-serial {display: flex;flex-direction: column;align-items: center;background-color: white;padding-right: 0.2em;padding-left: 0.2em;position: relative;}#sk-container-id-1 div.sk-item {position: relative;z-index: 1;}#sk-container-id-1 div.sk-parallel {display: flex;align-items: stretch;justify-content: center;background-color: white;position: relative;}#sk-container-id-1 div.sk-item::before, #sk-container-id-1 div.sk-parallel-item::before {content: \"\";position: absolute;border-left: 1px solid gray;box-sizing: border-box;top: 0;bottom: 0;left: 50%;z-index: -1;}#sk-container-id-1 div.sk-parallel-item {display: flex;flex-direction: column;z-index: 1;position: relative;background-color: white;}#sk-container-id-1 div.sk-parallel-item:first-child::after {align-self: flex-end;width: 50%;}#sk-container-id-1 div.sk-parallel-item:last-child::after {align-self: flex-start;width: 50%;}#sk-container-id-1 div.sk-parallel-item:only-child::after {width: 0;}#sk-container-id-1 div.sk-dashed-wrapped {border: 1px dashed gray;margin: 0 0.4em 0.5em 0.4em;box-sizing: border-box;padding-bottom: 0.4em;background-color: white;}#sk-container-id-1 div.sk-label label {font-family: monospace;font-weight: bold;display: inline-block;line-height: 1.2em;}#sk-container-id-1 div.sk-label-container {text-align: center;}#sk-container-id-1 div.sk-container {/* jupyter's `normalize.less` sets `[hidden] { display: none; }` but bootstrap.min.css set `[hidden] { display: none !important; }` so we also need the `!important` here to be able to override the default hidden behavior on the sphinx rendered scikit-learn.org. See: https://github.com/scikit-learn/scikit-learn/issues/21755 */display: inline-block !important;position: relative;}#sk-container-id-1 div.sk-text-repr-fallback {display: none;}</style><div id=\"sk-container-id-1\" class=\"sk-top-container\"><div class=\"sk-text-repr-fallback\"><pre>Pipeline(steps=[(&#x27;vectorizer&#x27;,\n",
       "                 TfidfVectorizer(max_df=0.5, min_df=50,\n",
       "                                 stop_words=[&#x27;i&#x27;, &#x27;me&#x27;, &#x27;my&#x27;, &#x27;myself&#x27;, &#x27;we&#x27;,\n",
       "                                             &#x27;our&#x27;, &#x27;ours&#x27;, &#x27;ourselves&#x27;, &#x27;you&#x27;,\n",
       "                                             &quot;you&#x27;re&quot;, &quot;you&#x27;ve&quot;, &quot;you&#x27;ll&quot;,\n",
       "                                             &quot;you&#x27;d&quot;, &#x27;your&#x27;, &#x27;yours&#x27;,\n",
       "                                             &#x27;yourself&#x27;, &#x27;yourselves&#x27;, &#x27;he&#x27;,\n",
       "                                             &#x27;him&#x27;, &#x27;his&#x27;, &#x27;himself&#x27;, &#x27;she&#x27;,\n",
       "                                             &quot;she&#x27;s&quot;, &#x27;her&#x27;, &#x27;hers&#x27;, &#x27;herself&#x27;,\n",
       "                                             &#x27;it&#x27;, &quot;it&#x27;s&quot;, &#x27;its&#x27;, &#x27;itself&#x27;, ...])),\n",
       "                (&#x27;classifier&#x27;, MultinomialNB())])</pre><b>In a Jupyter environment, please rerun this cell to show the HTML representation or trust the notebook. <br />On GitHub, the HTML representation is unable to render, please try loading this page with nbviewer.org.</b></div><div class=\"sk-container\" hidden><div class=\"sk-item sk-dashed-wrapped\"><div class=\"sk-label-container\"><div class=\"sk-label sk-toggleable\"><input class=\"sk-toggleable__control sk-hidden--visually\" id=\"sk-estimator-id-1\" type=\"checkbox\" ><label for=\"sk-estimator-id-1\" class=\"sk-toggleable__label sk-toggleable__label-arrow\">Pipeline</label><div class=\"sk-toggleable__content\"><pre>Pipeline(steps=[(&#x27;vectorizer&#x27;,\n",
       "                 TfidfVectorizer(max_df=0.5, min_df=50,\n",
       "                                 stop_words=[&#x27;i&#x27;, &#x27;me&#x27;, &#x27;my&#x27;, &#x27;myself&#x27;, &#x27;we&#x27;,\n",
       "                                             &#x27;our&#x27;, &#x27;ours&#x27;, &#x27;ourselves&#x27;, &#x27;you&#x27;,\n",
       "                                             &quot;you&#x27;re&quot;, &quot;you&#x27;ve&quot;, &quot;you&#x27;ll&quot;,\n",
       "                                             &quot;you&#x27;d&quot;, &#x27;your&#x27;, &#x27;yours&#x27;,\n",
       "                                             &#x27;yourself&#x27;, &#x27;yourselves&#x27;, &#x27;he&#x27;,\n",
       "                                             &#x27;him&#x27;, &#x27;his&#x27;, &#x27;himself&#x27;, &#x27;she&#x27;,\n",
       "                                             &quot;she&#x27;s&quot;, &#x27;her&#x27;, &#x27;hers&#x27;, &#x27;herself&#x27;,\n",
       "                                             &#x27;it&#x27;, &quot;it&#x27;s&quot;, &#x27;its&#x27;, &#x27;itself&#x27;, ...])),\n",
       "                (&#x27;classifier&#x27;, MultinomialNB())])</pre></div></div></div><div class=\"sk-serial\"><div class=\"sk-item\"><div class=\"sk-estimator sk-toggleable\"><input class=\"sk-toggleable__control sk-hidden--visually\" id=\"sk-estimator-id-2\" type=\"checkbox\" ><label for=\"sk-estimator-id-2\" class=\"sk-toggleable__label sk-toggleable__label-arrow\">TfidfVectorizer</label><div class=\"sk-toggleable__content\"><pre>TfidfVectorizer(max_df=0.5, min_df=50,\n",
       "                stop_words=[&#x27;i&#x27;, &#x27;me&#x27;, &#x27;my&#x27;, &#x27;myself&#x27;, &#x27;we&#x27;, &#x27;our&#x27;, &#x27;ours&#x27;,\n",
       "                            &#x27;ourselves&#x27;, &#x27;you&#x27;, &quot;you&#x27;re&quot;, &quot;you&#x27;ve&quot;, &quot;you&#x27;ll&quot;,\n",
       "                            &quot;you&#x27;d&quot;, &#x27;your&#x27;, &#x27;yours&#x27;, &#x27;yourself&#x27;, &#x27;yourselves&#x27;,\n",
       "                            &#x27;he&#x27;, &#x27;him&#x27;, &#x27;his&#x27;, &#x27;himself&#x27;, &#x27;she&#x27;, &quot;she&#x27;s&quot;,\n",
       "                            &#x27;her&#x27;, &#x27;hers&#x27;, &#x27;herself&#x27;, &#x27;it&#x27;, &quot;it&#x27;s&quot;, &#x27;its&#x27;,\n",
       "                            &#x27;itself&#x27;, ...])</pre></div></div></div><div class=\"sk-item\"><div class=\"sk-estimator sk-toggleable\"><input class=\"sk-toggleable__control sk-hidden--visually\" id=\"sk-estimator-id-3\" type=\"checkbox\" ><label for=\"sk-estimator-id-3\" class=\"sk-toggleable__label sk-toggleable__label-arrow\">MultinomialNB</label><div class=\"sk-toggleable__content\"><pre>MultinomialNB()</pre></div></div></div></div></div></div></div>"
      ],
      "text/plain": [
       "Pipeline(steps=[('vectorizer',\n",
       "                 TfidfVectorizer(max_df=0.5, min_df=50,\n",
       "                                 stop_words=['i', 'me', 'my', 'myself', 'we',\n",
       "                                             'our', 'ours', 'ourselves', 'you',\n",
       "                                             \"you're\", \"you've\", \"you'll\",\n",
       "                                             \"you'd\", 'your', 'yours',\n",
       "                                             'yourself', 'yourselves', 'he',\n",
       "                                             'him', 'his', 'himself', 'she',\n",
       "                                             \"she's\", 'her', 'hers', 'herself',\n",
       "                                             'it', \"it's\", 'its', 'itself', ...])),\n",
       "                ('classifier', MultinomialNB())])"
      ]
     },
     "execution_count": 16,
     "metadata": {},
     "output_type": "execute_result"
    }
   ],
   "source": [
    "# Entrainement du modèle\n",
    "classifier.fit(X_train, y_train)"
   ]
  },
  {
   "cell_type": "markdown",
   "metadata": {},
   "source": [
    "### Qu'est ce qu'il s'est passé ?"
   ]
  },
  {
   "cell_type": "markdown",
   "metadata": {},
   "source": [
    "#### Le TFIDF calcule le score IDF de chaque mot du corpus\n"
   ]
  },
  {
   "cell_type": "code",
   "execution_count": null,
   "metadata": {},
   "outputs": [],
   "source": [
    "feature_names = classifier.named_steps['vectorizer'].get_feature_names_out()\n",
    "idf_scores = classifier.named_steps['vectorizer'].idf_"
   ]
  },
  {
   "cell_type": "code",
   "execution_count": null,
   "metadata": {},
   "outputs": [],
   "source": [
    "# Taille du vocabulaire\n",
    "len(feature_names)"
   ]
  },
  {
   "cell_type": "code",
   "execution_count": null,
   "metadata": {},
   "outputs": [],
   "source": [
    "# Score IDF de chaque terme du vocabulaire\n",
    "for i in range(0, 10):\n",
    "    print(feature_names[i], ':', round(idf_scores[i], 2))"
   ]
  },
  {
   "cell_type": "code",
   "execution_count": null,
   "metadata": {},
   "outputs": [],
   "source": [
    "# Les 10 mots avec le score IDF le plus haut\n",
    "for word, score in sorted(zip(feature_names, idf_scores), key=operator.itemgetter(1), reverse=True)[:20]:\n",
    "    print(word, round(score, 2))"
   ]
  },
  {
   "cell_type": "markdown",
   "metadata": {},
   "source": [
    "#### Le TF-IDF transforme chaque document en vecteur de la taille du vocabulaire et donc le score est le TFIDF (fréquence du terme dans le document * idf)"
   ]
  },
  {
   "cell_type": "code",
   "execution_count": null,
   "metadata": {},
   "outputs": [],
   "source": [
    "tmp = classifier.named_steps['vectorizer'].transform(X_train[:10])\n",
    "pd.DataFrame(tmp.toarray(), columns=classifier.named_steps['vectorizer'].get_feature_names_out())"
   ]
  },
  {
   "cell_type": "markdown",
   "metadata": {},
   "source": [
    "#### Le modèle naïf bayésien apprend la corrélation entre chaque mot et chaque catégorie"
   ]
  },
  {
   "cell_type": "code",
   "execution_count": null,
   "metadata": {},
   "outputs": [],
   "source": [
    "pd.DataFrame(classifier.named_steps['classifier'].feature_log_prob_, index=labels, columns=feature_names).T"
   ]
  },
  {
   "cell_type": "markdown",
   "metadata": {},
   "source": [
    "#### On peut ainsi découvrir les termes les plus contributifs pour un label donné"
   ]
  },
  {
   "cell_type": "code",
   "execution_count": null,
   "metadata": {},
   "outputs": [],
   "source": [
    "pd.DataFrame(classifier.named_steps['classifier'].feature_log_prob_, index=labels, columns=feature_names).T.sort_values(by='comp.graphics', ascending=False).head(20)"
   ]
  },
  {
   "cell_type": "markdown",
   "metadata": {},
   "source": [
    "### Prédire les targets des données de test à l'aide du modèle entrainé"
   ]
  },
  {
   "cell_type": "code",
   "execution_count": null,
   "metadata": {},
   "outputs": [],
   "source": [
    "y_pred = classifier.predict(X_test)"
   ]
  },
  {
   "cell_type": "markdown",
   "metadata": {},
   "source": [
    "Aperçu des targets prédites"
   ]
  },
  {
   "cell_type": "code",
   "execution_count": null,
   "metadata": {},
   "outputs": [],
   "source": [
    "y_pred[:20]"
   ]
  },
  {
   "cell_type": "markdown",
   "metadata": {},
   "source": [
    "Aperçu des targets réelles"
   ]
  },
  {
   "cell_type": "code",
   "execution_count": null,
   "metadata": {},
   "outputs": [],
   "source": [
    "y_test[:20]"
   ]
  },
  {
   "cell_type": "markdown",
   "metadata": {},
   "source": [
    "### Evaluer le modèle"
   ]
  },
  {
   "cell_type": "markdown",
   "metadata": {
    "tags": []
   },
   "source": [
    "#### Générer un rapport de classification\n",
    "Pour plus d'information sur la précision, le recall et le f1-score : https://fr.wikipedia.org/wiki/Pr%C3%A9cision_et_rappel"
   ]
  },
  {
   "cell_type": "code",
   "execution_count": null,
   "metadata": {},
   "outputs": [],
   "source": [
    "print(classification_report(y_test, y_pred))"
   ]
  },
  {
   "cell_type": "markdown",
   "metadata": {},
   "source": [
    "### Générer une matrice de confusion"
   ]
  },
  {
   "cell_type": "code",
   "execution_count": null,
   "metadata": {},
   "outputs": [],
   "source": [
    "plot_confusion_matrix(y_test, y_pred, figsize=(10, 10), labels=labels, x_tick_rotation=90)"
   ]
  }
 ],
 "metadata": {
  "kernelspec": {
   "display_name": "Python 3.10.7 ('tac_venv': venv)",
   "language": "python",
   "name": "python3"
  },
  "language_info": {
   "codemirror_mode": {
    "name": "ipython",
    "version": 3
   },
   "file_extension": ".py",
   "mimetype": "text/x-python",
   "name": "python",
   "nbconvert_exporter": "python",
   "pygments_lexer": "ipython3",
   "version": "3.10.7"
  },
  "vscode": {
   "interpreter": {
    "hash": "bf1c0e32efbc1b0a30fa46d6ab60b25f74a78c177210c206f5ce854a430d1ba2"
   }
  }
 },
 "nbformat": 4,
 "nbformat_minor": 4
}
