{
 "cells": [
  {
   "cell_type": "markdown",
   "metadata": {},
   "source": [
    "# Reconnaissance d'entités nommées avec SpaCy"
   ]
  },
  {
   "cell_type": "markdown",
   "metadata": {},
   "source": [
    "La documentation est accessible ici: https://spacy.io/api"
   ]
  },
  {
   "cell_type": "markdown",
   "metadata": {},
   "source": [
    "## Imports"
   ]
  },
  {
   "cell_type": "code",
   "execution_count": 40,
   "metadata": {},
   "outputs": [],
   "source": [
    "from collections import defaultdict\n",
    "import sys\n",
    "import spacy\n",
    "from spacy.lang.fr.examples import sentences"
   ]
  },
  {
   "cell_type": "code",
   "execution_count": 41,
   "metadata": {},
   "outputs": [],
   "source": [
    "nlp = spacy.load('fr_core_news_md')"
   ]
  },
  {
   "cell_type": "markdown",
   "metadata": {},
   "source": [
    "## Exemple sur un corpus de test fourni par SpaCy"
   ]
  },
  {
   "cell_type": "code",
   "execution_count": 42,
   "metadata": {},
   "outputs": [
    {
     "data": {
      "text/plain": [
       "['Apple cherche à acheter une start-up anglaise pour 1 milliard de dollars',\n",
       " \"Les voitures autonomes déplacent la responsabilité de l'assurance vers les constructeurs\",\n",
       " \"San Francisco envisage d'interdire les robots coursiers sur les trottoirs\",\n",
       " 'Londres est une grande ville du Royaume-Uni',\n",
       " 'L’Italie choisit ArcelorMittal pour reprendre la plus grande aciérie d’Europe',\n",
       " \"Apple lance HomePod parce qu'il se sent menacé par l'Echo d'Amazon\",\n",
       " \"La France ne devrait pas manquer d'électricité cet été, même en cas de canicule\",\n",
       " 'Nouvelles attaques de Trump contre le maire de Londres',\n",
       " 'Où es-tu ?',\n",
       " 'Qui est le président de la France ?',\n",
       " 'Où est la capitale des États-Unis ?',\n",
       " 'Quand est né Barack Obama ?']"
      ]
     },
     "execution_count": 42,
     "metadata": {},
     "output_type": "execute_result"
    }
   ],
   "source": [
    "# Imprimer le corpus de Spacy\n",
    "sentences"
   ]
  },
  {
   "cell_type": "code",
   "execution_count": 43,
   "metadata": {},
   "outputs": [
    {
     "data": {
      "text/plain": [
       "'Apple cherche à acheter une start-up anglaise pour 1 milliard de dollars'"
      ]
     },
     "execution_count": 43,
     "metadata": {},
     "output_type": "execute_result"
    }
   ],
   "source": [
    "# Isoler la première phrase\n",
    "sent = sentences[0]\n",
    "sent"
   ]
  },
  {
   "cell_type": "code",
   "execution_count": 44,
   "metadata": {},
   "outputs": [],
   "source": [
    "# Traiter la phrase avec Spacy\n",
    "doc = nlp(sent)"
   ]
  },
  {
   "cell_type": "code",
   "execution_count": 45,
   "metadata": {},
   "outputs": [
    {
     "data": {
      "text/plain": [
       "spacy.tokens.doc.Doc"
      ]
     },
     "execution_count": 45,
     "metadata": {},
     "output_type": "execute_result"
    }
   ],
   "source": [
    "type(doc)"
   ]
  },
  {
   "cell_type": "code",
   "execution_count": 46,
   "metadata": {},
   "outputs": [
    {
     "data": {
      "text/plain": [
       "'Apple cherche à acheter une start-up anglaise pour 1 milliard de dollars'"
      ]
     },
     "execution_count": 46,
     "metadata": {},
     "output_type": "execute_result"
    }
   ],
   "source": [
    "doc.text"
   ]
  },
  {
   "cell_type": "code",
   "execution_count": 47,
   "metadata": {},
   "outputs": [
    {
     "data": {
      "text/plain": [
       "{'text': 'Apple cherche à acheter une start-up anglaise pour 1 milliard de dollars',\n",
       " 'ents': [{'start': 0, 'end': 5, 'label': 'ORG'}],\n",
       " 'sents': [{'start': 0, 'end': 33},\n",
       "  {'start': 33, 'end': 34},\n",
       "  {'start': 34, 'end': 72}],\n",
       " 'tokens': [{'id': 0,\n",
       "   'start': 0,\n",
       "   'end': 5,\n",
       "   'tag': 'PROPN',\n",
       "   'pos': 'PROPN',\n",
       "   'morph': '',\n",
       "   'lemma': 'Apple',\n",
       "   'dep': 'nsubj',\n",
       "   'head': 1},\n",
       "  {'id': 1,\n",
       "   'start': 6,\n",
       "   'end': 13,\n",
       "   'tag': 'VERB',\n",
       "   'pos': 'VERB',\n",
       "   'morph': 'Mood=Ind|Number=Sing|Person=3|Tense=Pres|VerbForm=Fin',\n",
       "   'lemma': 'cherche',\n",
       "   'dep': 'ROOT',\n",
       "   'head': 1},\n",
       "  {'id': 2,\n",
       "   'start': 14,\n",
       "   'end': 15,\n",
       "   'tag': 'ADP',\n",
       "   'pos': 'ADP',\n",
       "   'morph': '',\n",
       "   'lemma': 'à',\n",
       "   'dep': 'mark',\n",
       "   'head': 3},\n",
       "  {'id': 3,\n",
       "   'start': 16,\n",
       "   'end': 23,\n",
       "   'tag': 'VERB',\n",
       "   'pos': 'VERB',\n",
       "   'morph': 'VerbForm=Inf',\n",
       "   'lemma': 'acheter',\n",
       "   'dep': 'xcomp',\n",
       "   'head': 1},\n",
       "  {'id': 4,\n",
       "   'start': 24,\n",
       "   'end': 27,\n",
       "   'tag': 'DET',\n",
       "   'pos': 'DET',\n",
       "   'morph': 'Definite=Ind|Gender=Fem|Number=Sing|PronType=Art',\n",
       "   'lemma': 'un',\n",
       "   'dep': 'det',\n",
       "   'head': 5},\n",
       "  {'id': 5,\n",
       "   'start': 28,\n",
       "   'end': 33,\n",
       "   'tag': 'NOUN',\n",
       "   'pos': 'NOUN',\n",
       "   'morph': 'Gender=Fem|Number=Sing',\n",
       "   'lemma': 'start',\n",
       "   'dep': 'obj',\n",
       "   'head': 3},\n",
       "  {'id': 6,\n",
       "   'start': 33,\n",
       "   'end': 34,\n",
       "   'tag': 'NOUN',\n",
       "   'pos': 'NOUN',\n",
       "   'morph': 'Gender=Masc|Number=Sing',\n",
       "   'lemma': '-',\n",
       "   'dep': 'ROOT',\n",
       "   'head': 6},\n",
       "  {'id': 7,\n",
       "   'start': 34,\n",
       "   'end': 36,\n",
       "   'tag': 'X',\n",
       "   'pos': 'X',\n",
       "   'morph': '',\n",
       "   'lemma': 'up',\n",
       "   'dep': 'ROOT',\n",
       "   'head': 7},\n",
       "  {'id': 8,\n",
       "   'start': 37,\n",
       "   'end': 45,\n",
       "   'tag': 'ADJ',\n",
       "   'pos': 'ADJ',\n",
       "   'morph': 'Gender=Fem|Number=Sing',\n",
       "   'lemma': 'anglais',\n",
       "   'dep': 'amod',\n",
       "   'head': 7},\n",
       "  {'id': 9,\n",
       "   'start': 46,\n",
       "   'end': 50,\n",
       "   'tag': 'ADP',\n",
       "   'pos': 'ADP',\n",
       "   'morph': '',\n",
       "   'lemma': 'pour',\n",
       "   'dep': 'case',\n",
       "   'head': 11},\n",
       "  {'id': 10,\n",
       "   'start': 51,\n",
       "   'end': 52,\n",
       "   'tag': 'NUM',\n",
       "   'pos': 'NUM',\n",
       "   'morph': 'NumType=Card',\n",
       "   'lemma': '1',\n",
       "   'dep': 'nummod',\n",
       "   'head': 11},\n",
       "  {'id': 11,\n",
       "   'start': 53,\n",
       "   'end': 61,\n",
       "   'tag': 'NOUN',\n",
       "   'pos': 'NOUN',\n",
       "   'morph': 'Gender=Masc|NumType=Card|Number=Sing',\n",
       "   'lemma': 'milliard',\n",
       "   'dep': 'nmod',\n",
       "   'head': 7},\n",
       "  {'id': 12,\n",
       "   'start': 62,\n",
       "   'end': 64,\n",
       "   'tag': 'ADP',\n",
       "   'pos': 'ADP',\n",
       "   'morph': '',\n",
       "   'lemma': 'de',\n",
       "   'dep': 'case',\n",
       "   'head': 13},\n",
       "  {'id': 13,\n",
       "   'start': 65,\n",
       "   'end': 72,\n",
       "   'tag': 'NOUN',\n",
       "   'pos': 'NOUN',\n",
       "   'morph': 'Gender=Masc|Number=Plur',\n",
       "   'lemma': 'dollar',\n",
       "   'dep': 'nmod',\n",
       "   'head': 11}]}"
      ]
     },
     "execution_count": 47,
     "metadata": {},
     "output_type": "execute_result"
    }
   ],
   "source": [
    "doc.to_json()"
   ]
  },
  {
   "cell_type": "code",
   "execution_count": 48,
   "metadata": {},
   "outputs": [
    {
     "name": "stdout",
     "output_type": "stream",
     "text": [
      "'Apple cherche à acheter une start-up anglaise pour 1 milliard de dollars' contient les entités suivantes : Apple (ORG)\n",
      "'Les voitures autonomes déplacent la responsabilité de l'assurance vers les constructeurs' ne contient aucune entité\n",
      "'San Francisco envisage d'interdire les robots coursiers sur les trottoirs' contient les entités suivantes : San Francisco (LOC)\n",
      "'Londres est une grande ville du Royaume-Uni' contient les entités suivantes : Londres (LOC), Royaume-Uni (LOC)\n",
      "'L’Italie choisit ArcelorMittal pour reprendre la plus grande aciérie d’Europe' contient les entités suivantes : L’Italie (LOC), ArcelorMittal (ORG), Europe (LOC)\n",
      "'Apple lance HomePod parce qu'il se sent menacé par l'Echo d'Amazon' contient les entités suivantes : Apple (ORG), HomePod (MISC), Echo (ORG), Amazon (ORG)\n",
      "'La France ne devrait pas manquer d'électricité cet été, même en cas de canicule' contient les entités suivantes : La France (LOC)\n",
      "'Nouvelles attaques de Trump contre le maire de Londres' contient les entités suivantes : Trump (PER), Londres (LOC)\n",
      "'Où es-tu ?' contient les entités suivantes : Où es-tu ? (MISC)\n",
      "'Qui est le président de la France ?' contient les entités suivantes : la France (LOC)\n",
      "'Où est la capitale des États-Unis ?' contient les entités suivantes : États-Unis (LOC)\n",
      "'Quand est né Barack Obama ?' contient les entités suivantes : Barack Obama (PER)\n"
     ]
    }
   ],
   "source": [
    "# Appliquer le test sur toutes les phrases\n",
    "for sent in sentences:\n",
    "    doc = nlp(sent)\n",
    "    entities = []\n",
    "    for ent in doc.ents:\n",
    "        entities.append(f\"{ent.text} ({ent.label_})\")\n",
    "    if entities:\n",
    "        print(f\"'{doc.text}' contient les entités suivantes : {', '.join(entities)}\")\n",
    "    else:\n",
    "        print(f\"'{doc.text}' ne contient aucune entité\")"
   ]
  },
  {
   "cell_type": "markdown",
   "metadata": {},
   "source": [
    "## Appliquer la reconnaissance d'entités nommées sur notre corpus"
   ]
  },
  {
   "cell_type": "code",
   "execution_count": 49,
   "metadata": {},
   "outputs": [],
   "source": [
    "import os\n",
    "# Charger le texte\n",
    "n=1000000\n",
    "text=\"\"\n",
    "#text = open(\"../data/camille_Crise_economique/KB_JB838_1929-06-01_01-00001.txt\", encoding='utf-8').read()[:n]\n",
    "data_path = \"../data/camille_crise_economique_des_annees_1930/\"\n",
    "files = os.listdir(data_path)\n",
    "#content_list = []\n",
    "for myFile in files:\n",
    "    with open(data_path+myFile, 'r', encoding='utf-8') as f:\n",
    "        text+= f.read()[:n]\n",
    "myText=text[:n]"
   ]
  },
  {
   "cell_type": "code",
   "execution_count": 50,
   "metadata": {},
   "outputs": [
    {
     "name": "stdout",
     "output_type": "stream",
     "text": [
      "CPU times: total: 21 s\n",
      "Wall time: 30.4 s\n"
     ]
    }
   ],
   "source": [
    "%%time\n",
    "# Traiter le texte\n",
    "\n",
    "doc = nlp(myText)"
   ]
  },
  {
   "cell_type": "code",
   "execution_count": 51,
   "metadata": {},
   "outputs": [],
   "source": [
    "# Compter les entités\n",
    "people = defaultdict(int)\n",
    "for ent in doc.ents:\n",
    "    if ent.label_ == \"PER\" and len(ent.text) > 3:\n",
    "        people[ent.text] += 1"
   ]
  },
  {
   "cell_type": "code",
   "execution_count": 52,
   "metadata": {},
   "outputs": [
    {
     "name": "stdout",
     "output_type": "stream",
     "text": [
      "O. S. R. apparait 66 fois dans le corpus\n",
      "P. O. B. apparait 30 fois dans le corpus\n",
      "Jaspar apparait 29 fois dans le corpus\n",
      "I. S. R. apparait 21 fois dans le corpus\n",
      "Soviets apparait 16 fois dans le corpus\n",
      "Jacquemotte apparait 16 fois dans le corpus\n",
      "I. C. apparait 15 fois dans le corpus\n",
      "Lénine apparait 13 fois dans le corpus\n",
      "S. R. I. apparait 12 fois dans le corpus\n",
      "Staline apparait 12 fois dans le corpus\n",
      "C. N. apparait 11 fois dans le corpus\n",
      "P. C. apparait 9 fois dans le corpus\n",
      "Dejardin apparait 9 fois dans le corpus\n",
      "Blennorrhagie apparait 9 fois dans le corpus\n",
      "Houtart apparait 9 fois dans le corpus\n",
      "Mussolini apparait 8 fois dans le corpus\n",
      "Marx apparait 7 fois dans le corpus\n",
      "Pilsudski apparait 7 fois dans le corpus\n",
      "C. C. apparait 7 fois dans le corpus\n",
      "Heyman apparait 7 fois dans le corpus\n",
      "J. Jacquemotte apparait 6 fois dans le corpus\n",
      "Mac Donald apparait 6 fois dans le corpus\n",
      "J. C. apparait 6 fois dans le corpus\n",
      "P. C. B. apparait 6 fois dans le corpus\n",
      "Discrétion Ouvert apparait 6 fois dans le corpus\n",
      "M. Heyman apparait 6 fois dans le corpus\n",
      "De Rosa apparait 6 fois dans le corpus\n",
      "Krylenko apparait 6 fois dans le corpus\n",
      "Thiiringer Volksblatt apparait 6 fois dans le corpus\n",
      "D. R. apparait 5 fois dans le corpus\n",
      "Hitler apparait 5 fois dans le corpus\n",
      "Lahaut apparait 5 fois dans le corpus\n",
      "général Giron apparait 5 fois dans le corpus\n",
      "Edouard Stiers apparait 5 fois dans le corpus\n",
      "Van Walleghem apparait 5 fois dans le corpus\n",
      "Moulin apparait 5 fois dans le corpus\n",
      "Général Giron apparait 4 fois dans le corpus\n",
      "Janson apparait 4 fois dans le corpus\n",
      "Ghandi apparait 4 fois dans le corpus\n",
      "M. Vandervelde apparait 4 fois dans le corpus\n",
      "Vandervelde apparait 4 fois dans le corpus\n",
      "Van Deun apparait 4 fois dans le corpus\n",
      "S. O. I. apparait 4 fois dans le corpus\n",
      "G. Lambrechts Rue du Gaz apparait 4 fois dans le corpus\n",
      "Rouge apparait 4 fois dans le corpus\n",
      "P. C. A. apparait 4 fois dans le corpus\n",
      "J. JACQUEMOTTE apparait 4 fois dans le corpus\n",
      "Gorki apparait 4 fois dans le corpus\n",
      "Boer apparait 4 fois dans le corpus\n",
      "Mme Elisabeth apparait 4 fois dans le corpus\n",
      "Renkin apparait 4 fois dans le corpus\n",
      "Sinzot apparait 3 fois dans le corpus\n",
      "M. Branquart apparait 3 fois dans le corpus\n",
      "Marcinelle apparait 3 fois dans le corpus\n",
      "Koutiepoff apparait 3 fois dans le corpus\n",
      "Mueller apparait 3 fois dans le corpus\n",
      "Observer apparait 3 fois dans le corpus\n",
      "Jules Destrée apparait 3 fois dans le corpus\n",
      "S. R. apparait 3 fois dans le corpus\n",
      "Thonet apparait 3 fois dans le corpus\n",
      "Nous apparait 3 fois dans le corpus\n",
      "Pape apparait 3 fois dans le corpus\n",
      "Van Laerhoven apparait 3 fois dans le corpus\n",
      "M. Dejardin apparait 3 fois dans le corpus\n",
      "M. Delattre apparait 3 fois dans le corpus\n",
      "S. D. N. apparait 3 fois dans le corpus\n",
      "J. C apparait 3 fois dans le corpus\n",
      "Mertens apparait 3 fois dans le corpus\n",
      "I. C. J. apparait 3 fois dans le corpus\n",
      "Gailly apparait 3 fois dans le corpus\n",
      "P. C. B. En apparait 3 fois dans le corpus\n",
      "P. C apparait 3 fois dans le corpus\n",
      "Vieillesse prématurée Impuissance apparait 3 fois dans le corpus\n",
      "Paulus apparait 3 fois dans le corpus\n",
      "S. S. apparait 3 fois dans le corpus\n",
      "Piérard apparait 3 fois dans le corpus\n",
      "Oustric apparait 3 fois dans le corpus\n",
      "Tardieu apparait 3 fois dans le corpus\n",
      "M. Van Cauwelaert apparait 3 fois dans le corpus\n",
      "Wauters apparait 3 fois dans le corpus\n",
      "Debout apparait 3 fois dans le corpus\n",
      "M. Van Walleghem apparait 3 fois dans le corpus\n",
      "C. R. M. apparait 3 fois dans le corpus\n",
      "Poincaré apparait 3 fois dans le corpus\n",
      "Briand apparait 3 fois dans le corpus\n",
      "Ernest HERKENRATT apparait 3 fois dans le corpus\n",
      "RUE DU apparait 3 fois dans le corpus\n",
      "Traminot apparait 3 fois dans le corpus\n",
      "Branquart apparait 2 fois dans le corpus\n",
      "P. O. apparait 2 fois dans le corpus\n",
      "hein apparait 2 fois dans le corpus\n",
      "Fernand JACK apparait 2 fois dans le corpus\n",
      "M. Houtart apparait 2 fois dans le corpus\n",
      "Me Vermeylen apparait 2 fois dans le corpus\n",
      "Nadia Stiers apparait 2 fois dans le corpus\n",
      "H. Laurent apparait 2 fois dans le corpus\n",
      "Van Bever apparait 2 fois dans le corpus\n",
      "Van Acker apparait 2 fois dans le corpus\n",
      "Van Landeghem apparait 2 fois dans le corpus\n",
      "Destailleurs apparait 2 fois dans le corpus\n",
      "Muller apparait 2 fois dans le corpus\n",
      "Zoergiebel apparait 2 fois dans le corpus\n",
      "Janssens A. apparait 2 fois dans le corpus\n",
      "M. Van den Bosch apparait 2 fois dans le corpus\n",
      "Karl Marx apparait 2 fois dans le corpus\n",
      "M. Jaspar apparait 2 fois dans le corpus\n",
      "Desellier apparait 2 fois dans le corpus\n",
      "Marc Willems apparait 2 fois dans le corpus\n",
      "Delvigne apparait 2 fois dans le corpus\n",
      "Wallstreet apparait 2 fois dans le corpus\n",
      "Voyons apparait 2 fois dans le corpus\n",
      "Léonard-Giot apparait 2 fois dans le corpus\n",
      "Fesler apparait 2 fois dans le corpus\n",
      "W. C. apparait 2 fois dans le corpus\n",
      "Victor Desellier apparait 2 fois dans le corpus\n",
      "O. E. apparait 2 fois dans le corpus\n",
      "Desellier Désiré apparait 2 fois dans le corpus\n",
      "Molotov apparait 2 fois dans le corpus\n",
      "Marcel Cachin apparait 2 fois dans le corpus\n",
      "Tchang-Kai-Shek apparait 2 fois dans le corpus\n",
      "Organisez apparait 2 fois dans le corpus\n",
      "Franchet d'Esperey apparait 2 fois dans le corpus\n",
      "Mansfeld apparait 2 fois dans le corpus\n",
      "Turati apparait 2 fois dans le corpus\n",
      "M. Forthomme apparait 2 fois dans le corpus\n",
      "Bruning apparait 2 fois dans le corpus\n",
      "Huysmans apparait 2 fois dans le corpus\n",
      "Groux apparait 2 fois dans le corpus\n",
      "Marc Wiliems apparait 2 fois dans le corpus\n",
      "Jonas apparait 2 fois dans le corpus\n",
      "Arthur Wauters apparait 2 fois dans le corpus\n",
      "P. C. P. apparait 2 fois dans le corpus\n",
      "Lion d'Or apparait 2 fois dans le corpus\n",
      "Brunfaut apparait 2 fois dans le corpus\n",
      "M. Mahaim apparait 2 fois dans le corpus\n",
      "Engels apparait 2 fois dans le corpus\n",
      "Péret apparait 2 fois dans le corpus\n",
      "Deterding apparait 2 fois dans le corpus\n",
      "H. DE BOECK apparait 2 fois dans le corpus\n",
      "J. Bondas apparait 2 fois dans le corpus\n",
      "C. G. T. U. apparait 2 fois dans le corpus\n",
      "M. Cnudde apparait 2 fois dans le corpus\n",
      "Heimwehren apparait 2 fois dans le corpus\n",
      "Frick apparait 2 fois dans le corpus\n",
      "Balfour apparait 2 fois dans le corpus\n",
      "MM. C. BOUGLE apparait 2 fois dans le corpus\n",
      "H. MOYSSET apparait 2 fois dans le corpus\n",
      "Produhon. apparait 2 fois dans le corpus\n",
      "Biffer apparait 2 fois dans le corpus\n",
      "Weets apparait 2 fois dans le corpus\n",
      "Prière apparait 2 fois dans le corpus\n",
      "Métallo apparait 2 fois dans le corpus\n",
      "O. S. apparait 2 fois dans le corpus\n",
      "C. N. E. apparait 2 fois dans le corpus\n",
      "O. S. R. ! apparait 2 fois dans le corpus\n",
      "Lippens apparait 2 fois dans le corpus\n",
      "Hymans apparait 2 fois dans le corpus\n",
      "Alphonse apparait 2 fois dans le corpus\n",
      "Fantin apparait 2 fois dans le corpus\n",
      "Fantin Flora apparait 2 fois dans le corpus\n",
      "Koulischer apparait 2 fois dans le corpus\n",
      "René Branquart apparait 1 fois dans le corpus\n",
      "Voyoucratic apparait 1 fois dans le corpus\n",
      "M. Sinzot apparait 1 fois dans le corpus\n",
      "Car- Ion apparait 1 fois dans le corpus\n",
      "Gudule apparait 1 fois dans le corpus\n",
      "Mérode apparait 1 fois dans le corpus\n",
      "dc Robiano apparait 1 fois dans le corpus\n",
      "comtesse d'Oultremont apparait 1 fois dans le corpus\n",
      "Mgr Picard apparait 1 fois dans le corpus\n",
      "M. Cro- apparait 1 fois dans le corpus\n",
      "marquis Imperiali apparait 1 fois dans le corpus\n",
      "L1MBUORG apparait 1 fois dans le corpus\n",
      "Plumas apparait 1 fois dans le corpus\n",
      "C. E. apparait 1 fois dans le corpus\n",
      "Severing apparait 1 fois dans le corpus\n",
      "Hermann Muller apparait 1 fois dans le corpus\n",
      "Roode Vaan apparait 1 fois dans le corpus\n",
      "R. V. apparait 1 fois dans le corpus\n",
      "M. Severing apparait 1 fois dans le corpus\n",
      "pius apparait 1 fois dans le corpus\n",
      "Frontpartij apparait 1 fois dans le corpus\n",
      "Jan Van Ryswyk apparait 1 fois dans le corpus\n",
      "Léopold de Saxe- apparait 1 fois dans le corpus\n",
      "jef Van apparait 1 fois dans le corpus\n",
      "Van Ryswijck apparait 1 fois dans le corpus\n",
      "Léopold apparait 1 fois dans le corpus\n",
      "dc celles apparait 1 fois dans le corpus\n",
      "mina apparait 1 fois dans le corpus\n",
      "Poloni apparait 1 fois dans le corpus\n",
      "Albert Premier de Saxe-Cr apparait 1 fois dans le corpus\n",
      "Elisabeth de Bavière Wec apparait 1 fois dans le corpus\n",
      "ayailt apparait 1 fois dans le corpus\n",
      "Jjje apparait 1 fois dans le corpus\n",
      "iiien-a_n.ee apparait 1 fois dans le corpus\n",
      "Joli apparait 1 fois dans le corpus\n",
      "Yen-Bay apparait 1 fois dans le corpus\n",
      "général Koutiepoff apparait 1 fois dans le corpus\n",
      "Kai-Shek apparait 1 fois dans le corpus\n",
      "Tien- Tsin apparait 1 fois dans le corpus\n"
     ]
    }
   ],
   "source": [
    "# Trier et imprimer\n",
    "\n",
    "sorted_people = sorted(people.items(), key=lambda kv: kv[1], reverse=True)\n",
    "\n",
    "for person, freq in sorted_people[:200]:\n",
    "    print(f\"{person} apparait {freq} fois dans le corpus\")"
   ]
  },
  {
   "cell_type": "markdown",
   "metadata": {},
   "source": [
    "Exercice: essayez de lister les lieux (LOC) et les organisations (ORG) les plus mentionnées dans le corpus"
   ]
  },
  {
   "cell_type": "code",
   "execution_count": null,
   "metadata": {},
   "outputs": [],
   "source": []
  }
 ],
 "metadata": {
  "kernelspec": {
   "display_name": "Python 3.10.7 ('tac_venv': venv)",
   "language": "python",
   "name": "python3"
  },
  "language_info": {
   "codemirror_mode": {
    "name": "ipython",
    "version": 3
   },
   "file_extension": ".py",
   "mimetype": "text/x-python",
   "name": "python",
   "nbconvert_exporter": "python",
   "pygments_lexer": "ipython3",
   "version": "3.10.7"
  },
  "vscode": {
   "interpreter": {
    "hash": "bf1c0e32efbc1b0a30fa46d6ab60b25f74a78c177210c206f5ce854a430d1ba2"
   }
  }
 },
 "nbformat": 4,
 "nbformat_minor": 4
}
