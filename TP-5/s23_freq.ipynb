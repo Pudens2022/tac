{
 "cells": [
  {
   "cell_type": "markdown",
   "metadata": {},
   "source": [
    "# Analalyse de la distribution du vocabulaire"
   ]
  },
  {
   "cell_type": "markdown",
   "metadata": {},
   "source": [
    "## Imports et dépendances"
   ]
  },
  {
   "cell_type": "code",
   "execution_count": 9,
   "metadata": {
    "tags": []
   },
   "outputs": [
    {
     "name": "stderr",
     "output_type": "stream",
     "text": [
      "[nltk_data] Downloading package stopwords to\n",
      "[nltk_data]     C:\\Users\\janvi\\AppData\\Roaming\\nltk_data...\n",
      "[nltk_data]   Package stopwords is already up-to-date!\n"
     ]
    }
   ],
   "source": [
    "import os \n",
    "import nltk\n",
    "nltk.download('stopwords')\n",
    "from nltk.corpus import stopwords"
   ]
  },
  {
   "cell_type": "markdown",
   "metadata": {},
   "source": [
    "## Créer une une liste de stopwords"
   ]
  },
  {
   "cell_type": "code",
   "execution_count": 10,
   "metadata": {
    "tags": []
   },
   "outputs": [],
   "source": [
    "sw = stopwords.words(\"french\")\n",
    "sw += [\"les\", \"plus\", \"cette\", \"fait\", \"faire\", \"être\", \"deux\", \"comme\", \"dont\", \"tout\", \"pourquoi\",\"chef\",\n",
    "       \"ils\", \"bien\", \"sans\", \"peut\", \"tous\", \"après\", \"ainsi\", \"donc\", \"cet\", \"sous\", \"surtout\", \"branquart\",\n",
    "       \"celle\", \"entre\", \"encore\", \"toutes\", \"pendant\", \"moins\", \"dire\", \"cela\", \"non\", \"prochain\", \"ord\", \"mme\",\n",
    "       \"faut\", \"trois\", \"aussi\", \"dit\", \"avoir\", \"doit\", \"contre\", \"depuis\", \"autres\", \"but\", \"nouveau\", \"nord\",\n",
    "       \"van\", \"het\", \"autre\", \"jusqu\", \"ceux\", \"quelques\", \"rue\", \"mois\", \"leurs\", \"toute\", \"grand\", \"belg\",\n",
    "       \"générale\", \"jour\", \"jours\", \"parce\", \"etc\", \"seule\",\"suite\", \"liste\", \"alors\", \"vient\", \"moment\", \"disp\",\n",
    "       \"heures\", \"déjà\", \"chaque\", \"avant\", \"seul\", \"pris\", \"faits\", \"mis\", \"page\", \"millions\", \"atel\", \"juin\", \n",
    "       \"premier\", \"vie\", \"réponse\", \"nombre\", \"compte\", \"point\", \"presse\", \"travail\", \"mars\", \"commune\", \"cap\", \"div\"]\n",
    "sw = set(sw)"
   ]
  },
  {
   "cell_type": "code",
   "execution_count": 11,
   "metadata": {},
   "outputs": [
    {
     "name": "stdout",
     "output_type": "stream",
     "text": [
      "251 stopwords:\n",
      " ['ai', 'aie', 'aient', 'aies', 'ainsi', 'ait', 'alors', 'après', 'as', 'atel', 'au', 'aura', 'aurai', 'auraient', 'aurais', 'aurait', 'auras', 'aurez', 'auriez', 'aurions', 'aurons', 'auront', 'aussi', 'autre', 'autres', 'aux', 'avaient', 'avais', 'avait', 'avant', 'avec', 'avez', 'aviez', 'avions', 'avoir', 'avons', 'ayant', 'ayante', 'ayantes', 'ayants', 'ayez', 'ayons', 'belg', 'bien', 'branquart', 'but', 'c', 'cap', 'ce', 'cela', 'celle', 'ces', 'cet', 'cette', 'ceux', 'chaque', 'chef', 'comme', 'commune', 'compte', 'contre', 'd', 'dans', 'de', 'depuis', 'des', 'deux', 'dire', 'disp', 'dit', 'div', 'doit', 'donc', 'dont', 'du', 'déjà', 'elle', 'en', 'encore', 'entre', 'es', 'est', 'et', 'etc', 'eu', 'eue', 'eues', 'eurent', 'eus', 'eusse', 'eussent', 'eusses', 'eussiez', 'eussions', 'eut', 'eux', 'eûmes', 'eût', 'eûtes', 'faire', 'fait', 'faits', 'faut', 'furent', 'fus', 'fusse', 'fussent', 'fusses', 'fussiez', 'fussions', 'fut', 'fûmes', 'fût', 'fûtes', 'grand', 'générale', 'het', 'heures', 'il', 'ils', 'j', 'je', 'jour', 'jours', 'juin', 'jusqu', 'l', 'la', 'le', 'les', 'leur', 'leurs', 'liste', 'lui', 'm', 'ma', 'mais', 'mars', 'me', 'mes', 'millions', 'mis', 'mme', 'moi', 'moins', 'mois', 'moment', 'mon', 'même', 'n', 'ne', 'nombre', 'non', 'nord', 'nos', 'notre', 'nous', 'nouveau', 'on', 'ont', 'ord', 'ou', 'page', 'par', 'parce', 'pas', 'pendant', 'peut', 'plus', 'point', 'pour', 'pourquoi', 'premier', 'presse', 'pris', 'prochain', 'qu', 'que', 'quelques', 'qui', 'rue', 'réponse', 's', 'sa', 'sans', 'se', 'sera', 'serai', 'seraient', 'serais', 'serait', 'seras', 'serez', 'seriez', 'serions', 'serons', 'seront', 'ses', 'seul', 'seule', 'soient', 'sois', 'soit', 'sommes', 'son', 'sont', 'sous', 'soyez', 'soyons', 'suis', 'suite', 'sur', 'surtout', 't', 'ta', 'te', 'tes', 'toi', 'ton', 'tous', 'tout', 'toute', 'toutes', 'travail', 'trois', 'tu', 'un', 'une', 'van', 'vie', 'vient', 'vos', 'votre', 'vous', 'y', 'à', 'étaient', 'étais', 'était', 'étant', 'étante', 'étantes', 'étants', 'étiez', 'étions', 'été', 'étée', 'étées', 'étés', 'êtes', 'être']\n"
     ]
    }
   ],
   "source": [
    "print(f\"{len(sw)} stopwords:\\n {sorted(sw)}\")"
   ]
  },
  {
   "cell_type": "markdown",
   "metadata": {},
   "source": [
    "## Tokeniser"
   ]
  },
  {
   "cell_type": "code",
   "execution_count": 12,
   "metadata": {
    "tags": []
   },
   "outputs": [],
   "source": [
    "# Récupération du contenu du fichier\n",
    "path = \"../data/camille_crise_economique_année 30/KB_JB838_1929-02-22_01-00001.txt\"\n",
    "limit = 10**8\n",
    "\n",
    "with open(path, 'r', encoding='utf-8') as f:\n",
    "    text = f.read()[:limit]"
   ]
  },
  {
   "cell_type": "code",
   "execution_count": 13,
   "metadata": {},
   "outputs": [],
   "source": [
    "# Lister les Fichiers\n",
    "data_path = \"../data/camille_crise_economique_année 30/\"\n",
    "files = os.listdir(data_path)"
   ]
  },
  {
   "cell_type": "code",
   "execution_count": 14,
   "metadata": {},
   "outputs": [
    {
     "name": "stdout",
     "output_type": "stream",
     "text": [
      "7191 words found\n",
      "26296 words found\n",
      "33035 words found\n"
     ]
    }
   ],
   "source": [
    "# Tokenization de tous les documents \n",
    "words = []\n",
    "for f in sorted(files)[:3]:\n",
    "    text = open(os.path.join(data_path, f), 'r', encoding=\"utf-8\").read()\n",
    "    words += nltk.wordpunct_tokenize(text)\n",
    "    print(f\"{len(words)} words found\")"
   ]
  },
  {
   "cell_type": "code",
   "execution_count": 15,
   "metadata": {},
   "outputs": [
    {
     "data": {
      "text/plain": [
       "['43', 'm', \"'\", 'ANNEE', '.', '—', 'N', '*', '53', '••••••••']"
      ]
     },
     "execution_count": 15,
     "metadata": {},
     "output_type": "execute_result"
    }
   ],
   "source": [
    "words[:10]"
   ]
  },
  {
   "cell_type": "markdown",
   "metadata": {},
   "source": [
    "## Calculer la taille du vocabulaire"
   ]
  },
  {
   "cell_type": "code",
   "execution_count": 16,
   "metadata": {},
   "outputs": [
    {
     "name": "stdout",
     "output_type": "stream",
     "text": [
      "9410 words kept (5959 different word forms)\n"
     ]
    }
   ],
   "source": [
    "# Eliminer les stopwords et les termes non alphabétiques\n",
    "kept = [w.lower() for w in words if len(w) > 2 and w.isalpha() and w.lower() not in sw]\n",
    "voc = set(kept)\n",
    "print(f\"{len(kept)} words kept ({len(voc)} different word forms)\")"
   ]
  },
  {
   "cell_type": "markdown",
   "metadata": {},
   "source": [
    "## Récupérer les mots les plus fréquents et en faire un plot"
   ]
  },
  {
   "cell_type": "code",
   "execution_count": 17,
   "metadata": {},
   "outputs": [
    {
     "data": {
      "text/plain": [
       "[('congo', 33),\n",
       " ('belge', 32),\n",
       " ('pays', 27),\n",
       " ('anvers', 24),\n",
       " ('francs', 23),\n",
       " ('cours', 23),\n",
       " ('gaz', 22),\n",
       " ('bruxelles', 20),\n",
       " ('paris', 19),\n",
       " ('fond', 18),\n",
       " ('lin', 18),\n",
       " ('avril', 17),\n",
       " ('com', 16),\n",
       " ('crise', 16),\n",
       " ('liège', 16),\n",
       " ('fer', 16),\n",
       " ('bar', 15),\n",
       " ('londres', 14),\n",
       " ('belgique', 14),\n",
       " ('cim', 14),\n",
       " ('huile', 14),\n",
       " ('très', 13),\n",
       " ('port', 13),\n",
       " ('place', 12),\n",
       " ('lieu', 12),\n",
       " ('gouvernement', 12),\n",
       " ('fin', 12),\n",
       " ('bel', 12),\n",
       " ('klect', 12),\n",
       " ('samedi', 11),\n",
       " ('impôts', 11),\n",
       " ('fonds', 11),\n",
       " ('belges', 11),\n",
       " ('part', 11),\n",
       " ('peu', 11),\n",
       " ('arg', 11),\n",
       " ('aut', 11),\n",
       " ('prix', 10),\n",
       " ('industrie', 10),\n",
       " ('action', 10),\n",
       " ('union', 10),\n",
       " ('industries', 10),\n",
       " ('mines', 10),\n",
       " ('priv', 10),\n",
       " ('jouis', 10),\n",
       " ('car', 10),\n",
       " ('ind', 10),\n",
       " ('lux', 10),\n",
       " ('actions', 10),\n",
       " ('cent', 10),\n",
       " ('flot', 10),\n",
       " ('mai', 10),\n",
       " ('soir', 9),\n",
       " ('elles', 9),\n",
       " ('trop', 9),\n",
       " ('ans', 9),\n",
       " ('loi', 9),\n",
       " ('valeurs', 9),\n",
       " ('banque', 9),\n",
       " ('nat', 9),\n",
       " ('soie', 9),\n",
       " ('production', 9),\n",
       " ('monde', 8),\n",
       " ('économique', 8),\n",
       " ('flandre', 8),\n",
       " ('marché', 8),\n",
       " ('parti', 8),\n",
       " ('société', 8),\n",
       " ('président', 8),\n",
       " ('capital', 8),\n",
       " ('frères', 8),\n",
       " ('col', 8),\n",
       " ('ilot', 8),\n",
       " ('agr', 8),\n",
       " ('sud', 8),\n",
       " ('nationale', 8),\n",
       " ('royale', 7),\n",
       " ('libre', 7),\n",
       " ('values', 7),\n",
       " ('ordinaire', 7),\n",
       " ('ministre', 7),\n",
       " ('assez', 7),\n",
       " ('quand', 7),\n",
       " ('café', 7),\n",
       " ('croix', 7),\n",
       " ('maison', 7),\n",
       " ('paul', 7),\n",
       " ('population', 7),\n",
       " ('ordre', 7),\n",
       " ('petite', 7),\n",
       " ('veuve', 7),\n",
       " ('marie', 7),\n",
       " ('bénéfice', 7),\n",
       " ('centre', 7),\n",
       " ('général', 7),\n",
       " ('année', 7),\n",
       " ('chemins', 7),\n",
       " ('chambre', 7),\n",
       " ('mont', 7),\n",
       " ('occasion', 7)]"
      ]
     },
     "execution_count": 17,
     "metadata": {},
     "output_type": "execute_result"
    }
   ],
   "source": [
    "fdist = nltk.FreqDist(kept)\n",
    "fdist.most_common(100)"
   ]
  },
  {
   "cell_type": "code",
   "execution_count": 18,
   "metadata": {
    "tags": []
   },
   "outputs": [
    {
     "data": {
      "image/png": "[encoded data removed]",
      "text/plain": [
       "<Figure size 640x480 with 1 Axes>"
      ]
     },
     "metadata": {},
     "output_type": "display_data"
    },
    {
     "data": {
      "text/plain": [
       "<AxesSubplot: xlabel='Samples', ylabel='Cumulative Counts'>"
      ]
     },
     "execution_count": 18,
     "metadata": {},
     "output_type": "execute_result"
    }
   ],
   "source": [
    "# Plot: les n mots les plus fréquents\n",
    "n = 10\n",
    "fdist.plot(n, cumulative=True)"
   ]
  },
  {
   "cell_type": "markdown",
   "metadata": {},
   "source": [
    "## Détecter les Hapax (mots qui n'apparaissent qu'une fois dans le corpus)"
   ]
  },
  {
   "cell_type": "code",
   "execution_count": 19,
   "metadata": {},
   "outputs": [
    {
     "data": {
      "text/plain": [
       "['annee',\n",
       " 'troismois',\n",
       " 'conventions',\n",
       " 'postales',\n",
       " 'oomcc',\n",
       " 'province',\n",
       " 'aicnnt',\n",
       " 'jfc',\n",
       " 'rossel',\n",
       " 'fleet',\n",
       " 'téléphones',\n",
       " 'imprimerie',\n",
       " 'compta',\n",
       " 'chèques',\n",
       " 'avpr',\n",
       " 'nwnigt',\n",
       " 'rla',\n",
       " 'photographies',\n",
       " 'magnifiques',\n",
       " 'souveni',\n",
       " 'entier',\n",
       " 'texte',\n",
       " 'partout',\n",
       " 'réductions',\n",
       " 'ligue',\n",
       " 'fascicule',\n",
       " 'hebdomadaire',\n",
       " 'appelle',\n",
       " 'réserves',\n",
       " 'contient']"
      ]
     },
     "execution_count": 19,
     "metadata": {},
     "output_type": "execute_result"
    }
   ],
   "source": [
    "fdist.hapaxes()[:30]"
   ]
  }
 ],
 "metadata": {
  "kernelspec": {
   "display_name": "Python 3.10.5 ('tac_venv': venv)",
   "language": "python",
   "name": "python3"
  },
  "language_info": {
   "codemirror_mode": {
    "name": "ipython",
    "version": 3
   },
   "file_extension": ".py",
   "mimetype": "text/x-python",
   "name": "python",
   "nbconvert_exporter": "python",
   "pygments_lexer": "ipython3",
   "version": "3.10.7"
  },
  "vscode": {
   "interpreter": {
    "hash": "b1932ab1d169b4769d1550e799423b6477588e745f266d79d9004c136c81607e"
   }
  }
 },
 "nbformat": 4,
 "nbformat_minor": 4
}
