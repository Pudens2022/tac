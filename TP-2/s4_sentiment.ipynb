{
 "cells": [
  {
   "cell_type": "markdown",
   "metadata": {},
   "source": [
    "# Sentiment analysis avec Textblob-FR"
   ]
  },
  {
   "cell_type": "markdown",
   "metadata": {},
   "source": [
    "Documentation: https://textblob.readthedocs.io/en/dev/"
   ]
  },
  {
   "cell_type": "markdown",
   "metadata": {},
   "source": [
    "## Imports"
   ]
  },
  {
   "cell_type": "code",
   "execution_count": 2,
   "metadata": {},
   "outputs": [],
   "source": [
    "import sys\n",
    "from textblob import Blobber\n",
    "from textblob_fr import PatternTagger, PatternAnalyzer"
   ]
  },
  {
   "cell_type": "markdown",
   "metadata": {},
   "source": [
    "## Fonction"
   ]
  },
  {
   "cell_type": "code",
   "execution_count": 3,
   "metadata": {},
   "outputs": [],
   "source": [
    "tb = Blobber(pos_tagger=PatternTagger(), analyzer=PatternAnalyzer())\n",
    "\n",
    "def get_sentiment(input_text):\n",
    "    blob = tb(input_text)\n",
    "    polarity, subjectivity = blob.sentiment\n",
    "    polarity_perc = f\"{100*abs(polarity):.0f}\"\n",
    "    subjectivity_perc = f\"{100*subjectivity:.0f}\"\n",
    "    if polarity > 0:\n",
    "        polarity_str = f\"{polarity_perc}% positive\"\n",
    "    elif polarity < 0:\n",
    "        polarity_str = f\"{polarity_perc}% negative\"\n",
    "    else:\n",
    "        polarity_str = \"neutral\"\n",
    "    if subjectivity > 0:\n",
    "        subjectivity_str = f\"{subjectivity}% subjective\"\n",
    "    else:\n",
    "        subjectivity_str = \"perfectly objective\"\n",
    "    print(f\"{polarity_str} {subjectivity_str}.\")"
   ]
  },
  {
   "cell_type": "code",
   "execution_count": 4,
   "metadata": {},
   "outputs": [],
   "source": [
    "# Choisir une année\n",
    "year = 1968"
   ]
  },
  {
   "cell_type": "code",
   "execution_count": 5,
   "metadata": {},
   "outputs": [],
   "source": [
    "# Lister les fichiers de cette année\n",
    "data_path = '../data'\n",
    "txt_path = '../data/txt'\n",
    "txts = [f for f in os.listdir(txt_path) if os.path.isfile(os.path.join(txt_path, f)) and str(year) in f]\n",
    "# txts"
   ]
  },
  {
   "cell_type": "code",
   "execution_count": 6,
   "metadata": {},
   "outputs": [
    {
     "name": "stdout",
     "output_type": "stream",
     "text": [
      "KB_JB838_1968-01-07_01-00007.txt\n",
      "7% positive 0.22027463651050044% subjective.\n",
      "KB_JB838_1968-01-07_01-00025.txt\n",
      "22% positive 0.2503375527426164% subjective.\n",
      "KB_JB838_1968-01-09_01-00020.txt\n",
      "11% positive 0.21529126213592267% subjective.\n",
      "KB_JB838_1968-01-10_01-00018.txt\n",
      "21% positive 0.3296825396825399% subjective.\n",
      "KB_JB838_1968-01-13_01-00021.txt\n",
      "30% positive 0.48982300884955793% subjective.\n",
      "KB_JB838_1968-01-21_01-00002.txt\n",
      "10% positive 0.20137161084529506% subjective.\n",
      "KB_JB838_1968-01-25_01-00026.txt\n",
      "14% positive 0.23785714285714285% subjective.\n",
      "KB_JB838_1968-02-03_01-00012.txt\n",
      "16% positive 0.2215361445783135% subjective.\n",
      "KB_JB838_1968-02-04_01-00023.txt\n",
      "17% positive 0.2513592233009711% subjective.\n",
      "KB_JB838_1968-02-06_01-00011.txt\n",
      "10% positive 0.32566210045662086% subjective.\n",
      "KB_JB838_1968-02-08_01-00008.txt\n",
      "19% positive 0.28049999999999986% subjective.\n",
      "KB_JB838_1968-02-08_01-00025.txt\n",
      "21% positive 0.298546511627907% subjective.\n",
      "KB_JB838_1968-02-10_01-00006.txt\n",
      "8% positive 0.230990466101695% subjective.\n",
      "KB_JB838_1968-02-10_01-00011.txt\n",
      "12% positive 0.2124100719424464% subjective.\n",
      "KB_JB838_1968-02-11_01-00013.txt\n",
      "11% positive 0.22317241379310365% subjective.\n",
      "KB_JB838_1968-02-13_01-00002.txt\n",
      "12% positive 0.18786004056795128% subjective.\n",
      "KB_JB838_1968-02-14_01-00012.txt\n",
      "12% positive 0.24041366906474812% subjective.\n",
      "KB_JB838_1968-02-15_01-00027.txt\n",
      "17% positive 0.27809677419354845% subjective.\n",
      "KB_JB838_1968-02-22_01-00023.txt\n",
      "18% positive 0.2758064516129031% subjective.\n",
      "KB_JB838_1968-02-29_01-00011.txt\n",
      "7% positive 0.2543127147766325% subjective.\n",
      "KB_JB838_1968-02-29_01-00022.txt\n",
      "22% positive 0.40896656534954384% subjective.\n",
      "KB_JB838_1968-03-03_01-00022.txt\n",
      "25% positive 0.5427179487179484% subjective.\n",
      "KB_JB838_1968-03-05_01-00009.txt\n",
      "12% positive 0.2728350515463915% subjective.\n",
      "KB_JB838_1968-03-06_01-00019.txt\n",
      "23% positive 0.3745733788395907% subjective.\n",
      "KB_JB838_1968-03-14_01-00010.txt\n",
      "8% positive 0.37822368421052593% subjective.\n",
      "KB_JB838_1968-03-15_01-00019.txt\n",
      "20% positive 0.4716438356164385% subjective.\n",
      "KB_JB838_1968-03-17_01-00022.txt\n",
      "19% positive 0.5052698412698406% subjective.\n",
      "KB_JB838_1968-03-20_01-00004.txt\n",
      "0% positive 0.2667359413202936% subjective.\n",
      "KB_JB838_1968-03-28_01-00004.txt\n",
      "3% positive 0.2660222222222222% subjective.\n",
      "KB_JB838_1968-03-30_01-00012.txt\n",
      "12% positive 0.27899364406779686% subjective.\n",
      "KB_JB838_1968-04-16_01-00027.txt\n",
      "22% positive 0.24757142857142864% subjective.\n",
      "KB_JB838_1968-05-14_01-00004.txt\n",
      "7% positive 0.2139929742388761% subjective.\n",
      "KB_JB838_1968-05-15_01-00005.txt\n",
      "14% positive 0.24098465473145775% subjective.\n",
      "KB_JB838_1968-05-17_01-00013.txt\n",
      "8% positive 0.2% subjective.\n",
      "KB_JB838_1968-05-17_01-00023.txt\n",
      "20% positive 0.2647136563876653% subjective.\n",
      "KB_JB838_1968-05-18_01-00011.txt\n",
      "12% positive 0.22345833333333331% subjective.\n",
      "KB_JB838_1968-05-25_01-00012.txt\n",
      "10% positive 0.23830015313935654% subjective.\n",
      "KB_JB838_1968-05-28_01-00014.txt\n",
      "4% positive 0.21906976744186055% subjective.\n",
      "KB_JB838_1968-06-06_01-00016.txt\n",
      "22% positive 0.4970111731843577% subjective.\n",
      "KB_JB838_1968-06-06_01-00020.txt\n",
      "21% positive 0.4507608695652173% subjective.\n",
      "KB_JB838_1968-06-12_01-00019.txt\n",
      "24% positive 0.27383177570093464% subjective.\n",
      "KB_JB838_1968-06-14_01-00006.txt\n",
      "9% positive 0.19044719827586223% subjective.\n",
      "KB_JB838_1968-06-14_01-00014.txt\n",
      "3% positive 0.19028571428571436% subjective.\n",
      "KB_JB838_1968-06-15_01-00005.txt\n",
      "8% positive 0.24630952380952378% subjective.\n",
      "KB_JB838_1968-06-16_01-00029.txt\n",
      "20% positive 0.25720994475138154% subjective.\n",
      "KB_JB838_1968-06-25_01-00003.txt\n",
      "7% positive 0.19552393716494199% subjective.\n",
      "KB_JB838_1968-06-30_01-00017.txt\n",
      "12% positive 0.2639622641509432% subjective.\n",
      "KB_JB838_1968-07-10_01-00022.txt\n",
      "9% positive 0.2573013245033112% subjective.\n",
      "KB_JB838_1968-07-11_01-00015.txt\n",
      "5% positive 0.1905382293762575% subjective.\n",
      "KB_JB838_1968-07-14_01-00027.txt\n",
      "20% positive 0.25230769230769223% subjective.\n",
      "KB_JB838_1968-07-19_01-00017.txt\n",
      "19% positive 0.5464673913043476% subjective.\n",
      "KB_JB838_1968-07-30_01-00012.txt\n",
      "9% positive 0.18418439716312068% subjective.\n",
      "KB_JB838_1968-08-03_01-00015.txt\n",
      "6% positive 0.23740740740740746% subjective.\n",
      "KB_JB838_1968-08-04_01-00012.txt\n",
      "7% positive 0.223108476888965% subjective.\n",
      "KB_JB838_1968-08-11_01-00006.txt\n",
      "12% positive 0.23084142394822038% subjective.\n",
      "KB_JB838_1968-08-14_01-00017.txt\n",
      "20% positive 0.34209003215434086% subjective.\n",
      "KB_JB838_1968-08-18_01-00024.txt\n",
      "19% positive 0.24754672897196298% subjective.\n",
      "KB_JB838_1968-08-20_01-00010.txt\n",
      "6% positive 0.2413826366559488% subjective.\n",
      "KB_JB838_1968-08-22_01-00020.txt\n",
      "22% positive 0.3400000000000002% subjective.\n",
      "KB_JB838_1968-08-22_01-00021.txt\n",
      "21% positive 0.38377071823204384% subjective.\n",
      "KB_JB838_1968-08-25_01-00002.txt\n",
      "10% positive 0.33070945945945857% subjective.\n",
      "KB_JB838_1968-09-05_01-00005.txt\n",
      "7% positive 0.19040885860306633% subjective.\n",
      "KB_JB838_1968-09-13_01-00010.txt\n",
      "9% positive 0.22517955801104989% subjective.\n",
      "KB_JB838_1968-09-15_01-00022.txt\n",
      "20% positive 0.5496699669966993% subjective.\n",
      "KB_JB838_1968-09-22_01-00029.txt\n",
      "20% positive 0.37871951219512223% subjective.\n",
      "KB_JB838_1968-09-25_01-00024.txt\n",
      "16% positive 0.31145429362880916% subjective.\n",
      "KB_JB838_1968-09-26_01-00014.txt\n",
      "3% positive 0.248918918918919% subjective.\n",
      "KB_JB838_1968-09-27_01-00007.txt\n",
      "10% positive 0.24395106382978735% subjective.\n",
      "KB_JB838_1968-09-28_01-00031.txt\n",
      "17% positive 0.2674285714285717% subjective.\n",
      "KB_JB838_1968-09-28_01-00032.txt\n",
      "19% positive 0.3268786127167632% subjective.\n",
      "KB_JB838_1968-10-01_01-00006.txt\n",
      "13% positive 0.24986206896551771% subjective.\n",
      "KB_JB838_1968-10-11_01-00002.txt\n",
      "10% positive 0.2569476744186041% subjective.\n",
      "KB_JB838_1968-10-11_01-00018.txt\n",
      "22% positive 0.37109374999999994% subjective.\n",
      "KB_JB838_1968-10-18_01-00010.txt\n",
      "15% positive 0.2585643564356439% subjective.\n",
      "KB_JB838_1968-10-19_01-00018.txt\n",
      "14% positive 0.26157945736434146% subjective.\n",
      "KB_JB838_1968-10-19_01-00025.txt\n",
      "21% positive 0.638547486033519% subjective.\n",
      "KB_JB838_1968-10-19_01-00026.txt\n",
      "24% positive 0.39549079754601246% subjective.\n",
      "KB_JB838_1968-10-22_01-00004.txt\n",
      "4% positive 0.24708121827411184% subjective.\n",
      "KB_JB838_1968-10-25_01-00005.txt\n",
      "11% positive 0.1733136363636366% subjective.\n",
      "KB_JB838_1968-10-27_01-00018.txt\n",
      "14% positive 0.1906210191082802% subjective.\n",
      "KB_JB838_1968-10-27_01-00036.txt\n",
      "18% positive 0.40290322580645177% subjective.\n",
      "KB_JB838_1968-10-29_01-00024.txt\n",
      "13% positive 0.2507207207207209% subjective.\n",
      "KB_JB838_1968-10-30_01-00005.txt\n",
      "11% positive 0.22316847826086977% subjective.\n",
      "KB_JB838_1968-11-09_01-00004.txt\n",
      "4% positive 0.22470883534136546% subjective.\n",
      "KB_JB838_1968-11-12_01-00002.txt\n",
      "4% positive 0.19286743215031316% subjective.\n",
      "KB_JB838_1968-11-16_01-00018.txt\n",
      "6% positive 0.1918859649122809% subjective.\n",
      "KB_JB838_1968-11-20_01-00001.txt\n",
      "11% positive 0.19343333333333373% subjective.\n",
      "KB_JB838_1968-11-23_01-00014.txt\n",
      "12% positive 0.22649539877300628% subjective.\n",
      "KB_JB838_1968-11-28_01-00018.txt\n",
      "21% positive 0.7303125% subjective.\n",
      "KB_JB838_1968-11-30_01-00029.txt\n",
      "18% positive 0.28845794392523394% subjective.\n",
      "KB_JB838_1968-12-01_01-00022.txt\n",
      "18% positive 0.5881967213114749% subjective.\n",
      "KB_JB838_1968-12-04_01-00018.txt\n",
      "24% positive 0.46278571428571413% subjective.\n",
      "KB_JB838_1968-12-05_01-00026.txt\n",
      "19% positive 0.34599246231155767% subjective.\n",
      "KB_JB838_1968-12-06_01-00011.txt\n",
      "7% positive 0.23382235528942136% subjective.\n",
      "KB_JB838_1968-12-07_01-00018.txt\n",
      "11% positive 0.2552557544757035% subjective.\n",
      "KB_JB838_1968-12-14_01-00027.txt\n",
      "8% positive 0.23793103448275865% subjective.\n",
      "KB_JB838_1968-12-15_01-00007.txt\n",
      "11% positive 0.2986520791612664% subjective.\n",
      "KB_JB838_1968-12-17_01-00002.txt\n",
      "10% positive 0.17272157190635457% subjective.\n",
      "KB_JB838_1968-12-22_01-00033.txt\n",
      "23% positive 0.3866477272727273% subjective.\n",
      "KB_JB838_1968-12-25_01-00010.txt\n",
      "2% positive 0.44666666666666666% subjective.\n"
     ]
    }
   ],
   "source": [
    "# Stocker le contenu de ces fichiers dans une liste\n",
    "for txt in txts:\n",
    "    f = open(os.path.join(txt_path, txt), 'r', encoding=\"utf-8\")\n",
    "    print(txt)\n",
    "    content_list = f.readlines()\n",
    "    get_sentiment(content_list[0])"
   ]
  },
  {
   "cell_type": "markdown",
   "metadata": {},
   "source": [
    "## Analyser le sentiment d'une phrase"
   ]
  },
  {
   "cell_type": "code",
   "execution_count": 7,
   "metadata": {
    "tags": []
   },
   "outputs": [
    {
     "name": "stdout",
     "output_type": "stream",
     "text": [
      "65% positive 0.75% subjective.\n"
     ]
    }
   ],
   "source": [
    "get_sentiment(\"Ce journal est vraiment super intéressant.\")"
   ]
  },
  {
   "cell_type": "code",
   "execution_count": 8,
   "metadata": {
    "tags": []
   },
   "outputs": [
    {
     "name": "stdout",
     "output_type": "stream",
     "text": [
      "41% negative 0.6% subjective.\n"
     ]
    }
   ],
   "source": [
    "get_sentiment(\"Cette phrase est négative et je ne suis pas content !\")"
   ]
  }
 ],
 "metadata": {
  "kernelspec": {
   "display_name": "Python 3.10.7 ('tac_venv': venv)",
   "language": "python",
   "name": "python3"
  },
  "language_info": {
   "codemirror_mode": {
    "name": "ipython",
    "version": 3
   },
   "file_extension": ".py",
   "mimetype": "text/x-python",
   "name": "python",
   "nbconvert_exporter": "python",
   "pygments_lexer": "ipython3",
   "version": "3.10.7"
  },
  "vscode": {
   "interpreter": {
    "hash": "bf1c0e32efbc1b0a30fa46d6ab60b25f74a78c177210c206f5ce854a430d1ba2"
   }
  }
 },
 "nbformat": 4,
 "nbformat_minor": 4
}
