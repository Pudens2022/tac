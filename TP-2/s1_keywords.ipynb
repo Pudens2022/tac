{
 "cells": [
  {
   "cell_type": "markdown",
   "metadata": {},
   "source": [
    "# Extraction de Keywords"
   ]
  },
  {
   "cell_type": "markdown",
   "metadata": {},
   "source": [
    "## Imports"
   ]
  },
  {
   "cell_type": "code",
   "execution_count": 33,
   "metadata": {},
   "outputs": [],
   "source": [
    "import os\n",
    "import yake\n",
    "import glob"
   ]
  },
  {
   "cell_type": "markdown",
   "metadata": {},
   "source": [
    "## Extraire les mots clés d'un document avec Yake"
   ]
  },
  {
   "cell_type": "markdown",
   "metadata": {},
   "source": [
    "https://github.com/LIAAD/yake"
   ]
  },
  {
   "cell_type": "code",
   "execution_count": 34,
   "metadata": {},
   "outputs": [
    {
     "data": {
      "text/plain": [
       "<yake.yake.KeywordExtractor at 0x147c8f23df0>"
      ]
     },
     "execution_count": 34,
     "metadata": {},
     "output_type": "execute_result"
    }
   ],
   "source": [
    "# Instantier l'extracteur de mots clés\n",
    "kw_extractor = yake.KeywordExtractor(lan=\"fr\", top=50)\n",
    "kw_extractor"
   ]
  },
  {
   "cell_type": "code",
   "execution_count": 35,
   "metadata": {},
   "outputs": [
    {
     "name": "stdout",
     "output_type": "stream",
     "text": [
      "['../data/txt\\\\KB_JB838_1968-01-07_01-00007.txt', '../data/txt\\\\KB_JB838_1968-01-07_01-00025.txt', '../data/txt\\\\KB_JB838_1968-01-09_01-00020.txt', '../data/txt\\\\KB_JB838_1968-01-10_01-00018.txt', '../data/txt\\\\KB_JB838_1968-01-13_01-00021.txt', '../data/txt\\\\KB_JB838_1968-01-21_01-00002.txt', '../data/txt\\\\KB_JB838_1968-01-25_01-00026.txt', '../data/txt\\\\KB_JB838_1968-02-03_01-00012.txt', '../data/txt\\\\KB_JB838_1968-02-04_01-00023.txt', '../data/txt\\\\KB_JB838_1968-02-06_01-00011.txt', '../data/txt\\\\KB_JB838_1968-02-08_01-00008.txt', '../data/txt\\\\KB_JB838_1968-02-08_01-00025.txt', '../data/txt\\\\KB_JB838_1968-02-10_01-00006.txt', '../data/txt\\\\KB_JB838_1968-02-10_01-00011.txt', '../data/txt\\\\KB_JB838_1968-02-11_01-00013.txt', '../data/txt\\\\KB_JB838_1968-02-13_01-00002.txt', '../data/txt\\\\KB_JB838_1968-02-14_01-00012.txt', '../data/txt\\\\KB_JB838_1968-02-15_01-00027.txt', '../data/txt\\\\KB_JB838_1968-02-22_01-00023.txt', '../data/txt\\\\KB_JB838_1968-02-29_01-00011.txt', '../data/txt\\\\KB_JB838_1968-02-29_01-00022.txt', '../data/txt\\\\KB_JB838_1968-03-03_01-00022.txt', '../data/txt\\\\KB_JB838_1968-03-05_01-00009.txt', '../data/txt\\\\KB_JB838_1968-03-06_01-00019.txt', '../data/txt\\\\KB_JB838_1968-03-14_01-00010.txt', '../data/txt\\\\KB_JB838_1968-03-15_01-00019.txt', '../data/txt\\\\KB_JB838_1968-03-17_01-00022.txt', '../data/txt\\\\KB_JB838_1968-03-20_01-00004.txt', '../data/txt\\\\KB_JB838_1968-03-28_01-00004.txt', '../data/txt\\\\KB_JB838_1968-03-30_01-00012.txt', '../data/txt\\\\KB_JB838_1968-04-16_01-00027.txt', '../data/txt\\\\KB_JB838_1968-05-14_01-00004.txt', '../data/txt\\\\KB_JB838_1968-05-15_01-00005.txt', '../data/txt\\\\KB_JB838_1968-05-17_01-00013.txt', '../data/txt\\\\KB_JB838_1968-05-17_01-00023.txt', '../data/txt\\\\KB_JB838_1968-05-18_01-00011.txt', '../data/txt\\\\KB_JB838_1968-05-25_01-00012.txt', '../data/txt\\\\KB_JB838_1968-05-28_01-00014.txt', '../data/txt\\\\KB_JB838_1968-06-06_01-00016.txt', '../data/txt\\\\KB_JB838_1968-06-06_01-00020.txt', '../data/txt\\\\KB_JB838_1968-06-12_01-00019.txt', '../data/txt\\\\KB_JB838_1968-06-14_01-00006.txt', '../data/txt\\\\KB_JB838_1968-06-14_01-00014.txt', '../data/txt\\\\KB_JB838_1968-06-15_01-00005.txt', '../data/txt\\\\KB_JB838_1968-06-16_01-00029.txt', '../data/txt\\\\KB_JB838_1968-06-25_01-00003.txt', '../data/txt\\\\KB_JB838_1968-06-30_01-00017.txt', '../data/txt\\\\KB_JB838_1968-07-10_01-00022.txt', '../data/txt\\\\KB_JB838_1968-07-11_01-00015.txt', '../data/txt\\\\KB_JB838_1968-07-14_01-00027.txt', '../data/txt\\\\KB_JB838_1968-07-19_01-00017.txt', '../data/txt\\\\KB_JB838_1968-07-30_01-00012.txt', '../data/txt\\\\KB_JB838_1968-08-03_01-00015.txt', '../data/txt\\\\KB_JB838_1968-08-04_01-00012.txt', '../data/txt\\\\KB_JB838_1968-08-11_01-00006.txt', '../data/txt\\\\KB_JB838_1968-08-14_01-00017.txt', '../data/txt\\\\KB_JB838_1968-08-18_01-00024.txt', '../data/txt\\\\KB_JB838_1968-08-20_01-00010.txt', '../data/txt\\\\KB_JB838_1968-08-22_01-00020.txt', '../data/txt\\\\KB_JB838_1968-08-22_01-00021.txt', '../data/txt\\\\KB_JB838_1968-08-25_01-00002.txt', '../data/txt\\\\KB_JB838_1968-09-05_01-00005.txt', '../data/txt\\\\KB_JB838_1968-09-13_01-00010.txt', '../data/txt\\\\KB_JB838_1968-09-15_01-00022.txt', '../data/txt\\\\KB_JB838_1968-09-22_01-00029.txt', '../data/txt\\\\KB_JB838_1968-09-25_01-00024.txt', '../data/txt\\\\KB_JB838_1968-09-26_01-00014.txt', '../data/txt\\\\KB_JB838_1968-09-27_01-00007.txt', '../data/txt\\\\KB_JB838_1968-09-28_01-00031.txt', '../data/txt\\\\KB_JB838_1968-09-28_01-00032.txt', '../data/txt\\\\KB_JB838_1968-10-01_01-00006.txt', '../data/txt\\\\KB_JB838_1968-10-11_01-00002.txt', '../data/txt\\\\KB_JB838_1968-10-11_01-00018.txt', '../data/txt\\\\KB_JB838_1968-10-18_01-00010.txt', '../data/txt\\\\KB_JB838_1968-10-19_01-00018.txt', '../data/txt\\\\KB_JB838_1968-10-19_01-00025.txt', '../data/txt\\\\KB_JB838_1968-10-19_01-00026.txt', '../data/txt\\\\KB_JB838_1968-10-22_01-00004.txt', '../data/txt\\\\KB_JB838_1968-10-25_01-00005.txt', '../data/txt\\\\KB_JB838_1968-10-27_01-00018.txt', '../data/txt\\\\KB_JB838_1968-10-27_01-00036.txt', '../data/txt\\\\KB_JB838_1968-10-29_01-00024.txt', '../data/txt\\\\KB_JB838_1968-10-30_01-00005.txt', '../data/txt\\\\KB_JB838_1968-11-09_01-00004.txt', '../data/txt\\\\KB_JB838_1968-11-12_01-00002.txt', '../data/txt\\\\KB_JB838_1968-11-16_01-00018.txt', '../data/txt\\\\KB_JB838_1968-11-20_01-00001.txt', '../data/txt\\\\KB_JB838_1968-11-23_01-00014.txt', '../data/txt\\\\KB_JB838_1968-11-28_01-00018.txt', '../data/txt\\\\KB_JB838_1968-11-30_01-00029.txt', '../data/txt\\\\KB_JB838_1968-12-01_01-00022.txt', '../data/txt\\\\KB_JB838_1968-12-04_01-00018.txt', '../data/txt\\\\KB_JB838_1968-12-05_01-00026.txt', '../data/txt\\\\KB_JB838_1968-12-06_01-00011.txt', '../data/txt\\\\KB_JB838_1968-12-07_01-00018.txt', '../data/txt\\\\KB_JB838_1968-12-14_01-00027.txt', '../data/txt\\\\KB_JB838_1968-12-15_01-00007.txt', '../data/txt\\\\KB_JB838_1968-12-17_01-00002.txt', '../data/txt\\\\KB_JB838_1968-12-22_01-00033.txt', '../data/txt\\\\KB_JB838_1968-12-25_01-00010.txt']\n"
     ]
    }
   ],
   "source": [
    "# Lister les Fichiers\n",
    "data_path = \"../data/txt/\"\n",
    "# files = os.listdir(data_path)\n",
    "# files = fnmatch.fnmatch(os.listdir(data_path), 'KB_*1968*.txt')\n",
    "dir_path = \"../data/txt/*1968*.txt\"\n",
    "files = glob.glob(dir_path)\n",
    "print(files)\n"
   ]
  },
  {
   "cell_type": "code",
   "execution_count": 36,
   "metadata": {},
   "outputs": [
    {
     "data": {
      "text/plain": [
       "100"
      ]
     },
     "execution_count": 36,
     "metadata": {},
     "output_type": "execute_result"
    }
   ],
   "source": [
    "# Imprimer le nombre de fichiers identifiés\n",
    "len(files)"
   ]
  },
  {
   "cell_type": "code",
   "execution_count": 37,
   "metadata": {},
   "outputs": [
    {
     "data": {
      "text/plain": [
       "['../data/txt\\\\KB_JB838_1968-01-07_01-00007.txt',\n",
       " '../data/txt\\\\KB_JB838_1968-01-07_01-00025.txt',\n",
       " '../data/txt\\\\KB_JB838_1968-01-09_01-00020.txt',\n",
       " '../data/txt\\\\KB_JB838_1968-01-10_01-00018.txt',\n",
       " '../data/txt\\\\KB_JB838_1968-01-13_01-00021.txt',\n",
       " '../data/txt\\\\KB_JB838_1968-01-21_01-00002.txt',\n",
       " '../data/txt\\\\KB_JB838_1968-01-25_01-00026.txt',\n",
       " '../data/txt\\\\KB_JB838_1968-02-03_01-00012.txt',\n",
       " '../data/txt\\\\KB_JB838_1968-02-04_01-00023.txt',\n",
       " '../data/txt\\\\KB_JB838_1968-02-06_01-00011.txt']"
      ]
     },
     "execution_count": 37,
     "metadata": {},
     "output_type": "execute_result"
    }
   ],
   "source": [
    "# Les dix premiers fichiers\n",
    "files[:10]"
   ]
  },
  {
   "cell_type": "code",
   "execution_count": 38,
   "metadata": {},
   "outputs": [
    {
     "data": {
      "text/plain": [
       "'../data/txt\\\\KB_JB838_1968-01-07_01-00007.txt'"
      ]
     },
     "execution_count": 38,
     "metadata": {},
     "output_type": "execute_result"
    }
   ],
   "source": [
    "# Choisir un fichier\n",
    "this_file = files[0]\n",
    "this_file"
   ]
  },
  {
   "cell_type": "code",
   "execution_count": 39,
   "metadata": {},
   "outputs": [
    {
     "data": {
      "text/plain": [
       "\"DIMANCHE 7 ET LUNDI 8 JANVIER 1968 - Triomphe britannique au Grand Prix' de l'Union de la Critique de Cinéma « Accident », de Joseph Losey■ J'emporte, d'extrême justesse, sur « Privilège », de Peter Watkins ment décidés à rendre des points à l’adversaire. La souriante autorité de M. Olivier Delville, président, empêcha que les débats, parfois assez caustiques, ne prennent un tour désagréable. Les anglophiles étaient les seuls à sourire vraiment : la victoire n’allait pas échanper à un « made in Bri- tain ►! Et à l’issue de neuf tours de scrutin (sans parler des innombrables votes indicatifs dont la seule « uti- LE SOIR 7. Propos fumants et fumeux, invectives et dithyrambes, bonnes raisons et mauvaise foi, manœuvres habiles et envolées lyriques, plaidoiries passionnées et calembours douteux : le mépris et le respect, l’admiration et l’indifférence ont, comme chaque année, éclaté tout au long (plus de trois heures) du débat qui réunissait samedi les critiques cinématographiques à l’occas\""
      ]
     },
     "execution_count": 39,
     "metadata": {},
     "output_type": "execute_result"
    }
   ],
   "source": [
    "# Récupérer le texte du fichier\n",
    "text = open(this_file, 'r', encoding=\"utf-8\").read()\n",
    "text[:1000]"
   ]
  },
  {
   "cell_type": "code",
   "execution_count": 40,
   "metadata": {},
   "outputs": [
    {
     "data": {
      "text/plain": [
       "[('Gaston Vander Schueren', 0.0022628748260117826),\n",
       " ('Vander Schueren', 0.0062896305759281125),\n",
       " ('Gaston Vander', 0.00946370813632632),\n",
       " ('JAMBE DE BOIS', 0.009561930943007748),\n",
       " ('soviétique', 0.013183371830227482),\n",
       " ('Bruxelles', 0.013513778882489032),\n",
       " ('JANVIER', 0.014766424906068689),\n",
       " ('Belge', 0.01567133392163923),\n",
       " ('Grand Prix', 0.016167745487243673),\n",
       " ('Joseph Losey', 0.017604839494165084),\n",
       " ('ans', 0.01768289265414183),\n",
       " (\"d'un\", 0.019733493946879614),\n",
       " ('Grand', 0.02211329397429521),\n",
       " ('Jeune peinture belge', 0.024246800207426155),\n",
       " ('Magda', 0.024601931895001775),\n",
       " ('JAMBE', 0.025041630072197563),\n",
       " ('BOIS', 0.026039529727028318),\n",
       " ('mari Gaston Vander', 0.026274594110628983),\n",
       " ('Vander', 0.02730305127573365),\n",
       " ('Schueren', 0.02741596599392053),\n",
       " ('Triomphe britannique', 0.02847362199713215),\n",
       " ('jeune femme', 0.02863827935269381),\n",
       " ('d’un plan soviétique', 0.029440590841065043),\n",
       " ('jeune', 0.029840749295391437),\n",
       " ('d’un', 0.030167656028755582),\n",
       " ('Gaston', 0.03074934860430974),\n",
       " ('Prix', 0.031214610940670684),\n",
       " ('Staline', 0.03157372166268282),\n",
       " ('jeunes', 0.03410371348044735),\n",
       " ('femme', 0.03682393438121342),\n",
       " ('Joseph', 0.03877226269747932),\n",
       " ('grand rabbin', 0.039773191210017954),\n",
       " ('heures', 0.04167768058986108),\n",
       " ('plan', 0.04181127750750413),\n",
       " ('Elvira Madigan', 0.04362523119348593),\n",
       " ('samedi', 0.04420433255164829),\n",
       " ('Fédération nationale belge', 0.04508849224851945),\n",
       " ('SOIR', 0.04633523452246186),\n",
       " ('France', 0.047248325476224234),\n",
       " (\"d'extrême justesse\", 0.049607743990089326),\n",
       " ('Lune', 0.04985429983323752),\n",
       " ('jeunes intellectuels soviétiques', 0.05073633299737186),\n",
       " ('France Joseph Kaplan', 0.05186574354452818),\n",
       " ('Belge André', 0.05218383362805391),\n",
       " ('dernier', 0.05277510370035317),\n",
       " ('Union soviétique', 0.05554784277256197),\n",
       " ('Grande', 0.055930886266268874),\n",
       " ('mari', 0.05627988449835018),\n",
       " ('américaine', 0.057315515308005834),\n",
       " ('salon', 0.05930243972178918)]"
      ]
     },
     "execution_count": 40,
     "metadata": {},
     "output_type": "execute_result"
    }
   ],
   "source": [
    "# Extraire les mots clés de ce texte\n",
    "keywords = kw_extractor.extract_keywords(text)\n",
    "keywords"
   ]
  },
  {
   "cell_type": "code",
   "execution_count": 41,
   "metadata": {},
   "outputs": [
    {
     "data": {
      "text/plain": [
       "['Vander Schueren',\n",
       " 'Gaston Vander',\n",
       " 'Grand Prix',\n",
       " 'Joseph Losey',\n",
       " 'Triomphe britannique',\n",
       " 'jeune femme',\n",
       " 'grand rabbin',\n",
       " 'Elvira Madigan',\n",
       " \"d'extrême justesse\",\n",
       " 'Belge André',\n",
       " 'Union soviétique']"
      ]
     },
     "execution_count": 41,
     "metadata": {},
     "output_type": "execute_result"
    }
   ],
   "source": [
    "# Ne garder que les bigrammes\n",
    "kept = []\n",
    "for kw, score in keywords:\n",
    "    words = kw.split()\n",
    "    if len(words) == 2:\n",
    "        kept.append(kw)\n",
    "kept"
   ]
  },
  {
   "cell_type": "markdown",
   "metadata": {},
   "source": [
    "## Faire la même opération sur tous les documents"
   ]
  },
  {
   "cell_type": "code",
   "execution_count": 42,
   "metadata": {},
   "outputs": [
    {
     "name": "stdout",
     "output_type": "stream",
     "text": [
      "../data/txt\\KB_JB838_1968-01-07_01-00007.txt mentions these keywords: Vander Schueren, Gaston Vander, Grand Prix, Joseph Losey, Triomphe britannique, jeune femme, grand rabbin, Elvira Madigan, d'extrême justesse, Belge André, Union soviétique...\n",
      "../data/txt\\KB_JB838_1968-01-07_01-00025.txt mentions these keywords: curriculum vitae, AGENCE ROSSEL, vitae complet, l'Agence Rossel, Société Belge, parfait bilingue, Bonnes notions, travail Intéressant, INGENIEUR COMMERCIAL, Faire offre...\n",
      "../data/txt\\KB_JB838_1968-01-09_01-00020.txt mentions these keywords: SOIR MARDI, DERNIERE EDIÜÇN, EDIÜÇN PARUE, draps blancs, fond blanc, d’un drap, d'un drap, blanc blanc, d’un système, DRAP Néfaste, cotons linge, fond rose...\n",
      "../data/txt\\KB_JB838_1968-01-10_01-00018.txt mentions these keywords: l’Agence Rossel, Agence Rossel, ROSSEL NUM, Faire offre, entrée immédiate, curriculum vitae, Ecrire Agence, Bruxelles cherche, Quartier Louise, Importante société...\n",
      "../data/txt\\KB_JB838_1968-01-13_01-00021.txt mentions these keywords: PRIX SOCIAL, Parvis St-OUias, WATERLOO Parvis, gaz naturel, prix catalogue, Beaux TERRAINS, crédit Mod, Egalement valable, St-OUias Tél...\n",
      "../data/txt\\KB_JB838_1968-01-21_01-00002.txt mentions these keywords: prévues dans, brigade anti-gang, Wallons dans, plan quinquennal, prix dans, faire dans, unique dans, moyen dans, D’autre part, construction dans...\n",
      "../data/txt\\KB_JB838_1968-01-25_01-00026.txt mentions these keywords: DERNIÈRE EDITION, EDITION PARUE, lEsom JEUDI, mam lEsom, nuit Dem, voiture PRIX, ETONNANTE VOITURE, Continental Motors...\n",
      "../data/txt\\KB_JB838_1968-02-03_01-00012.txt mentions these keywords: avenue Louise, Musique légère, Concert Mozart, DEUXIEME CHAINE, grande musique, Panorama sportif, Programme religieux, rue Saint-Jean, Concert symphonique, Petite musique...\n",
      "../data/txt\\KB_JB838_1968-02-04_01-00023.txt mentions these keywords: LEADING AMERICAN, AMERICAN FIRM, curriculum vitae, tÈsom LEADING, AGENCE ROSSEL, YOU are, SITUATION IMPORTANTE, IMPORTANTE SOCIETE, YOU hâve, BONNES REMUNERATIONS, Faire offre...\n",
      "../data/txt\\KB_JB838_1968-02-06_01-00011.txt mentions these keywords: bat Van, partisans S’il, Van Himst, Van Moer, Van Velthoven, Van Loon, Van Damme, Van den, Van der, Albert Van, Van Hoof, Joël Robert, Joseph Volders, Jeux Olympiques, division III, Walle bat...\n",
      "../data/txt\\KB_JB838_1968-02-08_01-00008.txt mentions these keywords: MIEUX CLIMATISEE, PRODUCTION CHARLES, GUINNESS KRR, COMEDIENS METHOPOLE, d’après GRAHAM, K.FELDMAN RANAVISION, KOROGtXOWYN RAYER, UNEPRQOUCTION PETtRGLtNYILLE, MLUANfiiSH PANAVISION, MCTROPOitTAN PIMS, CHARLES K.FELDMAN, KRR USniHOll, fRANSCOPE EASTMANCOLOR, EASTMANCOLOR MCTROPOitTAN, EXCLUSIVITE AVENTURE, CASINO ROYALE, BEIOIQUE PLAZA, PMU FORS, Emmanuelle Riva...\n",
      "../data/txt\\KB_JB838_1968-02-08_01-00025.txt mentions these keywords: tnt Taxi, Opel Rekord, Bon état, rue Tenbosch, BREAK AMI, Parf. état, Opel Carav, LOUEZ SAKS...\n",
      "../data/txt\\KB_JB838_1968-02-10_01-00006.txt mentions these keywords: MONSIEUR ROBERT, faire part, MONSIEUR Jean, rie Bruxelles, rie MONSIEUR, tient lieu, MADAME VEUVE, Monsieur Marcel, Monsieur Albert, avis tient, MONSIEUR Georges, Madame Jacques, Rue rie, survenu inopinément, Madame Roger, Madame Philippe...\n",
      "../data/txt\\KB_JB838_1968-02-10_01-00011.txt mentions these keywords: avenue Louise, Patinage artistique, DEUXIEME CHAINE, DEUXIEME PROGRAMME, rue Saint, bémol majeur, rue Saint-Jean, rue Royale, Petite musique, Concert Hindemith, TROISIEME PROGRAMME, Louise Van...\n",
      "../data/txt\\KB_JB838_1968-02-11_01-00013.txt mentions these keywords: Lord Randal, Jeux olympiques, Prix Dialogue, DIVISION III, Olga Pall, PATINAGE ARTISTIQUE, Jeux d'Hiver, lady Ethel, Coupe d’Europe...\n",
      "../data/txt\\KB_JB838_1968-02-13_01-00002.txt mentions these keywords: Marc Blancpain, langue française, François Mauriac, Nauru fut, GARNITURE STYLO, NOVAK ELECTRONICS, Nations Unies, MURMEL DARK, Air QUINZIEME, QUINZIEME LISTE, l’île Curtis, DËÜX LOTS...\n",
      "../data/txt\\KB_JB838_1968-02-14_01-00012.txt mentions these keywords: Marielle Goitschel, Van Clooster, Van der, SOIR MERCREDI, équipe belge, challenge international, slalom olympique, Hollandais Van...\n",
      "../data/txt\\KB_JB838_1968-02-15_01-00027.txt mentions these keywords: CHROMES TOURHAHT, PIEDS CHROMES, Opel Rek, Bon état, XIÏIIÏIÏXULIIJÏIHIIII SALON, SALON RECLAME, Parf. état, SKAÏ COUSSIN, AMOVIBLE PIEDS, NOM ADRESSE, Garantie totale, OPEL KADETT...\n",
      "../data/txt\\KB_JB838_1968-02-22_01-00023.txt mentions these keywords: Ouvrier magasinier, Bar dem, dames dem, service militaire, BRUXELLES Jtnnei, rue Vanderklndere, CONDUCTEUR PRESSE...\n",
      "../data/txt\\KB_JB838_1968-02-29_01-00011.txt mentions these keywords: coup franc, Rivera fut, Standard Beurlet, équipes Standard, mars Inclus, Milan fut, match aller, Cudicini fut...\n",
      "../data/txt\\KB_JB838_1968-02-29_01-00022.txt mentions these keywords: Porte Louise, VENDRE FLATS, LOUISE FLAT, bel app, Quartier LOUISE, bel app....\n",
      "../data/txt\\KB_JB838_1968-03-03_01-00022.txt mentions these keywords: hectares Enfin, Beaux appartements, haut standing, VENDRE appartements, Entreprises BALCAEN, MAISON EUROPEENNE, SQUARE MARGUERITE, luxueux appartements...\n",
      "../data/txt\\KB_JB838_1968-03-05_01-00009.txt mentions these keywords: grand bal, bal annuel, samedi soir, comité organisateur, conseillers communaux, secrétaire général, folklore wallon, bal wallon, secrétaire communal, traditionnel bal, Van Hamme, Van Luppen, Van Netelbosch...\n",
      "../data/txt\\KB_JB838_1968-03-06_01-00019.txt mentions these keywords: Agence Rossel, l’Agence Rossel, Ecrire Agence, DACTYLO BILINGUE, BILINGUE Ecrire, Bruxelles engage, Bruxelles demande, BRUXELLES Ecrire, Rossel num, TRAVAIL VARIE, IMPORTANTE SOCIETE, Jeune EMPLOYEE...\n",
      "../data/txt\\KB_JB838_1968-03-14_01-00010.txt mentions these keywords: Paul MORAND, Académie Goncourt, John-Antoine Nau, Lucien Descaves, Jean Royère, Initiales inversées, Pierre HERBART, Prix Goncourt, peut-être plue...\n",
      "../data/txt\\KB_JB838_1968-03-15_01-00019.txt mentions these keywords: COSTA BRAVA, Vue mer, bord mer, Spl. terr, BRAVA App, vacances Pâques...\n",
      "../data/txt\\KB_JB838_1968-03-17_01-00022.txt mentions these keywords: bord mer, COSTA BRAVA, app. mod, Vue mer...\n",
      "../data/txt\\KB_JB838_1968-03-20_01-00004.txt mentions these keywords: transits localisés, transit localisé, demeurant rue, place Verboeckhoven, rue Royale, rue Haute, rue Neuve, place Rogier, situé rue, place Cardinal, Mardi matin, place Meiser, Liège Liège...\n",
      "../data/txt\\KB_JB838_1968-03-28_01-00004.txt mentions these keywords: mardi soir, MARTINI CENTER, Mercredi matin, domicilié rue, demeurant rue, Van Gastel, Van Damme, Van Mers, NEW YORK...\n",
      "../data/txt\\KB_JB838_1968-03-30_01-00012.txt mentions these keywords: Van Assche, jeudi soir, Jacky Ickx, Van Malder, Graham Hill, prix Fort, Grand Prix, prix Petit, Fort Jaco, Mme Van, handicap prix, Van Gele...\n",
      "../data/txt\\KB_JB838_1968-04-16_01-00027.txt mentions these keywords: l’Agence Rossel, curriculum vitae, Agence Rossel, STENO-DACTYLO bilingue, BRUXELLES engage, EMPLOYE Bilingue, Bruxelles CHERCHENT, BILINGUE Ecrire, BRUXELLES cherche, Ecrire Agence, Rogier Bruxelles, Bilingue parfait...\n",
      "../data/txt\\KB_JB838_1968-05-14_01-00004.txt mentions these keywords: Lundi matin, tribunal correctionnel, CHRONIQUE PHILATÉLIQUE, demeurant rue, Bruxelles Lundi, domicilié rue, habitant rue, Dimanche soir, voiture conduite, collision s’est, voiture Lundi...\n",
      "../data/txt\\KB_JB838_1968-05-15_01-00005.txt mentions these keywords: Georges Aubrey, Léonid Frechkop, Jean Rovis, bon langage, Corpus Christi, incroyable tnullerie, rideau rouge, bourrus impayables, bourgeois vénitiens, force mobile, impayables Jean...\n",
      "../data/txt\\KB_JB838_1968-05-17_01-00013.txt mentions these keywords: Stores Louise, LOUIS FERAUD, TED LAPIDUS, JIBUTCH COLLEGE, LAPIDUS COUTURE, Garden Stores, BUTCH TAILORS, avenue Louise, COUTURE BUTCH, COLLEGE BUTCH, BUTCH UNIVERSITY, CHEMISERIE BUTCH, BUTCH Garden, annoncer l’ouverture, Parking privé, entrée rue...\n",
      "../data/txt\\KB_JB838_1968-05-17_01-00023.txt mentions these keywords: FIAT FIAT, duplicateur Gestetner, Tél. apr...\n",
      "../data/txt\\KB_JB838_1968-05-18_01-00011.txt mentions these keywords: Elisabeth Brozowska, Marten Toonder, Brozowska CAPPI, Cappl regarda, Stores Louise, colline d’où, SOIR JOSEPHINE, monstre marin, vit alors, alors déboucher, Garden Stores, d’une DAF, GUN LAW, balbutia Cappi...\n",
      "../data/txt\\KB_JB838_1968-05-25_01-00012.txt mentions these keywords: SOIR SAMEDI, parts sociales, fin mars, gouvernement français, banques centrales, mars dernier, sociales nouvelles, BRUXELLES BANQUE...\n",
      "../data/txt\\KB_JB838_1968-05-28_01-00014.txt mentions these keywords: Bruxelles Allure, COURS PRECEO, Allure réservée, FNRS FNRS, PRECOMPTE SNCB, CADG CADG, PRECOMPTE DEDUIT...\n",
      "../data/txt\\KB_JB838_1968-06-06_01-00016.txt mentions these keywords: WATERLOO Villa, belle villa, villa mod, VILLA NVE, mais. rapp, villa neuve, maison rapp...\n",
      "../data/txt\\KB_JB838_1968-06-06_01-00020.txt mentions these keywords: Fiat mblé, Bel app, ILES BAHAMASI, BAHAMASI SOYEZ, Nouveau Monde...\n",
      "../data/txt\\KB_JB838_1968-06-12_01-00019.txt mentions these keywords: Haut standing, Bel app, Lux. app, EUROPE app, feu ouv., Pte Louise...\n",
      "../data/txt\\KB_JB838_1968-06-14_01-00006.txt mentions these keywords: rue Royale, Petite Ceinture, tunnel routier, Parc Royal, nouvelle prison, place Royale...\n",
      "../data/txt\\KB_JB838_1968-06-14_01-00014.txt mentions these keywords: Liège Liège, Gand Gand, français L'accord, PRECOMPTE SNCB, FNRS FNRS, Bruxelles JEUDI, PRECOMPTE DEDUIT, Fds Rtes...\n",
      "../data/txt\\KB_JB838_1968-06-15_01-00005.txt mentions these keywords: Théâtre national, éfs SAMEDI, Ztat libéral, MONDE NOUVEAU, vieille dame, monde n'ont, théâtre populaire, Petit Malcolm, National Youth, Kennedy analyse, Pence Corps...\n",
      "../data/txt\\KB_JB838_1968-06-16_01-00029.txt mentions these keywords: curriculum vitae, l’AGENCE ROSSEL, SOIR Nouvelle, région liégeoise, l’Agence HAVAS, Société Industrielle, Bruxelles recherche, Société Internationale, Bruxelles ENGAGE, service ROSSEL, services fechniço, services commerciaux, sts services, parfait bilingue...\n",
      "../data/txt\\KB_JB838_1968-06-25_01-00003.txt mentions these keywords: second tour, parti communiste, majorité gaulliste, PREMIERE PAGE, juin Paris, Edgar Faure, parti gaulliste, candidats gaullistes, voix communistes, sièges qu’ils...\n",
      "../data/txt\\KB_JB838_1968-06-30_01-00017.txt mentions these keywords: Ostendé RESULTATS, Grand Prix, francs suisses, Super jumelé, DEUXIEME CHAINE, DEUXIEME PROGRAMME, Courses hippiques, Prix Hafiz, Prix Art, Prix Prosper, Prix Mouette, Prix Grappin...\n",
      "../data/txt\\KB_JB838_1968-07-10_01-00022.txt mentions these keywords: PIERRE REVERDY, REVERDY POETE, EDITION PARUS, DERNIERS EDITION, SURREEL Pierre, Mortimer Guiney, oft l’heur, d’un homme, André Stil, Georges Bernanos, lumière Marche, roman d’un...\n",
      "../data/txt\\KB_JB838_1968-07-11_01-00015.txt mentions these keywords: tonne longue, Cour. dan, New York, parts sociales, changes NOUVELLES...\n",
      "../data/txt\\KB_JB838_1968-07-14_01-00027.txt mentions these keywords: ONDERZOEK Brasserie, Brasserie DEN, DEN HERT, curriculum vitae, KOBBEGEM désire, l'Agence Rossel, ENGINEER The, Faire offre, UNION CARBIDE, Dactylo Bilingue, parfaitement bilingue...\n",
      "../data/txt\\KB_JB838_1968-07-19_01-00017.txt mentions these keywords: l’Agence Rossel, Rossel sous, COMPAGNIE GENERALE, GENERALE CHIMIQUE, Faire offre, Bruxelles recherche, Agence Rossel, BRUXELLES DEMANDE, CHIMIQUE recherche, curriculum vitae, Avemie Louis, TRES HAUT, COUTURE DAME...\n",
      "../data/txt\\KB_JB838_1968-07-30_01-00012.txt mentions these keywords: Grand Prix, Joël Robert, John Banks, Prix Stratonlce, Nereus Amsterdam, grands bateaux, classement final, Equipe fédérale...\n",
      "../data/txt\\KB_JB838_1968-08-03_01-00015.txt mentions these keywords: Emp Emp, Bruxelles VENDREDI, Gand Gand, PRECOMPTE SNCB, Liège Liège, AOUT Tendance, PRECOMPTE Anvers, PRECOMPTE DEDUIT, Gand Liège, lots PRECOMPTE...\n",
      "../data/txt\\KB_JB838_1968-08-04_01-00012.txt mentions these keywords: Grand Prix, Jacky Ickx, SIMPLE MESSIEURS, SOIR DIMANCHE, rie finale, Ford Cortina, Prix d’Europe...\n",
      "../data/txt\\KB_JB838_1968-08-11_01-00006.txt mentions these keywords: Sbirley Madame, Jean Macdonald, Cooch Behar, Enfants admis, raconte Shirley, dit Shirley, petit colonel, poste Jean...\n",
      "../data/txt\\KB_JB838_1968-08-14_01-00017.txt mentions these keywords: Faire offre, Agence Rossel, BRUXELLES recherche, Offre manuscrite, curriculum vitae, Square Vergote, l’AGENCE ROSSEL, DACTYLOS bilingues, dactylo bilingue, Lartigue Rés, EMPLOYE bilingue, offres manuscrites...\n",
      "../data/txt\\KB_JB838_1968-08-18_01-00024.txt mentions these keywords: NIVEAU EQUIVALENT, CYCLE INFERIEUR, DIMANCHE IStt, l’AGENCE ROSSEL, curriculum vitae, Commerce extérieur, Agence Rossel, Faire offre, IMPORTANTE FIRME, offre manuscrite, IMPORTANTE SOCIETE...\n",
      "../data/txt\\KB_JB838_1968-08-20_01-00010.txt mentions these keywords: Monsieur Jean, Madame Jean, Monsieur Pierre, MADAME VEUVE, faire part, Jean POELS, Madame Pierre, SOIR NECROLOGIE, Pierre BOONEN, van WASSENHOVE, tient lieu...\n",
      "../data/txt\\KB_JB838_1968-08-22_01-00020.txt mentions these keywords: Spl. app, VUE IMPRENABLE, vdre app, d’y penser, peine d’y, haut standing...\n",
      "../data/txt\\KB_JB838_1968-08-22_01-00021.txt mentions these keywords: Agence Rossel, l'Agence Rossel, Ecrire Agence, curriculum vitae, BRUXELLES CENTRE, service militaire, studio mblé, IMPORTANTE SOCIETE...\n",
      "../data/txt\\KB_JB838_1968-08-25_01-00002.txt mentions these keywords: Het Schulenbroeck, Lao Wang, floralies liégeoises, grands travaux, Travaux publics, désherbage chimique, petit élevage, Service Bureau...\n",
      "../data/txt\\KB_JB838_1968-09-05_01-00005.txt mentions these keywords: Marché commun, L’expressionnisme allemand, Foire Internationale, Cour d’assises, inauguré mercredi, semaine passée, vice-Premier ministre, cours d'une, Bruxelles Wallonie...\n",
      "../data/txt\\KB_JB838_1968-09-13_01-00010.txt mentions these keywords: Entraînement Coupe, Trophée Baron, Van Looy, B-Alfa Romeo, Van Damme, B-Morris Cooper, Morris Cooper, van Lennep, Van Schoor, jeudi soir, Coupe Renault, Entrainement Trophée, Jacques Anquetil, Van den...\n",
      "../data/txt\\KB_JB838_1968-09-15_01-00022.txt mentions these keywords: louer app, beaux terrains, beau terrain, rue Namur, terrains Bruxelles, Agence Rossel, VENDRE Terrains...\n",
      "../data/txt\\KB_JB838_1968-09-22_01-00029.txt mentions these keywords: l’AGENCE ROSSEL, Agence Rossel, Bruxelles cherche, curriculum vitae, BRUXELLES engage, Faire offre, marques Cadum, offre manuscrite...\n",
      "../data/txt\\KB_JB838_1968-09-25_01-00024.txt mentions these keywords: Bon salaire, Dem. fem, gages Tél, Bons gages, servante Int, Bons salaires, gros trav, ouvrier Tél, Dames dem...\n",
      "../data/txt\\KB_JB838_1968-09-26_01-00014.txt mentions these keywords: Bruxelles MERCREDI, SNCB SNCB, SEPTEMBRE Tendance, PRECOMPTE SNCB, COURS COURS, SNCI SNCI, Angola Ole, IOO IOO, FNRS FNRS, IOUR COURS, COURS PRECEO, Crown Min...\n",
      "../data/txt\\KB_JB838_1968-09-27_01-00007.txt mentions these keywords: Jean Bourgeois, d’Albert Huybrechts, CENTRE CULTUREL, Albert Huybrechts, René Bernier, Zahir Chah, Guillaume Lekeu, d’autre part, Centre dramatique, Danielle Bourgeois...\n",
      "../data/txt\\KB_JB838_1968-09-28_01-00031.txt mentions these keywords: l’Agence Rossel, VQUS JestqnteiyTCHAIKA, Agence Rossel, National Zaventem, pneu ceinturé, bonne prés, JEUNE FILLE...\n",
      "../data/txt\\KB_JB838_1968-09-28_01-00032.txt mentions these keywords: Bon salaire, Bar dem, dames dem, BRUXELLES PIQUEUSES, iiu ill, iiiklu iaailiitiaut, combinai liiorull.vu...\n",
      "../data/txt\\KB_JB838_1968-10-01_01-00006.txt mentions these keywords: DEUXIEME PROGRAMME, THEATRE NATIONAL, DEUXIEME CHAINE, THEATRE FLAMAND, Claude Volter, TROISIEME PROGRAMME, Robert Hossein, Ancienne Belgique, perverse Manon, Concert théâtre, Concert symphonique...\n",
      "../data/txt\\KB_JB838_1968-10-11_01-00002.txt mentions these keywords: Conseil économique, JEF RENS, SOIR VENDREDI, Vanden Boeynants, Van Acker, problèmes économiques, Bruxelles soient, économique flamand...\n",
      "../data/txt\\KB_JB838_1968-10-11_01-00018.txt mentions these keywords: OCTOBRE IMS, VENTE PUBLIQUE, modernes blancs, tissus modernes, FERMETTE BASSE, belle maison, BELLE VILLA, bon état, Jolie FERMETTE...\n",
      "../data/txt\\KB_JB838_1968-10-18_01-00010.txt mentions these keywords: Madame Pierre, MONSIEUR Maurice, Madame BOGAERTS, Madame Georges, Madame Jacques, Madame Maurice, avis tient, MADAME veuve, Madame Jean, faire part, Madame André, Heu dans...\n",
      "../data/txt\\KB_JB838_1968-10-19_01-00018.txt mentions these keywords: JEUX OLYMPIQUES, OLYMPIQUES Voir, Musique légère, Voir détails, pages sportives, Petite musique, Musique symphonique, Jeux radiophonique, Concert symphonique, Programme varié, Grand Prix, Musique variée, OLYMPIQUES Résumé, Concert classique, Programme religieux...\n",
      "../data/txt\\KB_JB838_1968-10-19_01-00025.txt mentions these keywords: Beau terrain...\n",
      "../data/txt\\KB_JB838_1968-10-19_01-00026.txt mentions these keywords: Super Silver, Jean Croonenberghs, bel app, app. mod, LESOIR SAMEDI, UCCLE Tél...\n",
      "../data/txt\\KB_JB838_1968-10-22_01-00004.txt mentions these keywords: Wglter Schirra, Apollq VII, demeurant rue, grièvement blessé, Maurice Piermont, voiture conduite, cours d’une, Gemini VII, Luzi aurait, Schirra quént...\n",
      "../data/txt\\KB_JB838_1968-10-25_01-00005.txt mentions these keywords: ingénieurs techniciens, professeur Ferguson, professeur Verdeyen, VOYAGE ROYAL, Souverains belges, roi Hassan, Ingénieurs conseils, roi Baudouin, ENVOYE SPECIAL, CONSEIL COMMUNAL, reine Fabiola, Salon international, d’une motion...\n",
      "../data/txt\\KB_JB838_1968-10-27_01-00018.txt mentions these keywords: Elisabeth Brozomka, Brozomka CAW, Marteii Toonder, Toonder Pépé, sol mineur, musique ancienne, Musique légère, Radio scolaire, musique moderne, Borgne reprit, Petite musique, HARRY BISHOP, Die Jakobsleiter...\n",
      "../data/txt\\KB_JB838_1968-10-27_01-00036.txt mentions these keywords: nter Ubr, curriculum vitae, Montagne Bruxelles, Ecr. curr...\n",
      "../data/txt\\KB_JB838_1968-10-29_01-00024.txt mentions these keywords: EDITION PARUE, DERNIERE EDITION, ixsom MARDI, voua achetés, Prekelinden Brux, Opel Rekord, Jeux olympiques, SOIR ixsom, Nova Hair...\n",
      "../data/txt\\KB_JB838_1968-10-30_01-00005.txt mentions these keywords: BANTRY BAY, Universe Ireland, Sean Connery, Conseil communal, Whiddy Island, pétrole brut, mardi soir, Bantry Buy, D'EUROPE BANTRY, ENVOYE SPECIAL, D'ECLATEMENT D'EUROPE, Universe Koweït...\n",
      "../data/txt\\KB_JB838_1968-11-09_01-00004.txt mentions these keywords: vendredi matin, Van Tongelen, Nations Unies, SOIR SAMEDI, Olympic Airways, cours d’une, aéroport d’Orly, jeune homme, garde champêtre, Van Campènhout, d’une conférence, Paul Hoffmann...\n",
      "../data/txt\\KB_JB838_1968-11-12_01-00002.txt mentions these keywords: Soldat inconnu, anciens combattants, SOIR MARDI, cérémonie s’est, roi Albert, L’allocution royale, AVIATEURS L’allocution, inconnu belge, Grande Guerre, ancien combattant, Poilu inconnu...\n",
      "../data/txt\\KB_JB838_1968-11-16_01-00018.txt mentions these keywords: action nouvelle, actions nouvelles, franc français, BANQUE BELGE, Dodie dans, ROYAL DUTCH, actions Banque, D’autre part, tonne longue...\n",
      "../data/txt\\KB_JB838_1968-11-20_01-00001.txt mentions these keywords: Conseil économique, Conseil fédéral, Henri Simonet, Van Offelen, Fédération bruxelloise, Wallons écoutent, Conseils économiques, Averell Harriman, nouveau conseil, président conseil, franc belge...\n",
      "../data/txt\\KB_JB838_1968-11-23_01-00014.txt mentions these keywords: profonde douleur, Madame Paul, tient lieu, AVIS TIENT, lieu dans, BRUXELLES Rue, MONSIEUR Georges, MONSIEUR André, faire part, Madame Jacques, TIENT UEU, DAF DAF...\n",
      "../data/txt\\KB_JB838_1968-11-28_01-00018.txt mentions these keywords: beau terr, NUEVA ANDALUCIA, terr. faç, Touristique National, beaux terr, lumière d'Espagne, l'éblouissante lumière, bel étage, terrains boisés, beaux terrains, terrain villa...\n",
      "../data/txt\\KB_JB838_1968-11-30_01-00029.txt mentions these keywords: Agence Rossel, Bruxelles Tél, ROSSEL SOUS, BRUXELLES Ecrire, service militaire, BRUXELLES demande...\n",
      "../data/txt\\KB_JB838_1968-12-01_01-00022.txt mentions these keywords: beaux terrains, LOUER Rue, belgo-suisst Promoteur, Constructeur nus, nus OUVRE, CHMTIERS INSTALLEZ-VOUS, louer Tél, terrains boisés, vendre terrain...\n",
      "../data/txt\\KB_JB838_1968-12-04_01-00018.txt mentions these keywords: WATERLOO villa, Vue mer, beau terr...\n",
      "../data/txt\\KB_JB838_1968-12-05_01-00026.txt mentions these keywords: Bon café, Dem. fem, servante Int, bons gages, Bons salaires...\n",
      "../data/txt\\KB_JB838_1968-12-06_01-00011.txt mentions these keywords: Van Looy, Nicolas Dewalque, Real Madrid, mercredi soir, Coupe Davis, Robert Van, Dukla Prague, Raymond Goethals, Van Himst, Dimanche dernier, finalement Nicolas, Van Laecke, Patrick Sercu...\n",
      "../data/txt\\KB_JB838_1968-12-07_01-00018.txt mentions these keywords: NÉCROLOGIE Madame, Madame Maorie, Madame Veuve, Madame Joseph, Madame Georiea, Madame André, Fiduciaire Ryckeman, Madame John, Madame Albert, Madame Paul, BRUXELLES Rue, DAF DAF, faire part...\n",
      "../data/txt\\KB_JB838_1968-12-14_01-00027.txt mentions these keywords: New Year, Pub Louise, anglais qu’un, qu’un anglais-anglais, from the, sentirez vite, Cambridge Saus, gazon anglais, Grilled Lamb, Lamb Chops, London Broil, Grilled Fresh...\n",
      "../data/txt\\KB_JB838_1968-12-15_01-00007.txt mentions these keywords: mathématiques modernes, Théâtre Sarah, Jean Mercure, Sacha Guitry, Sarah Bernhardt, NOTES PARISIENNES, Théâtre National, mathématiques traditionnelles, grand nombre, professeur George, THEATRE MOLIERE, théâtre Molière, André Thomas, pensée ensembliste...\n",
      "../data/txt\\KB_JB838_1968-12-17_01-00002.txt mentions these keywords: FREMI Elit, Conseil économique, Elit PAGE, DEBUT FREMI, problèmes économiques, prix normal, Vanden Boeynants, SOIR MARDI, nouvelle prison, Bruxelles s’est, hôpitaux universitaires...\n",
      "../data/txt\\KB_JB838_1968-12-22_01-00033.txt mentions these keywords: service militaire, BRUXELLES engage, PHILIPS CHERCHE, SACHANT CONDUIRE, libre service, ENTREE IMMEDIATE...\n",
      "../data/txt\\KB_JB838_1968-12-25_01-00010.txt mentions these keywords: MAGNIFIQUE GAPIN, sap iuos, isa apa, FÇRA U'AOMtftATtON, dscquMê Dtbruyrm, Réveillon tonitruant, temps pareil, ÉTAT PAREIL, DELA CELÀ, JAMAIS PERMIS, VEILLE DELA, DEVRAIT INTERDIRE...\n"
     ]
    }
   ],
   "source": [
    "for f in sorted(files)[:100]:\n",
    "    text = open(f, 'r', encoding=\"utf-8\").read()\n",
    "    keywords = kw_extractor.extract_keywords(text)\n",
    "    kept = []\n",
    "    for kw, score in keywords:\n",
    "        words = kw.split()\n",
    "        if len(words) == 2:\n",
    "            kept.append(kw)\n",
    "    print(f\"{f} mentions these keywords: {', '.join(kept)}...\")"
   ]
  }
 ],
 "metadata": {
  "kernelspec": {
   "display_name": "Python 3.10.7 ('tac_venv': venv)",
   "language": "python",
   "name": "python3"
  },
  "language_info": {
   "codemirror_mode": {
    "name": "ipython",
    "version": 3
   },
   "file_extension": ".py",
   "mimetype": "text/x-python",
   "name": "python",
   "nbconvert_exporter": "python",
   "pygments_lexer": "ipython3",
   "version": "3.10.7"
  },
  "vscode": {
   "interpreter": {
    "hash": "bf1c0e32efbc1b0a30fa46d6ab60b25f74a78c177210c206f5ce854a430d1ba2"
   }
  }
 },
 "nbformat": 4,
 "nbformat_minor": 4
}
