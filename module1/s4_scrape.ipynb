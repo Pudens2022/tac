{
 "cells": [
  {
   "cell_type": "markdown",
   "metadata": {},
   "source": [
    "# Scraping: récupération de la page d'accueil du journal Le Soir\n",
    "\n",
    "Dans ce notebook, nous créons un robot qui va ouvrir la page d'accueil du site du journal [Le Soir](https://www.lesoir.be/) et récupérer le titre de tous les articles du jour et les stocker dans un fichier csv."
   ]
  },
  {
   "cell_type": "markdown",
   "metadata": {},
   "source": [
    "## Imports"
   ]
  },
  {
   "cell_type": "code",
   "execution_count": 1,
   "metadata": {},
   "outputs": [],
   "source": [
    "import os\n",
    "import re\n",
    "import time\n",
    "import requests\n",
    "from bs4 import BeautifulSoup\n",
    "import pandas as pd"
   ]
  },
  {
   "cell_type": "markdown",
   "metadata": {},
   "source": [
    "## Récupération de tous les articles de la page d'accueil\n",
    "\n"
   ]
  },
  {
   "cell_type": "code",
   "execution_count": 2,
   "metadata": {},
   "outputs": [],
   "source": [
    "headers = {'User-Agent': 'Mozilla/5.0 (Macintosh; Intel Mac OS X 10_10_1) AppleWebKit/537.36 (KHTML, like Gecko) Chrome/39.0.2171.95 Safari/537.36'}\n",
    "\n",
    "articles = []\n",
    "\n",
    "root_url = f\"https://www.lesoir.be\"\n",
    "response = requests.get(root_url, headers=headers)\n",
    "soup = BeautifulSoup(response.text, 'html.parser')\n",
    "for link in soup.find_all(\"a\", {\"class\":\"r-article--link\"}):\n",
    "    title = link.text.strip()\n",
    "    url = root_url + link.get('href')\n",
    "    articles.append([url, title])"
   ]
  },
  {
   "cell_type": "code",
   "execution_count": 3,
   "metadata": {},
   "outputs": [
    {
     "data": {
      "text/plain": [
       "0"
      ]
     },
     "execution_count": 3,
     "metadata": {},
     "output_type": "execute_result"
    }
   ],
   "source": [
    "# Affichage du nombre d'articles récupérés\n",
    "len(articles)"
   ]
  },
  {
   "cell_type": "code",
   "execution_count": 4,
   "metadata": {},
   "outputs": [
    {
     "data": {
      "text/plain": [
       "[]"
      ]
     },
     "execution_count": 4,
     "metadata": {},
     "output_type": "execute_result"
    }
   ],
   "source": [
    "# Affichage des 10 premières entrées\n",
    "articles[:10]"
   ]
  },
  {
   "cell_type": "markdown",
   "metadata": {},
   "source": [
    "## Création d'un dataframe avec les liens et les titres des articles\n"
   ]
  },
  {
   "cell_type": "code",
   "execution_count": 5,
   "metadata": {},
   "outputs": [
    {
     "data": {
      "text/html": [
       "<div>\n",
       "<style scoped>\n",
       "    .dataframe tbody tr th:only-of-type {\n",
       "        vertical-align: middle;\n",
       "    }\n",
       "\n",
       "    .dataframe tbody tr th {\n",
       "        vertical-align: top;\n",
       "    }\n",
       "\n",
       "    .dataframe thead th {\n",
       "        text-align: right;\n",
       "    }\n",
       "</style>\n",
       "<table border=\"1\" class=\"dataframe\">\n",
       "  <thead>\n",
       "    <tr style=\"text-align: right;\">\n",
       "      <th></th>\n",
       "      <th>link</th>\n",
       "      <th>title</th>\n",
       "    </tr>\n",
       "  </thead>\n",
       "  <tbody>\n",
       "  </tbody>\n",
       "</table>\n",
       "</div>"
      ],
      "text/plain": [
       "Empty DataFrame\n",
       "Columns: [link, title]\n",
       "Index: []"
      ]
     },
     "execution_count": 5,
     "metadata": {},
     "output_type": "execute_result"
    }
   ],
   "source": [
    "df = pd.DataFrame(articles, columns=['link', 'title'])\n",
    "df"
   ]
  },
  {
   "cell_type": "code",
   "execution_count": 6,
   "metadata": {},
   "outputs": [],
   "source": [
    "# Sauvegarde du dataframe dans un fichier csv\n",
    "df.to_csv(f\"../data/lesoir_{time.strftime('%Y%m%d')}.csv\", index=False)"
   ]
  },
  {
   "cell_type": "markdown",
   "metadata": {},
   "source": [
    "## Téléchargement d'un article et affichage du texte"
   ]
  },
  {
   "cell_type": "code",
   "execution_count": 7,
   "metadata": {},
   "outputs": [
    {
     "ename": "IndexError",
     "evalue": "single positional indexer is out-of-bounds",
     "output_type": "error",
     "traceback": [
      "\u001b[1;31m---------------------------------------------------------------------------\u001b[0m",
      "\u001b[1;31mIndexError\u001b[0m                                Traceback (most recent call last)",
      "Cell \u001b[1;32mIn [7], line 2\u001b[0m\n\u001b[0;32m      1\u001b[0m \u001b[38;5;66;03m# Récupération du premier lien du dataframe\u001b[39;00m\n\u001b[1;32m----> 2\u001b[0m article_url \u001b[38;5;241m=\u001b[39m df\u001b[38;5;241m.\u001b[39miloc[\u001b[38;5;241m0\u001b[39m][\u001b[38;5;241m0\u001b[39m]\n\u001b[0;32m      4\u001b[0m \u001b[38;5;66;03m# Ouverture de la page\u001b[39;00m\n\u001b[0;32m      5\u001b[0m response \u001b[38;5;241m=\u001b[39m requests\u001b[38;5;241m.\u001b[39mget(article_url, headers\u001b[38;5;241m=\u001b[39mheaders)\n",
      "File \u001b[1;32mc:\\Users\\janvi\\OneDrive\\Documents\\Kisalu\\ULB-STIC\\Cours-STIC-2022-2023\\STIC-B545 - Traitement automatique de corpus\\tac\\tac_venv\\lib\\site-packages\\pandas\\core\\indexing.py:1074\u001b[0m, in \u001b[0;36m_LocationIndexer.__getitem__\u001b[1;34m(self, key)\u001b[0m\n\u001b[0;32m   1071\u001b[0m axis \u001b[38;5;241m=\u001b[39m \u001b[38;5;28mself\u001b[39m\u001b[38;5;241m.\u001b[39maxis \u001b[38;5;129;01mor\u001b[39;00m \u001b[38;5;241m0\u001b[39m\n\u001b[0;32m   1073\u001b[0m maybe_callable \u001b[38;5;241m=\u001b[39m com\u001b[38;5;241m.\u001b[39mapply_if_callable(key, \u001b[38;5;28mself\u001b[39m\u001b[38;5;241m.\u001b[39mobj)\n\u001b[1;32m-> 1074\u001b[0m \u001b[38;5;28;01mreturn\u001b[39;00m \u001b[38;5;28;43mself\u001b[39;49m\u001b[38;5;241;43m.\u001b[39;49m\u001b[43m_getitem_axis\u001b[49m\u001b[43m(\u001b[49m\u001b[43mmaybe_callable\u001b[49m\u001b[43m,\u001b[49m\u001b[43m \u001b[49m\u001b[43maxis\u001b[49m\u001b[38;5;241;43m=\u001b[39;49m\u001b[43maxis\u001b[49m\u001b[43m)\u001b[49m\n",
      "File \u001b[1;32mc:\\Users\\janvi\\OneDrive\\Documents\\Kisalu\\ULB-STIC\\Cours-STIC-2022-2023\\STIC-B545 - Traitement automatique de corpus\\tac\\tac_venv\\lib\\site-packages\\pandas\\core\\indexing.py:1626\u001b[0m, in \u001b[0;36m_iLocIndexer._getitem_axis\u001b[1;34m(self, key, axis)\u001b[0m\n\u001b[0;32m   1623\u001b[0m     \u001b[38;5;28;01mraise\u001b[39;00m \u001b[38;5;167;01mTypeError\u001b[39;00m(\u001b[38;5;124m\"\u001b[39m\u001b[38;5;124mCannot index by location index with a non-integer key\u001b[39m\u001b[38;5;124m\"\u001b[39m)\n\u001b[0;32m   1625\u001b[0m \u001b[38;5;66;03m# validate the location\u001b[39;00m\n\u001b[1;32m-> 1626\u001b[0m \u001b[38;5;28;43mself\u001b[39;49m\u001b[38;5;241;43m.\u001b[39;49m\u001b[43m_validate_integer\u001b[49m\u001b[43m(\u001b[49m\u001b[43mkey\u001b[49m\u001b[43m,\u001b[49m\u001b[43m \u001b[49m\u001b[43maxis\u001b[49m\u001b[43m)\u001b[49m\n\u001b[0;32m   1628\u001b[0m \u001b[38;5;28;01mreturn\u001b[39;00m \u001b[38;5;28mself\u001b[39m\u001b[38;5;241m.\u001b[39mobj\u001b[38;5;241m.\u001b[39m_ixs(key, axis\u001b[38;5;241m=\u001b[39maxis)\n",
      "File \u001b[1;32mc:\\Users\\janvi\\OneDrive\\Documents\\Kisalu\\ULB-STIC\\Cours-STIC-2022-2023\\STIC-B545 - Traitement automatique de corpus\\tac\\tac_venv\\lib\\site-packages\\pandas\\core\\indexing.py:1558\u001b[0m, in \u001b[0;36m_iLocIndexer._validate_integer\u001b[1;34m(self, key, axis)\u001b[0m\n\u001b[0;32m   1556\u001b[0m len_axis \u001b[38;5;241m=\u001b[39m \u001b[38;5;28mlen\u001b[39m(\u001b[38;5;28mself\u001b[39m\u001b[38;5;241m.\u001b[39mobj\u001b[38;5;241m.\u001b[39m_get_axis(axis))\n\u001b[0;32m   1557\u001b[0m \u001b[38;5;28;01mif\u001b[39;00m key \u001b[38;5;241m>\u001b[39m\u001b[38;5;241m=\u001b[39m len_axis \u001b[38;5;129;01mor\u001b[39;00m key \u001b[38;5;241m<\u001b[39m \u001b[38;5;241m-\u001b[39mlen_axis:\n\u001b[1;32m-> 1558\u001b[0m     \u001b[38;5;28;01mraise\u001b[39;00m \u001b[38;5;167;01mIndexError\u001b[39;00m(\u001b[38;5;124m\"\u001b[39m\u001b[38;5;124msingle positional indexer is out-of-bounds\u001b[39m\u001b[38;5;124m\"\u001b[39m)\n",
      "\u001b[1;31mIndexError\u001b[0m: single positional indexer is out-of-bounds"
     ]
    }
   ],
   "source": [
    "# Récupération du premier lien du dataframe\n",
    "article_url = df.iloc[0][0]\n",
    "\n",
    "# Ouverture de la page\n",
    "response = requests.get(article_url, headers=headers)\n",
    "soup = BeautifulSoup(response.text, 'html.parser')\n",
    "\n",
    "# Parsing du contenu\n",
    "title = soup.find(\"h1\").get_text(separator=' ')\n",
    "chapo = soup.find(\"r-article--chapo\").get_text(separator=' ')\n",
    "content = soup.find(\"r-article--section\").get_text(separator=' ')\n",
    "\n",
    "print(title)\n",
    "print(\"==================================\")\n",
    "print(chapo)\n",
    "print(\"==================================\")\n",
    "print(content)"
   ]
  },
  {
   "cell_type": "markdown",
   "metadata": {},
   "source": [
    "### Nettoyage du texte à l'aide d'expressions régulières"
   ]
  },
  {
   "cell_type": "code",
   "execution_count": 19,
   "metadata": {},
   "outputs": [
    {
     "name": "stdout",
     "output_type": "stream",
     "text": [
      "  V ladimir Poutine a dit mercredi que les sanctions internationales visant Moscou pour son offensive en Ukraine « peuvent » avoir des conséquences « négatives » à « moyen terme » sur l’économie nationale, après avoir pourtant vanté ces derniers mois l’adaptation de la Russie face à cette nouvelle conjoncture.                function get_dtkCxSegments() { if ('cxSegments' in localStorage) { /* Récupération de cxSegments + initialisation de variables destinées à en limiter la longueur */ let cx = localStorage.getItem(\"cxSegments\"), valueCx = cx.split(\",\"), valueCxLimited = [], charLength = 0, limit = 2000; /* Limitation de la longueur de la chaine de caractère */ for (var i = 0; i < valueCx.length; i++) { charLength = charLength + valueCx[i].length; if (charLength <= limit) { valueCxLimited.push(valueCx[i]); } } return valueCxLimited; } else { return false; } } window.dtkCxSegments = window.dtkCxSegments || get_dtkCxSegments(); var dtkEmbed = document.currentScript.parentNode; var dtkIframe = dtkEmbed.querySelector(\".dmp-digiteka-eaf2771c02cfd8f4b8d8d3f51a123547\").content.cloneNode(true); dtkIframe = dtkIframe.querySelector('iframe'); var dtkUrl = new URL(dtkIframe.dataset.src); var tagparamValue = (dtkUrl.searchParams.get(\"tagparam\")) ? dtkUrl.searchParams.get(\"tagparam\") + \"&CxSegments=\" + window.dtkCxSegments : \"CxSegments=\" + window.dtkCxSegments; if (window.dtkCxSegments) dtkUrl.searchParams.set('tagparam', tagparamValue); dtkIframe.dataset.src = dtkUrl.toString(); dtkEmbed.appendChild(dtkIframe);      « Les sanctions imposées à l’économie russe à moyen terme peuvent vraiment avoir un impact négatif sur celle-ci », a mis en garde le président russe lors d’une réunion avec le gouvernement, retransmise à la télévision. C’est la première fois que Vladimir Poutine admet publiquement que la pluie de sanctions internationales, qui touchent de nombreux secteurs de l’activité russe dont celui stratégique des hydrocarbures, affecte l’économie nationale. Plus d’un après le déclenchement de l’offensive en Ukraine, « le chômage est à son niveau le plus bas », à 3,6 %, et « fin mars, l’inflation va tomber en dessous des 4 % », après avoir flambé à près de 20 % au printemps dernier, a déclaré M. Poutine. « Mais cela ne veut pas dire que tous les problèmes ont déjà été résolus », a-t-il averti face aux membres de son gouvernement.   Le retour à une trajectoire de croissance ne doit pas nous faire se relâcher   « Le retour à une trajectoire de croissance ne doit pas nous faire se relâcher », a-t-il encore appuyé dans un rare réquisitoire, appelant à « garantir la souveraineté économique » de la Russie. M. Poutine a ainsi réclamé au gouvernement et aux dirigeants économiques d’« assurer le lancement rapide de nouveaux projets dans les industries manufacturières, en particulier dans la production de produits de haute technologie », un secteur frappé par le départ de nombreux spécialistes à l’étranger. « Notre système financier devrait jouer un rôle important pour répondre aux besoins des exportateurs. Et nous devons remplacer les entreprises occidentales qui travaillaient dans ce créneau », a-t-il encore demandé.  Dépendance grandissante de Moscou vis-à-vis de Pékin  Ces propos de Vladimir Poutine interviennent une semaine après un sommet à Moscou avec son homologue chinois, Xi Jinping, lors duquel les deux dirigeants ont dit vouloir « approfondir » les relations économiques russo-chinoises. Mais de nombreux observateurs y ont vu un signe de la dépendance grandissante de Moscou vis-à-vis de Pékin, dont l’économie a largement capté les exportations de gaz et de pétrole russe, visées par les sanctions des Occidentaux.           À lire aussi   Visite de Xi Jinping en Russie: le baiser de la mort pour Vladimir Poutine?     \n",
      "   Si ces nouveaux débouchés ont permis à la Russie de compenser en partie les marchés perdus en Europe, sa dépendance envers les poids lourds asiatiques permet en effet à la Chine et à l’Inde d’être en position de force et de négocier les prix à la baisse.\n",
      "==================================\n",
      " V ladimir Poutine a dit mercredi que les sanctions internationales visant Moscou pour son offensive en Ukraine « peuvent » avoir des conséquences « négatives » à « moyen terme » sur l’économie nationale, après avoir pourtant vanté ces derniers mois l’adaptation de la Russie face à cette nouvelle conjoncture. function get_dtkCxSegments() { if { /* Récupération de cxSegments + initialisation de variables destinées à en limiter la longueur */ let cx = localStorage.getItem , valueCx = cx.split , valueCxLimited = [], charLength = 0, limit = 2000; /* Limitation de la longueur de la chaine de caractère */ for { charLength = charLength + valueCx[i].length; if { valueCxLimited.push ; } } return valueCxLimited; } else { return false; } } window.dtkCxSegments = window.dtkCxSegments || get_dtkCxSegments(); var dtkEmbed = document.currentScript.parentNode; var dtkIframe = dtkEmbed.querySelector .content.cloneNode ; dtkIframe = dtkIframe.querySelector ; var dtkUrl = new URL ; var tagparamValue = ) ? dtkUrl.searchParams.get + \"&CxSegments=\" + window.dtkCxSegments : \"CxSegments=\" + window.dtkCxSegments; if dtkUrl.searchParams.set ; dtkIframe.dataset.src = dtkUrl.toString(); dtkEmbed.appendChild ; « Les sanctions imposées à l’économie russe à moyen terme peuvent vraiment avoir un impact négatif sur celle-ci », a mis en garde le président russe lors d’une réunion avec le gouvernement, retransmise à la télévision. C’est la première fois que Vladimir Poutine admet publiquement que la pluie de sanctions internationales, qui touchent de nombreux secteurs de l’activité russe dont celui stratégique des hydrocarbures, affecte l’économie nationale. Plus d’un après le déclenchement de l’offensive en Ukraine, « le chômage est à son niveau le plus bas », à 3,6 %, et « fin mars, l’inflation va tomber en dessous des 4 % », après avoir flambé à près de 20 % au printemps dernier, a déclaré M. Poutine. « Mais cela ne veut pas dire que tous les problèmes ont déjà été résolus », a-t-il averti face aux membres de son gouvernement. Le retour à une trajectoire de croissance ne doit pas nous faire se relâcher « Le retour à une trajectoire de croissance ne doit pas nous faire se relâcher », a-t-il encore appuyé dans un rare réquisitoire, appelant à « garantir la souveraineté économique » de la Russie. M. Poutine a ainsi réclamé au gouvernement et aux dirigeants économiques d’« assurer le lancement rapide de nouveaux projets dans les industries manufacturières, en particulier dans la production de produits de haute technologie », un secteur frappé par le départ de nombreux spécialistes à l’étranger. « Notre système financier devrait jouer un rôle important pour répondre aux besoins des exportateurs. Et nous devons remplacer les entreprises occidentales qui travaillaient dans ce créneau », a-t-il encore demandé. Dépendance grandissante de Moscou vis-à-vis de Pékin Ces propos de Vladimir Poutine interviennent une semaine après un sommet à Moscou avec son homologue chinois, Xi Jinping, lors duquel les deux dirigeants ont dit vouloir « approfondir » les relations économiques russo-chinoises. Mais de nombreux observateurs y ont vu un signe de la dépendance grandissante de Moscou vis-à-vis de Pékin, dont l’économie a largement capté les exportations de gaz et de pétrole russe, visées par les sanctions des Occidentaux. À lire aussi Visite de Xi Jinping en Russie: le baiser de la mort pour Vladimir Poutine? Si ces nouveaux débouchés ont permis à la Russie de compenser en partie les marchés perdus en Europe, sa dépendance envers les poids lourds asiatiques permet en effet à la Chine et à l’Inde d’être en position de force et de négocier les prix à la baisse.\n"
     ]
    }
   ],
   "source": [
    "# Suppression de tout ce qui se trouve entre parenthèses\n",
    "clean_content = re.sub(\"\\([^\\)]+\\)\", \" \", content)\n",
    "# Suppression des espaces multiples\n",
    "clean_content = re.sub(\"\\s+\", \" \", clean_content)\n",
    "\n",
    "print(content)\n",
    "print(\"==================================\")\n",
    "print(clean_content)\n"
   ]
  },
  {
   "cell_type": "markdown",
   "metadata": {},
   "source": [
    "### Création d'un fichier avec le contenu de l'article\n"
   ]
  },
  {
   "cell_type": "code",
   "execution_count": 20,
   "metadata": {},
   "outputs": [],
   "source": [
    "with open(\"../data/lesoir_example.txt\", \"w\") as writer:\n",
    "    writer.write(f\"{title}\\n\\n{chapo}\\n\\n{clean_content}\")"
   ]
  },
  {
   "cell_type": "markdown",
   "metadata": {},
   "source": [
    "## Pour en savoir plus"
   ]
  },
  {
   "cell_type": "markdown",
   "metadata": {},
   "source": [
    "- Le web scraping avec Python: https://realpython.com/beautiful-soup-web-scraper-python/\n",
    "- Tutoriel sur les expressions régulières: https://www.w3schools.com/python/python_regex.asp"
   ]
  }
 ],
 "metadata": {
  "kernelspec": {
   "display_name": "tac_venv",
   "language": "python",
   "name": "python3"
  },
  "language_info": {
   "codemirror_mode": {
    "name": "ipython",
    "version": 3
   },
   "file_extension": ".py",
   "mimetype": "text/x-python",
   "name": "python",
   "nbconvert_exporter": "python",
   "pygments_lexer": "ipython3",
   "version": "3.10.7"
  }
 },
 "nbformat": 4,
 "nbformat_minor": 4
}
