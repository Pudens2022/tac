{
 "cells": [
  {
   "cell_type": "markdown",
   "metadata": {},
   "source": [
    "# Word Embeddings : le modèle Word2Vec"
   ]
  },
  {
   "cell_type": "markdown",
   "metadata": {},
   "source": [
    "## Imports"
   ]
  },
  {
   "cell_type": "code",
   "execution_count": 1,
   "metadata": {},
   "outputs": [],
   "source": [
    "import sys\n",
    "\n",
    "from gensim.models.phrases import Phrases, Phraser\n",
    "from gensim.models import Word2Vec\n",
    "\n",
    "import nltk\n",
    "from nltk.tokenize import wordpunct_tokenize\n",
    "from unidecode import unidecode"
   ]
  },
  {
   "cell_type": "markdown",
   "metadata": {},
   "source": [
    "## Chargement et traitement des phrases du corpus"
   ]
  },
  {
   "cell_type": "markdown",
   "metadata": {},
   "source": [
    "### Création d'un objet qui *streame* les lignes d'un fichier pour économiser de la RAM"
   ]
  },
  {
   "cell_type": "code",
   "execution_count": 2,
   "metadata": {},
   "outputs": [],
   "source": [
    "class MySentences(object):\n",
    "    \"\"\"Tokenize and Lemmatize sentences\"\"\"\n",
    "    def __init__(self, filename):\n",
    "        self.filename = filename\n",
    "\n",
    "    def __iter__(self):\n",
    "        for line in open(self.filename, encoding='utf-8', errors=\"backslashreplace\"):\n",
    "            yield [unidecode(w.lower()) for w in wordpunct_tokenize(line)]"
   ]
  },
  {
   "cell_type": "code",
   "execution_count": 3,
   "metadata": {},
   "outputs": [],
   "source": [
    "infile = f\"../data/sents.txt\"\n",
    "sentences = MySentences(infile)"
   ]
  },
  {
   "cell_type": "markdown",
   "metadata": {},
   "source": [
    "### Détection des bigrams\n",
    "\n",
    "Article intéressant sur le sujet : https://towardsdatascience.com/word2vec-for-phrases-learning-embeddings-for-more-than-one-word-727b6cf723cf"
   ]
  },
  {
   "cell_type": "code",
   "execution_count": 4,
   "metadata": {},
   "outputs": [],
   "source": [
    "bigram_phrases = Phrases(sentences)"
   ]
  },
  {
   "cell_type": "markdown",
   "metadata": {},
   "source": [
    "L'object `phrases` peut être vu comme un large dictionnaire d'expressions multi-mots associées à un score, le *PMI-like scoring*. Ce dictionnaire est construit par un apprentissage sur base d'exemples.\n",
    "Voir les références ci-dessous :\n",
    "- https://arxiv.org/abs/1310.4546\n",
    "- https://en.wikipedia.org/wiki/Pointwise_mutual_information"
   ]
  },
  {
   "cell_type": "code",
   "execution_count": 5,
   "metadata": {},
   "outputs": [
    {
     "data": {
      "text/plain": [
       "dict"
      ]
     },
     "execution_count": 5,
     "metadata": {},
     "output_type": "execute_result"
    }
   ],
   "source": [
    "type(bigram_phrases.vocab)"
   ]
  },
  {
   "cell_type": "markdown",
   "metadata": {},
   "source": [
    "Il contient de nombreuses clés qui sont autant de termes observés dans le corpus"
   ]
  },
  {
   "cell_type": "code",
   "execution_count": 6,
   "metadata": {},
   "outputs": [
    {
     "data": {
      "text/plain": [
       "5902294"
      ]
     },
     "execution_count": 6,
     "metadata": {},
     "output_type": "execute_result"
    }
   ],
   "source": [
    "len(bigram_phrases.vocab.keys())"
   ]
  },
  {
   "cell_type": "markdown",
   "metadata": {},
   "source": [
    "Prenons une clé au hasard :"
   ]
  },
  {
   "cell_type": "code",
   "execution_count": 7,
   "metadata": {},
   "outputs": [
    {
     "name": "stdout",
     "output_type": "stream",
     "text": [
      "(\n"
     ]
    }
   ],
   "source": [
    "key_= list(bigram_phrases.vocab.keys())[200]\n",
    "print(key_)"
   ]
  },
  {
   "cell_type": "markdown",
   "metadata": {},
   "source": [
    "Le dictionnaire indique le score de cette coocurrence :"
   ]
  },
  {
   "cell_type": "code",
   "execution_count": 8,
   "metadata": {},
   "outputs": [
    {
     "data": {
      "text/plain": [
       "123462"
      ]
     },
     "execution_count": 8,
     "metadata": {},
     "output_type": "execute_result"
    }
   ],
   "source": [
    "bigram_phrases.vocab[key_]"
   ]
  },
  {
   "cell_type": "markdown",
   "metadata": {},
   "source": [
    "Lorsque l'instance de `Phrases` a été entraînée, elle peut concaténer les bigrams dans les phrases lorsque c'est pertinent."
   ]
  },
  {
   "cell_type": "markdown",
   "metadata": {},
   "source": [
    "### Conversion des `Phrases` en objet `Phraser`\n",
    "\n",
    "`Phraser` est un alias pour `gensim.models.phrases.FrozenPhrases`, voir ici https://radimrehurek.com/gensim/models/phrases.html.\n",
    "\n",
    "Le `Phraser` est une version *light* du `Phrases`, plus optimale pour transformer les phrases en concaténant les bigrams."
   ]
  },
  {
   "cell_type": "code",
   "execution_count": 9,
   "metadata": {},
   "outputs": [],
   "source": [
    "bigram_phraser = Phraser(phrases_model=bigram_phrases)"
   ]
  },
  {
   "cell_type": "markdown",
   "metadata": {},
   "source": [
    "Le `Phraser` est un objet qui convertit certains unigrams d'une liste en bigrams lorsqu'ils ont été identifiés comme pertinents."
   ]
  },
  {
   "cell_type": "markdown",
   "metadata": {},
   "source": [
    "### Extraction des trigrams"
   ]
  },
  {
   "cell_type": "markdown",
   "metadata": {},
   "source": [
    "Nous répétons l'opération en envoyant cette fois la liste de bigrams afin d'extraire les trigrams."
   ]
  },
  {
   "cell_type": "code",
   "execution_count": 10,
   "metadata": {},
   "outputs": [],
   "source": [
    "trigram_phrases = Phrases(bigram_phraser[sentences])"
   ]
  },
  {
   "cell_type": "code",
   "execution_count": 11,
   "metadata": {},
   "outputs": [],
   "source": [
    "trigram_phraser = Phraser(phrases_model=trigram_phrases)"
   ]
  },
  {
   "cell_type": "markdown",
   "metadata": {},
   "source": [
    "### Création d'un corpus d'unigrams, bigrams, trigrams"
   ]
  },
  {
   "cell_type": "code",
   "execution_count": 12,
   "metadata": {},
   "outputs": [],
   "source": [
    "corpus = list(trigram_phraser[bigram_phraser[sentences]])"
   ]
  },
  {
   "cell_type": "code",
   "execution_count": 13,
   "metadata": {},
   "outputs": [
    {
     "name": "stdout",
     "output_type": "stream",
     "text": [
      "[['fftn', 've', 'ndredi', '\\\\-', 'j', 'mars_1929', 'ejfttua', 'j', ',', 's', 'louruaus', 'da', 'l', \"'\", 'a', 'i', 'llitl', '11', ':', 'p', '^,', 'a', 'e', '-*', 'aa', '-', 'herjea', '-', 'poti', '^', 'or4w', '.'], ['bruxelle', '.'], ['*', 'j', '.'], ['...', 'ini', '-', 'lliwi', '.'], ['...', '<<', 'x3', '.', 'nv', 'ijaiu', '0', \"*'\", '*>>', ',,,,', 't', '**.'], ['abunn', '\"', '.'], ['<<', 'v3', '.', 'wi', '30_centimes', 'le', 'numero', 'jls', '-', 'clitjiori', '.'], ['*', '40', '(tm)_annee', 'n', 'deg', '60', '{^', 'ajt', '.', 'pluqb', '.'], ['1', '*', '11', 'br', '>>', 'bmieu', '.', 'l', '.'], ['tejoawkmknrtje', '.'], ['iovj', 'luiea', '.'], ['68', '.', '00', '<<', 'muis', '.', '83', '.', '00', ';', '3', 'mois', '.'], ['19', '.', '00', '\"', 'l', 'ua', 'an', '.'], ['i', '10', '\"#*;', '6', 'm', '.', '60', 'fr', '.'], [';', 's', 'ai', '.'], ['30', '(', 'r', '.', '0', ';', 'a', \"'\", 'uieaiu', 'conventions_postales', '.'], ['titlsh', '.'], ['edit', '>>>>.'], ['22_h', '.', 'edit', '*', 'lh', '.', 'm', '.'], ['r', '^?'], ['voiatt', 'aaus', 'm', '*', 'i', 'patriote_illustre', 'de', 'cette_semaine', 'la', 'vague', 'de', 'froid', 'dens', 'le', 'p', '<<', 'us', 'et', 'a', 'i', \"'\", 'i', '-', 'trtikier', 'le', '3', '?'], ['centenaire', 'de', 'jeanne', 'd', \"'\", 'arc', 'un', 'accident', 'd', 'aviation', 'au_congo', 'le', 'leleclnerma', 'ou', 'transmission', 'par', 't', '.', 's', '.', 'f', '.'], ['des', 'lmaf', '.', 'es', 'animets', 'l', '--', '>>->>--', '**>-*-', 'partout', '1', 'lr', '.'], ['le', 'numero', 'b', 's6ci1usl', '!#', 'et', 'p0plar1sme', 'h', '.', 'l', 'correspondant', 'partculicr', ')', 'londres', ',', '25_fevrier', 'a', 'affirmant_que', 'la', 'cite', 'par', '-', 'dans', 'les', 'eieux', ',', 'n', \",'\", 'a', 'pas', 'exasperer', 'les', 'demagogues', 'de', 'mais', 'simplement', 'a', 'excuser', 'ctious', 'de', 'sa_propre', 'cite', 't', 'il', 'a', 'tant', 'reve', '.'], ['11', 'est', 'des', 'le', 'monde', 'qui', 'ue', 'prati', '-', 'i', \"'\", 'tine', 'philosophie', 'aussi', 'binn', '-', '#', 'nee', 'd', \"'\", 'avance', ';', 'ils', 'procla', '-', 'tontraire', 'leur_volonte', 'de', 'faire', 'lia', 'cite', 'ideale', 'sur', 'terre', 'et', 'melees', 'uns', 'preteudeut', 'eu', 'avoir', '#', 's', 'pas', 'les', 'leninistes', ',', 'dont', 'la', 'de', 'savon', 'a', 'creve', 'sur', 'les', 'te', '-', '.'], ['les', 'soviets', ',', 'ni', 'les', 'conimu', '-', 'itles', 'eldcubrations', 'effrayent', 'socialistes', '.'], ['qu', \"'\", 'il', 'soit', 'per', '-', 'propos', ',', 'de', 'faire_allusion', 'a', '[', 'm', 'poplansrr', '.', 'e', '.'], ['stune', 'commune', 'de', '-', 'londres', 'ime', 'la', 'realisation', 'd', \"'\", 'une', 'programme', 'socialiste', '.'], ['le', \"'\", 'ces', 'est', 'divise', 'en', '.'], ['un', 'cer', '-', 'd', \"'\", 'entites', 'administratives', ',', '--', 'qui', 'prevoient', 'le', 'budget', '[', 'fuient', 'le', 'montant', 'des', 'taxes', ',', 'it', 'et', 'font', 'des', 'dettes', '1', 'ne', 'que', 'le', 'poplarisme', 'se', 'soit', 'cette_derniere', 'fonction', '.'], ['la', 'ire', 'a', 'poplar', 'fut', 'la', '-', 'distribu', '-', 'tnns', 'publics', 'et', 'l', \"'\", 'utilisation', 'hoblic', '.'], ['ifoplar', '>', 'et', 'c', 'poplarismei', 'frequemment', 'au_cours', 'de', 'campagne_electorale', ';', 'il', 'd', \"'\", 'en', 'dire', 'quelques_mots', '.'], ['s', 'iete', 'de', '1s32', 'sur', 'les', 'abus', 'icommunal', 'd', \"'\", 'alors', ',', 'lord', 'al', '-', 'ipresentant', 'le', 'projet', 'de', 'loi', ',', 'partialite', ',', 'de', 'manque', 'd', \"'\", 'es', '-', \"'\", 'pendance', ',', 'de', 'paresse', ',', 'd', \"'\", 'im', '-', 't', ',', 'de', 'degradation', 'des', 'carac', '-', 'ini3vai', '>', 'e', 'administration', ',', 'et', 'tl', '>>', 'necessite', 'de', 'diminuer', 'les', 'iistifiables', 'pesant', 'sur', 'les', 'a', '.'], ['a', 'pres', 'de', 'cent_ans', 'de', 'splar', ',', 'c', \"'\", 'est', 'encore', 'cela', '.'], ['r', \"&'\", 'a', 'pas', 'craint', 'de', 'reconnaf', '-', 'k3', 'homme', 'ne_peut_manquer', 'pt', 'necessaire', 'a', 'la', 'vie', ';', 'eepen', '-', 'it', '-', 'il', ',', 'celui', 'qui', 'a', 'besoin', 'de', 'je', 'contenter', 'de', 'l', \"'\", 'aide', 'la', '-', 'jiriee', 'an', 'bien', 'general', ',', 'et', 'ine', 'pourra', 'provoquer', 'l', \"'\", 'en', '-', \"'\", 'r', ',', 'travaillant', 'pour', 'vivre', ',', 'ie', ',', 'au_contraire', ',', 'professe', 'meme', 'chomeur', ',', 'a', 'in', 'salaire', 'que', 'son', 'syndi', '-', 'rine', ';', 'en', 'second', 'lien', ',', 'que', 'rir', 'de', 'procurer', 'du', 'tra', '-', 'plutot', 'que', 'ce_dernier', 'd', \"'\", 'en', 'chercher', '-', 'socialiste', 'de', 'poplar', 'du', '-', 'lieaas', 'environ', 'et', 'elle', 'semble', 'meme', 'dans', 'ce', 'quartier', 'de', '|', '4', 'modestie', 'de', 'platon', 'serait', 'de', 'saison', ',', '.', 'roplar', 'distribue', '689', ',', '750', 'li', '-', 'jtrme', 'de', 'e', 'out', '-', 'relief', '*,', 'et', 'entier', '623', ',', '000_livres', 'en', '(', 'wjet', 'de', 'la', 'bienfaisance', 'de', 'iduffre', 'par', '3', ',', '502', ',', '000_livres', 'de', 'poplar', 'seul', 'par', '2', 'mil', '-', 'davey', ',', 'dans', 'nn', 'recent', 'fctre', 'que', 'la', 'proportion', 'd', \"'\", 'in', '-', 'ul', '-', 'tp', \"'.\", 'ar', ',', 'en', '1s91', ',', 'n', \"'\", 'est', 'pas', 'dif', '-', 'ic', ',', 'icelle', 'de', 'londres', ';', 'mais', 'a', 'fr', '.'], ['*', 'i', ';', 'le', 'pauperisme', 'n', \"'\", 'a', 'cesse', '\"<', 'g', 'ipoplar', '.'], ['jj', 'deg', 'h', 'i', 'lansbury', ',', 'qui', 'y', 'a', 'intro', '-', 'tsoif', '.'], ['^', 'e', 'socialiste', 'et', 'qui', 'a', 'son', '__*', '2', '!'], ['-', 'ans', 'l', \"'\", 'administration', ',', 'se', 'tu', 'bf', 'en_declarant', 'que', 'dans', '*', 'tt', 'l', \"'\", 'indigence', 'est', 'nn', 'mal', '-', '#', 'jjh', 'table', '?'], ['poplar', ',', 'pres', 'des', 'ntue', '>', 'travail', 'a', 'sa', 'porte', ',', 'tandis', 'enjj', '<<', 'lia', 'de', 'fulham', ',', 'tout', 'aus', '-', '-', 't', '-', 'a', 't', '.', '01', 'ta', 'chercher', 'fort', 'loin', '.', '!'], ['--', 'i', '\",', 'an', 'lieu', 'de', 'recourir', 'au', 'o', '.<<', '3j', 'dicommon', 'poor', 'fund', '>>,', '<<', 'g', \"'.\"], ['*', \"'<<\", 'rsement', 'de', '5', ',', '000_livres', ',', '8i', '~', '!'], ['<<', 'preleve', '500', ',', '000_livres', 'joao', '*>', 'sortalite', 'dans', 'cette', 'der', '-', '-\"#\"', 'jj', ':', 'i', ':', '<<,', 'atteint', 'i2', ',', 'i', 'contre', 'n', '.', 'r', 'ii', '.<*', \"*','*'\", \"'*\", 'sacrifice', 'pecunier', 'ices', 'resultats', ',', 'represente', '*', 'e', 'a', 'fnlham', ',', 'et', 'a', 'poplar', '*.', 'od', '.', \"'\"], ['<<', 'orale', 'de', 'l', \"'\", 'ouvrier', 'hon', '-', '*', 'e', 'travail', 'est', 'evidemment', 'tponr', 'la', 'soulager', ',', 'il', 'n', \"'\", 'est', '<<', 'fj', '(tm)^', 'qu', \"'\", 'on', 'ne', 'soit', 'pret', 'a', ';', 'nt', '.'], ['deg?', 'ej', '<', 'j', '--', 'n', 'est', 'necessaire', 'que', 'les', 'n', 'a', 'ceux_qui', 'en', 'ont', 'vrai', '-', '#', 'a', 'bermondsey', ',', 'que', 'le', 'po', '-', 'h7ktknut', '\\\\', 'um', 'plansme', 'a', 'gagne', 'comme', 'plusieurs_autres', 'e', 'borouglis', '*', 'de', 'la', 'metropole', ',', 'un', 'ouvrier', 'travaillant', 'un', 'jour', 'par', 'semaine', 'touche', '39', 'sh', '.'], ['2', 'd', '.', 'd', \"'\", 'indemnite', 'de', 'chomage', ',', 'exactement', 'comme', 'celui', 'qui', 'a', 'travaille', 'deux_jours', '.'], ['il_y', 'a', 'malheureusement', 'des', 'malins', 'qui_exploitent', 'la', 'situation', '.'], ['dans', 'une', 'famille', 'de', '5', 'personnes', ',', 'dont', '4', 'travaillent', ',', 'gagnant', 's', 'livres', 'is', 'sh', '.,', 'un', 'des', 'fils', 'touche', 'une', 'pension', 'militaire', 'dc', '12', 'sh', '.'], ['par', 'semaine', 'et', 'il', 'a', 'reussi', 'a', 'se', 'faire', 'octroyei', 'nu', 'subside', 'supplemen', '-,', 'taire', 'de', 's', 'sh', '.'], ['ces', 'abus', 'particuliers', 'n', \"'\", 'auraient_pas', 'grandes', 'consequences', ',', 's', \"'\", 'ils', 'n', \"'\", 'etaient', 'si', 'nombreux', 'et', 'eu', 'quelque_sorte', 'dans', 'l', \"'\", 'esprit', 'meme', 'dc', 'la', 'theorie', '<<', 'poplaris', '-', 'te', '>>.'], ['dans', 'les', 'circonstances', 'ou', 'celle', '-', 'ci', 'inculque', 'une', 'morale', 'nouvelle', ',', 'le', 'danger', 'devient', 'grave', ';', 'une', 'vieille', 'grand', \"'\", 'mere', 'recoit', '12', 'sh', 'par', 'semaine', ',', 'alors', 'que', 'son_fils', 'age', 'de', '16', 'ans', 'gagne', '4', 'livres', '7', 'sh', ';.'], ['voici', 'donc', 'nu', 'enfant', 'avec', 'un', 'salaire', 'plantureux', 'dispense', 'publiquement', 'dc', 'soutenir', 'sa', 'vieille', 'grand', \"'\", 'me', '-', 're', 'dans', 'le', 'besoin', '!'], ['des', 'considerations', 'd', \"'\", 'ordre_financier', 'que', 'les', 'candidats', 'aux_communes', 'feront', 'valoir', 'aupres', 'des', 'electeurs', 'et', 'des', 'electriecs', 'vont', 'certainement', 'decider', 'du', 'sort', 'de', 'la', 'majorite_actuelle', '.'], ['aussi', 'ne', 'trouve', '-', 't', '-', 'on', 'plus', 'que', 'de', 'rares', 'apologistes', 'de', 'poplar', ',', 'meme', 'parmi_les', 'travaillistes', '.'], ['j', '.', 'netson', '.'], ['menus_propos', 'les', 'bonnes', 'lois', 'ront', 'les', 'bonnes', 'koeurs', 'ou', 'appelle', 'moralite', 'le', 'petit', 'boutaient', 'qu', \"'\", 'a', 'tort', 'ou', 'a', 'raison', 'ion', 'tait', 'decouler', '(', 'l', \"'\", 'une', 'fable', '.'], ['ou', 'appelle', 'encore', 'ainsi', 'le', 'niveau', 'courant', 'des', 'moeurs', ',', 'ou', 'l', \"'\", 'on', 'use', 'aussi', '<_ju', 'tenue', 'morale', '>>.'], ['mais', ',', 'dans', 'leur', 'sens_profond', ',', 'moralite', 'marque', 'ia', 'qualite', 'de', 're', 'q', ';:', 'i', 'est', 'moral', ':', 'morale', ',', 'l', \"'\", 'ensemble', 'des', 'lois', '<', 'rul', 'constituent', 'la', 'bonne_conduite', ',', 'la', 'publique', 'et', 'la', 'privee', 'si', 'l', \"'\", 'on', 'aime_mieux', ',', 'les', 'bonnes_moeurs', '.'], ['dans', 'ce', 'sens_profond', ',', 'la', 'morale', 'ne', 'varie', 'pas', '.'], ['la', 'morale', 'de', 'l', \"'\", 'occident', ',', 'c', \"'\", 'ait', ',', 'au_fond', '.'], ['la', 'morale_chretienne', ',', 'savoir', 'la', 'morale_naturelle', 'amenee', 'k', 'son', 'point', 'de', 'perlectiou', '.'], ['les', 'saints', 'du', 'christianisme', 'l', \"'\", 'ont', 'portee', 'aussi', 'haut', 'que', 'le', 'peut', 'la', 'nature_humaine', '.'], ['ce', 'sont', 'des', 'heros', 'spirituels', ',', 'des', 'surhommes', 'moralement', ',', 'des', 'sortes', 'de', 'demi', '-', 'dieux', 'pour', 'e', 'servir', 'd', \"'\", 'une', 'terminologie', 'paienne', '.'], ['pour', 'les', 'moeurs', 'du', 'commun', ',', 'la', 'morale', 'appliquee', 'donc', 'et', 'courante', ',', 'elle', 'varie', 'avec', 'les', 'epoque', '*.'], ['les', 'ages', 'da', 'l', \"'\", 'humanite', 'montent', 'et', 'descendent', 'devant', 'une', 'mesure', 'eu', 'jours', '.', 'a', 'un', 'me', '.'], ['c', \"'\", 'est', 'bien', 'l', \"'\", 'immutabilite', 'de', 'celte', 'mesure', 'qui', 'permet', 'l', \"'\", 'evaluation', 't', \"'\", 'es', 'montees', 'et', 'des', 'descentes', '.'], ['tant', 'vaut', 'moralement', 'un', 'tempe', ',', 'tant', 'vaut', '-', 'il', 'comme', 'rendement', 'social', 'et', '-', 'spirituel', '.'], ['la', 'legerete', 'des', 'gens', 'qnl', 'font', 'contusion', 'en', '-', 're', '1e', 'sens_profond', 'et', 'le', 'sens', 'vulpaire', 'de', '*>>', 'mot', '>>,', 'permet', 'seule', 'qu', \"'\", 'us_parlent', 'd', \"'\", 'evolution', 'morale', '.'], ['la', 'perfection', 'k', 'attelntdre', 'est', 'la', 'meme', 'eternellement', 'pour', 'chaque', 'homme', ',', 'chaque_peuple', ',', 'chaque', 'age', '.'], ['les', 'dispositions', 'a', 'y', 'atteindre', 'font', 'la', 'valeur', 'de', 'l', \"'\", 'homme', ',', 'du', 'peuple', ',', 'du', 'temps', '.'], ['leurs_efforts', 'aussi', '.'], ['comme', 'aide', 'a', 'ces_efforts', ',', 'les', 'moyens', '.'], ['st', 'platon', 'exile', 'les', 'poetes', ',', 'c', \"'\", 'est', 'un', 'raoyean', 'de', 'moralisa', '-', 'tlom', '.'], ['la', 'censure', 'en', 'etait', 'un', 'autre', '.'], ['le', 'reproche', 'fonde', 'a', 'lui', 'faire', ',', 'c', \"'\", 'est', 'que', 'cette_institution', 'a', 'parfois', 'deraille', 'de', 'sa', 'vraie', 'role', '.', 'qu', \"'\", 'on', 'en', 'a', 'use', 'dans', 'certaines_circonstances', ',', 'sans', 'esprit', ',', 'sans', 'souplesse', ',', 'sans', 'nuanceraient', '.'], ['on', 'trouve', 'pour', 'les', 'meiteures', 'choses', 'de', 'ces', 'mesusages', '.', 'la', 'facon', 'sotte', 'dont', 'on', 'nous', 'mesu', '-', 'sor', '.', 's', 'de', 'la', 'democratie', 'et', 'du', 'parlementarisme', 'en', 'est', 'un', 'eclatant', 'exemple', '.'], ['ce', 'n', \"'\", 'est', 'point', 'raison', 'qu', \"'\", 'on', 'les', 'supprime', '.'], ['ainsi', 'pour', 'la', 'morale', '.'], ['ainsi', 'pour', 'la', 'censure', 'ou', 'autre', 'moy', '<<?', 'n', 'efficace', 'qui', 'en', 'tiendrait', 'lieu', ',', 'ou', 'ca', 'mot', 'effraie', '.'], ['ou', '11_faut', 'surtout', 'des', 'lois', 'strictes', 'k', '-', 'strictement', 'observer', ',', 'c', \"'\", 'est', 'en', \"'\", 'democratie', '.'], ['le', 'peuple', 'est', 'un', 'grand', 'enfant', '.'], ['ou', '11', 's', \"'\", 'evade', 'de', 'l', \"'\", 'age', 'puertj', ',', 'il', 'cesse', 'd', \"'\", 'etre', 'peuple', '.'], ['on', 'inculque', 'de', 'bonnes_moeurs', 'avec', 'do', 'bonnes', 'reffle', '-', 'mantitlons', '.'], ['si', 'les', 'vieillards', 'dirigent', ',', 'l', \"'\", 'education', 'des', 'enfants', ',', 'par', 'exces', 'de', 'bonte', '.'], ['ils', 'les', 'devoyant', '.'], ['nous_sommes', 'regis_par', 'des', 'institutions', 'senlles', 'et', 'beaucoup', 'de', 'gens', 'qui', 'pretendent', 'a', 'en', 'user', 'pour', 'nous', 'gouverner', ',', 'presentent', 'tous', 'les', 'caracteres', 'de', 'la', 'senilite', '.'], ['lois', 'seniles', ',', 'gouvernements', 's', '^', 'niles', '.'], ['c', \"'\", 'est', '-', 'la', 'pente', 'raide', 'vers', 'les', 'pires', 'decadences', '.'], ['si', 'ton', 'ne_peut', 'guere', 'remedier', 'vls', '-', 'i', '-', 'vis', 'de', 'ja', 'senilite', 'des', 'gens', ',', 'on', 'le', 'peut', 'pour', 'les', 'lois', 'et', 'ce', 'sont', 'les', 'fortes', 'lois', 'qui', 'feront', 'des', 'generations', 'fortes', ',', '*', 'll', 'planeur', '.'], ['apres', 'le', 'reglement', 'de', 'la', 'question', 'romaine', 'un', 'des', 'grands_chefs', 'fascistes', 'chez', 'le', 'cardinal', 'gas', '-', 'parri', 'rome', '.'], ['27', '.'], ['--', 'm', '.', 'de', 'vecchi', '.'], ['qui', 'fut', 'l', \"'\", 'un', 'des', 'auadrlumvirs', 'de', 'la', 'marche', 'fasciste', 'sur', 'rome', ',', 'puis', 'pouverueur', 'de', 'la', 'somalie', 'et', 'oui', 'est', 'maintenant', 'ministre', 'd', \"'\", 'etat', 'et', 'membre', 'du', 'conseil_fasciste', ',', 's', \"'\", 'est_rendu', 'ce_matin', 'au', 'vatican', 'ou', 'il', 'a', 'eu', 'un', 'ions', 'entretien_avec', 'le', 'cardinal', 'gaspard', '*', 'billets_parisiens', '.'], ['de_notre_corresvondant', 'oarticulier', '.)'], ['l', \"'\", 'activite', 'juive', 't', 'a', '.', 'villf', '.', 'rs', ',', '&', 'saventhem', '.'], ['elle', 'comprend', 'seize', 'enfant', ';.'], ['*', 'aniourrttmi', 'dis', '-', 'pcrses', 'dans', 'ditlercntcs', 'carrieres', '.'], ['com', '-', '1', 'as', 'les', 'reunir', 'en', 'rai', 'son', 'des', 'distances', ',', 'cette', 'photo', ',', 'qui', 'cia', '1', 'toutes', ',', 'n', \"'\", 'en', 'oxoope', 'ans', 'douze', '.'], ['l', \"'\", 'activite', '1', 'juive', 'est', 'uu', 'des', 'pheuomctiei', 'les', 'plus', 'considerables', 'des', 'cinquante_dernieres_annees', '.'], ['m', '.', 'coroos', '^', 'dans', 'son', 'livre', ':', '<<', 'lo', 'sionisme', 'au', 'travail', '<<,', 'parlant', 'de', 'l', \"'\", 'inauguration', 'de', 'l', \"'\", 'universite', 'bebrait', '|', 'ue', 'da', 'jerusalem', ',', 'cite', 'ce', 'passage', 'd', \"'\", 'un', 'discours', 'quo', 'prononca', 'lord', 'balfour', ':', '<<', 'dans', 'les', 'dernieres_annees', 'trois', 'theories', 'scientifiques', 'nouvelles', 'ont', 'attire', 'l', \"'\", 'attention', 'du', 'moude', ':', 'l', \"'\", 'une', 'est', 'la', 'theorie', 'philosophique', 'generalement', 'connue_sous', 'lo', \"'\", 'noni', 'd', \"'\", 'evolution', 'creatrice', 'et', 'a', 'pour', 'autour', 'mon', 'nmi', ',', 'm', '.', 'bergson', ',', 'un', 'niil', ';', 'l', \"'\", 'autre', 'a', 'cree', 'une_nouvelle', 'psychologie', 'et', 'a', 'pour', 'nuteur', ',', 'm', '.', 'freud', ',', 'un', 'autre', 'juif', ';', 'la', 'troisuuno', 'la', ';', 'plus_importante', 'de', 'toutes', ',', 'le', 'relativisme', ',', 'cet', 'do', 'm', '.', 'einstein', ',', 'genie', 'scientifique', 'et', 'mathematique', ',', 'encore', 'juif', '.']]\n"
     ]
    }
   ],
   "source": [
    "print(corpus[:100])"
   ]
  },
  {
   "cell_type": "markdown",
   "metadata": {},
   "source": [
    "## Entrainement d'un modèle Word2Vec sur ce corpus"
   ]
  },
  {
   "cell_type": "code",
   "execution_count": 14,
   "metadata": {},
   "outputs": [
    {
     "name": "stdout",
     "output_type": "stream",
     "text": [
      "CPU times: total: 33.1 s\n",
      "Wall time: 1min 6s\n"
     ]
    }
   ],
   "source": [
    "%%time\n",
    "model = Word2Vec(\n",
    "    corpus, # On passe le corpus de ngrams que nous venons de créer\n",
    "    vector_size=32, # Le nombre de dimensions dans lesquelles le contexte des mots devra être réduit, aka. vector_size\n",
    "    window=3, # La taille du \"contexte\", ici 3 mots avant et après le mot observé\n",
    "    min_count=5, # On ignore les mots qui n'apparaissent pas au moins 5 fois dans le corpus\n",
    "    workers=4, # Permet de paralléliser l'entraînement du modèle en 4 threads\n",
    "    epochs=5 # Nombre d'itérations du réseau de neurones sur le jeu de données pour ajuster les paramètres avec la descente de gradient, aka. epochs.\n",
    ")"
   ]
  },
  {
   "cell_type": "markdown",
   "metadata": {},
   "source": [
    "#### Remarque\n",
    "\n",
    "Vous voyez ici que l'entrainement du modèle est parallélisé (sur 4 workers).\n",
    "\n",
    "Lors qu'on parallélise l'entrainement du modèle, 4 modèles \"séparés\" sont entrainés sur environ un quart des phrases.\n",
    "\n",
    "Ensuite, les résultats sont agrégés pour ne plus faire qu'un seul modèle.\n",
    "\n",
    "On ne peut prédire quel worker aura quelle phrase, car il y a des aléas lors de la parallélisation (p. ex. un worker qui serait plus lent, etc.).\n",
    "\n",
    "Du coup, les valeurs peuvent varier légèrement d'un entrainement à l'autre.\n",
    "\n",
    "Mais, globalement, les résultats restent cohérents."
   ]
  },
  {
   "cell_type": "markdown",
   "metadata": {},
   "source": [
    "### Sauver le modèle dans un fichier"
   ]
  },
  {
   "cell_type": "code",
   "execution_count": 15,
   "metadata": {},
   "outputs": [],
   "source": [
    "outfile = f\"../data/newspapers.model\"\n",
    "model.save(outfile)"
   ]
  },
  {
   "cell_type": "markdown",
   "metadata": {},
   "source": [
    "## Explorer le modèle"
   ]
  },
  {
   "cell_type": "markdown",
   "metadata": {},
   "source": [
    "### Charger le modèle en mémoire"
   ]
  },
  {
   "cell_type": "code",
   "execution_count": 16,
   "metadata": {},
   "outputs": [],
   "source": [
    "model = Word2Vec.load(\"../data/newspapers.model\")"
   ]
  },
  {
   "cell_type": "markdown",
   "metadata": {},
   "source": [
    "### Imprimer le vecteur d'un terme"
   ]
  },
  {
   "cell_type": "code",
   "execution_count": 17,
   "metadata": {},
   "outputs": [
    {
     "data": {
      "text/plain": [
       "array([ 3.3756452 , -1.0803405 ,  2.6873198 ,  1.1695983 ,  2.9956226 ,\n",
       "        3.6269834 , -1.2256876 , -2.0992527 ,  0.7340674 ,  2.9888635 ,\n",
       "       -0.8857055 ,  0.9215222 , -1.1850309 ,  2.078408  , -1.6444635 ,\n",
       "        0.05789915, -1.8635154 , -2.9408257 , -3.1512058 , -2.1110535 ,\n",
       "       -2.6388025 ,  2.3888667 , -0.4153475 ,  0.16669005,  0.751414  ,\n",
       "        1.3572164 , -3.0000167 , -0.08326261,  0.0516395 , -1.4498218 ,\n",
       "        1.8678792 , -2.4287255 ], dtype=float32)"
      ]
     },
     "execution_count": 17,
     "metadata": {},
     "output_type": "execute_result"
    }
   ],
   "source": [
    "model.wv[\"crise\"]"
   ]
  },
  {
   "cell_type": "markdown",
   "metadata": {},
   "source": [
    "### Calculer la similarité entre deux termes"
   ]
  },
  {
   "cell_type": "code",
   "execution_count": 18,
   "metadata": {},
   "outputs": [
    {
     "data": {
      "text/plain": [
       "0.81257457"
      ]
     },
     "execution_count": 18,
     "metadata": {},
     "output_type": "execute_result"
    }
   ],
   "source": [
    "model.wv.similarity(\"crise\", \"depression\")"
   ]
  },
  {
   "cell_type": "markdown",
   "metadata": {},
   "source": [
    "### Chercher les mots les plus proches d'un terme donné"
   ]
  },
  {
   "cell_type": "code",
   "execution_count": 19,
   "metadata": {},
   "outputs": [
    {
     "data": {
      "text/plain": [
       "[('crise_economique', 0.9599692821502686),\n",
       " ('crise_mondiale', 0.9028064608573914),\n",
       " ('surproduction', 0.9004038572311401),\n",
       " ('crise_actuelle', 0.8961181044578552),\n",
       " ('depression_economique', 0.8928499817848206),\n",
       " ('situation_actuelle', 0.8901970982551575),\n",
       " ('situation', 0.8852964043617249),\n",
       " ('crise_economique_mondiale', 0.8835370540618896),\n",
       " ('reprise_economique', 0.8816266059875488),\n",
       " ('situation_economique', 0.8630707859992981)]"
      ]
     },
     "execution_count": 19,
     "metadata": {},
     "output_type": "execute_result"
    }
   ],
   "source": [
    "model.wv.most_similar(\"crise\", topn=10)"
   ]
  },
  {
   "cell_type": "markdown",
   "metadata": {},
   "source": [
    "### Faire des recherches complexes à travers l'espace vectoriel"
   ]
  },
  {
   "cell_type": "code",
   "execution_count": 20,
   "metadata": {},
   "outputs": [
    {
     "name": "stdout",
     "output_type": "stream",
     "text": [
      "[('baisse', 0.8419935703277588), ('hausse', 0.8398526310920715), ('depression_economique', 0.8279069662094116), ('difference', 0.825614869594574), ('mortalite', 0.8167779445648193), ('recolte', 0.8088059425354004), ('surproduction', 0.8078800439834595), ('periode', 0.8050872683525085), ('temperature', 0.7963736057281494), ('regression', 0.793410062789917)]\n"
     ]
    }
   ],
   "source": [
    "print(model.wv.most_similar(positive=['crise', 'depression'], negative=['politique']))"
   ]
  }
 ],
 "metadata": {
  "kernelspec": {
   "display_name": "tac_venv",
   "language": "python",
   "name": "python3"
  },
  "language_info": {
   "codemirror_mode": {
    "name": "ipython",
    "version": 3
   },
   "file_extension": ".py",
   "mimetype": "text/x-python",
   "name": "python",
   "nbconvert_exporter": "python",
   "pygments_lexer": "ipython3",
   "version": "3.10.7"
  }
 },
 "nbformat": 4,
 "nbformat_minor": 4
}
