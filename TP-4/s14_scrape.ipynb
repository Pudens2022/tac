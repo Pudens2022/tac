{
 "cells": [
  {
   "cell_type": "markdown",
   "metadata": {},
   "source": [
    "# Scraping: récupération de la page d'accueil du journal Le Soir\n",
    "\n",
    "Dans ce notebook, nous créons un robot qui va ouvrir la page d'accueil du site du journal [Le Soir](https://www.lesoir.be/) et récupérer le titre de tous les articles du jour et les stocker dans un fichier csv."
   ]
  },
  {
   "cell_type": "markdown",
   "metadata": {},
   "source": [
    "## Imports"
   ]
  },
  {
   "cell_type": "code",
   "execution_count": 1,
   "metadata": {},
   "outputs": [],
   "source": [
    "import os\n",
    "import re\n",
    "import time\n",
    "import requests\n",
    "from bs4 import BeautifulSoup\n",
    "import pandas as pd"
   ]
  },
  {
   "cell_type": "markdown",
   "metadata": {},
   "source": [
    "## Récupération de tous les articles de la page d'accueil\n",
    "\n"
   ]
  },
  {
   "cell_type": "code",
   "execution_count": 2,
   "metadata": {},
   "outputs": [],
   "source": [
    "headers = {'User-Agent': 'Mozilla/5.0 (Macintosh; Intel Mac OS X 10_10_1) AppleWebKit/537.36 (KHTML, like Gecko) Chrome/39.0.2171.95 Safari/537.36'}\n",
    "\n",
    "articles = []\n",
    "\n",
    "root_url = f\"https://www.lesoir.be\"\n",
    "response = requests.get(root_url, headers=headers)\n",
    "soup = BeautifulSoup(response.text, 'html.parser')\n",
    "for link in soup.find_all(\"a\", {\"class\":\"r-article--link\"}):\n",
    "    title = link.text.strip()\n",
    "    url = root_url + link.get('href')\n",
    "    articles.append([url, title])"
   ]
  },
  {
   "cell_type": "code",
   "execution_count": 3,
   "metadata": {},
   "outputs": [
    {
     "data": {
      "text/plain": [
       "92"
      ]
     },
     "execution_count": 3,
     "metadata": {},
     "output_type": "execute_result"
    }
   ],
   "source": [
    "# Affichage du nombre d'articles récupérés\n",
    "len(articles)"
   ]
  },
  {
   "cell_type": "code",
   "execution_count": 4,
   "metadata": {},
   "outputs": [
    {
     "data": {
      "text/plain": [
       "[['https://www.lesoir.be/483105/article/2022-12-14/france-maroc-randal-kolo-muani-fait-le-break-pour-les-bleus-quelques-petites',\n",
       "  'Direct\\nFrance – Maroc: Randal Kolo Muani fait le break pour les Bleus quelques petites secondes après sa montée au jeu (2-0, direct)'],\n",
       " ['https://www.lesoir.be/483031/article/2022-12-14/parlement-europeen-la-surete-de-letat-avait-infiltre-le-domicile-de-panzeri',\n",
       "  'Enquête\\nParlement européen: la Sûreté de l’Etat avait infiltré le domicile de Panzeri'],\n",
       " ['https://www.lesoir.be/483009/article/2022-12-14/budget-quatre-partis-dopposition-demandent-la-demission-de-de-croo-qui-denonce',\n",
       "  'Budget: quatre partis d’opposition demandent la démission de De Croo, qui dénonce des jeux politiques'],\n",
       " ['https://www.lesoir.be/483093/article/2022-12-14/vers-une-forme-de-gratuite-de-lenseignement-en-premiere-et-deuxieme-primaires',\n",
       "  'Vers une forme de gratuité de l’enseignement en première et deuxième primaires'],\n",
       " ['https://www.lesoir.be/483068/article/2022-12-14/migration-la-ministre-zuhal-demir-cree-la-polemique-en-associant-refugies-et',\n",
       "  'Migration: la ministre Zuhal Demir crée la polémique en associant réfugiés et porcs'],\n",
       " ['https://www.lesoir.be/483075/article/2022-12-14/faillite-de-hamon-la-prise-de-risque-de-la-sogepa-coute-919-millions-deuros-la',\n",
       "  'Faillite de Hamon: la prise de risque de la Sogepa a coûté 91,9 millions d’euros à la Wallonie'],\n",
       " ['https://www.lesoir.be/483083/article/2022-12-14/podcast-que-faut-il-attendre-de-ce-sommet-europeen-express',\n",
       "  'Podcast – Que faut-il attendre de ce sommet européen «express»?'],\n",
       " ['https://www.lesoir.be/483067/article/2022-12-14/affaire-olivier-vandecasteele-la-diplomatie-des-otages-bat-son-plein-en-iran',\n",
       "  'Affaire Olivier Vandecasteele: la «diplomatie des otages» bat son plein en Iran'],\n",
       " ['https://www.lesoir.be/483113/article/2022-12-14/sans-abrisme-meme-dans-le-metro-cest-tres-dur-quand-il-fait-froid',\n",
       "  'Reportage\\nSans-abrisme: «Même dans le métro, c’est très dur quand il fait froid»'],\n",
       " ['https://www.lesoir.be/483060/article/2022-12-14/manifestation-nationale-la-sncb-met-en-place-des-trains-supplementaires-ce',\n",
       "  'Manifestation nationale: la SNCB met en place des trains supplémentaires ce vendredi']]"
      ]
     },
     "execution_count": 4,
     "metadata": {},
     "output_type": "execute_result"
    }
   ],
   "source": [
    "# Affichage des 10 premières entrées\n",
    "articles[:10]"
   ]
  },
  {
   "cell_type": "markdown",
   "metadata": {},
   "source": [
    "## Création d'un dataframe avec les liens et les titres des articles\n"
   ]
  },
  {
   "cell_type": "code",
   "execution_count": 5,
   "metadata": {},
   "outputs": [
    {
     "data": {
      "text/html": [
       "<div>\n",
       "<style scoped>\n",
       "    .dataframe tbody tr th:only-of-type {\n",
       "        vertical-align: middle;\n",
       "    }\n",
       "\n",
       "    .dataframe tbody tr th {\n",
       "        vertical-align: top;\n",
       "    }\n",
       "\n",
       "    .dataframe thead th {\n",
       "        text-align: right;\n",
       "    }\n",
       "</style>\n",
       "<table border=\"1\" class=\"dataframe\">\n",
       "  <thead>\n",
       "    <tr style=\"text-align: right;\">\n",
       "      <th></th>\n",
       "      <th>link</th>\n",
       "      <th>title</th>\n",
       "    </tr>\n",
       "  </thead>\n",
       "  <tbody>\n",
       "    <tr>\n",
       "      <th>0</th>\n",
       "      <td>https://www.lesoir.be/483105/article/2022-12-1...</td>\n",
       "      <td>Direct\\nFrance – Maroc: Randal Kolo Muani fait...</td>\n",
       "    </tr>\n",
       "    <tr>\n",
       "      <th>1</th>\n",
       "      <td>https://www.lesoir.be/483031/article/2022-12-1...</td>\n",
       "      <td>Enquête\\nParlement européen: la Sûreté de l’Et...</td>\n",
       "    </tr>\n",
       "    <tr>\n",
       "      <th>2</th>\n",
       "      <td>https://www.lesoir.be/483009/article/2022-12-1...</td>\n",
       "      <td>Budget: quatre partis d’opposition demandent l...</td>\n",
       "    </tr>\n",
       "    <tr>\n",
       "      <th>3</th>\n",
       "      <td>https://www.lesoir.be/483093/article/2022-12-1...</td>\n",
       "      <td>Vers une forme de gratuité de l’enseignement e...</td>\n",
       "    </tr>\n",
       "    <tr>\n",
       "      <th>4</th>\n",
       "      <td>https://www.lesoir.be/483068/article/2022-12-1...</td>\n",
       "      <td>Migration: la ministre Zuhal Demir crée la pol...</td>\n",
       "    </tr>\n",
       "    <tr>\n",
       "      <th>...</th>\n",
       "      <td>...</td>\n",
       "      <td>...</td>\n",
       "    </tr>\n",
       "    <tr>\n",
       "      <th>87</th>\n",
       "      <td>https://www.lesoir.be/482069/article/2022-12-0...</td>\n",
       "      <td>Séduisants au premier abord, les flexi-jobs po...</td>\n",
       "    </tr>\n",
       "    <tr>\n",
       "      <th>88</th>\n",
       "      <td>https://www.lesoir.be/481508/article/2022-12-0...</td>\n",
       "      <td>Carburants: l’espoir d’une stabilisation des prix</td>\n",
       "    </tr>\n",
       "    <tr>\n",
       "      <th>89</th>\n",
       "      <td>https://www.lesoir.be/481390/article/2022-12-0...</td>\n",
       "      <td>Analyse\\nSaunas, alcool ou force de caractère?...</td>\n",
       "    </tr>\n",
       "    <tr>\n",
       "      <th>90</th>\n",
       "      <td>https://www.lesoir.be/480708/article/2022-12-0...</td>\n",
       "      <td>Prime, bonus, chèque cadeau: qu’est-ce qui vou...</td>\n",
       "    </tr>\n",
       "    <tr>\n",
       "      <th>91</th>\n",
       "      <td>https://www.lesoir.be/479242/article/2022-11-2...</td>\n",
       "      <td>Des frais supplémentaires pour les détenteurs ...</td>\n",
       "    </tr>\n",
       "  </tbody>\n",
       "</table>\n",
       "<p>92 rows × 2 columns</p>\n",
       "</div>"
      ],
      "text/plain": [
       "                                                 link  \\\n",
       "0   https://www.lesoir.be/483105/article/2022-12-1...   \n",
       "1   https://www.lesoir.be/483031/article/2022-12-1...   \n",
       "2   https://www.lesoir.be/483009/article/2022-12-1...   \n",
       "3   https://www.lesoir.be/483093/article/2022-12-1...   \n",
       "4   https://www.lesoir.be/483068/article/2022-12-1...   \n",
       "..                                                ...   \n",
       "87  https://www.lesoir.be/482069/article/2022-12-0...   \n",
       "88  https://www.lesoir.be/481508/article/2022-12-0...   \n",
       "89  https://www.lesoir.be/481390/article/2022-12-0...   \n",
       "90  https://www.lesoir.be/480708/article/2022-12-0...   \n",
       "91  https://www.lesoir.be/479242/article/2022-11-2...   \n",
       "\n",
       "                                                title  \n",
       "0   Direct\\nFrance – Maroc: Randal Kolo Muani fait...  \n",
       "1   Enquête\\nParlement européen: la Sûreté de l’Et...  \n",
       "2   Budget: quatre partis d’opposition demandent l...  \n",
       "3   Vers une forme de gratuité de l’enseignement e...  \n",
       "4   Migration: la ministre Zuhal Demir crée la pol...  \n",
       "..                                                ...  \n",
       "87  Séduisants au premier abord, les flexi-jobs po...  \n",
       "88  Carburants: l’espoir d’une stabilisation des prix  \n",
       "89  Analyse\\nSaunas, alcool ou force de caractère?...  \n",
       "90  Prime, bonus, chèque cadeau: qu’est-ce qui vou...  \n",
       "91  Des frais supplémentaires pour les détenteurs ...  \n",
       "\n",
       "[92 rows x 2 columns]"
      ]
     },
     "execution_count": 5,
     "metadata": {},
     "output_type": "execute_result"
    }
   ],
   "source": [
    "df = pd.DataFrame(articles, columns=['link', 'title'])\n",
    "df"
   ]
  },
  {
   "cell_type": "code",
   "execution_count": 6,
   "metadata": {},
   "outputs": [],
   "source": [
    "# Sauvegarde du dataframe dans un fichier csv\n",
    "df.to_csv(f\"../data/lesoir_{time.strftime('%Y%m%d')}.csv\", index=False)"
   ]
  },
  {
   "cell_type": "markdown",
   "metadata": {},
   "source": [
    "## Téléchargement d'un article et affichage du texte"
   ]
  },
  {
   "cell_type": "code",
   "execution_count": 7,
   "metadata": {},
   "outputs": [
    {
     "name": "stdout",
     "output_type": "stream",
     "text": [
      "France – Maroc: Randal Kolo Muani fait le break pour les Bleus quelques petites secondes après sa montée au jeu (2-0, direct)\n",
      "==================================\n",
      "La France affronte le Maroc ce mercredi soir avec une place en finale à la clé. Le vainqueur affrontera l’Argentine, ce dimanche 18 décembre à 16h\n",
      "==================================\n",
      "\n",
      " C e mercredi soir, la France affronte le Maroc dans la deuxième demi-finale de cette Coupe du monde au Qatar. Favoris, les Bleus devront écarter des Marocains accrocheurs, afin d’aller cherche une deuxième finale d’affilée en Coupe du monde. \n",
      " \n",
      " \n",
      " \n",
      "   \n",
      " \n",
      "   \n",
      "        function get_dtkCxSegments() {\n",
      "            if ('cxSegments' in localStorage) {\n",
      "                // Récupération de cxSegments + initialisation de variables destinées à en limiter la longueur\n",
      "                let cx = localStorage.getItem(\"cxSegments\"),\n",
      "                    valueCx = cx.split(\",\"),\n",
      "                    valueCxLimited = [],\n",
      "                    charLength = 0,\n",
      "                    limit = 2000;\n",
      "                // Limitation de la longueur de la chaine de caractère\n",
      "                for (var i = 0; i < valueCx.length; i++) {\n",
      "                    charLength = charLength + valueCx[i].length;\n",
      "                    if (charLength <= limit) {\n",
      "                        valueCxLimited.push(valueCx[i]);\n",
      "                    }\n",
      "                }\n",
      "                return valueCxLimited;\n",
      "            }\n",
      "            else {\n",
      "                return false;\n",
      "            }\n",
      "        }\n",
      "        window.dtkCxSegments = window.dtkCxSegments || get_dtkCxSegments();\n",
      "        var dtkEmbed = document.currentScript.parentNode;\n",
      "        var dtkIframe = dtkEmbed.querySelector(\".dmp-digiteka-0a453390d163651f84c66edf2ee4cd52\").content.cloneNode(true);\n",
      "        dtkIframe = dtkIframe.querySelector('iframe');\n",
      "        var dtkUrl = new URL(dtkIframe.dataset.src);\n",
      "        var tagparamValue = (dtkUrl.searchParams.get(\"tagparam\")) ? dtkUrl.searchParams.get(\"tagparam\") + \"&CxSegments=\" + window.dtkCxSegments : \"CxSegments=\" + window.dtkCxSegments;\n",
      "        if (window.dtkCxSegments) dtkUrl.searchParams.set('tagparam', tagparamValue);\n",
      "        dtkIframe.dataset.src = dtkUrl.toString();\n",
      "        dtkEmbed.appendChild(dtkIframe);\n",
      "     \n",
      " \n",
      " \n",
      " \n",
      " \n",
      " \n",
      " \n",
      " \n",
      " \n",
      " \n",
      " \n",
      " \n",
      " \n",
      " \n",
      " \n",
      " \n",
      " \n",
      " \n",
      " \n",
      " \n",
      " \n",
      " \n",
      " À lire aussi \n",
      " Coupe du monde: la France à l’épreuve de l’humilité face au Maroc \n",
      " \n",
      " \n",
      " \n",
      " \n",
      " Première nation africaine à atteindre le dernier carré d’un Mondial, le Maroc voit désormais la France, championne du monde en titre, se dresser sur sa route. Les Bleus ont bouclé leur phase de poule en tête du groupe D devant l’Australie, la Tunisie et le Danemark, mettant fin à la malédiction du champion en titre sorti au premier tour. \n",
      " \n",
      " \n",
      " \n",
      " \n",
      " \n",
      " À lire aussi \n",
      " Comme rarement, le Maroc célèbre une équipe qui lui ressemble \n",
      " \n",
      " \n",
      " \n",
      " \n",
      "\n"
     ]
    }
   ],
   "source": [
    "# Récupération du premier lien du dataframe\n",
    "article_url = df.iloc[0][0]\n",
    "\n",
    "# Ouverture de la page\n",
    "response = requests.get(article_url, headers=headers)\n",
    "soup = BeautifulSoup(response.text, 'html.parser')\n",
    "\n",
    "# Parsing du contenu\n",
    "title = soup.find(\"h1\").get_text(separator=' ')\n",
    "chapo = soup.find(\"r-article--chapo\").get_text(separator=' ')\n",
    "content = soup.find(\"r-article--section\").get_text(separator=' ')\n",
    "\n",
    "print(title)\n",
    "print(\"==================================\")\n",
    "print(chapo)\n",
    "print(\"==================================\")\n",
    "print(content)"
   ]
  },
  {
   "cell_type": "markdown",
   "metadata": {},
   "source": [
    "### Nettoyage du texte à l'aide d'expressions régulières"
   ]
  },
  {
   "cell_type": "code",
   "execution_count": 8,
   "metadata": {},
   "outputs": [
    {
     "name": "stdout",
     "output_type": "stream",
     "text": [
      "\n",
      " C e mercredi soir, la France affronte le Maroc dans la deuxième demi-finale de cette Coupe du monde au Qatar. Favoris, les Bleus devront écarter des Marocains accrocheurs, afin d’aller cherche une deuxième finale d’affilée en Coupe du monde. \n",
      " \n",
      " \n",
      " \n",
      "   \n",
      " \n",
      "   \n",
      "        function get_dtkCxSegments() {\n",
      "            if ('cxSegments' in localStorage) {\n",
      "                // Récupération de cxSegments + initialisation de variables destinées à en limiter la longueur\n",
      "                let cx = localStorage.getItem(\"cxSegments\"),\n",
      "                    valueCx = cx.split(\",\"),\n",
      "                    valueCxLimited = [],\n",
      "                    charLength = 0,\n",
      "                    limit = 2000;\n",
      "                // Limitation de la longueur de la chaine de caractère\n",
      "                for (var i = 0; i < valueCx.length; i++) {\n",
      "                    charLength = charLength + valueCx[i].length;\n",
      "                    if (charLength <= limit) {\n",
      "                        valueCxLimited.push(valueCx[i]);\n",
      "                    }\n",
      "                }\n",
      "                return valueCxLimited;\n",
      "            }\n",
      "            else {\n",
      "                return false;\n",
      "            }\n",
      "        }\n",
      "        window.dtkCxSegments = window.dtkCxSegments || get_dtkCxSegments();\n",
      "        var dtkEmbed = document.currentScript.parentNode;\n",
      "        var dtkIframe = dtkEmbed.querySelector(\".dmp-digiteka-0a453390d163651f84c66edf2ee4cd52\").content.cloneNode(true);\n",
      "        dtkIframe = dtkIframe.querySelector('iframe');\n",
      "        var dtkUrl = new URL(dtkIframe.dataset.src);\n",
      "        var tagparamValue = (dtkUrl.searchParams.get(\"tagparam\")) ? dtkUrl.searchParams.get(\"tagparam\") + \"&CxSegments=\" + window.dtkCxSegments : \"CxSegments=\" + window.dtkCxSegments;\n",
      "        if (window.dtkCxSegments) dtkUrl.searchParams.set('tagparam', tagparamValue);\n",
      "        dtkIframe.dataset.src = dtkUrl.toString();\n",
      "        dtkEmbed.appendChild(dtkIframe);\n",
      "     \n",
      " \n",
      " \n",
      " \n",
      " \n",
      " \n",
      " \n",
      " \n",
      " \n",
      " \n",
      " \n",
      " \n",
      " \n",
      " \n",
      " \n",
      " \n",
      " \n",
      " \n",
      " \n",
      " \n",
      " \n",
      " \n",
      " À lire aussi \n",
      " Coupe du monde: la France à l’épreuve de l’humilité face au Maroc \n",
      " \n",
      " \n",
      " \n",
      " \n",
      " Première nation africaine à atteindre le dernier carré d’un Mondial, le Maroc voit désormais la France, championne du monde en titre, se dresser sur sa route. Les Bleus ont bouclé leur phase de poule en tête du groupe D devant l’Australie, la Tunisie et le Danemark, mettant fin à la malédiction du champion en titre sorti au premier tour. \n",
      " \n",
      " \n",
      " \n",
      " \n",
      " \n",
      " À lire aussi \n",
      " Comme rarement, le Maroc célèbre une équipe qui lui ressemble \n",
      " \n",
      " \n",
      " \n",
      " \n",
      "\n",
      "==================================\n",
      " C e mercredi soir, la France affronte le Maroc dans la deuxième demi-finale de cette Coupe du monde au Qatar. Favoris, les Bleus devront écarter des Marocains accrocheurs, afin d’aller cherche une deuxième finale d’affilée en Coupe du monde. function get_dtkCxSegments() { if { // Récupération de cxSegments + initialisation de variables destinées à en limiter la longueur let cx = localStorage.getItem , valueCx = cx.split , valueCxLimited = [], charLength = 0, limit = 2000; // Limitation de la longueur de la chaine de caractère for { charLength = charLength + valueCx[i].length; if { valueCxLimited.push ; } } return valueCxLimited; } else { return false; } } window.dtkCxSegments = window.dtkCxSegments || get_dtkCxSegments(); var dtkEmbed = document.currentScript.parentNode; var dtkIframe = dtkEmbed.querySelector .content.cloneNode ; dtkIframe = dtkIframe.querySelector ; var dtkUrl = new URL ; var tagparamValue = ) ? dtkUrl.searchParams.get + \"&CxSegments=\" + window.dtkCxSegments : \"CxSegments=\" + window.dtkCxSegments; if dtkUrl.searchParams.set ; dtkIframe.dataset.src = dtkUrl.toString(); dtkEmbed.appendChild ; À lire aussi Coupe du monde: la France à l’épreuve de l’humilité face au Maroc Première nation africaine à atteindre le dernier carré d’un Mondial, le Maroc voit désormais la France, championne du monde en titre, se dresser sur sa route. Les Bleus ont bouclé leur phase de poule en tête du groupe D devant l’Australie, la Tunisie et le Danemark, mettant fin à la malédiction du champion en titre sorti au premier tour. À lire aussi Comme rarement, le Maroc célèbre une équipe qui lui ressemble \n"
     ]
    }
   ],
   "source": [
    "# Suppression de tout ce qui se trouve entre parenthèses\n",
    "clean_content = re.sub(\"\\([^\\)]+\\)\", \" \", content)\n",
    "# Suppression des espaces multiples\n",
    "clean_content = re.sub(\"\\s+\", \" \", clean_content)\n",
    "\n",
    "print(content)\n",
    "print(\"==================================\")\n",
    "print(clean_content)\n"
   ]
  },
  {
   "cell_type": "markdown",
   "metadata": {},
   "source": [
    "### Création d'un fichier avec le contenu de l'article\n"
   ]
  },
  {
   "cell_type": "code",
   "execution_count": 9,
   "metadata": {},
   "outputs": [],
   "source": [
    "with open(\"../data/lesoir_example.txt\", \"w\") as writer:\n",
    "    writer.write(f\"{title}\\n\\n{chapo}\\n\\n{clean_content}\")"
   ]
  },
  {
   "cell_type": "markdown",
   "metadata": {},
   "source": [
    "## Pour en savoir plus"
   ]
  },
  {
   "cell_type": "markdown",
   "metadata": {},
   "source": [
    "- Le web scraping avec Python: https://realpython.com/beautiful-soup-web-scraper-python/\n",
    "- Tutoriel sur les expressions régulières: https://www.w3schools.com/python/python_regex.asp"
   ]
  }
 ],
 "metadata": {
  "kernelspec": {
   "display_name": "Python 3.10.7 ('tac_venv': venv)",
   "language": "python",
   "name": "python3"
  },
  "language_info": {
   "codemirror_mode": {
    "name": "ipython",
    "version": 3
   },
   "file_extension": ".py",
   "mimetype": "text/x-python",
   "name": "python",
   "nbconvert_exporter": "python",
   "pygments_lexer": "ipython3",
   "version": "3.10.7"
  },
  "vscode": {
   "interpreter": {
    "hash": "bf1c0e32efbc1b0a30fa46d6ab60b25f74a78c177210c206f5ce854a430d1ba2"
   }
  }
 },
 "nbformat": 4,
 "nbformat_minor": 4
}
