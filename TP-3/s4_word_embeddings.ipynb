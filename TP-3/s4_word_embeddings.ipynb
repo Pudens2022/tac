{
 "cells": [
  {
   "cell_type": "markdown",
   "metadata": {},
   "source": [
    "# Word Embeddings : le modèle Word2Vec"
   ]
  },
  {
   "cell_type": "markdown",
   "metadata": {},
   "source": [
    "## Imports"
   ]
  },
  {
   "cell_type": "code",
   "execution_count": 20,
   "metadata": {},
   "outputs": [],
   "source": [
    "import sys\n",
    "\n",
    "from gensim.models.phrases import Phrases, Phraser\n",
    "from gensim.models import Word2Vec\n",
    "\n",
    "import nltk\n",
    "from nltk.tokenize import wordpunct_tokenize\n",
    "from unidecode import unidecode"
   ]
  },
  {
   "cell_type": "markdown",
   "metadata": {},
   "source": [
    "## Chargement et traitement des phrases du corpus"
   ]
  },
  {
   "cell_type": "markdown",
   "metadata": {},
   "source": [
    "### Création d'un objet qui *streame* les lignes d'un fichier pour économiser de la RAM"
   ]
  },
  {
   "cell_type": "code",
   "execution_count": 21,
   "metadata": {},
   "outputs": [],
   "source": [
    "class MySentences(object):\n",
    "    \"\"\"Tokenize and Lemmatize sentences\"\"\"\n",
    "    def __init__(self, filename):\n",
    "        self.filename = filename\n",
    "\n",
    "    def __iter__(self):\n",
    "        for line in open(self.filename, encoding='utf-8', errors=\"backslashreplace\"):\n",
    "            yield [unidecode(w.lower()) for w in wordpunct_tokenize(line)]"
   ]
  },
  {
   "cell_type": "code",
   "execution_count": 22,
   "metadata": {},
   "outputs": [],
   "source": [
    "infile = f\"../data/sents.txt\"\n",
    "sentences = MySentences(infile)"
   ]
  },
  {
   "cell_type": "markdown",
   "metadata": {},
   "source": [
    "### Détection des bigrams\n",
    "\n",
    "Article intéressant sur le sujet : https://towardsdatascience.com/word2vec-for-phrases-learning-embeddings-for-more-than-one-word-727b6cf723cf"
   ]
  },
  {
   "cell_type": "code",
   "execution_count": 23,
   "metadata": {},
   "outputs": [],
   "source": [
    "bigram_phrases = Phrases(sentences)"
   ]
  },
  {
   "cell_type": "markdown",
   "metadata": {},
   "source": [
    "L'object `phrases` peut être vu comme un large dictionnaire d'expressions multi-mots associées à un score, le *PMI-like scoring*. Ce dictionnaire est construit par un apprentissage sur base d'exemples.\n",
    "Voir les références ci-dessous :\n",
    "- https://arxiv.org/abs/1310.4546\n",
    "- https://en.wikipedia.org/wiki/Pointwise_mutual_information"
   ]
  },
  {
   "cell_type": "code",
   "execution_count": 24,
   "metadata": {},
   "outputs": [
    {
     "data": {
      "text/plain": [
       "dict"
      ]
     },
     "execution_count": 24,
     "metadata": {},
     "output_type": "execute_result"
    }
   ],
   "source": [
    "type(bigram_phrases.vocab)"
   ]
  },
  {
   "cell_type": "markdown",
   "metadata": {},
   "source": [
    "Il contient de nombreuses clés qui sont autant de termes observés dans le corpus"
   ]
  },
  {
   "cell_type": "code",
   "execution_count": 25,
   "metadata": {},
   "outputs": [
    {
     "data": {
      "text/plain": [
       "15850647"
      ]
     },
     "execution_count": 25,
     "metadata": {},
     "output_type": "execute_result"
    }
   ],
   "source": [
    "len(bigram_phrases.vocab.keys())"
   ]
  },
  {
   "cell_type": "markdown",
   "metadata": {},
   "source": [
    "Prenons une clé au hasard :"
   ]
  },
  {
   "cell_type": "code",
   "execution_count": 26,
   "metadata": {},
   "outputs": [
    {
     "name": "stdout",
     "output_type": "stream",
     "text": [
      "1q\n"
     ]
    }
   ],
   "source": [
    "key_= list(bigram_phrases.vocab.keys())[144]\n",
    "print(key_)"
   ]
  },
  {
   "cell_type": "markdown",
   "metadata": {},
   "source": [
    "Le dictionnaire indique le score de cette coocurrence :"
   ]
  },
  {
   "cell_type": "code",
   "execution_count": 27,
   "metadata": {},
   "outputs": [
    {
     "data": {
      "text/plain": [
       "488"
      ]
     },
     "execution_count": 27,
     "metadata": {},
     "output_type": "execute_result"
    }
   ],
   "source": [
    "bigram_phrases.vocab[key_]"
   ]
  },
  {
   "cell_type": "markdown",
   "metadata": {},
   "source": [
    "Lorsque l'instance de `Phrases` a été entraînée, elle peut concaténer les bigrams dans les phrases lorsque c'est pertinent."
   ]
  },
  {
   "cell_type": "markdown",
   "metadata": {},
   "source": [
    "### Conversion des `Phrases` en objet `Phraser`\n",
    "\n",
    "`Phraser` est un alias pour `gensim.models.phrases.FrozenPhrases`, voir ici https://radimrehurek.com/gensim/models/phrases.html.\n",
    "\n",
    "Le `Phraser` est une version *light* du `Phrases`, plus optimale pour transformer les phrases en concaténant les bigrams."
   ]
  },
  {
   "cell_type": "code",
   "execution_count": 28,
   "metadata": {},
   "outputs": [],
   "source": [
    "bigram_phraser = Phraser(phrases_model=bigram_phrases)"
   ]
  },
  {
   "cell_type": "markdown",
   "metadata": {},
   "source": [
    "Le `Phraser` est un objet qui convertit certains unigrams d'une liste en bigrams lorsqu'ils ont été identifiés comme pertinents."
   ]
  },
  {
   "cell_type": "markdown",
   "metadata": {},
   "source": [
    "### Extraction des trigrams"
   ]
  },
  {
   "cell_type": "markdown",
   "metadata": {},
   "source": [
    "Nous répétons l'opération en envoyant cette fois la liste de bigrams afin d'extraire les trigrams."
   ]
  },
  {
   "cell_type": "code",
   "execution_count": 29,
   "metadata": {},
   "outputs": [],
   "source": [
    "trigram_phrases = Phrases(bigram_phraser[sentences])"
   ]
  },
  {
   "cell_type": "code",
   "execution_count": 30,
   "metadata": {},
   "outputs": [],
   "source": [
    "trigram_phraser = Phraser(phrases_model=trigram_phrases)"
   ]
  },
  {
   "cell_type": "markdown",
   "metadata": {},
   "source": [
    "### Création d'un corpus d'unigrams, bigrams, trigrams"
   ]
  },
  {
   "cell_type": "code",
   "execution_count": 31,
   "metadata": {},
   "outputs": [],
   "source": [
    "corpus = list(trigram_phraser[bigram_phraser[sentences]])"
   ]
  },
  {
   "cell_type": "code",
   "execution_count": 32,
   "metadata": {},
   "outputs": [
    {
     "name": "stdout",
     "output_type": "stream",
     "text": [
      "[['mi', 'imnri', 'r', 'i', '<<', 'i', 'i', 'hmu', \"'\", 'i', '/', 'tx', \"-'\", 'l', ':', 'marche', 'tenu', 'hors', 'villa', ',', 'la', '9', '.'], ['--', 'u', 'a', 'ete', 'vaain', 'si', 'teicj', '>>', 'm', 'races_indigenes', 'de', 'fr', '.'], ['31', '<)', 'a', '5s', \"'\", 'k', '131', 'de', '.'], ['rasa', 'iichakdui', \"'\", 'te', ',', 'do', '(', 'r', '.', '3s0', 'h', '710', '.', 'taureaux', 'iallsenas', ',>', 'ia', 'u', '\\\\', '--', 'a', '--', ';', '0ii', '.'], ['hollandais', ',', 'dufr', '.'], ['0', '.'], ['--', 'a', '9', '.--', 'la', 'idto', '-', 'vachei', 'laitieres', ':', 'bn', 'vante', '1q', '.'], ['vendues', '3', '\\\\', 'au', 'prix', 'la', '410', 'a', '*', '<<', 'i', 'h', '\\\\;', 'genisses', ',', 'kl', '.'], [\"'.\", '9', '.'], ['i', 'l', '.', '2', 'i', '.', 'id', '.'], ['da', '370', 'i', '6lutr', '.'], ['marche', 'a', '<', 'u', 'porcs', '.'], ['--', 'categorie', 'de', 'lt', 'ilashtya', ':', \"'\", '237', 'on', 'vente', ';', 'vendus', '1', 'm', '.', 'do', \"'\", '2', 'i', '.--', 'a', ';:,', 'l', '--;', 'i', '.', 'l', '.'], ['des', 't', \"'\", 'innlrov', '-', 'i3ie', ';>>', 'vente', ',', 'vendus', '93', '.', 'de', '32', '.--', 'a', '52', '.--.'], ['xumiir', '.'], ['10', 'a', '*', 'v', '.--_froment', '>>', 'las', '190', 'kit', '..', 'fr', '.'], ['15', '.', '23', ';', 'mi', \"'\", 'te', '>>,', '--;', 'epautre', '.', 'l3', '.--', ';', 'seigle', '.'], ['14', '.', '5', '>;', 'avoine', '.'], ['10', '.', '30', ';', 'orge', '.'], ['--;_feveroles', ',', '22', '.--;_pommes', 'do', 'terre', '.'], ['g', '.--;_paille', ',', 'v', '.', '--;', 'fcin', '.', '6', '.', '50', ':', 'lioumon', ',', '--.'], ['2', \"%'\", 'ivellom', '.'], ['10', 'mv', '.'], ['--', 'froment', ',', 'las', '109_kll', '.,', '(', 'r', '.', '13', '.'], ['--', '\\\\', '--;_selgle', '.', 'ii', '.-;\\\\', '--;_avoine', ',', '16', '.', '509', '-;', 'orge', ',', '17', '30', 'j', '--,--;_escourgeon', '.'], ['#', 'inint', '-', 't', '>>*', 'o', '<<', 'd', ',', '10', 'nov', '.', '--', 'froment', 'je', 'culture', ',', 'par', '400kil', '.,', 'fr', '.'], ['10', '.--', '1', '--.--;', 'm', '.', 'commercial', ',', '16', '.'], ['--', 'a', '--.--,_seigle', '.'], ['13', '.', '50', 'a', '--;_avoine', '.'], ['10', '.', '50', 'a', '--.--;_orge', '.'], ['17', '.--', 'a', '--;_farine', 'ira', 'de', 'froment', ',', '0', '.--', 'a', '0', '.'], ['--;', 'son', 'gros', 'de', 'tco', '*', 'ment', ',', '15', '.--', 'a', '--.--.'], ['huiie', 'de', 'colza', ',', 'par', 'hcctoi', '.,', '--', 'a', '--;', 'u', '.', 'epures', ',', '--~', 'a', ';', 'huile', 'de', 'lin', '.'], ['--,--', 'a', '--;_tourteaux', 'de', 'colza', 'par', '100_kll', '.,', '--', 'a', '--;_id', '.'], ['de', 'lin', ',', '--', 'a', 'i', 'pommes', 'de', 'terre_blanches', ',', '6', '.', '3', '>>', 'a', '0', '.--.'], ['...', ',,', ',,,,', 'paille', ',', 'fi', '.', '50', 'a', '0', '.--;', 'loln', \",'\", '5', '.', '5i', ')', 'a', '0', '.--;_beurre', ',', 'le', 'kilo', '.'], ['2', '.', 'o', 'a', '0', '.--;_oeufs', ',', 'les', '26', ',', '3', '.', '30', 'a', '0', '.--;_genievre', ',', 'l', \"'\", 'uect', '.,', '--', 'a', 'esprit', ',', '0', '.--', 'a', '0', '.--.'], ['tournai', ',', '10', 'nov', '.', '--', 'froment_blaze', ',', 'l', \"'\", 'iiaetoluri', ',', 'fr', '.'], ['--.--', 'a', '--;_froment', ',--', 'u', '--;_metell', ',', '--', 'a', '--;_seigle', ',--.--', 'a', '--;_avoine', ',', '--', 'a', '--;', 'feve', '-', 'roles', ',', '--.--', 'a', '--;_beurre', ',', 'le', 'kilo', ',', '2', '.', '00', 'a', '3', ',', '10', ';', 'oeufs', ',', 'les', '26', ',', '3', '.', '70', 'u3', '.', 'c0', '.'], ['wacrofiliom', ',', '10', 'nov', '.--', 'beurre', '.', 'le', '1', '/', '3', 'il', '-,', '1', '.', '5qa', '1', '.', '60', ',', 'oeufs', ',', 'les', '26', ',', '3', '.', '99', 'a', '1', '.', '16', ';', 'lin', ',', 'les', '100_kilos', ',', '93', '.--', 'a', '145', '.--;_etoupes', ',', 'lee', '1u0', 'kii', '.,', '30', '.--', 'a', '35', '.--;_pommes', 'de', 'terre', ',', 'les', '100', '>', 'il', '.,', '3', '.--', 'a', '3', '.', '50', ';', 'jeune', 'porc', ',', 'la', 'piece', ',', '33', '.--', 'a', '50', '.--;_lapin', '.'], ['2', '.--', 'a', '3', '.', '95', ';', 'poulet', ',', '2', '.', '25', 'a', '3', '.'], ['--.'], ['vin', '-', 'e', '<<,', '10', 'nov', '.', '--', 'froment', ',', 'les', '10j', 'kll', '.,', 'fr', '.'], ['18', '.--', 'a', '19', '.', '59', ';', 'seigle', ',', '16', '.-', 'a', '16', '.', '75', ';', 'avoine', ',', '16', '.--', 'a', '16', '.', '75', ':', 'pois', '--', 'a', '--;_feveroles', ',', '--.--', 'a', '--.--;_pommes', 'de', 'terre', ',', '8', '80', 'a', 'g', '.--*,', 'beurre', ',', 'le', 'kilo', ',', '2', '.', '90', 'a', '3', '.', '20', ';', 'oeufs', ',', 'le', '(', 'iuart3', '-', 'ron', '.'], ['i', '.', '16', 'a', '4', '.', '63', '.'], ['charmanne', '.'], ['consul_general', 'de', 'belgique', 'a', 'ottawa', '(', 'canada', ').', 'a', 'ele', 'nomme_consul', 'general', 'a', 'bang_kok', '(', 'siam', '),', 'avec', 'juridiction', 'sur', 'le', 'siam', 'et', 'les', 'slrails', 'seluements', '.'], ['--', 'm', '.', 'kelels', ',', 'consul', 'de', 'belgique', 'a', 'tien', '-', 'tsin', '(', 'chine', '),', 'a', 'ele', 'nomme_consul', 'a', 'ottawa', '(', 'canada', '),', 'avec', 'juridiction', 'sur', 'la', 'federation', 'canadienne', 'et', 'ja', 'colonie', 'de', 'terre', '-', 'neuve', '.'], ['decoration', 'c', \".'\", 'v', \"'\", 'gae', '.'], ['--', 'la', '.', 'decoration_civique', 'a', 'ele', 'decernee', 'aux', 'agents', 'de', 'l', \"'\", 'administration', 'des', 'postes', ';', 'designes_ci', '-', 'apres', ',', 'savoir', ':', 'la', 'medaille', 'de', 'ire_classe', ':', 'a', 'm', '.', 'billy', '.'], ['facteur_rural', '.'], ['la', 'medaille', 'de', '2e_classe', ':', 'a', 'm', '.', 'goringy', 'facteur', 'local', '.', '.', 'armee', '.'], ['--', 'le', 'sergent', ',', 'en', 'conge_illimite', ',', 'baudouin', '\"', 'est', 'nomme', 'sous', '-', 'lieutenanl', 'payeur', 'de', 'reserve', '.'], ['notariat', '.'], ['--', 'sont_acceptees', 'les', 'demissions', 'de', 'm', '.', 'myin', '.'], ['de', 'ses_fonctions', 'de', 'notaire', 'a', 'la', 'residence', 'd', \"'\", 'anvers', ';', 'do', 'm', '.', 'jadol', ',', 'id', '.'], ['de', 'marche', '.'], ['ecole_militaire', '.'], ['--', 'sont', 'admis', 'a', 'l', \"'\", 'ecole_militaire', ',', 'en', 'qualite', 'd', \"'\", 'eleves', 'de', 'la', '57e', 'promotion', 'de', 'l', \"'\", 'infanterie', 'et', 'ao', 'la', '<', \"'\", '*', \"'\", '*', '-', '\"', 'i', 'cavalerie', ',', 'les', 'jeunes_gens', 'dont', 'les', 'noms_suivent', ':', 'hanon', 'de', 'louvet', ',', 'van_sprang', ',', 'deyloo', ',', 'petit', ',', 'champagne', '.'], ['masui', ',', 'gerard', ',', 'vanneste', ',', 'lallemand', ',', 'van', 'iioeeke', \".'\", 'rigano', '.'], ['ilendrickx', ',', 'von', 'glaboke', ',', 'sou', '-', \"'\", 'moy', '.', 'couturieaux', ',', 'lucion', ',', 'mersch', ',', 'iledo', ',', 'iloudmont', ',', 'de', 'heusch', '.'], ['terfve', '.'], ['labio', ',', 'brabant', ',', 'franckx', ',', 'foulon', ',', 'fiahiiifirh', '.'], ['simmi', '\"', 'tfannatvnin', 'fivnv', '^', 'f', 'h', '-.', 'ilu', '/', 'phnin', '.'], ['u', 'gernaert', ',', 'simon', \",'\", 'henncquin', ',', 'fcro', \"'\", 't', ',', 'g', '->', 'ile', ',', 'i', \"'\", 'orjo', 'e', \"'\", 'y', 'hannus', '.', 'noel', ',', 'flanieng', ',', 'bri', '-', 'matchovelette', ',', 'gondry', ',', 'doux', ',', 'vermeuleu', ',', 'giilo', 'gillot', ',', 'boufvin', '.'], ['borremans', '.'], ['academie_royale_flamande', 'de', 'langue', 'et', 'de', 'litterature', '.'], ['--', 'l', \"'\", 'election', 'faite', 'par', 'l', \"'\", 'academie_flamande', ',', 'dans', 'sa', 'seance', 'du', '17', 'octobre_1906', ',', 'de', 'm', '.', 'le', 'docteur', 'hugo_verriest', ',', 'a', 'ingoyghem', ',', 'en', 'qualite', 'de', 'membre_effectif', ',', 'en', '-', 'remplacement', 'de', 'feu', 'm', '.', 'janssens', ',', 'est_approuvee', '.'], ['sapeurs', '-', 'pompiers_communaux', 'armes', '.'], ['--', 'm', '.', 'pa', '*', 'njels', ',', 'sous', '-', 'fieu', 'tenant', 'au', 'corps', 'arme', 'de', 'sapeurs', '-', 'pom', '-', 'iers', 'communaux', 'de', 'schaerheek', ',', 'est', 'nomme', 'lieule', '-', 'p', 'u', 'teuant', ',-', 'en_remplacement', 'de', 'm', '.', 'verteneuil', ',', 'decede', '.'], ['enseignement_moyen', '.'], ['--', 'mme', 'schaefer', '-', 'misonne', ',.'], ['.', 'directrice', 'a', 'titre_provisoire', 'de', 'l', \"'\", 'ecole_moyenne', 'de', 'l', \"'\", 'elat', 'pour', 'alles', ',', 'a', 'jumet', ',', 'est', 'dechargee', 'des', 'fonciions', 'de', 'regente', 'd', \"'\", 'economie', 'domes', '!'], ['ique', 'a', 'l', \"'\", 'ecole', '\"', 'moyen', 'ne', 'del', \"'\", 'ktai', 'pour', 'ailes', ',', 'a', 'la', 'louviere', '.'], ['--', 'm', '.', 'barzin', 'est', 'decharge', ',', 'sur', 'sa', 'demande', ',', 'des', 'fonctions', 'de', 'regent', 'a', 'l', \"'\", 'ecole_moyenne', 'de', 'l', \"'\", 'etal', 'pour', \"'\", 'garcons', ',', 'a', 'spa', ',', 'avec', 'autorisation', 'd', \"'\", 'en', 'conserver', 'le', 'r', 'titre_honorifique', ':', 'il', 'est', 'admis', 'a', 'faire_valoir', 'ses_droits', ';', 'a', 'ja', 'pension', '.'], [';', \"'\", '-', 'r', '-', 'm', '.', 'drainer', ',', 'directeur', 'a', 'titre_provisoire', 'de', 'l', \"'\", 'ecole', 'moyenue', 'de', 'l', \"'\", 'etat', 'pour', '.', 'garcons', '^', 'a', 'wavre', ',', 'est', 'decharge', ',', 'sur', 'sa', 'demande', ',', 'des', 'fonctions', 'de', 'professeur', 'de', 'gymnastique', ',', 'en', ',', 'partage', ',', 'a', 'l', \"'\", 'ecole_moyenne', 'do', 'l', \"'\", 'etat', 'pour', 'garcons', ',', 'a', 'roeulx', '.'], ['*', 'contributions_directes', ',', 'douanes', 'et', 'accises', '.'], ['--', 'm', '.'], ['du', '-', '#', 'val', ',', 'receveur', 'des', 'contributions_directes', 'et', 'des', 'accises', 'a', 'deynze', '.', 'est', 'admis', ',', 'sur', 'sa', 'demande', ',', 'a', 'faire_valoir', 'ses_droits', 'a', 'la', 'pension', 'de', 'retraite', '.'], ['coinmission', 'tnedicale', 'provinciale', '.'], ['--', 'sont_nommes', 'membres_correspondants', 'de', 'la', 'commission_medicale', 'piminciale', 'de', 'namur', ';', 'mm', '.'], ['les', 'doctonrs', 'rolin', ',', 'u', \"'\", 'e', 'fosses', ';', 'lebrun', ',', 'de', 'ligny', ';', 'giliard', ',', 'do', 'ctiampion', ',', 'et', '.'], ['defasse', ',', 'de', 'spj', '\\\\', 'en_remplacement', 'de', 'mm', ',', 'les', 'docteurs', '.'], ['wery', ',', 'de', 'fosses', ',', 'et', 'fermine', ',', 'do', 'lignv', ',', 'demis', '-', ';', 'sionnairos', ',', 'et', 'de', 'mm', '.'], ['jes', 'docteurs', 'renard', ',', \"'\", 'de', 'champion', 'et', 'dehaybe', ',', 'de', 'spy', ',', 'decedes', '.'], ['arts', ',', 'sciences', 'et', 'lettres', 'declamation', '.', 'et', 'diction', '.'], ['*', '--', 'on', 'nous', 'demande', 'de', 'divers_cotes', 'des', 'renseignements', 'sur', 'le', 'cours', 'que', 'va', 'donner', 'm', '.', 'hittemans', '.'], ['nous', 'no', 'croyons_pouvoir', 'mieux', 'faire', 'que', 'd', \"'\", 'engager', 'les', 'interesses', 'a', 's', \"'\", 'adresser', 'a', 'l', \"'\", 'artiste', ',', 'rue', 'verhulst', ',', '6', ',', 'a', 'uccle', '.'], ['universite_libre', ',', 'rue', 'des', 'sols', '.'], ['--', 'demain_lundi', ',', 'a', 'r', 'meures', 'du', 'soir', ',', 'conference', 'par', 'm', '.', 'lameere', ':', '<<', 'la', 'fondation', '>>.'], ['universite_populaire', 'd', \"'\", 'euerbeek', '.'], ['--', 'lundi', '12', ',', 'a', '3', 'h', '.', '1', '/', '2', ',', 'au', 'local', ',', '4', ',', 'rue', 'do', 'l', \"'\", 'etang', ',', 'inauguration_solennelle', '.'], ['discours', 'de', 'm', '.', 'e', '.', 'richard', '.'], ['conference', 'de', 'xi', '.', 'ch', '.', 'buls', '.', 'sujet', ':', '<<-', 'la', 'corse', '>>.'], ['projections_lumineuses', '*', 'universite_populaire', 'de', 'saint', '-', 'josse', ',', '67', ',', 'rue', 'de', 'la', 'limite', '.'], ['demain_lundi', ',', 'a', '8', 'h', '.', '1', '/', '4', ',', 'eauserio', 'litteraire', ':', '<<', 'maxim', 'gorki', '<<.', 'lectures', '.'], ['vamicale', 'de', 'vecole', 'n_deg', '7', '.'], ['--', 'demain_lundi', ',', 'a', '8', 'h', '.', 'du', 'soir', ',', 'dans', 'le', 'preau', 'de', 'l', \"'\", 'ecole', 'n_deg', '7', ',', 'rue_haute', '225', \"'\", 'conference', 'par', 'madame', 'journaux', ':', '<<', 'de', 'la', 'grande', '-', 'chartreuse', 'a', 'ja', 'cote', 'd', \"'\", 'azur', '>>.', 'projections_lumineuses', '.'], ['foyer_intellectuel', ',', 's0', ',', 'rue', 'du', 'fort', '.'], ['--', 'demain_lundi', ',', 'a', '8b', ',,', 'm', '.', 'j', '.', 'vincent', ':', '<<', 'la', 'meteorologie', ':', 'le', 'barometre', '>>.']]\n"
     ]
    }
   ],
   "source": [
    "print(corpus[:100])"
   ]
  },
  {
   "cell_type": "markdown",
   "metadata": {},
   "source": [
    "## Entrainement d'un modèle Word2Vec sur ce corpus"
   ]
  },
  {
   "cell_type": "code",
   "execution_count": 52,
   "metadata": {},
   "outputs": [
    {
     "name": "stdout",
     "output_type": "stream",
     "text": [
      "CPU times: total: 5min 28s\n",
      "Wall time: 9min 35s\n"
     ]
    }
   ],
   "source": [
    "%%time\n",
    "model = Word2Vec(\n",
    "    corpus, # On passe le corpus de ngrams que nous venons de créer\n",
    "    vector_size=32, # Le nombre de dimensions dans lesquelles le contexte des mots devra être réduit, aka. vector_size\n",
    "    window=6, # La taille du \"contexte\", ici 5 mots avant et après le mot observé\n",
    "    min_count=3, # On ignore les mots qui n'apparaissent pas au moins 5 fois dans le corpus\n",
    "    workers=4, # Permet de paralléliser l'entraînement du modèle en 4 threads\n",
    "    epochs=7 # Nombre d'itérations du réseau de neurones sur le jeu de données pour ajuster les paramètres avec la descente de gradient, aka. epochs.\n",
    ")"
   ]
  },
  {
   "cell_type": "markdown",
   "metadata": {},
   "source": [
    "#### Remarque\n",
    "\n",
    "Vous voyez ici que l'entrainement du modèle est parallélisé (sur 4 workers).\n",
    "\n",
    "Lors qu'on parallélise l'entrainement du modèle, 4 modèles \"séparés\" sont entrainés sur environ un quart des phrases.\n",
    "\n",
    "Ensuite, les résultats sont agrégés pour ne plus faire qu'un seul modèle.\n",
    "\n",
    "On ne peut prédire quel worker aura quelle phrase, car il y a des aléas lors de la parallélisation (p. ex. un worker qui serait plus lent, etc.).\n",
    "\n",
    "Du coup, les valeurs peuvent varier légèrement d'un entrainement à l'autre.\n",
    "\n",
    "Mais, globalement, les résultats restent cohérents."
   ]
  },
  {
   "cell_type": "markdown",
   "metadata": {},
   "source": [
    "### Sauver le modèle dans un fichier"
   ]
  },
  {
   "cell_type": "code",
   "execution_count": 53,
   "metadata": {},
   "outputs": [],
   "source": [
    "outfile = f\"../data/newspapers.model\"\n",
    "model.save(outfile)"
   ]
  },
  {
   "cell_type": "markdown",
   "metadata": {},
   "source": [
    "## Explorer le modèle"
   ]
  },
  {
   "cell_type": "markdown",
   "metadata": {},
   "source": [
    "### Charger le modèle en mémoire"
   ]
  },
  {
   "cell_type": "code",
   "execution_count": 54,
   "metadata": {},
   "outputs": [],
   "source": [
    "model = Word2Vec.load(\"../data/newspapers.model\")"
   ]
  },
  {
   "cell_type": "markdown",
   "metadata": {},
   "source": [
    "### Imprimer le vecteur d'un terme"
   ]
  },
  {
   "cell_type": "code",
   "execution_count": 61,
   "metadata": {},
   "outputs": [
    {
     "data": {
      "text/plain": [
       "array([ 1.6888598 , -1.0672638 , -2.2422738 , -1.9001126 , -2.4432218 ,\n",
       "       -1.46235   , -0.9715014 , -1.3654633 , -3.6785505 ,  0.29820517,\n",
       "        1.8520144 , -3.835808  , -4.2769694 , -5.91797   , -1.3427918 ,\n",
       "        2.7583995 ,  0.5818314 ,  0.85508615, -0.36045277, -0.59332067,\n",
       "       -4.428832  , -0.6219408 ,  0.4549607 , -1.9093367 ,  3.5782638 ,\n",
       "       -1.3537786 ,  4.280129  , -6.597984  ,  3.673077  , -2.3137038 ,\n",
       "       -4.8271008 , -2.9477067 ], dtype=float32)"
      ]
     },
     "execution_count": 61,
     "metadata": {},
     "output_type": "execute_result"
    }
   ],
   "source": [
    "model.wv[\"dieu\"]"
   ]
  },
  {
   "cell_type": "markdown",
   "metadata": {},
   "source": [
    "### Calculer la similarité entre deux termes"
   ]
  },
  {
   "cell_type": "code",
   "execution_count": 65,
   "metadata": {},
   "outputs": [
    {
     "data": {
      "text/plain": [
       "0.80468637"
      ]
     },
     "execution_count": 65,
     "metadata": {},
     "output_type": "execute_result"
    }
   ],
   "source": [
    "model.wv.similarity(\"dieu\", \"diable\")"
   ]
  },
  {
   "cell_type": "markdown",
   "metadata": {},
   "source": [
    "### Chercher les mots les plus proches d'un terme donné"
   ]
  },
  {
   "cell_type": "code",
   "execution_count": 68,
   "metadata": {},
   "outputs": [
    {
     "data": {
      "text/plain": [
       "[('chagrin', 0.8588914275169373),\n",
       " ('papa', 0.8446003794670105),\n",
       " ('monseigneur', 0.8379319906234741),\n",
       " ('parrain', 0.8274325728416443),\n",
       " ('cet_enfant', 0.8255584239959717),\n",
       " ('mon_pere', 0.8232569694519043),\n",
       " ('cet_homme', 0.8208887577056885),\n",
       " ('ma_mere', 0.8206090927124023),\n",
       " ('seigneur', 0.8187078833580017),\n",
       " ('napoleon', 0.8048292398452759)]"
      ]
     },
     "execution_count": 68,
     "metadata": {},
     "output_type": "execute_result"
    }
   ],
   "source": [
    "model.wv.most_similar(\"dieu\", topn=10)"
   ]
  },
  {
   "cell_type": "markdown",
   "metadata": {},
   "source": [
    "### Faire des recherches complexes à travers l'espace vectoriel"
   ]
  },
  {
   "cell_type": "code",
   "execution_count": 69,
   "metadata": {},
   "outputs": [
    {
     "name": "stdout",
     "output_type": "stream",
     "text": [
      "[('cleopatre', 0.7815219163894653), ('corneille', 0.7611695528030396), ('ronsard', 0.7574043273925781), ('themis', 0.7563536763191223), ('salomon', 0.7497104406356812), ('napoleon', 0.7363564372062683), ('goethe', 0.7356658577919006), ('jean_anouilh', 0.7343509197235107), ('castille', 0.7338094711303711), ('moise', 0.732423722743988)]\n"
     ]
    }
   ],
   "source": [
    "print(model.wv.most_similar(positive=['dieu', 'jesus'], negative=['chagrin']))"
   ]
  }
 ],
 "metadata": {
  "kernelspec": {
   "display_name": "Python 3.10.7 ('tac_venv': venv)",
   "language": "python",
   "name": "python3"
  },
  "language_info": {
   "codemirror_mode": {
    "name": "ipython",
    "version": 3
   },
   "file_extension": ".py",
   "mimetype": "text/x-python",
   "name": "python",
   "nbconvert_exporter": "python",
   "pygments_lexer": "ipython3",
   "version": "3.10.7"
  },
  "vscode": {
   "interpreter": {
    "hash": "bf1c0e32efbc1b0a30fa46d6ab60b25f74a78c177210c206f5ce854a430d1ba2"
   }
  }
 },
 "nbformat": 4,
 "nbformat_minor": 4
}
