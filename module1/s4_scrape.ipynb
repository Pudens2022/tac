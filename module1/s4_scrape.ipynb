{
 "cells": [
  {
   "cell_type": "markdown",
   "metadata": {},
   "source": [
    "# Scraping: récupération de la page d'accueil du journal Le Soir\n",
    "\n",
    "Dans ce notebook, nous créons un robot qui va ouvrir la page d'accueil du site du journal [Le Soir](https://www.lesoir.be/) et récupérer le titre de tous les articles du jour et les stocker dans un fichier csv."
   ]
  },
  {
   "cell_type": "markdown",
   "metadata": {},
   "source": [
    "## Imports"
   ]
  },
  {
   "cell_type": "code",
   "execution_count": 12,
   "metadata": {},
   "outputs": [],
   "source": [
    "import os\n",
    "import re\n",
    "import time\n",
    "import requests\n",
    "from bs4 import BeautifulSoup\n",
    "import pandas as pd"
   ]
  },
  {
   "cell_type": "markdown",
   "metadata": {},
   "source": [
    "## Récupération de tous les articles de la page d'accueil\n",
    "\n"
   ]
  },
  {
   "cell_type": "code",
   "execution_count": 13,
   "metadata": {},
   "outputs": [],
   "source": [
    "headers = {'User-Agent': 'Mozilla/5.0 (Macintosh; Intel Mac OS X 10_10_1) AppleWebKit/537.36 (KHTML, like Gecko) Chrome/39.0.2171.95 Safari/537.36'}\n",
    "\n",
    "articles = []\n",
    "\n",
    "root_url = f\"https://www.lesoir.be\"\n",
    "response = requests.get(root_url, headers=headers)\n",
    "soup = BeautifulSoup(response.text, 'html.parser')\n",
    "for link in soup.find_all(\"a\", {\"class\":\"r-article--link\"}):\n",
    "    title = link.text.strip()\n",
    "    url = root_url + link.get('href')\n",
    "    articles.append([url, title])"
   ]
  },
  {
   "cell_type": "code",
   "execution_count": 14,
   "metadata": {},
   "outputs": [
    {
     "data": {
      "text/plain": [
       "89"
      ]
     },
     "execution_count": 14,
     "metadata": {},
     "output_type": "execute_result"
    }
   ],
   "source": [
    "# Affichage du nombre d'articles récupérés\n",
    "len(articles)"
   ]
  },
  {
   "cell_type": "code",
   "execution_count": 15,
   "metadata": {},
   "outputs": [
    {
     "data": {
      "text/plain": [
       "[['https://www.lesoir.be/504106/article/2023-03-29/guerre-en-ukraine-poutine-reconnait-limpact-des-sanctions-internationales-sur',\n",
       "  'Guerre en Ukraine: Poutine reconnaît l’impact des sanctions internationales sur l’économie russe'],\n",
       " ['https://www.lesoir.be/504100/article/2023-03-29/comment-leurope-se-prepare-aux-attentats',\n",
       "  'Décodage\\nComment l’Europe se prépare aux attentats'],\n",
       " ['https://www.lesoir.be/504080/article/2023-03-29/proces-des-attentats-de-bruxelles-mohamed-abrini-remercie-une-victime-pour-son',\n",
       "  'Procès des attentats de Bruxelles: Mohamed Abrini remercie une victime pour son témoignage'],\n",
       " ['https://www.lesoir.be/504147/article/2023-03-29/le-chambre-ira-recuperer-les-supplements-de-pension-verses-raymond-langendries',\n",
       "  'Le Chambre ira récupérer les suppléments de pension versés à Raymond Langendries et Sigfried Bracke'],\n",
       " ['https://www.lesoir.be/504004/article/2023-03-29/comment-les-prix-de-limmobilier-neuf-ont-evolue-ces-dernieres-annees-cartes',\n",
       "  'Comment les prix de l’immobilier neuf ont évolué ces dernières années (cartes interactives)'],\n",
       " ['https://www.lesoir.be/504130/article/2023-03-29/totalement-insuffisant-un-expert-recadre-severement-le-plan-alcool-interfederal',\n",
       "  '«Totalement insuffisant»: un expert recadre sévèrement le plan alcool interfédéral'],\n",
       " ['https://www.lesoir.be/503941/article/2023-03-29/podcast-la-belgique-championne-lexportation-dun-pesticide-interdit-dans-lunion',\n",
       "  \"Podcast - La Belgique championne à l'exportation d'un pesticide interdit dans l'Union européenne\"],\n",
       " ['https://www.lesoir.be/504091/article/2023-03-29/apres-delhaize-des-troubles-sociaux-chez-aldi',\n",
       "  'Après Delhaize, des troubles sociaux chez Aldi'],\n",
       " ['https://www.lesoir.be/504113/article/2023-03-29/conflits-dinterets-un-haut-fonctionnaire-europeen-se-retire-apres-le-tolle',\n",
       "  'Conflits d’intérêts: un haut fonctionnaire européen se retire après le tollé suscité par ses voyages au Qatar'],\n",
       " ['https://www.lesoir.be/504007/article/2023-03-29/philippe-albert-apres-la-victoire-des-diables-en-allemagne-vu-ou-tedesco-voulait',\n",
       "  'Philippe Albert après la victoire des Diables en Allemagne: «On a vu où Tedesco voulait en venir en matière de football total»']]"
      ]
     },
     "execution_count": 15,
     "metadata": {},
     "output_type": "execute_result"
    }
   ],
   "source": [
    "# Affichage des 10 premières entrées\n",
    "articles[:10]"
   ]
  },
  {
   "cell_type": "markdown",
   "metadata": {},
   "source": [
    "## Création d'un dataframe avec les liens et les titres des articles\n"
   ]
  },
  {
   "cell_type": "code",
   "execution_count": 16,
   "metadata": {},
   "outputs": [
    {
     "data": {
      "text/html": [
       "<div>\n",
       "<style scoped>\n",
       "    .dataframe tbody tr th:only-of-type {\n",
       "        vertical-align: middle;\n",
       "    }\n",
       "\n",
       "    .dataframe tbody tr th {\n",
       "        vertical-align: top;\n",
       "    }\n",
       "\n",
       "    .dataframe thead th {\n",
       "        text-align: right;\n",
       "    }\n",
       "</style>\n",
       "<table border=\"1\" class=\"dataframe\">\n",
       "  <thead>\n",
       "    <tr style=\"text-align: right;\">\n",
       "      <th></th>\n",
       "      <th>link</th>\n",
       "      <th>title</th>\n",
       "    </tr>\n",
       "  </thead>\n",
       "  <tbody>\n",
       "    <tr>\n",
       "      <th>0</th>\n",
       "      <td>https://www.lesoir.be/504106/article/2023-03-2...</td>\n",
       "      <td>Guerre en Ukraine: Poutine reconnaît l’impact ...</td>\n",
       "    </tr>\n",
       "    <tr>\n",
       "      <th>1</th>\n",
       "      <td>https://www.lesoir.be/504100/article/2023-03-2...</td>\n",
       "      <td>Décodage\\nComment l’Europe se prépare aux atte...</td>\n",
       "    </tr>\n",
       "    <tr>\n",
       "      <th>2</th>\n",
       "      <td>https://www.lesoir.be/504080/article/2023-03-2...</td>\n",
       "      <td>Procès des attentats de Bruxelles: Mohamed Abr...</td>\n",
       "    </tr>\n",
       "    <tr>\n",
       "      <th>3</th>\n",
       "      <td>https://www.lesoir.be/504147/article/2023-03-2...</td>\n",
       "      <td>Le Chambre ira récupérer les suppléments de pe...</td>\n",
       "    </tr>\n",
       "    <tr>\n",
       "      <th>4</th>\n",
       "      <td>https://www.lesoir.be/504004/article/2023-03-2...</td>\n",
       "      <td>Comment les prix de l’immobilier neuf ont évol...</td>\n",
       "    </tr>\n",
       "    <tr>\n",
       "      <th>...</th>\n",
       "      <td>...</td>\n",
       "      <td>...</td>\n",
       "    </tr>\n",
       "    <tr>\n",
       "      <th>84</th>\n",
       "      <td>https://www.lesoir.be/503006/article/2023-03-2...</td>\n",
       "      <td>Les groupes, espèce en voie d’extinction</td>\n",
       "    </tr>\n",
       "    <tr>\n",
       "      <th>85</th>\n",
       "      <td>https://www.lesoir.be/502489/article/2023-03-2...</td>\n",
       "      <td>Les produits bio à la recherche d’un second so...</td>\n",
       "    </tr>\n",
       "    <tr>\n",
       "      <th>86</th>\n",
       "      <td>https://www.lesoir.be/502893/article/2023-03-2...</td>\n",
       "      <td>Le poke bowl, la nouvelle coqueluche du fast-good</td>\n",
       "    </tr>\n",
       "    <tr>\n",
       "      <th>87</th>\n",
       "      <td>https://www.lesoir.be/502647/article/2023-03-2...</td>\n",
       "      <td>Cancer: une découverte belge majeure explique ...</td>\n",
       "    </tr>\n",
       "    <tr>\n",
       "      <th>88</th>\n",
       "      <td>https://www.lesoir.be/503145/article/2023-03-2...</td>\n",
       "      <td>Energie: les prix baissent, faut-il changer de...</td>\n",
       "    </tr>\n",
       "  </tbody>\n",
       "</table>\n",
       "<p>89 rows × 2 columns</p>\n",
       "</div>"
      ],
      "text/plain": [
       "                                                 link  \\\n",
       "0   https://www.lesoir.be/504106/article/2023-03-2...   \n",
       "1   https://www.lesoir.be/504100/article/2023-03-2...   \n",
       "2   https://www.lesoir.be/504080/article/2023-03-2...   \n",
       "3   https://www.lesoir.be/504147/article/2023-03-2...   \n",
       "4   https://www.lesoir.be/504004/article/2023-03-2...   \n",
       "..                                                ...   \n",
       "84  https://www.lesoir.be/503006/article/2023-03-2...   \n",
       "85  https://www.lesoir.be/502489/article/2023-03-2...   \n",
       "86  https://www.lesoir.be/502893/article/2023-03-2...   \n",
       "87  https://www.lesoir.be/502647/article/2023-03-2...   \n",
       "88  https://www.lesoir.be/503145/article/2023-03-2...   \n",
       "\n",
       "                                                title  \n",
       "0   Guerre en Ukraine: Poutine reconnaît l’impact ...  \n",
       "1   Décodage\\nComment l’Europe se prépare aux atte...  \n",
       "2   Procès des attentats de Bruxelles: Mohamed Abr...  \n",
       "3   Le Chambre ira récupérer les suppléments de pe...  \n",
       "4   Comment les prix de l’immobilier neuf ont évol...  \n",
       "..                                                ...  \n",
       "84           Les groupes, espèce en voie d’extinction  \n",
       "85  Les produits bio à la recherche d’un second so...  \n",
       "86  Le poke bowl, la nouvelle coqueluche du fast-good  \n",
       "87  Cancer: une découverte belge majeure explique ...  \n",
       "88  Energie: les prix baissent, faut-il changer de...  \n",
       "\n",
       "[89 rows x 2 columns]"
      ]
     },
     "execution_count": 16,
     "metadata": {},
     "output_type": "execute_result"
    }
   ],
   "source": [
    "df = pd.DataFrame(articles, columns=['link', 'title'])\n",
    "df"
   ]
  },
  {
   "cell_type": "code",
   "execution_count": 17,
   "metadata": {},
   "outputs": [],
   "source": [
    "# Sauvegarde du dataframe dans un fichier csv\n",
    "df.to_csv(f\"../data/lesoir_{time.strftime('%Y%m%d')}.csv\", index=False)"
   ]
  },
  {
   "cell_type": "markdown",
   "metadata": {},
   "source": [
    "## Téléchargement d'un article et affichage du texte"
   ]
  },
  {
   "cell_type": "code",
   "execution_count": 18,
   "metadata": {},
   "outputs": [
    {
     "name": "stdout",
     "output_type": "stream",
     "text": [
      "Guerre en Ukraine: Poutine reconnaît l’impact des sanctions internationales sur l’économie russe\n",
      "==================================\n",
      "Jusqu’à présent, le président russe Vladimir Poutine avait toujours vanté l’adaptation de la Russie face à cette nouvelle conjoncture.\n",
      "==================================\n",
      "  V ladimir Poutine a dit mercredi que les sanctions internationales visant Moscou pour son offensive en Ukraine « peuvent » avoir des conséquences « négatives » à « moyen terme » sur l’économie nationale, après avoir pourtant vanté ces derniers mois l’adaptation de la Russie face à cette nouvelle conjoncture.                function get_dtkCxSegments() { if ('cxSegments' in localStorage) { /* Récupération de cxSegments + initialisation de variables destinées à en limiter la longueur */ let cx = localStorage.getItem(\"cxSegments\"), valueCx = cx.split(\",\"), valueCxLimited = [], charLength = 0, limit = 2000; /* Limitation de la longueur de la chaine de caractère */ for (var i = 0; i < valueCx.length; i++) { charLength = charLength + valueCx[i].length; if (charLength <= limit) { valueCxLimited.push(valueCx[i]); } } return valueCxLimited; } else { return false; } } window.dtkCxSegments = window.dtkCxSegments || get_dtkCxSegments(); var dtkEmbed = document.currentScript.parentNode; var dtkIframe = dtkEmbed.querySelector(\".dmp-digiteka-eaf2771c02cfd8f4b8d8d3f51a123547\").content.cloneNode(true); dtkIframe = dtkIframe.querySelector('iframe'); var dtkUrl = new URL(dtkIframe.dataset.src); var tagparamValue = (dtkUrl.searchParams.get(\"tagparam\")) ? dtkUrl.searchParams.get(\"tagparam\") + \"&CxSegments=\" + window.dtkCxSegments : \"CxSegments=\" + window.dtkCxSegments; if (window.dtkCxSegments) dtkUrl.searchParams.set('tagparam', tagparamValue); dtkIframe.dataset.src = dtkUrl.toString(); dtkEmbed.appendChild(dtkIframe);      « Les sanctions imposées à l’économie russe à moyen terme peuvent vraiment avoir un impact négatif sur celle-ci », a mis en garde le président russe lors d’une réunion avec le gouvernement, retransmise à la télévision. C’est la première fois que Vladimir Poutine admet publiquement que la pluie de sanctions internationales, qui touchent de nombreux secteurs de l’activité russe dont celui stratégique des hydrocarbures, affecte l’économie nationale. Plus d’un après le déclenchement de l’offensive en Ukraine, « le chômage est à son niveau le plus bas », à 3,6 %, et « fin mars, l’inflation va tomber en dessous des 4 % », après avoir flambé à près de 20 % au printemps dernier, a déclaré M. Poutine. « Mais cela ne veut pas dire que tous les problèmes ont déjà été résolus », a-t-il averti face aux membres de son gouvernement.   Le retour à une trajectoire de croissance ne doit pas nous faire se relâcher   « Le retour à une trajectoire de croissance ne doit pas nous faire se relâcher », a-t-il encore appuyé dans un rare réquisitoire, appelant à « garantir la souveraineté économique » de la Russie. M. Poutine a ainsi réclamé au gouvernement et aux dirigeants économiques d’« assurer le lancement rapide de nouveaux projets dans les industries manufacturières, en particulier dans la production de produits de haute technologie », un secteur frappé par le départ de nombreux spécialistes à l’étranger. « Notre système financier devrait jouer un rôle important pour répondre aux besoins des exportateurs. Et nous devons remplacer les entreprises occidentales qui travaillaient dans ce créneau », a-t-il encore demandé.  Dépendance grandissante de Moscou vis-à-vis de Pékin  Ces propos de Vladimir Poutine interviennent une semaine après un sommet à Moscou avec son homologue chinois, Xi Jinping, lors duquel les deux dirigeants ont dit vouloir « approfondir » les relations économiques russo-chinoises. Mais de nombreux observateurs y ont vu un signe de la dépendance grandissante de Moscou vis-à-vis de Pékin, dont l’économie a largement capté les exportations de gaz et de pétrole russe, visées par les sanctions des Occidentaux.           À lire aussi   Visite de Xi Jinping en Russie: le baiser de la mort pour Vladimir Poutine?     \n",
      "   Si ces nouveaux débouchés ont permis à la Russie de compenser en partie les marchés perdus en Europe, sa dépendance envers les poids lourds asiatiques permet en effet à la Chine et à l’Inde d’être en position de force et de négocier les prix à la baisse.\n"
     ]
    }
   ],
   "source": [
    "# Récupération du premier lien du dataframe\n",
    "article_url = df.iloc[0][0]\n",
    "\n",
    "# Ouverture de la page\n",
    "response = requests.get(article_url, headers=headers)\n",
    "soup = BeautifulSoup(response.text, 'html.parser')\n",
    "\n",
    "# Parsing du contenu\n",
    "title = soup.find(\"h1\").get_text(separator=' ')\n",
    "chapo = soup.find(\"r-article--chapo\").get_text(separator=' ')\n",
    "content = soup.find(\"r-article--section\").get_text(separator=' ')\n",
    "\n",
    "print(title)\n",
    "print(\"==================================\")\n",
    "print(chapo)\n",
    "print(\"==================================\")\n",
    "print(content)"
   ]
  },
  {
   "cell_type": "markdown",
   "metadata": {},
   "source": [
    "### Nettoyage du texte à l'aide d'expressions régulières"
   ]
  },
  {
   "cell_type": "code",
   "execution_count": 19,
   "metadata": {},
   "outputs": [
    {
     "name": "stdout",
     "output_type": "stream",
     "text": [
      "  V ladimir Poutine a dit mercredi que les sanctions internationales visant Moscou pour son offensive en Ukraine « peuvent » avoir des conséquences « négatives » à « moyen terme » sur l’économie nationale, après avoir pourtant vanté ces derniers mois l’adaptation de la Russie face à cette nouvelle conjoncture.                function get_dtkCxSegments() { if ('cxSegments' in localStorage) { /* Récupération de cxSegments + initialisation de variables destinées à en limiter la longueur */ let cx = localStorage.getItem(\"cxSegments\"), valueCx = cx.split(\",\"), valueCxLimited = [], charLength = 0, limit = 2000; /* Limitation de la longueur de la chaine de caractère */ for (var i = 0; i < valueCx.length; i++) { charLength = charLength + valueCx[i].length; if (charLength <= limit) { valueCxLimited.push(valueCx[i]); } } return valueCxLimited; } else { return false; } } window.dtkCxSegments = window.dtkCxSegments || get_dtkCxSegments(); var dtkEmbed = document.currentScript.parentNode; var dtkIframe = dtkEmbed.querySelector(\".dmp-digiteka-eaf2771c02cfd8f4b8d8d3f51a123547\").content.cloneNode(true); dtkIframe = dtkIframe.querySelector('iframe'); var dtkUrl = new URL(dtkIframe.dataset.src); var tagparamValue = (dtkUrl.searchParams.get(\"tagparam\")) ? dtkUrl.searchParams.get(\"tagparam\") + \"&CxSegments=\" + window.dtkCxSegments : \"CxSegments=\" + window.dtkCxSegments; if (window.dtkCxSegments) dtkUrl.searchParams.set('tagparam', tagparamValue); dtkIframe.dataset.src = dtkUrl.toString(); dtkEmbed.appendChild(dtkIframe);      « Les sanctions imposées à l’économie russe à moyen terme peuvent vraiment avoir un impact négatif sur celle-ci », a mis en garde le président russe lors d’une réunion avec le gouvernement, retransmise à la télévision. C’est la première fois que Vladimir Poutine admet publiquement que la pluie de sanctions internationales, qui touchent de nombreux secteurs de l’activité russe dont celui stratégique des hydrocarbures, affecte l’économie nationale. Plus d’un après le déclenchement de l’offensive en Ukraine, « le chômage est à son niveau le plus bas », à 3,6 %, et « fin mars, l’inflation va tomber en dessous des 4 % », après avoir flambé à près de 20 % au printemps dernier, a déclaré M. Poutine. « Mais cela ne veut pas dire que tous les problèmes ont déjà été résolus », a-t-il averti face aux membres de son gouvernement.   Le retour à une trajectoire de croissance ne doit pas nous faire se relâcher   « Le retour à une trajectoire de croissance ne doit pas nous faire se relâcher », a-t-il encore appuyé dans un rare réquisitoire, appelant à « garantir la souveraineté économique » de la Russie. M. Poutine a ainsi réclamé au gouvernement et aux dirigeants économiques d’« assurer le lancement rapide de nouveaux projets dans les industries manufacturières, en particulier dans la production de produits de haute technologie », un secteur frappé par le départ de nombreux spécialistes à l’étranger. « Notre système financier devrait jouer un rôle important pour répondre aux besoins des exportateurs. Et nous devons remplacer les entreprises occidentales qui travaillaient dans ce créneau », a-t-il encore demandé.  Dépendance grandissante de Moscou vis-à-vis de Pékin  Ces propos de Vladimir Poutine interviennent une semaine après un sommet à Moscou avec son homologue chinois, Xi Jinping, lors duquel les deux dirigeants ont dit vouloir « approfondir » les relations économiques russo-chinoises. Mais de nombreux observateurs y ont vu un signe de la dépendance grandissante de Moscou vis-à-vis de Pékin, dont l’économie a largement capté les exportations de gaz et de pétrole russe, visées par les sanctions des Occidentaux.           À lire aussi   Visite de Xi Jinping en Russie: le baiser de la mort pour Vladimir Poutine?     \n",
      "   Si ces nouveaux débouchés ont permis à la Russie de compenser en partie les marchés perdus en Europe, sa dépendance envers les poids lourds asiatiques permet en effet à la Chine et à l’Inde d’être en position de force et de négocier les prix à la baisse.\n",
      "==================================\n",
      " V ladimir Poutine a dit mercredi que les sanctions internationales visant Moscou pour son offensive en Ukraine « peuvent » avoir des conséquences « négatives » à « moyen terme » sur l’économie nationale, après avoir pourtant vanté ces derniers mois l’adaptation de la Russie face à cette nouvelle conjoncture. function get_dtkCxSegments() { if { /* Récupération de cxSegments + initialisation de variables destinées à en limiter la longueur */ let cx = localStorage.getItem , valueCx = cx.split , valueCxLimited = [], charLength = 0, limit = 2000; /* Limitation de la longueur de la chaine de caractère */ for { charLength = charLength + valueCx[i].length; if { valueCxLimited.push ; } } return valueCxLimited; } else { return false; } } window.dtkCxSegments = window.dtkCxSegments || get_dtkCxSegments(); var dtkEmbed = document.currentScript.parentNode; var dtkIframe = dtkEmbed.querySelector .content.cloneNode ; dtkIframe = dtkIframe.querySelector ; var dtkUrl = new URL ; var tagparamValue = ) ? dtkUrl.searchParams.get + \"&CxSegments=\" + window.dtkCxSegments : \"CxSegments=\" + window.dtkCxSegments; if dtkUrl.searchParams.set ; dtkIframe.dataset.src = dtkUrl.toString(); dtkEmbed.appendChild ; « Les sanctions imposées à l’économie russe à moyen terme peuvent vraiment avoir un impact négatif sur celle-ci », a mis en garde le président russe lors d’une réunion avec le gouvernement, retransmise à la télévision. C’est la première fois que Vladimir Poutine admet publiquement que la pluie de sanctions internationales, qui touchent de nombreux secteurs de l’activité russe dont celui stratégique des hydrocarbures, affecte l’économie nationale. Plus d’un après le déclenchement de l’offensive en Ukraine, « le chômage est à son niveau le plus bas », à 3,6 %, et « fin mars, l’inflation va tomber en dessous des 4 % », après avoir flambé à près de 20 % au printemps dernier, a déclaré M. Poutine. « Mais cela ne veut pas dire que tous les problèmes ont déjà été résolus », a-t-il averti face aux membres de son gouvernement. Le retour à une trajectoire de croissance ne doit pas nous faire se relâcher « Le retour à une trajectoire de croissance ne doit pas nous faire se relâcher », a-t-il encore appuyé dans un rare réquisitoire, appelant à « garantir la souveraineté économique » de la Russie. M. Poutine a ainsi réclamé au gouvernement et aux dirigeants économiques d’« assurer le lancement rapide de nouveaux projets dans les industries manufacturières, en particulier dans la production de produits de haute technologie », un secteur frappé par le départ de nombreux spécialistes à l’étranger. « Notre système financier devrait jouer un rôle important pour répondre aux besoins des exportateurs. Et nous devons remplacer les entreprises occidentales qui travaillaient dans ce créneau », a-t-il encore demandé. Dépendance grandissante de Moscou vis-à-vis de Pékin Ces propos de Vladimir Poutine interviennent une semaine après un sommet à Moscou avec son homologue chinois, Xi Jinping, lors duquel les deux dirigeants ont dit vouloir « approfondir » les relations économiques russo-chinoises. Mais de nombreux observateurs y ont vu un signe de la dépendance grandissante de Moscou vis-à-vis de Pékin, dont l’économie a largement capté les exportations de gaz et de pétrole russe, visées par les sanctions des Occidentaux. À lire aussi Visite de Xi Jinping en Russie: le baiser de la mort pour Vladimir Poutine? Si ces nouveaux débouchés ont permis à la Russie de compenser en partie les marchés perdus en Europe, sa dépendance envers les poids lourds asiatiques permet en effet à la Chine et à l’Inde d’être en position de force et de négocier les prix à la baisse.\n"
     ]
    }
   ],
   "source": [
    "# Suppression de tout ce qui se trouve entre parenthèses\n",
    "clean_content = re.sub(\"\\([^\\)]+\\)\", \" \", content)\n",
    "# Suppression des espaces multiples\n",
    "clean_content = re.sub(\"\\s+\", \" \", clean_content)\n",
    "\n",
    "print(content)\n",
    "print(\"==================================\")\n",
    "print(clean_content)\n"
   ]
  },
  {
   "cell_type": "markdown",
   "metadata": {},
   "source": [
    "### Création d'un fichier avec le contenu de l'article\n"
   ]
  },
  {
   "cell_type": "code",
   "execution_count": 20,
   "metadata": {},
   "outputs": [],
   "source": [
    "with open(\"../data/lesoir_example.txt\", \"w\") as writer:\n",
    "    writer.write(f\"{title}\\n\\n{chapo}\\n\\n{clean_content}\")"
   ]
  },
  {
   "cell_type": "markdown",
   "metadata": {},
   "source": [
    "## Pour en savoir plus"
   ]
  },
  {
   "cell_type": "markdown",
   "metadata": {},
   "source": [
    "- Le web scraping avec Python: https://realpython.com/beautiful-soup-web-scraper-python/\n",
    "- Tutoriel sur les expressions régulières: https://www.w3schools.com/python/python_regex.asp"
   ]
  }
 ],
 "metadata": {
  "kernelspec": {
   "display_name": "Python 3.10.7 ('tac_venv': venv)",
   "language": "python",
   "name": "python3"
  },
  "language_info": {
   "codemirror_mode": {
    "name": "ipython",
    "version": 3
   },
   "file_extension": ".py",
   "mimetype": "text/x-python",
   "name": "python",
   "nbconvert_exporter": "python",
   "pygments_lexer": "ipython3",
   "version": "3.10.7"
  },
  "vscode": {
   "interpreter": {
    "hash": "bf1c0e32efbc1b0a30fa46d6ab60b25f74a78c177210c206f5ce854a430d1ba2"
   }
  }
 },
 "nbformat": 4,
 "nbformat_minor": 4
}
