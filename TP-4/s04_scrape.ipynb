{
 "cells": [
  {
   "cell_type": "markdown",
   "metadata": {},
   "source": [
    "# Scraping: récupération de la page d'accueil du journal Le Soir\n",
    "\n",
    "Dans ce notebook, nous créons un robot qui va ouvrir la page d'accueil du site du journal [Le Soir](https://www.lesoir.be/) et récupérer le titre de tous les articles du jour et les stocker dans un fichier csv."
   ]
  },
  {
   "cell_type": "markdown",
   "metadata": {},
   "source": [
    "## Imports"
   ]
  },
  {
   "cell_type": "code",
   "execution_count": 1,
   "metadata": {},
   "outputs": [],
   "source": [
    "import os\n",
    "import re\n",
    "import time\n",
    "import requests\n",
    "from bs4 import BeautifulSoup\n",
    "import pandas as pd"
   ]
  },
  {
   "cell_type": "markdown",
   "metadata": {},
   "source": [
    "## Récupération de tous les articles de la page d'accueil\n",
    "\n"
   ]
  },
  {
   "cell_type": "code",
   "execution_count": 2,
   "metadata": {},
   "outputs": [],
   "source": [
    "headers = {'User-Agent': 'Mozilla/5.0 (Macintosh; Intel Mac OS X 10_10_1) AppleWebKit/537.36 (KHTML, like Gecko) Chrome/39.0.2171.95 Safari/537.36'}\n",
    "\n",
    "articles = []\n",
    "\n",
    "root_url = f\"https://www.lesoir.be\"\n",
    "response = requests.get(root_url, headers=headers)\n",
    "soup = BeautifulSoup(response.text, 'html.parser')\n",
    "for link in soup.find_all(\"a\", {\"class\":\"r-article--link\"}):\n",
    "    title = link.text.strip()\n",
    "    url = root_url + link.get('href')\n",
    "    articles.append([url, title])"
   ]
  },
  {
   "cell_type": "code",
   "execution_count": 3,
   "metadata": {},
   "outputs": [
    {
     "data": {
      "text/plain": [
       "88"
      ]
     },
     "execution_count": 3,
     "metadata": {},
     "output_type": "execute_result"
    }
   ],
   "source": [
    "# Affichage du nombre d'articles récupérés\n",
    "len(articles)"
   ]
  },
  {
   "cell_type": "code",
   "execution_count": 4,
   "metadata": {},
   "outputs": [
    {
     "data": {
      "text/plain": [
       "[['https://www.lesoir.be/482009/article/2022-12-08/paul-magnette-charge-le-greffier-du-parlement-wallon-et-epargne-marcourt',\n",
       "  'Paul Magnette charge le greffier du parlement wallon et épargne Marcourt'],\n",
       " ['https://www.lesoir.be/482005/article/2022-12-08/parlement-wallon-jean-claude-marcourt-ne-vacille-pas-sur-son-siege-de-president',\n",
       "  'Parlement wallon: Jean-Claude Marcourt ne vacille pas sur son siège de président'],\n",
       " ['https://www.lesoir.be/481979/article/2022-12-08/temperatures-glaciales-8-degres-attendus-ces-prochaines-heures-les-previsions',\n",
       "  'Températures glaciales: -8 degrés attendus ces prochaines heures, les prévisions météo région par région'],\n",
       " ['https://www.lesoir.be/481974/article/2022-12-08/proces-des-attentats-de-bruxelles-la-question-du-traitement-des-accuses-plombe',\n",
       "  'Procès des attentats de Bruxelles: la question du traitement des accusés plombe l’audience pour de bon'],\n",
       " ['https://www.lesoir.be/481962/article/2022-12-08/les-temoignages-glacants-de-8-jeunes-femmes-qui-incriminent-norman-thavaud',\n",
       "  'Les témoignages glaçants de 8 jeunes femmes qui incriminent Norman Thavaud'],\n",
       " ['https://www.lesoir.be/481999/article/2022-12-08/echange-de-prisonniers-entre-les-etats-unis-et-la-russie-le-lourd-prix-payer',\n",
       "  'Echange de prisonniers entre les Etats-Unis et la Russie: le lourd prix à payer pour libérer Brittney Griner'],\n",
       " ['https://www.lesoir.be/481961/article/2022-12-08/podcast-greffier-du-parlement-wallon-comment-t-pu-en-arriver-la',\n",
       "  'Podcast – Greffier du parlement wallon: comment a-t-on pu en arriver là?'],\n",
       " ['https://www.lesoir.be/482013/article/2022-12-08/france-deux-pilotes-belges-oublient-de-sortir-le-train-datterrissage-au-moment',\n",
       "  'France: deux pilotes belges oublient de sortir le train d’atterrissage au moment de poser leur avion'],\n",
       " ['https://www.lesoir.be/481954/article/2022-12-08/le-conte-de-fees-gache-de-meghan-et-harry',\n",
       "  'Critique\\nLe conte de fées gâché de Meghan et Harry'],\n",
       " ['https://www.lesoir.behttps://sosoir.lesoir.be/voici-le-modele-de-voiture-qui-perd-le-plus-vite-de-sa-valeur',\n",
       "  'Voici le modèle de voiture qui perd le plus vite de sa valeur']]"
      ]
     },
     "execution_count": 4,
     "metadata": {},
     "output_type": "execute_result"
    }
   ],
   "source": [
    "# Affichage des 10 premières entrées\n",
    "articles[:10]"
   ]
  },
  {
   "cell_type": "markdown",
   "metadata": {},
   "source": [
    "## Création d'un dataframe avec les liens et les titres des articles\n"
   ]
  },
  {
   "cell_type": "code",
   "execution_count": 5,
   "metadata": {},
   "outputs": [
    {
     "data": {
      "text/html": [
       "<div>\n",
       "<style scoped>\n",
       "    .dataframe tbody tr th:only-of-type {\n",
       "        vertical-align: middle;\n",
       "    }\n",
       "\n",
       "    .dataframe tbody tr th {\n",
       "        vertical-align: top;\n",
       "    }\n",
       "\n",
       "    .dataframe thead th {\n",
       "        text-align: right;\n",
       "    }\n",
       "</style>\n",
       "<table border=\"1\" class=\"dataframe\">\n",
       "  <thead>\n",
       "    <tr style=\"text-align: right;\">\n",
       "      <th></th>\n",
       "      <th>link</th>\n",
       "      <th>title</th>\n",
       "    </tr>\n",
       "  </thead>\n",
       "  <tbody>\n",
       "    <tr>\n",
       "      <th>0</th>\n",
       "      <td>https://www.lesoir.be/482009/article/2022-12-0...</td>\n",
       "      <td>Paul Magnette charge le greffier du parlement ...</td>\n",
       "    </tr>\n",
       "    <tr>\n",
       "      <th>1</th>\n",
       "      <td>https://www.lesoir.be/482005/article/2022-12-0...</td>\n",
       "      <td>Parlement wallon: Jean-Claude Marcourt ne vaci...</td>\n",
       "    </tr>\n",
       "    <tr>\n",
       "      <th>2</th>\n",
       "      <td>https://www.lesoir.be/481979/article/2022-12-0...</td>\n",
       "      <td>Températures glaciales: -8 degrés attendus ces...</td>\n",
       "    </tr>\n",
       "    <tr>\n",
       "      <th>3</th>\n",
       "      <td>https://www.lesoir.be/481974/article/2022-12-0...</td>\n",
       "      <td>Procès des attentats de Bruxelles: la question...</td>\n",
       "    </tr>\n",
       "    <tr>\n",
       "      <th>4</th>\n",
       "      <td>https://www.lesoir.be/481962/article/2022-12-0...</td>\n",
       "      <td>Les témoignages glaçants de 8 jeunes femmes qu...</td>\n",
       "    </tr>\n",
       "    <tr>\n",
       "      <th>...</th>\n",
       "      <td>...</td>\n",
       "      <td>...</td>\n",
       "    </tr>\n",
       "    <tr>\n",
       "      <th>83</th>\n",
       "      <td>https://www.lesoir.be/480708/article/2022-12-0...</td>\n",
       "      <td>Prime, bonus, chèque cadeau: qu’est-ce qui vou...</td>\n",
       "    </tr>\n",
       "    <tr>\n",
       "      <th>84</th>\n",
       "      <td>https://www.lesoir.be/479242/article/2022-11-2...</td>\n",
       "      <td>Des frais supplémentaires pour les détenteurs ...</td>\n",
       "    </tr>\n",
       "    <tr>\n",
       "      <th>85</th>\n",
       "      <td>https://www.lesoir.be/478340/article/2022-11-2...</td>\n",
       "      <td>Alimentation: pourquoi les supermarchés n’en f...</td>\n",
       "    </tr>\n",
       "    <tr>\n",
       "      <th>86</th>\n",
       "      <td>https://www.lesoir.be/479077/article/2022-11-2...</td>\n",
       "      <td>L’épargne-pension: pourquoi c’est intéressant ...</td>\n",
       "    </tr>\n",
       "    <tr>\n",
       "      <th>87</th>\n",
       "      <td>https://www.lesoir.be/478868/article/2022-11-2...</td>\n",
       "      <td>Pourquoi la Belgique mise autant sur le spatial</td>\n",
       "    </tr>\n",
       "  </tbody>\n",
       "</table>\n",
       "<p>88 rows × 2 columns</p>\n",
       "</div>"
      ],
      "text/plain": [
       "                                                 link  \\\n",
       "0   https://www.lesoir.be/482009/article/2022-12-0...   \n",
       "1   https://www.lesoir.be/482005/article/2022-12-0...   \n",
       "2   https://www.lesoir.be/481979/article/2022-12-0...   \n",
       "3   https://www.lesoir.be/481974/article/2022-12-0...   \n",
       "4   https://www.lesoir.be/481962/article/2022-12-0...   \n",
       "..                                                ...   \n",
       "83  https://www.lesoir.be/480708/article/2022-12-0...   \n",
       "84  https://www.lesoir.be/479242/article/2022-11-2...   \n",
       "85  https://www.lesoir.be/478340/article/2022-11-2...   \n",
       "86  https://www.lesoir.be/479077/article/2022-11-2...   \n",
       "87  https://www.lesoir.be/478868/article/2022-11-2...   \n",
       "\n",
       "                                                title  \n",
       "0   Paul Magnette charge le greffier du parlement ...  \n",
       "1   Parlement wallon: Jean-Claude Marcourt ne vaci...  \n",
       "2   Températures glaciales: -8 degrés attendus ces...  \n",
       "3   Procès des attentats de Bruxelles: la question...  \n",
       "4   Les témoignages glaçants de 8 jeunes femmes qu...  \n",
       "..                                                ...  \n",
       "83  Prime, bonus, chèque cadeau: qu’est-ce qui vou...  \n",
       "84  Des frais supplémentaires pour les détenteurs ...  \n",
       "85  Alimentation: pourquoi les supermarchés n’en f...  \n",
       "86  L’épargne-pension: pourquoi c’est intéressant ...  \n",
       "87    Pourquoi la Belgique mise autant sur le spatial  \n",
       "\n",
       "[88 rows x 2 columns]"
      ]
     },
     "execution_count": 5,
     "metadata": {},
     "output_type": "execute_result"
    }
   ],
   "source": [
    "df = pd.DataFrame(articles, columns=['link', 'title'])\n",
    "df"
   ]
  },
  {
   "cell_type": "code",
   "execution_count": 6,
   "metadata": {},
   "outputs": [],
   "source": [
    "# Sauvegarde du dataframe dans un fichier csv\n",
    "df.to_csv(f\"../data/lesoir_{time.strftime('%Y%m%d')}.csv\", index=False)"
   ]
  },
  {
   "cell_type": "markdown",
   "metadata": {},
   "source": [
    "## Téléchargement d'un article et affichage du texte"
   ]
  },
  {
   "cell_type": "code",
   "execution_count": 7,
   "metadata": {},
   "outputs": [
    {
     "name": "stdout",
     "output_type": "stream",
     "text": [
      "Paul Magnette charge le greffier du parlement wallon et épargne Marcourt\n",
      "==================================\n",
      "Selon le président du PS, les parlementaires n’ont pas fermé les yeux en raison de l’emprise du greffier, mais ont été simplement trompés par son apparence professionnelle.\n",
      "==================================\n",
      "\n",
      " L es voyages controversés effectués l’an passé par le greffier du parlement wallon Frédéric Janssens, accompagnés parfois de son président Jean-Claude Marcourt ont fait l’objet d’une discussion, ce jeudi, en bureau élargi de l’assemblée. \n",
      " \n",
      " \n",
      " \n",
      " \n",
      " \n",
      " À lire aussi \n",
      " Voyages du parlement wallon: les dépenses somptuaires de Marcourt et du greffier \n",
      " \n",
      " \n",
      " \n",
      " \n",
      " Paul Magnette était l’invité de l’émission  Jeudi en prime , sur la RTBF. Le président du parti socialiste s’est exprimé au sujet de ces récentes révélations, indiquant : « Les responsabilités sont collectives ». Selon Paul Magnette, les responsabilités sont partagées et le problème est « général ». Le président du PS a ensuite appelé à des contrôles plus stricts que ceux en vigueur actuellement. \n",
      " \n",
      "                    « Il a abusé »\n",
      "                    \n",
      "                 \n",
      " Selon Paul Magnette, les parlementaires n’ont pas fermé les yeux en raison de l’emprise du greffier, mais ont été simplement trompés par son apparence professionnelle. « Il a abusé », indique le bourgmestre de Charleroi. « Il a abusé de la confiance qu’on lui avait accordée et qu’avaient les parlementaires en son professionnalisme ». Le socialiste a ensuite continué, chargeant le greffier mais épargnant Jean-Claude Marcourt, président du parlement wallon. « Ce n’est pas une question d’homme », nuance Paul Magnette. « Il y a une responsabilité collective », ajoute-il. \n",
      " \n",
      " \n",
      " \n",
      " \n",
      " \n",
      " À lire aussi \n",
      " Parlement wallon: Jean-Claude Marcourt ne vacille pas sur son siège de président \n",
      " \n",
      " \n",
      " \n",
      " \n",
      " Le président du PS a également soulevé la question des voyages professionnels et de leurs fréquences. « Faut-il voyager autant ? », s’est-il interrogé. Selon lui, ce sont des réflexions « censées sur le plan environnemental mais qui remettent également un peu d’éthique dans les finances publiques . » \n",
      " \n",
      " \n",
      " \n",
      " \n",
      " À lire aussi \n",
      " Greffier du parlement wallon: Paul Magnette veut plafonner le budget «voyages» \n",
      " \n",
      " \n",
      " \n",
      " \n",
      " \n",
      " \n",
      " \n",
      " \n",
      " \n",
      "\n"
     ]
    }
   ],
   "source": [
    "# Récupération du premier lien du dataframe\n",
    "article_url = df.iloc[0][0]\n",
    "\n",
    "# Ouverture de la page\n",
    "response = requests.get(article_url, headers=headers)\n",
    "soup = BeautifulSoup(response.text, 'html.parser')\n",
    "\n",
    "# Parsing du contenu\n",
    "title = soup.find(\"h1\").get_text(separator=' ')\n",
    "chapo = soup.find(\"r-article--chapo\").get_text(separator=' ')\n",
    "content = soup.find(\"r-article--section\").get_text(separator=' ')\n",
    "\n",
    "print(title)\n",
    "print(\"==================================\")\n",
    "print(chapo)\n",
    "print(\"==================================\")\n",
    "print(content)"
   ]
  },
  {
   "cell_type": "markdown",
   "metadata": {},
   "source": [
    "### Nettoyage du texte à l'aide d'expressions régulières"
   ]
  },
  {
   "cell_type": "code",
   "execution_count": 8,
   "metadata": {},
   "outputs": [
    {
     "name": "stdout",
     "output_type": "stream",
     "text": [
      "\n",
      " L es voyages controversés effectués l’an passé par le greffier du parlement wallon Frédéric Janssens, accompagnés parfois de son président Jean-Claude Marcourt ont fait l’objet d’une discussion, ce jeudi, en bureau élargi de l’assemblée. \n",
      " \n",
      " \n",
      " \n",
      " \n",
      " \n",
      " À lire aussi \n",
      " Voyages du parlement wallon: les dépenses somptuaires de Marcourt et du greffier \n",
      " \n",
      " \n",
      " \n",
      " \n",
      " Paul Magnette était l’invité de l’émission  Jeudi en prime , sur la RTBF. Le président du parti socialiste s’est exprimé au sujet de ces récentes révélations, indiquant : « Les responsabilités sont collectives ». Selon Paul Magnette, les responsabilités sont partagées et le problème est « général ». Le président du PS a ensuite appelé à des contrôles plus stricts que ceux en vigueur actuellement. \n",
      " \n",
      "                    « Il a abusé »\n",
      "                    \n",
      "                 \n",
      " Selon Paul Magnette, les parlementaires n’ont pas fermé les yeux en raison de l’emprise du greffier, mais ont été simplement trompés par son apparence professionnelle. « Il a abusé », indique le bourgmestre de Charleroi. « Il a abusé de la confiance qu’on lui avait accordée et qu’avaient les parlementaires en son professionnalisme ». Le socialiste a ensuite continué, chargeant le greffier mais épargnant Jean-Claude Marcourt, président du parlement wallon. « Ce n’est pas une question d’homme », nuance Paul Magnette. « Il y a une responsabilité collective », ajoute-il. \n",
      " \n",
      " \n",
      " \n",
      " \n",
      " \n",
      " À lire aussi \n",
      " Parlement wallon: Jean-Claude Marcourt ne vacille pas sur son siège de président \n",
      " \n",
      " \n",
      " \n",
      " \n",
      " Le président du PS a également soulevé la question des voyages professionnels et de leurs fréquences. « Faut-il voyager autant ? », s’est-il interrogé. Selon lui, ce sont des réflexions « censées sur le plan environnemental mais qui remettent également un peu d’éthique dans les finances publiques . » \n",
      " \n",
      " \n",
      " \n",
      " \n",
      " À lire aussi \n",
      " Greffier du parlement wallon: Paul Magnette veut plafonner le budget «voyages» \n",
      " \n",
      " \n",
      " \n",
      " \n",
      " \n",
      " \n",
      " \n",
      " \n",
      " \n",
      "\n",
      "==================================\n",
      " L es voyages controversés effectués l’an passé par le greffier du parlement wallon Frédéric Janssens, accompagnés parfois de son président Jean-Claude Marcourt ont fait l’objet d’une discussion, ce jeudi, en bureau élargi de l’assemblée. À lire aussi Voyages du parlement wallon: les dépenses somptuaires de Marcourt et du greffier Paul Magnette était l’invité de l’émission Jeudi en prime , sur la RTBF. Le président du parti socialiste s’est exprimé au sujet de ces récentes révélations, indiquant : « Les responsabilités sont collectives ». Selon Paul Magnette, les responsabilités sont partagées et le problème est « général ». Le président du PS a ensuite appelé à des contrôles plus stricts que ceux en vigueur actuellement. « Il a abusé » Selon Paul Magnette, les parlementaires n’ont pas fermé les yeux en raison de l’emprise du greffier, mais ont été simplement trompés par son apparence professionnelle. « Il a abusé », indique le bourgmestre de Charleroi. « Il a abusé de la confiance qu’on lui avait accordée et qu’avaient les parlementaires en son professionnalisme ». Le socialiste a ensuite continué, chargeant le greffier mais épargnant Jean-Claude Marcourt, président du parlement wallon. « Ce n’est pas une question d’homme », nuance Paul Magnette. « Il y a une responsabilité collective », ajoute-il. À lire aussi Parlement wallon: Jean-Claude Marcourt ne vacille pas sur son siège de président Le président du PS a également soulevé la question des voyages professionnels et de leurs fréquences. « Faut-il voyager autant ? », s’est-il interrogé. Selon lui, ce sont des réflexions « censées sur le plan environnemental mais qui remettent également un peu d’éthique dans les finances publiques . » À lire aussi Greffier du parlement wallon: Paul Magnette veut plafonner le budget «voyages» \n"
     ]
    }
   ],
   "source": [
    "# Suppression de tout ce qui se trouve entre parenthèses\n",
    "clean_content = re.sub(\"\\([^\\)]+\\)\", \" \", content)\n",
    "# Suppression des espaces multiples\n",
    "clean_content = re.sub(\"\\s+\", \" \", clean_content)\n",
    "\n",
    "print(content)\n",
    "print(\"==================================\")\n",
    "print(clean_content)\n"
   ]
  },
  {
   "cell_type": "markdown",
   "metadata": {},
   "source": [
    "### Création d'un fichier avec le contenu de l'article\n"
   ]
  },
  {
   "cell_type": "code",
   "execution_count": 9,
   "metadata": {},
   "outputs": [],
   "source": [
    "with open(\"../data/lesoir_example.txt\", \"w\") as writer:\n",
    "    writer.write(f\"{title}\\n\\n{chapo}\\n\\n{clean_content}\")"
   ]
  },
  {
   "cell_type": "markdown",
   "metadata": {},
   "source": [
    "## Pour en savoir plus"
   ]
  },
  {
   "cell_type": "markdown",
   "metadata": {},
   "source": [
    "- Le web scraping avec Python: https://realpython.com/beautiful-soup-web-scraper-python/\n",
    "- Tutoriel sur les expressions régulières: https://www.w3schools.com/python/python_regex.asp"
   ]
  }
 ],
 "metadata": {
  "kernelspec": {
   "display_name": "Python 3.10.7 ('tac_venv': venv)",
   "language": "python",
   "name": "python3"
  },
  "language_info": {
   "codemirror_mode": {
    "name": "ipython",
    "version": 3
   },
   "file_extension": ".py",
   "mimetype": "text/x-python",
   "name": "python",
   "nbconvert_exporter": "python",
   "pygments_lexer": "ipython3",
   "version": "3.10.7"
  },
  "vscode": {
   "interpreter": {
    "hash": "bf1c0e32efbc1b0a30fa46d6ab60b25f74a78c177210c206f5ce854a430d1ba2"
   }
  }
 },
 "nbformat": 4,
 "nbformat_minor": 4
}
