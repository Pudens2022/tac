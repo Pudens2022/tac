{
 "cells": [
  {
   "attachments": {},
   "cell_type": "markdown",
   "metadata": {},
   "source": [
    "# Scraping: récupération des articles sur la COP27 sur le site web de la RTBF\n",
    "\n",
    "Dans ce notebook, nous créons un robot qui va ouvrir la page d'accueil du site du journal [Le Soir](https://www.lesoir.be/) et récupérer le titre de tous les articles du jour et les stocker dans un fichier csv."
   ]
  },
  {
   "cell_type": "markdown",
   "metadata": {},
   "source": [
    "## Imports"
   ]
  },
  {
   "cell_type": "code",
   "execution_count": 5,
   "metadata": {},
   "outputs": [],
   "source": [
    "import os\n",
    "import re\n",
    "import time\n",
    "import requests\n",
    "from bs4 import BeautifulSoup\n",
    "import pandas as pd"
   ]
  },
  {
   "cell_type": "markdown",
   "metadata": {},
   "source": [
    "## Récupération de tous les articles de la page d'accueil\n",
    "\n"
   ]
  },
  {
   "cell_type": "code",
   "execution_count": 6,
   "metadata": {},
   "outputs": [
    {
     "ename": "AttributeError",
     "evalue": "'NoneType' object has no attribute 'get_text'",
     "output_type": "error",
     "traceback": [
      "\u001b[1;31m---------------------------------------------------------------------------\u001b[0m",
      "\u001b[1;31mAttributeError\u001b[0m                            Traceback (most recent call last)",
      "\u001b[1;32mc:\\Users\\janvi\\OneDrive\\Documents\\Kisalu\\ULB-STIC\\Cours-STIC-2022-2023\\STIC-B545 - Traitement automatique de corpus\\tac\\TP-6\\s5_scrape.ipynb Cell 5\u001b[0m in \u001b[0;36m2\n\u001b[0;32m     <a href='vscode-notebook-cell:/c%3A/Users/janvi/OneDrive/Documents/Kisalu/ULB-STIC/Cours-STIC-2022-2023/STIC-B545%20-%20Traitement%20automatique%20de%20corpus/tac/TP-6/s5_scrape.ipynb#W4sZmlsZQ%3D%3D?line=20'>21</a>\u001b[0m title \u001b[39m=\u001b[39m soup\u001b[39m.\u001b[39mfind(\u001b[39m\"\u001b[39m\u001b[39mh1\u001b[39m\u001b[39m\"\u001b[39m)\u001b[39m.\u001b[39mget_text(separator\u001b[39m=\u001b[39m\u001b[39m'\u001b[39m\u001b[39m \u001b[39m\u001b[39m'\u001b[39m)\n\u001b[0;32m     <a href='vscode-notebook-cell:/c%3A/Users/janvi/OneDrive/Documents/Kisalu/ULB-STIC/Cours-STIC-2022-2023/STIC-B545%20-%20Traitement%20automatique%20de%20corpus/tac/TP-6/s5_scrape.ipynb#W4sZmlsZQ%3D%3D?line=21'>22</a>\u001b[0m chapo \u001b[39m=\u001b[39m soup\u001b[39m.\u001b[39mfind(\u001b[39m\"\u001b[39m\u001b[39mr-article--chapo\u001b[39m\u001b[39m\"\u001b[39m)\u001b[39m.\u001b[39mget_text(separator\u001b[39m=\u001b[39m\u001b[39m'\u001b[39m\u001b[39m \u001b[39m\u001b[39m'\u001b[39m)\n\u001b[1;32m---> <a href='vscode-notebook-cell:/c%3A/Users/janvi/OneDrive/Documents/Kisalu/ULB-STIC/Cours-STIC-2022-2023/STIC-B545%20-%20Traitement%20automatique%20de%20corpus/tac/TP-6/s5_scrape.ipynb#W4sZmlsZQ%3D%3D?line=22'>23</a>\u001b[0m content \u001b[39m=\u001b[39m soup\u001b[39m.\u001b[39mfind(\u001b[39m\"\u001b[39m\u001b[39mr-articleBody\u001b[39m\u001b[39m\"\u001b[39m)\u001b[39m.\u001b[39mget_text(separator\u001b[39m=\u001b[39m\u001b[39m'\u001b[39m\u001b[39m \u001b[39m\u001b[39m'\u001b[39m)\n\u001b[0;32m     <a href='vscode-notebook-cell:/c%3A/Users/janvi/OneDrive/Documents/Kisalu/ULB-STIC/Cours-STIC-2022-2023/STIC-B545%20-%20Traitement%20automatique%20de%20corpus/tac/TP-6/s5_scrape.ipynb#W4sZmlsZQ%3D%3D?line=24'>25</a>\u001b[0m \u001b[39mprint\u001b[39m(title)\n\u001b[0;32m     <a href='vscode-notebook-cell:/c%3A/Users/janvi/OneDrive/Documents/Kisalu/ULB-STIC/Cours-STIC-2022-2023/STIC-B545%20-%20Traitement%20automatique%20de%20corpus/tac/TP-6/s5_scrape.ipynb#W4sZmlsZQ%3D%3D?line=25'>26</a>\u001b[0m \u001b[39mprint\u001b[39m(\u001b[39m\"\u001b[39m\u001b[39m==================================\u001b[39m\u001b[39m\"\u001b[39m)\n",
      "\u001b[1;31mAttributeError\u001b[0m: 'NoneType' object has no attribute 'get_text'"
     ]
    }
   ],
   "source": [
    "headers = {'User-Agent': 'Mozilla/5.0 (Macintosh; Intel Mac OS X 10_10_1) AppleWebKit/537.36 (KHTML, like Gecko) Chrome/39.0.2171.95 Safari/537.36'}\n",
    "\n",
    "# URL de la page Web que vous voulez extraire le texte\n",
    "#url = 'https://www.rtbf.be/article/la-cop-27-expliquee-aux-enfants-11100449'\n",
    "\n",
    "articles = []\n",
    "\n",
    "root_url = f\"https://www.lesoir.be\"\n",
    "response = requests.get(root_url, headers=headers)\n",
    "soup = BeautifulSoup(response.text, 'html.parser')\n",
    "for link in soup.find_all(\"a\", {\"class\":\"r-article--link\"}):\n",
    "    title = link.text.strip()\n",
    "    url = root_url + link.get('href')\n",
    "    articles.append([url, title])\n",
    "\n",
    "#Ouverture de la page\n",
    "#response = requests.get(article_url, headers=headers)\n",
    "#soup = BeautifulSoup(response.text, 'html.parser')\n",
    "\n",
    "# Parsing du contenu\n",
    "title = soup.find(\"h1\").get_text(separator=' ')\n",
    "chapo = soup.find(\"r-article--chapo\").get_text(separator=' ')\n",
    "content = soup.find(\"r-articleBody\").get_text(separator=' ')\n",
    "\n",
    "print(title)\n",
    "print(\"==================================\")\n",
    "#print(chapo)\n",
    "print(\"==================================\")\n",
    "print(content)\n"
   ]
  },
  {
   "cell_type": "code",
   "execution_count": null,
   "metadata": {},
   "outputs": [
    {
     "ename": "NameError",
     "evalue": "name 'articles' is not defined",
     "output_type": "error",
     "traceback": [
      "\u001b[1;31m---------------------------------------------------------------------------\u001b[0m",
      "\u001b[1;31mNameError\u001b[0m                                 Traceback (most recent call last)",
      "\u001b[1;32mc:\\Users\\janvi\\OneDrive\\Documents\\Kisalu\\ULB-STIC\\Cours-STIC-2022-2023\\STIC-B545 - Traitement automatique de corpus\\tac\\TP-6\\s5_scrape.ipynb Cell 6\u001b[0m in \u001b[0;36m2\n\u001b[0;32m      <a href='vscode-notebook-cell:/c%3A/Users/janvi/OneDrive/Documents/Kisalu/ULB-STIC/Cours-STIC-2022-2023/STIC-B545%20-%20Traitement%20automatique%20de%20corpus/tac/TP-6/s5_scrape.ipynb#X30sZmlsZQ%3D%3D?line=0'>1</a>\u001b[0m \u001b[39m# Affichage du nombre d'articles récupérés\u001b[39;00m\n\u001b[1;32m----> <a href='vscode-notebook-cell:/c%3A/Users/janvi/OneDrive/Documents/Kisalu/ULB-STIC/Cours-STIC-2022-2023/STIC-B545%20-%20Traitement%20automatique%20de%20corpus/tac/TP-6/s5_scrape.ipynb#X30sZmlsZQ%3D%3D?line=1'>2</a>\u001b[0m \u001b[39mlen\u001b[39m(articles)\n",
      "\u001b[1;31mNameError\u001b[0m: name 'articles' is not defined"
     ]
    }
   ],
   "source": [
    "# Affichage du nombre d'articles récupérés\n",
    "len(articles)"
   ]
  },
  {
   "cell_type": "code",
   "execution_count": null,
   "metadata": {},
   "outputs": [
    {
     "ename": "NameError",
     "evalue": "name 'articles' is not defined",
     "output_type": "error",
     "traceback": [
      "\u001b[1;31m---------------------------------------------------------------------------\u001b[0m",
      "\u001b[1;31mNameError\u001b[0m                                 Traceback (most recent call last)",
      "\u001b[1;32mc:\\Users\\janvi\\OneDrive\\Documents\\Kisalu\\ULB-STIC\\Cours-STIC-2022-2023\\STIC-B545 - Traitement automatique de corpus\\tac\\TP-6\\s5_scrape.ipynb Cell 7\u001b[0m in \u001b[0;36m2\n\u001b[0;32m      <a href='vscode-notebook-cell:/c%3A/Users/janvi/OneDrive/Documents/Kisalu/ULB-STIC/Cours-STIC-2022-2023/STIC-B545%20-%20Traitement%20automatique%20de%20corpus/tac/TP-6/s5_scrape.ipynb#X31sZmlsZQ%3D%3D?line=0'>1</a>\u001b[0m \u001b[39m# Affichage des 10 premières entrées\u001b[39;00m\n\u001b[1;32m----> <a href='vscode-notebook-cell:/c%3A/Users/janvi/OneDrive/Documents/Kisalu/ULB-STIC/Cours-STIC-2022-2023/STIC-B545%20-%20Traitement%20automatique%20de%20corpus/tac/TP-6/s5_scrape.ipynb#X31sZmlsZQ%3D%3D?line=1'>2</a>\u001b[0m articles[:\u001b[39m10\u001b[39m]\n",
      "\u001b[1;31mNameError\u001b[0m: name 'articles' is not defined"
     ]
    }
   ],
   "source": [
    "# Affichage des 10 premières entrées\n",
    "articles[:10]"
   ]
  },
  {
   "cell_type": "markdown",
   "metadata": {},
   "source": [
    "## Création d'un dataframe avec les liens et les titres des articles\n"
   ]
  },
  {
   "cell_type": "code",
   "execution_count": null,
   "metadata": {},
   "outputs": [
    {
     "ename": "NameError",
     "evalue": "name 'articles' is not defined",
     "output_type": "error",
     "traceback": [
      "\u001b[1;31m---------------------------------------------------------------------------\u001b[0m",
      "\u001b[1;31mNameError\u001b[0m                                 Traceback (most recent call last)",
      "\u001b[1;32mc:\\Users\\janvi\\OneDrive\\Documents\\Kisalu\\ULB-STIC\\Cours-STIC-2022-2023\\STIC-B545 - Traitement automatique de corpus\\tac\\TP-6\\s5_scrape.ipynb Cell 9\u001b[0m in \u001b[0;36m1\n\u001b[1;32m----> <a href='vscode-notebook-cell:/c%3A/Users/janvi/OneDrive/Documents/Kisalu/ULB-STIC/Cours-STIC-2022-2023/STIC-B545%20-%20Traitement%20automatique%20de%20corpus/tac/TP-6/s5_scrape.ipynb#X33sZmlsZQ%3D%3D?line=0'>1</a>\u001b[0m df \u001b[39m=\u001b[39m pd\u001b[39m.\u001b[39mDataFrame(articles, columns\u001b[39m=\u001b[39m[\u001b[39m'\u001b[39m\u001b[39mlink\u001b[39m\u001b[39m'\u001b[39m, \u001b[39m'\u001b[39m\u001b[39mtitle\u001b[39m\u001b[39m'\u001b[39m])\n\u001b[0;32m      <a href='vscode-notebook-cell:/c%3A/Users/janvi/OneDrive/Documents/Kisalu/ULB-STIC/Cours-STIC-2022-2023/STIC-B545%20-%20Traitement%20automatique%20de%20corpus/tac/TP-6/s5_scrape.ipynb#X33sZmlsZQ%3D%3D?line=1'>2</a>\u001b[0m df\n",
      "\u001b[1;31mNameError\u001b[0m: name 'articles' is not defined"
     ]
    }
   ],
   "source": [
    "df = pd.DataFrame(articles, columns=['link', 'title'])\n",
    "df"
   ]
  },
  {
   "cell_type": "code",
   "execution_count": null,
   "metadata": {},
   "outputs": [
    {
     "ename": "NameError",
     "evalue": "name 'df' is not defined",
     "output_type": "error",
     "traceback": [
      "\u001b[1;31m---------------------------------------------------------------------------\u001b[0m",
      "\u001b[1;31mNameError\u001b[0m                                 Traceback (most recent call last)",
      "\u001b[1;32mc:\\Users\\janvi\\OneDrive\\Documents\\Kisalu\\ULB-STIC\\Cours-STIC-2022-2023\\STIC-B545 - Traitement automatique de corpus\\tac\\TP-6\\s5_scrape.ipynb Cell 10\u001b[0m in \u001b[0;36m2\n\u001b[0;32m      <a href='vscode-notebook-cell:/c%3A/Users/janvi/OneDrive/Documents/Kisalu/ULB-STIC/Cours-STIC-2022-2023/STIC-B545%20-%20Traitement%20automatique%20de%20corpus/tac/TP-6/s5_scrape.ipynb#X34sZmlsZQ%3D%3D?line=0'>1</a>\u001b[0m \u001b[39m# Sauvegarde du dataframe dans un fichier csv\u001b[39;00m\n\u001b[1;32m----> <a href='vscode-notebook-cell:/c%3A/Users/janvi/OneDrive/Documents/Kisalu/ULB-STIC/Cours-STIC-2022-2023/STIC-B545%20-%20Traitement%20automatique%20de%20corpus/tac/TP-6/s5_scrape.ipynb#X34sZmlsZQ%3D%3D?line=1'>2</a>\u001b[0m df\u001b[39m.\u001b[39mto_csv(\u001b[39mf\u001b[39m\u001b[39m\"\u001b[39m\u001b[39m../data/lesoir_\u001b[39m\u001b[39m{\u001b[39;00mtime\u001b[39m.\u001b[39mstrftime(\u001b[39m'\u001b[39m\u001b[39m%\u001b[39m\u001b[39mY\u001b[39m\u001b[39m%\u001b[39m\u001b[39mm\u001b[39m\u001b[39m%d\u001b[39;00m\u001b[39m'\u001b[39m)\u001b[39m}\u001b[39;00m\u001b[39m.csv\u001b[39m\u001b[39m\"\u001b[39m, index\u001b[39m=\u001b[39m\u001b[39mFalse\u001b[39;00m)\n",
      "\u001b[1;31mNameError\u001b[0m: name 'df' is not defined"
     ]
    }
   ],
   "source": [
    "# Sauvegarde du dataframe dans un fichier csv\n",
    "df.to_csv(f\"../data/lesoir_{time.strftime('%Y%m%d')}.csv\", index=False)"
   ]
  },
  {
   "cell_type": "markdown",
   "metadata": {},
   "source": [
    "## Téléchargement d'un article et affichage du texte"
   ]
  },
  {
   "cell_type": "code",
   "execution_count": null,
   "metadata": {},
   "outputs": [
    {
     "ename": "NameError",
     "evalue": "name 'headers' is not defined",
     "output_type": "error",
     "traceback": [
      "\u001b[1;31m---------------------------------------------------------------------------\u001b[0m",
      "\u001b[1;31mNameError\u001b[0m                                 Traceback (most recent call last)",
      "\u001b[1;32mc:\\Users\\janvi\\OneDrive\\Documents\\Kisalu\\ULB-STIC\\Cours-STIC-2022-2023\\STIC-B545 - Traitement automatique de corpus\\tac\\TP-6\\s5_scrape.ipynb Cell 12\u001b[0m in \u001b[0;36m7\n\u001b[0;32m      <a href='vscode-notebook-cell:/c%3A/Users/janvi/OneDrive/Documents/Kisalu/ULB-STIC/Cours-STIC-2022-2023/STIC-B545%20-%20Traitement%20automatique%20de%20corpus/tac/TP-6/s5_scrape.ipynb#X36sZmlsZQ%3D%3D?line=3'>4</a>\u001b[0m article_url \u001b[39m=\u001b[39m \u001b[39m'\u001b[39m\u001b[39mhttps://www.rtbf.be/article/la-cop-27-expliquee-aux-enfants-11100449\u001b[39m\u001b[39m'\u001b[39m\n\u001b[0;32m      <a href='vscode-notebook-cell:/c%3A/Users/janvi/OneDrive/Documents/Kisalu/ULB-STIC/Cours-STIC-2022-2023/STIC-B545%20-%20Traitement%20automatique%20de%20corpus/tac/TP-6/s5_scrape.ipynb#X36sZmlsZQ%3D%3D?line=5'>6</a>\u001b[0m \u001b[39m# Ouverture de la page\u001b[39;00m\n\u001b[1;32m----> <a href='vscode-notebook-cell:/c%3A/Users/janvi/OneDrive/Documents/Kisalu/ULB-STIC/Cours-STIC-2022-2023/STIC-B545%20-%20Traitement%20automatique%20de%20corpus/tac/TP-6/s5_scrape.ipynb#X36sZmlsZQ%3D%3D?line=6'>7</a>\u001b[0m response \u001b[39m=\u001b[39m requests\u001b[39m.\u001b[39mget(article_url, headers\u001b[39m=\u001b[39mheaders)\n\u001b[0;32m      <a href='vscode-notebook-cell:/c%3A/Users/janvi/OneDrive/Documents/Kisalu/ULB-STIC/Cours-STIC-2022-2023/STIC-B545%20-%20Traitement%20automatique%20de%20corpus/tac/TP-6/s5_scrape.ipynb#X36sZmlsZQ%3D%3D?line=7'>8</a>\u001b[0m soup \u001b[39m=\u001b[39m BeautifulSoup(response\u001b[39m.\u001b[39mtext, \u001b[39m'\u001b[39m\u001b[39mhtml.parser\u001b[39m\u001b[39m'\u001b[39m)\n\u001b[0;32m     <a href='vscode-notebook-cell:/c%3A/Users/janvi/OneDrive/Documents/Kisalu/ULB-STIC/Cours-STIC-2022-2023/STIC-B545%20-%20Traitement%20automatique%20de%20corpus/tac/TP-6/s5_scrape.ipynb#X36sZmlsZQ%3D%3D?line=9'>10</a>\u001b[0m \u001b[39m# Parsing du contenu\u001b[39;00m\n",
      "\u001b[1;31mNameError\u001b[0m: name 'headers' is not defined"
     ]
    }
   ],
   "source": [
    "# Récupération du premier lien du dataframe\n",
    "#article_url = df.iloc[0][0]\n",
    "\n",
    "article_url = 'https://www.rtbf.be/article/la-cop-27-expliquee-aux-enfants-11100449'\n",
    "\n",
    "# Ouverture de la page\n",
    "response = requests.get(article_url, headers=headers)\n",
    "soup = BeautifulSoup(response.text, 'html.parser')\n",
    "\n",
    "# Parsing du contenu\n",
    "title = soup.find(\"h1\").get_text(separator=' ')\n",
    "chapo = soup.find(\"r-article--chapo\").get_text(separator=' ')\n",
    "content = soup.find(\"r-article--section\").get_text(separator=' ')\n",
    "\n",
    "print(title)\n",
    "print(\"==================================\")\n",
    "print(chapo)\n",
    "print(\"==================================\")\n",
    "print(content)"
   ]
  },
  {
   "cell_type": "markdown",
   "metadata": {},
   "source": [
    "### Nettoyage du texte à l'aide d'expressions régulières"
   ]
  },
  {
   "cell_type": "code",
   "execution_count": null,
   "metadata": {},
   "outputs": [
    {
     "name": "stdout",
     "output_type": "stream",
     "text": [
      "  T out le monde retient son souffle, mais pour l’instant, les nouvelles restent bonnes sur le front des prix de l’énergie. Côté gaz, le prix du TTF néerlandais, qui donne le la sur le marché européen, est passé sous la barre des 40 euros par mégawattheure lundi passé, puis de nouveau mercredi. C’est le niveau le plus bas depuis août 2021 (et rappelons qu’à son apogée en août 2022, il dépassait 300 euros). Même tendance pour l’électricité, dont les prix sont indiqués par l’EPEX SPOT Belgium. « La baisse s’est faite de manière progressive depuis la fin de l’année. Depuis janvier, c’est vraiment redescendu à des niveaux d’avant l’invasion russe pour le gaz, avec une baisse qui se stabilise. Il reste une volatilité actuellement, mais elle n’est pas aussi importante qu’avant », commente Antoine Dumont, le manager du site  comparateur-energie.be . \n",
      "\n",
      "==================================\n",
      " T out le monde retient son souffle, mais pour l’instant, les nouvelles restent bonnes sur le front des prix de l’énergie. Côté gaz, le prix du TTF néerlandais, qui donne le la sur le marché européen, est passé sous la barre des 40 euros par mégawattheure lundi passé, puis de nouveau mercredi. C’est le niveau le plus bas depuis août 2021 . Même tendance pour l’électricité, dont les prix sont indiqués par l’EPEX SPOT Belgium. « La baisse s’est faite de manière progressive depuis la fin de l’année. Depuis janvier, c’est vraiment redescendu à des niveaux d’avant l’invasion russe pour le gaz, avec une baisse qui se stabilise. Il reste une volatilité actuellement, mais elle n’est pas aussi importante qu’avant », commente Antoine Dumont, le manager du site comparateur-energie.be . \n"
     ]
    }
   ],
   "source": [
    "# Suppression de tout ce qui se trouve entre parenthèses\n",
    "clean_content = re.sub(\"\\([^\\)]+\\)\", \" \", content)\n",
    "# Suppression des espaces multiples\n",
    "clean_content = re.sub(\"\\s+\", \" \", clean_content)\n",
    "\n",
    "print(content)\n",
    "print(\"==================================\")\n",
    "print(clean_content)\n"
   ]
  },
  {
   "cell_type": "markdown",
   "metadata": {},
   "source": [
    "### Création d'un fichier avec le contenu de l'article\n"
   ]
  },
  {
   "cell_type": "code",
   "execution_count": null,
   "metadata": {},
   "outputs": [],
   "source": [
    "with open(\"../data/lesoir_example.txt\", \"w\") as writer:\n",
    "    writer.write(f\"{title}\\n\\n{chapo}\\n\\n{clean_content}\")"
   ]
  },
  {
   "cell_type": "markdown",
   "metadata": {},
   "source": [
    "## Pour en savoir plus"
   ]
  },
  {
   "cell_type": "markdown",
   "metadata": {},
   "source": [
    "- Le web scraping avec Python: https://realpython.com/beautiful-soup-web-scraper-python/\n",
    "- Tutoriel sur les expressions régulières: https://www.w3schools.com/python/python_regex.asp"
   ]
  }
 ],
 "metadata": {
  "kernelspec": {
   "display_name": "Python 3.10.7 ('tac_venv': venv)",
   "language": "python",
   "name": "python3"
  },
  "language_info": {
   "codemirror_mode": {
    "name": "ipython",
    "version": 3
   },
   "file_extension": ".py",
   "mimetype": "text/x-python",
   "name": "python",
   "nbconvert_exporter": "python",
   "pygments_lexer": "ipython3",
   "version": "3.10.7"
  },
  "vscode": {
   "interpreter": {
    "hash": "bf1c0e32efbc1b0a30fa46d6ab60b25f74a78c177210c206f5ce854a430d1ba2"
   }
  }
 },
 "nbformat": 4,
 "nbformat_minor": 4
}
